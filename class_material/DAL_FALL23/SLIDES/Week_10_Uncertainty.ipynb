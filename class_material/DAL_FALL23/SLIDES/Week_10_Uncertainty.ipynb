{
 "cells": [
  {
   "cell_type": "markdown",
   "id": "202599bf",
   "metadata": {
    "slideshow": {
     "slide_type": "slide"
    }
   },
   "source": [
    "# Hello again, Uncertainty\n",
    "\n",
    "Fall 2023\n",
    "https://uodsci.github.io/dsci345"
   ]
  },
  {
   "cell_type": "code",
   "execution_count": 1,
   "id": "733bfdf0",
   "metadata": {
    "slideshow": {
     "slide_type": "skip"
    }
   },
   "outputs": [],
   "source": [
    "import matplotlib\n",
    "import matplotlib.pyplot as plt\n",
    "matplotlib.rcParams['figure.figsize'] = (15, 8)\n",
    "import numpy as np\n",
    "import pandas as pd\n",
    "from dsci345 import pretty\n",
    "\n",
    "rng = np.random.default_rng()"
   ]
  },
  {
   "cell_type": "markdown",
   "id": "88ec5c59",
   "metadata": {
    "slideshow": {
     "slide_type": "skip"
    }
   },
   "source": [
    "$$\\renewcommand{\\P}{\\mathbb{P}} \\newcommand{\\E}{\\mathbb{E}} \\newcommand{\\var}{\\text{var}} \\newcommand{\\sd}{\\text{sd}} \\newcommand{\\cov}{\\text{cov}} \\newcommand{\\cor}{\\text{cor}}$$\n",
    "This is here so we can use `\\P` and `\\E` and `\\var` and `\\cov` and `\\cor` and `\\sd` in LaTeX below."
   ]
  },
  {
   "cell_type": "markdown",
   "id": "e9064c6e",
   "metadata": {
    "slideshow": {
     "slide_type": "slide"
    }
   },
   "source": [
    "# Prediction and Estimation"
   ]
  },
  {
   "cell_type": "markdown",
   "id": "ef4684d1",
   "metadata": {
    "slideshow": {
     "slide_type": "subslide"
    }
   },
   "source": [
    "Suppose I've collected data on rent in Eugene.\n",
    "Consider the following questions:\n",
    "\n",
    "1. How much does rent cost in the Bethel neighborhood this year?\n",
    "2. How much is rent changing by, per year?\n",
    "\n",
    "*Question:* What would good answers to these questions look like?"
   ]
  },
  {
   "cell_type": "markdown",
   "id": "5ed7086d",
   "metadata": {
    "slideshow": {
     "slide_type": "fragment"
    }
   },
   "source": [
    "We could answer these questions by\n",
    "\n",
    "- reporting empirical averages from the actual data\n",
    "- fitting a black-box predictor and asking it questions\n",
    "- fitting a model with explicit terms for neighborhood and year\n",
    "\n",
    "*(Discuss pros and cons and how these would actually work.)*"
   ]
  },
  {
   "cell_type": "markdown",
   "id": "f176dbf6",
   "metadata": {
    "slideshow": {
     "slide_type": "subslide"
    }
   },
   "source": [
    "# A third question\n",
    "\n",
    "3. How sure are you about those answers?"
   ]
  },
  {
   "cell_type": "markdown",
   "id": "334a64d7",
   "metadata": {
    "slideshow": {
     "slide_type": "fragment"
    }
   },
   "source": [
    "> 1. How much does rent cost in the Bethel neighborhood this year?\n",
    "\n",
    "\n",
    "Note that this has two notions of uncertainty:\n",
    "rents come in a range of values, but also there will be uncertainty in our estimates of that range."
   ]
  },
  {
   "cell_type": "markdown",
   "id": "ea82e3b6",
   "metadata": {
    "slideshow": {
     "slide_type": "slide"
    }
   },
   "source": [
    "# Uncertainty, by math"
   ]
  },
  {
   "cell_type": "markdown",
   "id": "ce9e7ce9",
   "metadata": {
    "slideshow": {
     "slide_type": "subslide"
    }
   },
   "source": [
    "## Reminder: confidence intervals\n",
    "\n",
    "If we have $n$ independent samples from some source,\n",
    "and the sample mean and SD are $\\bar x$ and $s$ respectively,\n",
    "then a 95% confidence interval is\n",
    "$$ \\bar x - t_n s \\qquad \\text{to} \\qquad \\bar x + t_n s , $$\n",
    "where $t_n$ is the 97.5% quantile for the $t$ distribution with $n-2$ degrees of freedom."
   ]
  },
  {
   "cell_type": "markdown",
   "id": "02d75722",
   "metadata": {
    "slideshow": {
     "slide_type": "fragment"
    }
   },
   "source": [
    "*Said another way:* $\\bar x$ is our estimate of the mean,\n",
    "and math gives us an estimate of the uncertainty behind our estimate."
   ]
  },
  {
   "cell_type": "markdown",
   "id": "0da288de",
   "metadata": {
    "slideshow": {
     "slide_type": "subslide"
    }
   },
   "source": [
    "1. How much does rent cost in the Bethel neighborhood this year?\n",
    "\n",
    "**(Take the mean of the rents in Bethel this year.)**\n",
    "\n",
    "2. How much is rent changing by, per year?\n",
    "\n",
    "**(Take the mean difference in rent of places that go up for rent in adjacent years.)**\n",
    "\n",
    "3. How sure are you about those answers?\n",
    "\n",
    "**(Get 95% CIs for them.)**"
   ]
  },
  {
   "cell_type": "markdown",
   "id": "84e18b6c",
   "metadata": {
    "slideshow": {
     "slide_type": "slide"
    }
   },
   "source": [
    "# A model"
   ]
  },
  {
   "cell_type": "markdown",
   "id": "58b58529",
   "metadata": {
    "slideshow": {
     "slide_type": "subslide"
    }
   },
   "source": [
    "For example: suppose we fit a model where\n",
    "the price of the $i^\\text{th}$ apartment is\n",
    "$$\\begin{aligned}\n",
    "    p_i &= \\beta_{n_i} + \\beta_\\text{year} y_i + \\beta_\\text{area} a_i + \\epsilon_i \\\\\n",
    "    \\epsilon_i &\\sim \\text{Normal}(0, \\sigma) ,\n",
    "\\end{aligned}$$\n",
    "where\n",
    "- $p_i$ is the price (in dollars)\n",
    "- $n_i$ is the neighborhood,\n",
    "- $\\beta_n$ is the mean price in neighborhood $n$\n",
    "- $y_i$ is the year\n",
    "- $\\beta_\\text{year}$ is the amount that rent changes by, per year, on average\n",
    "- $a_i$ is the area in square feet\n",
    "- $\\beta_\\text{area}$ is the amount that rent goes up per additional square foot, on average\n",
    "- $\\epsilon_i$ is the residual, and\n",
    "- $\\sigma$ is how much otherwise similar apartments differ in price"
   ]
  },
  {
   "cell_type": "markdown",
   "id": "61200376",
   "metadata": {
    "slideshow": {
     "slide_type": "subslide"
    }
   },
   "source": [
    "1. How much does rent cost in the Bethel neighborhood this year?\n",
    "\n",
    "**(Our estimate of $\\beta_\\text{Bethel}$.)**\n",
    "\n",
    "2. How much is rent changing by, per year?\n",
    "\n",
    "**(Our estimate of $\\beta_\\text{year}$.)**\n",
    "\n",
    "3. How sure are you about those answers?\n",
    "\n",
    "**???**"
   ]
  },
  {
   "cell_type": "markdown",
   "id": "7afb588e",
   "metadata": {
    "slideshow": {
     "slide_type": "subslide"
    }
   },
   "source": [
    "## Aside: how do we fit this model?\n",
    "\n",
    "We'll do it in two lines,\n",
    "with [patsy](https://patsy.readthedocs.io/en/latest/quickstart.html)\n",
    "and `np.linalg.lstsq`."
   ]
  },
  {
   "cell_type": "markdown",
   "id": "3377b89d",
   "metadata": {
    "slideshow": {
     "slide_type": "subslide"
    }
   },
   "source": [
    "First, let's read in [the data](data/housing.csv).\n",
    "*(Note: it's fake data.)* ([github link](https://github.com/UOdsci/dsci345/raw/main/class_material/slides/data/housing.csv))"
   ]
  },
  {
   "cell_type": "code",
   "execution_count": 2,
   "id": "0444c7dd",
   "metadata": {},
   "outputs": [
    {
     "data": {
      "text/html": [
       "<div>\n",
       "<style scoped>\n",
       "    .dataframe tbody tr th:only-of-type {\n",
       "        vertical-align: middle;\n",
       "    }\n",
       "\n",
       "    .dataframe tbody tr th {\n",
       "        vertical-align: top;\n",
       "    }\n",
       "\n",
       "    .dataframe thead th {\n",
       "        text-align: right;\n",
       "    }\n",
       "</style>\n",
       "<table border=\"1\" class=\"dataframe\">\n",
       "  <thead>\n",
       "    <tr style=\"text-align: right;\">\n",
       "      <th></th>\n",
       "      <th>hood</th>\n",
       "      <th>year</th>\n",
       "      <th>area</th>\n",
       "      <th>rent</th>\n",
       "    </tr>\n",
       "  </thead>\n",
       "  <tbody>\n",
       "    <tr>\n",
       "      <th>0</th>\n",
       "      <td>river</td>\n",
       "      <td>2014</td>\n",
       "      <td>489.0</td>\n",
       "      <td>942.0</td>\n",
       "    </tr>\n",
       "    <tr>\n",
       "      <th>1</th>\n",
       "      <td>bethel</td>\n",
       "      <td>2010</td>\n",
       "      <td>610.0</td>\n",
       "      <td>370.0</td>\n",
       "    </tr>\n",
       "    <tr>\n",
       "      <th>2</th>\n",
       "      <td>churchill</td>\n",
       "      <td>2017</td>\n",
       "      <td>385.0</td>\n",
       "      <td>669.0</td>\n",
       "    </tr>\n",
       "    <tr>\n",
       "      <th>3</th>\n",
       "      <td>bethel</td>\n",
       "      <td>2012</td>\n",
       "      <td>757.0</td>\n",
       "      <td>624.0</td>\n",
       "    </tr>\n",
       "    <tr>\n",
       "      <th>4</th>\n",
       "      <td>bethel</td>\n",
       "      <td>2019</td>\n",
       "      <td>504.0</td>\n",
       "      <td>990.0</td>\n",
       "    </tr>\n",
       "    <tr>\n",
       "      <th>...</th>\n",
       "      <td>...</td>\n",
       "      <td>...</td>\n",
       "      <td>...</td>\n",
       "      <td>...</td>\n",
       "    </tr>\n",
       "    <tr>\n",
       "      <th>395</th>\n",
       "      <td>bethel</td>\n",
       "      <td>2012</td>\n",
       "      <td>238.0</td>\n",
       "      <td>579.0</td>\n",
       "    </tr>\n",
       "    <tr>\n",
       "      <th>396</th>\n",
       "      <td>campus</td>\n",
       "      <td>2016</td>\n",
       "      <td>287.0</td>\n",
       "      <td>759.0</td>\n",
       "    </tr>\n",
       "    <tr>\n",
       "      <th>397</th>\n",
       "      <td>churchill</td>\n",
       "      <td>2016</td>\n",
       "      <td>526.0</td>\n",
       "      <td>679.0</td>\n",
       "    </tr>\n",
       "    <tr>\n",
       "      <th>398</th>\n",
       "      <td>campus</td>\n",
       "      <td>2014</td>\n",
       "      <td>418.0</td>\n",
       "      <td>868.0</td>\n",
       "    </tr>\n",
       "    <tr>\n",
       "      <th>399</th>\n",
       "      <td>bethel</td>\n",
       "      <td>2018</td>\n",
       "      <td>386.0</td>\n",
       "      <td>983.0</td>\n",
       "    </tr>\n",
       "  </tbody>\n",
       "</table>\n",
       "<p>400 rows × 4 columns</p>\n",
       "</div>"
      ],
      "text/plain": [
       "          hood  year   area   rent\n",
       "0        river  2014  489.0  942.0\n",
       "1       bethel  2010  610.0  370.0\n",
       "2    churchill  2017  385.0  669.0\n",
       "3       bethel  2012  757.0  624.0\n",
       "4       bethel  2019  504.0  990.0\n",
       "..         ...   ...    ...    ...\n",
       "395     bethel  2012  238.0  579.0\n",
       "396     campus  2016  287.0  759.0\n",
       "397  churchill  2016  526.0  679.0\n",
       "398     campus  2014  418.0  868.0\n",
       "399     bethel  2018  386.0  983.0\n",
       "\n",
       "[400 rows x 4 columns]"
      ]
     },
     "execution_count": 2,
     "metadata": {},
     "output_type": "execute_result"
    }
   ],
   "source": [
    "df = pd.read_csv(\"data/housing.csv\", index_col=0)\n",
    "df"
   ]
  },
  {
   "cell_type": "markdown",
   "id": "ce68e476",
   "metadata": {
    "slideshow": {
     "slide_type": "subslide"
    }
   },
   "source": [
    "Next, let's shift the variables, so that for instance\n",
    "$\\beta_\\text{Bethel}$ is the average price of a 500 ft${}^2$ apartment in 2010\n",
    "(instead of a 0 ft${}^2$ apartment in the year 0):"
   ]
  },
  {
   "cell_type": "code",
   "execution_count": 3,
   "id": "56edb2a0",
   "metadata": {},
   "outputs": [],
   "source": [
    "df['area'] -= 500\n",
    "df['year'] -= 2010"
   ]
  },
  {
   "cell_type": "markdown",
   "id": "b4265d20",
   "metadata": {},
   "source": [
    "Now, fit the model,\n",
    "using patsy to make the *design matrix* (see board):"
   ]
  },
  {
   "cell_type": "code",
   "execution_count": 27,
   "id": "74a7ea63",
   "metadata": {},
   "outputs": [
    {
     "data": {
      "text/plain": [
       "{'bethel': 556.0088681522523,\n",
       " 'campus': 649.8851743401476,\n",
       " 'churchill': 584.0968576228607,\n",
       " 'river': 610.4626011683356,\n",
       " 'whittaker': 643.2011227181572,\n",
       " 'year': 31.218431226183213,\n",
       " 'area': 0.10063620684218222}"
      ]
     },
     "execution_count": 27,
     "metadata": {},
     "output_type": "execute_result"
    }
   ],
   "source": [
    "import patsy\n",
    "outcome, predictors = patsy.dmatrices(\"rent ~ 0 + hood + year + area\", df)\n",
    "fit = np.linalg.lstsq(predictors, outcome, rcond=None)\n",
    "\n",
    "estimates = { k.lstrip('hood[').rstrip(\"]\") : v for k, v in zip(predictors.design_info.column_names, fit[0].ravel())}\n",
    "\n",
    "estimates"
   ]
  },
  {
   "cell_type": "code",
   "execution_count": 21,
   "id": "0bd4a6bc",
   "metadata": {},
   "outputs": [
    {
     "data": {
      "text/plain": [
       "array([[   0.,    0.,    0.,    1.,    0.,    4.,  -11.],\n",
       "       [   1.,    0.,    0.,    0.,    0.,    0.,  110.],\n",
       "       [   0.,    0.,    1.,    0.,    0.,    7., -115.],\n",
       "       [   1.,    0.,    0.,    0.,    0.,    2.,  257.],\n",
       "       [   1.,    0.,    0.,    0.,    0.,    9.,    4.],\n",
       "       [   0.,    0.,    0.,    0.,    1.,    5.,  -16.],\n",
       "       [   0.,    0.,    0.,    1.,    0.,    6.,   93.],\n",
       "       [   1.,    0.,    0.,    0.,    0.,    4., -196.],\n",
       "       [   1.,    0.,    0.,    0.,    0.,    3.,  163.],\n",
       "       [   0.,    1.,    0.,    0.,    0.,    2.,   81.]])"
      ]
     },
     "execution_count": 21,
     "metadata": {},
     "output_type": "execute_result"
    }
   ],
   "source": [
    "np.asarray(predictors)[:10,:]"
   ]
  },
  {
   "cell_type": "code",
   "execution_count": 22,
   "id": "3fbd90d8",
   "metadata": {},
   "outputs": [
    {
     "data": {
      "text/html": [
       "<div>\n",
       "<style scoped>\n",
       "    .dataframe tbody tr th:only-of-type {\n",
       "        vertical-align: middle;\n",
       "    }\n",
       "\n",
       "    .dataframe tbody tr th {\n",
       "        vertical-align: top;\n",
       "    }\n",
       "\n",
       "    .dataframe thead th {\n",
       "        text-align: right;\n",
       "    }\n",
       "</style>\n",
       "<table border=\"1\" class=\"dataframe\">\n",
       "  <thead>\n",
       "    <tr style=\"text-align: right;\">\n",
       "      <th></th>\n",
       "      <th>hood</th>\n",
       "      <th>year</th>\n",
       "      <th>area</th>\n",
       "      <th>rent</th>\n",
       "    </tr>\n",
       "  </thead>\n",
       "  <tbody>\n",
       "    <tr>\n",
       "      <th>0</th>\n",
       "      <td>river</td>\n",
       "      <td>4</td>\n",
       "      <td>-11.0</td>\n",
       "      <td>942.0</td>\n",
       "    </tr>\n",
       "    <tr>\n",
       "      <th>1</th>\n",
       "      <td>bethel</td>\n",
       "      <td>0</td>\n",
       "      <td>110.0</td>\n",
       "      <td>370.0</td>\n",
       "    </tr>\n",
       "    <tr>\n",
       "      <th>2</th>\n",
       "      <td>churchill</td>\n",
       "      <td>7</td>\n",
       "      <td>-115.0</td>\n",
       "      <td>669.0</td>\n",
       "    </tr>\n",
       "    <tr>\n",
       "      <th>3</th>\n",
       "      <td>bethel</td>\n",
       "      <td>2</td>\n",
       "      <td>257.0</td>\n",
       "      <td>624.0</td>\n",
       "    </tr>\n",
       "    <tr>\n",
       "      <th>4</th>\n",
       "      <td>bethel</td>\n",
       "      <td>9</td>\n",
       "      <td>4.0</td>\n",
       "      <td>990.0</td>\n",
       "    </tr>\n",
       "    <tr>\n",
       "      <th>...</th>\n",
       "      <td>...</td>\n",
       "      <td>...</td>\n",
       "      <td>...</td>\n",
       "      <td>...</td>\n",
       "    </tr>\n",
       "    <tr>\n",
       "      <th>395</th>\n",
       "      <td>bethel</td>\n",
       "      <td>2</td>\n",
       "      <td>-262.0</td>\n",
       "      <td>579.0</td>\n",
       "    </tr>\n",
       "    <tr>\n",
       "      <th>396</th>\n",
       "      <td>campus</td>\n",
       "      <td>6</td>\n",
       "      <td>-213.0</td>\n",
       "      <td>759.0</td>\n",
       "    </tr>\n",
       "    <tr>\n",
       "      <th>397</th>\n",
       "      <td>churchill</td>\n",
       "      <td>6</td>\n",
       "      <td>26.0</td>\n",
       "      <td>679.0</td>\n",
       "    </tr>\n",
       "    <tr>\n",
       "      <th>398</th>\n",
       "      <td>campus</td>\n",
       "      <td>4</td>\n",
       "      <td>-82.0</td>\n",
       "      <td>868.0</td>\n",
       "    </tr>\n",
       "    <tr>\n",
       "      <th>399</th>\n",
       "      <td>bethel</td>\n",
       "      <td>8</td>\n",
       "      <td>-114.0</td>\n",
       "      <td>983.0</td>\n",
       "    </tr>\n",
       "  </tbody>\n",
       "</table>\n",
       "<p>400 rows × 4 columns</p>\n",
       "</div>"
      ],
      "text/plain": [
       "          hood  year   area   rent\n",
       "0        river     4  -11.0  942.0\n",
       "1       bethel     0  110.0  370.0\n",
       "2    churchill     7 -115.0  669.0\n",
       "3       bethel     2  257.0  624.0\n",
       "4       bethel     9    4.0  990.0\n",
       "..         ...   ...    ...    ...\n",
       "395     bethel     2 -262.0  579.0\n",
       "396     campus     6 -213.0  759.0\n",
       "397  churchill     6   26.0  679.0\n",
       "398     campus     4  -82.0  868.0\n",
       "399     bethel     8 -114.0  983.0\n",
       "\n",
       "[400 rows x 4 columns]"
      ]
     },
     "execution_count": 22,
     "metadata": {},
     "output_type": "execute_result"
    }
   ],
   "source": [
    "df"
   ]
  },
  {
   "cell_type": "markdown",
   "id": "7f1389c8",
   "metadata": {
    "slideshow": {
     "slide_type": "slide"
    }
   },
   "source": [
    "# Uncertainty, by simulation"
   ]
  },
  {
   "cell_type": "markdown",
   "id": "c19fd691",
   "metadata": {
    "slideshow": {
     "slide_type": "subslide"
    }
   },
   "source": [
    "Okay, so we'd like to know\n",
    "how far off our guesses of $\\beta_\\text{Bethel}$ or $a$ are\n",
    "from \"the truth\"."
   ]
  },
  {
   "cell_type": "markdown",
   "id": "3a7353ad",
   "metadata": {
    "slideshow": {
     "slide_type": "fragment"
    }
   },
   "source": [
    "Well, one way to do this is to *simulate* data where we know the truth,\n",
    "and then see how far off our guesses are.\n",
    "If the simulations describe the real data well, \n",
    "then this should give us a good estimate."
   ]
  },
  {
   "cell_type": "markdown",
   "id": "4393153e",
   "metadata": {
    "slideshow": {
     "slide_type": "fragment"
    }
   },
   "source": [
    "This is sometimes known as *the parametric bootstrap*.\n",
    "(We'll meet it's more famous cousin, \"the\" bootstrap, next.)\n",
    "We actually did it, last class.\n",
    "Let's do it again!"
   ]
  },
  {
   "cell_type": "markdown",
   "id": "ef3fed53",
   "metadata": {
    "slideshow": {
     "slide_type": "subslide"
    }
   },
   "source": [
    "Okay, from our \"real data\" we estimated a certain set of estimated parameter values.\n",
    "To make the simulated datasets look as much like the real data as possible,\n",
    "we should simulate using those parameter values."
   ]
  },
  {
   "cell_type": "code",
   "execution_count": 5,
   "id": "b6c99c77",
   "metadata": {
    "slideshow": {
     "slide_type": "subslide"
    }
   },
   "outputs": [],
   "source": [
    "def sim_rents(n, beta):\n",
    "    # TODO: change this to use existing 'hood', 'year', and 'area' columns\n",
    "    hoods = [\"bethel\", \"churchill\", \"whittaker\", \"river\", \"campus\"]\n",
    "    df = pd.DataFrame({\n",
    "        \"hood\" : rng.choice(hoods, replace=True, size=n),\n",
    "        \"year\" : rng.choice(np.arange(10), replace=True, size=n), # years after 2010\n",
    "        \"area\" : np.round(rng.normal(scale=150, size=n)), # relative to 500 ft2\n",
    "    })\n",
    "    df['rent'] = np.round(\n",
    "        np.array([beta[h] for h in df.hood]) + beta['year'] * df.year + beta['area'] * df.area\n",
    "        + rng.normal(scale=150, size=n)\n",
    "    )\n",
    "    return df"
   ]
  },
  {
   "cell_type": "code",
   "execution_count": 6,
   "id": "1b18ff02",
   "metadata": {
    "slideshow": {
     "slide_type": "subslide"
    }
   },
   "outputs": [],
   "source": [
    "def fit_model(df):\n",
    "    outcome, predictors = patsy.dmatrices(\"rent ~ 0 + hood + year + area\", df)\n",
    "    fit = np.linalg.lstsq(predictors, outcome, rcond=None)\n",
    "    estimates = { k.lstrip('hood[').rstrip(\"]\") : v for k, v in zip(predictors.design_info.column_names, fit[0].ravel())}\n",
    "    return estimates"
   ]
  },
  {
   "cell_type": "code",
   "execution_count": 28,
   "id": "aea9b229",
   "metadata": {
    "slideshow": {
     "slide_type": "subslide"
    }
   },
   "outputs": [
    {
     "data": {
      "text/html": [
       "<div>\n",
       "<style scoped>\n",
       "    .dataframe tbody tr th:only-of-type {\n",
       "        vertical-align: middle;\n",
       "    }\n",
       "\n",
       "    .dataframe tbody tr th {\n",
       "        vertical-align: top;\n",
       "    }\n",
       "\n",
       "    .dataframe thead th {\n",
       "        text-align: right;\n",
       "    }\n",
       "</style>\n",
       "<table border=\"1\" class=\"dataframe\">\n",
       "  <thead>\n",
       "    <tr style=\"text-align: right;\">\n",
       "      <th></th>\n",
       "      <th>bethel</th>\n",
       "      <th>campus</th>\n",
       "      <th>churchill</th>\n",
       "      <th>river</th>\n",
       "      <th>whittaker</th>\n",
       "      <th>year</th>\n",
       "      <th>area</th>\n",
       "    </tr>\n",
       "  </thead>\n",
       "  <tbody>\n",
       "    <tr>\n",
       "      <th>0</th>\n",
       "      <td>553.129388</td>\n",
       "      <td>636.782335</td>\n",
       "      <td>566.790531</td>\n",
       "      <td>629.834955</td>\n",
       "      <td>631.315944</td>\n",
       "      <td>33.044571</td>\n",
       "      <td>0.148637</td>\n",
       "    </tr>\n",
       "    <tr>\n",
       "      <th>1</th>\n",
       "      <td>546.389645</td>\n",
       "      <td>653.301417</td>\n",
       "      <td>535.018897</td>\n",
       "      <td>611.376905</td>\n",
       "      <td>650.518137</td>\n",
       "      <td>33.038017</td>\n",
       "      <td>0.088296</td>\n",
       "    </tr>\n",
       "    <tr>\n",
       "      <th>2</th>\n",
       "      <td>558.117169</td>\n",
       "      <td>676.164650</td>\n",
       "      <td>603.882570</td>\n",
       "      <td>609.233100</td>\n",
       "      <td>631.745660</td>\n",
       "      <td>31.031249</td>\n",
       "      <td>0.027875</td>\n",
       "    </tr>\n",
       "    <tr>\n",
       "      <th>3</th>\n",
       "      <td>578.508743</td>\n",
       "      <td>650.071314</td>\n",
       "      <td>596.373620</td>\n",
       "      <td>629.513868</td>\n",
       "      <td>651.443396</td>\n",
       "      <td>28.992217</td>\n",
       "      <td>0.026167</td>\n",
       "    </tr>\n",
       "    <tr>\n",
       "      <th>4</th>\n",
       "      <td>561.942113</td>\n",
       "      <td>665.732217</td>\n",
       "      <td>606.196788</td>\n",
       "      <td>593.298654</td>\n",
       "      <td>665.981267</td>\n",
       "      <td>28.483740</td>\n",
       "      <td>0.093528</td>\n",
       "    </tr>\n",
       "    <tr>\n",
       "      <th>...</th>\n",
       "      <td>...</td>\n",
       "      <td>...</td>\n",
       "      <td>...</td>\n",
       "      <td>...</td>\n",
       "      <td>...</td>\n",
       "      <td>...</td>\n",
       "      <td>...</td>\n",
       "    </tr>\n",
       "    <tr>\n",
       "      <th>995</th>\n",
       "      <td>538.166340</td>\n",
       "      <td>604.119317</td>\n",
       "      <td>530.887685</td>\n",
       "      <td>599.281834</td>\n",
       "      <td>643.743802</td>\n",
       "      <td>34.672483</td>\n",
       "      <td>0.062561</td>\n",
       "    </tr>\n",
       "    <tr>\n",
       "      <th>996</th>\n",
       "      <td>561.093625</td>\n",
       "      <td>666.110372</td>\n",
       "      <td>585.613416</td>\n",
       "      <td>599.759788</td>\n",
       "      <td>649.020167</td>\n",
       "      <td>30.866896</td>\n",
       "      <td>0.064493</td>\n",
       "    </tr>\n",
       "    <tr>\n",
       "      <th>997</th>\n",
       "      <td>542.858757</td>\n",
       "      <td>617.818254</td>\n",
       "      <td>585.387913</td>\n",
       "      <td>608.054368</td>\n",
       "      <td>643.774205</td>\n",
       "      <td>33.102289</td>\n",
       "      <td>0.169135</td>\n",
       "    </tr>\n",
       "    <tr>\n",
       "      <th>998</th>\n",
       "      <td>548.272569</td>\n",
       "      <td>646.682739</td>\n",
       "      <td>591.073084</td>\n",
       "      <td>638.657332</td>\n",
       "      <td>647.991229</td>\n",
       "      <td>29.784093</td>\n",
       "      <td>0.044494</td>\n",
       "    </tr>\n",
       "    <tr>\n",
       "      <th>999</th>\n",
       "      <td>536.700051</td>\n",
       "      <td>651.061483</td>\n",
       "      <td>580.233709</td>\n",
       "      <td>594.350300</td>\n",
       "      <td>634.795511</td>\n",
       "      <td>31.948951</td>\n",
       "      <td>0.051544</td>\n",
       "    </tr>\n",
       "  </tbody>\n",
       "</table>\n",
       "<p>1000 rows × 7 columns</p>\n",
       "</div>"
      ],
      "text/plain": [
       "         bethel      campus   churchill       river   whittaker       year  \\\n",
       "0    553.129388  636.782335  566.790531  629.834955  631.315944  33.044571   \n",
       "1    546.389645  653.301417  535.018897  611.376905  650.518137  33.038017   \n",
       "2    558.117169  676.164650  603.882570  609.233100  631.745660  31.031249   \n",
       "3    578.508743  650.071314  596.373620  629.513868  651.443396  28.992217   \n",
       "4    561.942113  665.732217  606.196788  593.298654  665.981267  28.483740   \n",
       "..          ...         ...         ...         ...         ...        ...   \n",
       "995  538.166340  604.119317  530.887685  599.281834  643.743802  34.672483   \n",
       "996  561.093625  666.110372  585.613416  599.759788  649.020167  30.866896   \n",
       "997  542.858757  617.818254  585.387913  608.054368  643.774205  33.102289   \n",
       "998  548.272569  646.682739  591.073084  638.657332  647.991229  29.784093   \n",
       "999  536.700051  651.061483  580.233709  594.350300  634.795511  31.948951   \n",
       "\n",
       "         area  \n",
       "0    0.148637  \n",
       "1    0.088296  \n",
       "2    0.027875  \n",
       "3    0.026167  \n",
       "4    0.093528  \n",
       "..        ...  \n",
       "995  0.062561  \n",
       "996  0.064493  \n",
       "997  0.169135  \n",
       "998  0.044494  \n",
       "999  0.051544  \n",
       "\n",
       "[1000 rows x 7 columns]"
      ]
     },
     "execution_count": 28,
     "metadata": {},
     "output_type": "execute_result"
    }
   ],
   "source": [
    "experiments = pd.DataFrame([\n",
    "    fit_model(sim_rents(n=500, beta=estimates))\n",
    "    for _ in range(1000)\n",
    "])\n",
    "experiments"
   ]
  },
  {
   "cell_type": "code",
   "execution_count": 30,
   "id": "6b55a2ec",
   "metadata": {
    "slideshow": {
     "slide_type": "subslide"
    }
   },
   "outputs": [
    {
     "data": {
      "text/plain": [
       "<matplotlib.lines.Line2D at 0x7fc7b0cd7940>"
      ]
     },
     "execution_count": 30,
     "metadata": {},
     "output_type": "execute_result"
    },
    {
     "data": {
      "image/png": "[encoded data removed]",
      "text/plain": [
       "<Figure size 1500x800 with 1 Axes>"
      ]
     },
     "metadata": {},
     "output_type": "display_data"
    }
   ],
   "source": [
    "plt.hist(experiments.bethel)\n",
    "plt.xlabel(\"mean bethel rent\"); plt.ylabel(\"frequency\");\n",
    "plt.axvline(estimates['bethel'], color='red')"
   ]
  },
  {
   "cell_type": "markdown",
   "id": "b7e3c7c0",
   "metadata": {
    "slideshow": {
     "slide_type": "subslide"
    }
   },
   "source": [
    "**Conclusion:** The mean rent in Bethel for 500 ft${}^2$ apartments in 2010\n",
    "as about \\\\$556, with a 95% confidence interval of about \\\\$517 to \\\\$594.\n",
    "\n",
    "Widths of other 95% confidence intervals are below."
   ]
  },
  {
   "cell_type": "code",
   "execution_count": 13,
   "id": "0a04f327",
   "metadata": {},
   "outputs": [
    {
     "data": {
      "text/plain": [
       "bethel       77.119173\n",
       "campus       69.725638\n",
       "churchill    69.460268\n",
       "river        70.343363\n",
       "whittaker    71.668009\n",
       "year          9.279153\n",
       "area          0.181946\n",
       "dtype: float64"
      ]
     },
     "execution_count": 13,
     "metadata": {},
     "output_type": "execute_result"
    }
   ],
   "source": [
    "experiments.quantile(0.975) - experiments.quantile(0.025)"
   ]
  },
  {
   "cell_type": "markdown",
   "id": "e7790792",
   "metadata": {
    "slideshow": {
     "slide_type": "slide"
    }
   },
   "source": [
    "# Uncertainty, by our bootstraps"
   ]
  },
  {
   "cell_type": "markdown",
   "id": "84ac6f1a",
   "metadata": {
    "slideshow": {
     "slide_type": "subslide"
    }
   },
   "source": [
    "*However*, sometimes we don't have\n",
    "(or can't be bothered to make)\n",
    "a good generative model\n",
    "to simulate from.\n",
    "Or we tried and it was hard to get realistic-looking data.\n",
    "What to do then?"
   ]
  },
  {
   "cell_type": "markdown",
   "id": "8c5488c3",
   "metadata": {
    "slideshow": {
     "slide_type": "fragment"
    }
   },
   "source": [
    "Well, what we'd *like* to do is to draw a bunch of new datasets\n",
    "from wherever we got the first one."
   ]
  },
  {
   "cell_type": "markdown",
   "id": "3fa15c92",
   "metadata": {
    "slideshow": {
     "slide_type": "fragment"
    }
   },
   "source": [
    "This seems unrealistic... *but*, our best guess at what that would be like if we could...\n",
    "is our dataset itself!"
   ]
  },
  {
   "cell_type": "markdown",
   "id": "486f54b2",
   "metadata": {
    "slideshow": {
     "slide_type": "subslide"
    }
   },
   "source": [
    "## The bootstrap\n",
    "\n",
    "Suppose we have a method that estimates something.\n",
    "To get an estimate of *uncertainty* of that estimate,\n",
    "\n",
    "1. Obtain a new dataset, of the same size as the original,\n",
    "    by resampling *with replacement* observations from the original dataset.\n",
    "    \n",
    "2. Apply the method to this 'bootstrapped' dataset.\n",
    "\n",
    "3. Repeat lots of times.\n",
    "\n",
    "Then, the middle 95% of the estimates\n",
    "gives you the \"bootstrap 95% confidence interval\"."
   ]
  },
  {
   "cell_type": "markdown",
   "id": "0ac47a23",
   "metadata": {
    "slideshow": {
     "slide_type": "subslide"
    }
   },
   "source": [
    "## Exercise:\n",
    "\n",
    "Here are 10 numbers.\n",
    "```\n",
    "array([176, 255,  53,  94,  61, 119,  42, 109,   0,  30])\n",
    "```\n",
    "\n",
    "1. Compute the median.\n",
    "2. 1,000 times, resample 10 numbers, with replacement, from this list of numbers,\n",
    "    and compute the median.\n",
    "3. Make a histogram of those 1,000 medians, with the original median as a vertical line."
   ]
  },
  {
   "cell_type": "code",
   "execution_count": 45,
   "id": "9acdd874",
   "metadata": {
    "slideshow": {
     "slide_type": "subslide"
    }
   },
   "outputs": [
    {
     "data": {
      "text/plain": [
       "array([ 42. ,  57. ,  73.5,  94. , 101.5,  94. ,  77.5,  41.5,  57. ,\n",
       "        53. ])"
      ]
     },
     "execution_count": 45,
     "metadata": {},
     "output_type": "execute_result"
    }
   ],
   "source": [
    "x = np.array([176, 255,  53,  94,  61, 119,  42, 109,   0,  30])\n",
    "obs_median = np.median(x)\n",
    "\n",
    "def boot_med(x, num_boots):\n",
    "    out = np.zeros(num_boots)\n",
    "    for k in range(num_boots):\n",
    "        bx = rng.choice(x, size=len(x))\n",
    "        out[k] = np.median(bx)\n",
    "    return out\n",
    "\n",
    "boot_med(x, 10)"
   ]
  },
  {
   "cell_type": "code",
   "execution_count": 48,
   "id": "d2463b3a",
   "metadata": {},
   "outputs": [
    {
     "data": {
      "image/png": "[encoded data removed]",
      "text/plain": [
       "<Figure size 1500x800 with 1 Axes>"
      ]
     },
     "metadata": {},
     "output_type": "display_data"
    }
   ],
   "source": [
    "boot_reps = boot_med(x, 1000)\n",
    "plt.hist(boot_reps)\n",
    "plt.title(\n",
    "    f\"95% CI for the median: {np.quantile(boot_reps, 0.025)} to {np.quantile(boot_reps, 0.975)}\"\n",
    ");"
   ]
  },
  {
   "cell_type": "markdown",
   "id": "f83a43c7",
   "metadata": {
    "slideshow": {
     "slide_type": "subslide"
    }
   },
   "source": [
    "Here's a (very) simple method to obtain a bootstrap resampled version of a data frame:"
   ]
  },
  {
   "cell_type": "code",
   "execution_count": 9,
   "id": "ef75bf1b",
   "metadata": {},
   "outputs": [],
   "source": [
    "def bootstrap(df):\n",
    "    n = df.shape[0]\n",
    "    return df.loc[rng.choice(n, n)]"
   ]
  },
  {
   "cell_type": "markdown",
   "id": "4f5e017f",
   "metadata": {
    "slideshow": {
     "slide_type": "subslide"
    }
   },
   "source": [
    "And, here, let's apply the`fit_model` method above to 1000 of these."
   ]
  },
  {
   "cell_type": "code",
   "execution_count": 10,
   "id": "213236de",
   "metadata": {},
   "outputs": [
    {
     "data": {
      "text/html": [
       "<div>\n",
       "<style scoped>\n",
       "    .dataframe tbody tr th:only-of-type {\n",
       "        vertical-align: middle;\n",
       "    }\n",
       "\n",
       "    .dataframe tbody tr th {\n",
       "        vertical-align: top;\n",
       "    }\n",
       "\n",
       "    .dataframe thead th {\n",
       "        text-align: right;\n",
       "    }\n",
       "</style>\n",
       "<table border=\"1\" class=\"dataframe\">\n",
       "  <thead>\n",
       "    <tr style=\"text-align: right;\">\n",
       "      <th></th>\n",
       "      <th>bethel</th>\n",
       "      <th>campus</th>\n",
       "      <th>churchill</th>\n",
       "      <th>river</th>\n",
       "      <th>whittaker</th>\n",
       "      <th>year</th>\n",
       "      <th>area</th>\n",
       "    </tr>\n",
       "  </thead>\n",
       "  <tbody>\n",
       "    <tr>\n",
       "      <th>0</th>\n",
       "      <td>566.178533</td>\n",
       "      <td>673.454074</td>\n",
       "      <td>572.670839</td>\n",
       "      <td>650.981769</td>\n",
       "      <td>631.659294</td>\n",
       "      <td>29.871761</td>\n",
       "      <td>0.052712</td>\n",
       "    </tr>\n",
       "    <tr>\n",
       "      <th>1</th>\n",
       "      <td>569.876770</td>\n",
       "      <td>661.566126</td>\n",
       "      <td>573.540746</td>\n",
       "      <td>602.964247</td>\n",
       "      <td>618.121608</td>\n",
       "      <td>32.437806</td>\n",
       "      <td>0.153979</td>\n",
       "    </tr>\n",
       "    <tr>\n",
       "      <th>2</th>\n",
       "      <td>560.932447</td>\n",
       "      <td>646.536876</td>\n",
       "      <td>584.596285</td>\n",
       "      <td>646.603953</td>\n",
       "      <td>660.974635</td>\n",
       "      <td>29.749610</td>\n",
       "      <td>0.081730</td>\n",
       "    </tr>\n",
       "    <tr>\n",
       "      <th>3</th>\n",
       "      <td>547.287149</td>\n",
       "      <td>643.902694</td>\n",
       "      <td>579.080515</td>\n",
       "      <td>608.663384</td>\n",
       "      <td>603.393940</td>\n",
       "      <td>31.501915</td>\n",
       "      <td>0.045602</td>\n",
       "    </tr>\n",
       "    <tr>\n",
       "      <th>4</th>\n",
       "      <td>539.682865</td>\n",
       "      <td>646.525045</td>\n",
       "      <td>609.888808</td>\n",
       "      <td>627.118967</td>\n",
       "      <td>657.588515</td>\n",
       "      <td>30.051460</td>\n",
       "      <td>0.180413</td>\n",
       "    </tr>\n",
       "    <tr>\n",
       "      <th>...</th>\n",
       "      <td>...</td>\n",
       "      <td>...</td>\n",
       "      <td>...</td>\n",
       "      <td>...</td>\n",
       "      <td>...</td>\n",
       "      <td>...</td>\n",
       "      <td>...</td>\n",
       "    </tr>\n",
       "    <tr>\n",
       "      <th>995</th>\n",
       "      <td>539.602579</td>\n",
       "      <td>659.099466</td>\n",
       "      <td>572.510073</td>\n",
       "      <td>600.792865</td>\n",
       "      <td>610.673226</td>\n",
       "      <td>31.952523</td>\n",
       "      <td>0.120829</td>\n",
       "    </tr>\n",
       "    <tr>\n",
       "      <th>996</th>\n",
       "      <td>548.591574</td>\n",
       "      <td>601.780609</td>\n",
       "      <td>571.831343</td>\n",
       "      <td>631.447685</td>\n",
       "      <td>648.958472</td>\n",
       "      <td>31.437289</td>\n",
       "      <td>0.178433</td>\n",
       "    </tr>\n",
       "    <tr>\n",
       "      <th>997</th>\n",
       "      <td>547.403821</td>\n",
       "      <td>644.033426</td>\n",
       "      <td>582.261111</td>\n",
       "      <td>635.851331</td>\n",
       "      <td>669.104292</td>\n",
       "      <td>31.075540</td>\n",
       "      <td>-0.007286</td>\n",
       "    </tr>\n",
       "    <tr>\n",
       "      <th>998</th>\n",
       "      <td>583.384967</td>\n",
       "      <td>653.739912</td>\n",
       "      <td>577.262960</td>\n",
       "      <td>619.867603</td>\n",
       "      <td>650.517642</td>\n",
       "      <td>30.868396</td>\n",
       "      <td>0.096619</td>\n",
       "    </tr>\n",
       "    <tr>\n",
       "      <th>999</th>\n",
       "      <td>549.247441</td>\n",
       "      <td>621.678332</td>\n",
       "      <td>571.637133</td>\n",
       "      <td>575.658515</td>\n",
       "      <td>632.486326</td>\n",
       "      <td>34.983206</td>\n",
       "      <td>0.056221</td>\n",
       "    </tr>\n",
       "  </tbody>\n",
       "</table>\n",
       "<p>1000 rows × 7 columns</p>\n",
       "</div>"
      ],
      "text/plain": [
       "         bethel      campus   churchill       river   whittaker       year  \\\n",
       "0    566.178533  673.454074  572.670839  650.981769  631.659294  29.871761   \n",
       "1    569.876770  661.566126  573.540746  602.964247  618.121608  32.437806   \n",
       "2    560.932447  646.536876  584.596285  646.603953  660.974635  29.749610   \n",
       "3    547.287149  643.902694  579.080515  608.663384  603.393940  31.501915   \n",
       "4    539.682865  646.525045  609.888808  627.118967  657.588515  30.051460   \n",
       "..          ...         ...         ...         ...         ...        ...   \n",
       "995  539.602579  659.099466  572.510073  600.792865  610.673226  31.952523   \n",
       "996  548.591574  601.780609  571.831343  631.447685  648.958472  31.437289   \n",
       "997  547.403821  644.033426  582.261111  635.851331  669.104292  31.075540   \n",
       "998  583.384967  653.739912  577.262960  619.867603  650.517642  30.868396   \n",
       "999  549.247441  621.678332  571.637133  575.658515  632.486326  34.983206   \n",
       "\n",
       "         area  \n",
       "0    0.052712  \n",
       "1    0.153979  \n",
       "2    0.081730  \n",
       "3    0.045602  \n",
       "4    0.180413  \n",
       "..        ...  \n",
       "995  0.120829  \n",
       "996  0.178433  \n",
       "997 -0.007286  \n",
       "998  0.096619  \n",
       "999  0.056221  \n",
       "\n",
       "[1000 rows x 7 columns]"
      ]
     },
     "execution_count": 10,
     "metadata": {},
     "output_type": "execute_result"
    }
   ],
   "source": [
    "boots = pd.DataFrame([\n",
    "    fit_model(bootstrap(df))\n",
    "    for _ in range(1000)\n",
    "])\n",
    "boots"
   ]
  },
  {
   "cell_type": "markdown",
   "id": "08f5b1c3",
   "metadata": {
    "slideshow": {
     "slide_type": "subslide"
    }
   },
   "source": [
    "And, here is the distribution of estimates of $\\beta_\\text{Bethel}$.\n",
    "It is similar, but not identical, to our other distribution above (as expected)."
   ]
  },
  {
   "cell_type": "code",
   "execution_count": 49,
   "id": "357c0431",
   "metadata": {
    "scrolled": false
   },
   "outputs": [
    {
     "data": {
      "image/png": "[encoded data removed]",
      "text/plain": [
       "<Figure size 1500x800 with 1 Axes>"
      ]
     },
     "metadata": {},
     "output_type": "display_data"
    }
   ],
   "source": [
    "plt.hist(boots.bethel)\n",
    "plt.xlabel(\"mean bethel rent\"); plt.ylabel(\"frequency\");\n",
    "plt.axvline(estimates['bethel'], color='red');"
   ]
  },
  {
   "cell_type": "markdown",
   "id": "41eecfb9",
   "metadata": {
    "slideshow": {
     "slide_type": "subslide"
    }
   },
   "source": [
    "**Conclusion:** The mean rent in Bethel for 500 ft${}^2$ apartments in 2010\n",
    "as about \\\\$556, with a 95% confidence interval of about \\\\$516 to \\\\$595.\n",
    "\n",
    "Widths of other 95% confidence intervals are below."
   ]
  },
  {
   "cell_type": "code",
   "execution_count": 17,
   "id": "8548d625",
   "metadata": {},
   "outputs": [
    {
     "data": {
      "text/plain": [
       "bethel       79.772687\n",
       "campus       80.884375\n",
       "churchill    76.273014\n",
       "river        75.963004\n",
       "whittaker    72.911259\n",
       "year          9.611364\n",
       "area          0.196990\n",
       "dtype: float64"
      ]
     },
     "execution_count": 17,
     "metadata": {},
     "output_type": "execute_result"
    }
   ],
   "source": [
    "boots.quantile(0.975) - experiments.quantile(0.025)"
   ]
  }
 ],
 "metadata": {
  "celltoolbar": "Slideshow",
  "kernelspec": {
   "display_name": "Python 3 (ipykernel)",
   "language": "python",
   "name": "python3"
  },
  "language_info": {
   "codemirror_mode": {
    "name": "ipython",
    "version": 3
   },
   "file_extension": ".py",
   "mimetype": "text/x-python",
   "name": "python",
   "nbconvert_exporter": "python",
   "pygments_lexer": "ipython3",
   "version": "3.11.5"
  },
  "rise": {
   "scroll": true,
   "transition": "none"
  }
 },
 "nbformat": 4,
 "nbformat_minor": 5
}
