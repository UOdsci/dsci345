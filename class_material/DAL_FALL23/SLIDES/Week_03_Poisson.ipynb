{
 "cells": [
  {
   "cell_type": "markdown",
   "id": "202599bf",
   "metadata": {
    "slideshow": {
     "slide_type": "slide"
    }
   },
   "source": [
    "# Poisson counting\n",
    "\n",
    "Fall 2023: David Levin\n",
    "\n",
    "https://uodsci.github.io/dsci345"
   ]
  },
  {
   "cell_type": "code",
   "execution_count": 1,
   "id": "733bfdf0",
   "metadata": {
    "slideshow": {
     "slide_type": "skip"
    }
   },
   "outputs": [],
   "source": [
    "import matplotlib\n",
    "import matplotlib.pyplot as plt\n",
    "matplotlib.rcParams['figure.figsize'] = (15, 8)\n",
    "import numpy as np\n",
    "import pandas as pd\n",
    "\n",
    "rng = np.random.default_rng()"
   ]
  },
  {
   "cell_type": "markdown",
   "id": "b0b9f690",
   "metadata": {
    "slideshow": {
     "slide_type": "skip"
    }
   },
   "source": [
    "$$\\renewcommand{\\P}{\\mathbb{P}} \\newcommand{\\E}{\\mathbb{E}} \\newcommand{\\var}{\\text{var}} \\newcommand{\\sd}{\\text{sd}}$$\n",
    "This is here so we can use `\\P` and `\\E` and `\\var` and `\\sd` in LaTeX below."
   ]
  },
  {
   "cell_type": "markdown",
   "id": "9f73a245",
   "metadata": {
    "slideshow": {
     "slide_type": "slide"
    }
   },
   "source": [
    "# Motivation, and the Poisson\n",
    "\n",
    "*Main points: the Poisson distribution shows up\n",
    "when you are counting rare events.\n",
    "So do Exponentials, as waiting times.*"
   ]
  },
  {
   "cell_type": "markdown",
   "id": "3a078592",
   "metadata": {
    "slideshow": {
     "slide_type": "subslide"
    }
   },
   "source": [
    "Suppose that we're running a solar panel manufacturing plant.\n",
    "Each panel is made up of many modules, each of which may be defective.\n",
    "Usually only a few are:\n",
    "the average number of defects per panel is 1.\n",
    "A few defects are okay, but if a panel has more then 2 defects,\n",
    "the panel will not work.\n",
    "*What proportion of panels will work?*"
   ]
  },
  {
   "cell_type": "markdown",
   "id": "ccc2a41d",
   "metadata": {
    "slideshow": {
     "slide_type": "fragment"
    }
   },
   "source": [
    "*What do we need to know?*\n",
    "Well, let's suppose that a panel has $N$ modules,\n",
    "and each module is broken independently of the others.\n",
    "If the probability of a particular module being broken is $p$, then we must have $p = 1/N$.\n",
    "(*Why?*)"
   ]
  },
  {
   "cell_type": "markdown",
   "id": "702fe9e0",
   "metadata": {
    "slideshow": {
     "slide_type": "subslide"
    }
   },
   "source": [
    "## Poisson approximation\n",
    "\n",
    "Let's call the number of defects $X$. So, $X$ is Binomial($N$, $\\lambda/N$) with $\\lambda=1$.\n",
    "Binomial probabilities say that\n",
    "$$\\begin{aligned}\n",
    "    \\P\\{ X = k \\}\n",
    "    &=\n",
    "    \\frac{N (N-1) \\cdots (N-k+1)}{k!} \\left(\\frac{\\lambda}{N}\\right)^k \\left(1-\\frac{\\lambda}{N}\\right)^{N-k} .\n",
    "\\end{aligned}$$\n",
    "However, $N$ was arbitrary. For large $N$,\n",
    "$$\\begin{aligned}\n",
    "   N (N-1) \\cdots (N-k+1) &\\approx N^k, \\\\\n",
    "   \\text{and} \\qquad\n",
    "   \\left(1 - \\frac{\\lambda}{N}\\right) &\\approx e^{-\\lambda},\n",
    "\\end{aligned}$$\n",
    "so\n",
    "$$\\begin{aligned}\n",
    "    \\P\\{ X = k \\}\n",
    "    &\\approx\n",
    "    \\frac{1}{k!} \\lambda^k e^{-\\lambda} ,\n",
    "\\end{aligned}$$\n",
    "i.e., $X$ is approximately [Poisson with mean $\\lambda$](https://en.wikipedia.org/wiki/Poisson_distribution)."
   ]
  },
  {
   "cell_type": "markdown",
   "id": "ef1e0115",
   "metadata": {
    "slideshow": {
     "slide_type": "slide"
    }
   },
   "source": [
    "# Example: defects"
   ]
  },
  {
   "cell_type": "markdown",
   "id": "76861172",
   "metadata": {
    "slideshow": {
     "slide_type": "subslide"
    }
   },
   "source": [
    "Suppose that a few defects are okay, but if a panel has more then 2 defects,\n",
    "the panel will not work.\n",
    "*What proportion of panels will work?*"
   ]
  },
  {
   "cell_type": "markdown",
   "id": "e98de0a4",
   "metadata": {
    "slideshow": {
     "slide_type": "fragment"
    }
   },
   "source": [
    "*Solution:*\n",
    "Let $X$ denote the number of defective modules on a randomly chosen panel.\n",
    "Then $X$ has a Poisson($\\lambda = 1$) distribution, so\n",
    "$$\\begin{aligned}\n",
    "    \\P\\{X \\le 2\\} &= \\P\\{X = 0\\} + \\P\\{X = 1\\} + \\P\\{X = 2\\} \\\\\n",
    "        &= e^{-\\lambda} \\left( 1 + \\lambda + \\lambda^2 / 2 \\right) ,\n",
    "\\end{aligned}$$\n",
    "which is here"
   ]
  },
  {
   "cell_type": "code",
   "execution_count": 2,
   "id": "65a7170a",
   "metadata": {
    "slideshow": {
     "slide_type": "-"
    }
   },
   "outputs": [
    {
     "name": "stdout",
     "output_type": "stream",
     "text": [
      "Proportion that are good: 0.920\n"
     ]
    }
   ],
   "source": [
    "lam = 1\n",
    "p_good = np.exp(-lam) * (1 + lam + lam**2 / 2)\n",
    "print(f\"Proportion that are good: {p_good:.3f}\")"
   ]
  },
  {
   "cell_type": "markdown",
   "id": "97ea0f87",
   "metadata": {
    "slideshow": {
     "slide_type": "subslide"
    }
   },
   "source": [
    "**Exercise:**\n",
    "What proportion of good panels still have some defects?\n",
    "Answer with math and check it by simulation."
   ]
  },
  {
   "cell_type": "markdown",
   "id": "9fa5ae00",
   "metadata": {},
   "source": [
    "$$ \\P\\{ X > 0 | X \\le 2 \\} \n",
    "   = \\frac{ \\P\\{ X > 0 \\text{ and } X \\le 2 \\} }{ \\P\\{X \\le 2\\} }\n",
    "   = \\frac{\n",
    "           e^{-1} (1 + 1/2)\n",
    "      }{\n",
    "           e^{-1} (1 + 1 + 1/2)\n",
    "      }\n",
    "   =\n",
    "   \\frac{3}{5}\n",
    "$$"
   ]
  },
  {
   "cell_type": "code",
   "execution_count": 7,
   "id": "10d30358",
   "metadata": {
    "slideshow": {
     "slide_type": "-"
    }
   },
   "outputs": [
    {
     "name": "stdout",
     "output_type": "stream",
     "text": [
      "Proportion of good panels with some defects: 0.5985120017378082\n"
     ]
    }
   ],
   "source": [
    "num_broken = rng.poisson(1, size=100000)\n",
    "good_panels = np.sum(num_broken <= 2)\n",
    "no_defect_panels = np.sum(num_broken == 0)\n",
    "print(f\"Proportion of good panels with some defects: {(good_panels - no_defect_panels)/good_panels}\")"
   ]
  },
  {
   "cell_type": "markdown",
   "id": "cf6e3e78",
   "metadata": {
    "slideshow": {
     "slide_type": "slide"
    }
   },
   "source": [
    "# Waiting times"
   ]
  },
  {
   "cell_type": "markdown",
   "id": "eae8e132",
   "metadata": {
    "slideshow": {
     "slide_type": "subslide"
    }
   },
   "source": [
    "Here's a different example.\n",
    "[Cosmic rays](https://en.wikipedia.org/wiki/Cosmic_ray) from outside the solar system\n",
    "pass through us pretty often.\n",
    "Let's say we have a [cosmic ray detector](https://muse.jhu.edu/article/19841)\n",
    "that plays a sound whenever a strong enough cosmic ray passes through it,\n",
    "which turns out to be about once every 1.2 minutes.\n",
    "How many do we expect in 6 minutes?\n",
    "How long do we have to wait between sounds?"
   ]
  },
  {
   "cell_type": "markdown",
   "id": "175cd12f",
   "metadata": {
    "slideshow": {
     "slide_type": "fragment"
    }
   },
   "source": [
    "**How many in 6 minutes?** By the same argument as above, the number of cosmic rays we get\n",
    "in $t$ minutes is Poisson with mean $t / 1.2$.\n",
    "So, we expect about $6 / 1.2 = 5$ cosmic rays in 6 minutes,\n",
    "with a standard deviation of $\\sqrt{5} \\approx 2.23$ cosmic rays.\n",
    "The probability we see zero cosmic rays is $e^{-5} = 0.0067$"
   ]
  },
  {
   "cell_type": "markdown",
   "id": "cd62021f",
   "metadata": {
    "slideshow": {
     "slide_type": "subslide"
    }
   },
   "source": [
    "**How long between sounds?**\n",
    "Well, the probability there's no rays in $t$ minutes is $\\exp(-t/1.2)$,\n",
    "i.e., if $T$ is the time we have to wait for the next ray,\n",
    "then $$\\P\\{T > t\\} = e^{-t/1.2}.$$\n",
    "\n",
    "**So:** $T$ is Exponentially distributed with rate 1.2 rays/second,\n",
    "and so $\\E[T] = 1/1.2$ and $\\sd[T] = 1/1.2$."
   ]
  },
  {
   "cell_type": "markdown",
   "id": "efbe0ab4",
   "metadata": {
    "slideshow": {
     "slide_type": "subslide"
    }
   },
   "source": [
    "## Memorylessness\n",
    "\n",
    "**Fact:** The Exponential distribution is *memoryless*,\n",
    "i.e., if $T$ is Exponential, then\n",
    "$$ \\P\\{ T > t + s | T > t \\} = \\P\\{ T > s \\} . $$"
   ]
  },
  {
   "cell_type": "markdown",
   "id": "a06ed15c",
   "metadata": {
    "slideshow": {
     "slide_type": "fragment"
    }
   },
   "source": [
    "**Proof:**\n",
    "\n",
    "$$\\begin{aligned}\n",
    "    \\P\\{ T > t + s | T > t \\} \n",
    "    &=\n",
    "    \\frac{ \\P\\{ T > t + s \\} }{ \\P\\{ T > t \\} } \\\\\n",
    "    &=\n",
    "    \\frac{ e^{-\\lambda(t+s)} }{ e^{-\\lambda t} } \\\\\n",
    "    &=\n",
    "    \\P\\{ T > s \\} . \n",
    "\\end{aligned}$$"
   ]
  },
  {
   "cell_type": "markdown",
   "id": "c64183a2",
   "metadata": {
    "slideshow": {
     "slide_type": "subslide"
    }
   },
   "source": [
    "**Exercise:**\n",
    "This implies that cosmic rays don't care how long I've already been waiting for one to arrive:\n",
    "the probability that $T > 2$ minutes given that $T > 1$ minute is equal to the probability that $T > 1$ minute.\n",
    "Demonstrate this, by simulation."
   ]
  },
  {
   "cell_type": "markdown",
   "id": "750d730f",
   "metadata": {
    "slideshow": {
     "slide_type": "slide"
    }
   },
   "source": [
    "# Distributions: recap"
   ]
  },
  {
   "cell_type": "markdown",
   "id": "e6f8cebc",
   "metadata": {
    "slideshow": {
     "slide_type": "subslide"
    }
   },
   "source": [
    "If something happens at rate $\\lambda$ per unit time,\n",
    "and whether it happens in each bit of time is independent of other bits of time, then:\n",
    "\n",
    "The **number** of times it happens in $t$ units of time, $N(t)$,\n",
    "is **Poisson** with mean $\\lambda t$;\n",
    "so $\\E[N(t)] = \\var[N(t)] = \\lambda t$\n",
    "and $$ \\P\\{ N(t) = n \\} = e^{-\\lambda t} \\frac{(\\lambda t)^n}{n!} ,$$"
   ]
  },
  {
   "cell_type": "markdown",
   "id": "e8e26840",
   "metadata": {
    "slideshow": {
     "slide_type": "fragment"
    }
   },
   "source": [
    "The **time** between subsequent events, $T$, is **Exponential** with rate $\\lambda$,\n",
    "so $\\E[T] = \\sd[T] = 1/\\lambda$ and\n",
    "$$ \\P\\{ T > t \\} = \\exp(-\\lambda t) . $$"
   ]
  },
  {
   "cell_type": "markdown",
   "id": "631e5833",
   "metadata": {
    "slideshow": {
     "slide_type": "slide"
    }
   },
   "source": [
    "# Complications: overdispersion"
   ]
  },
  {
   "cell_type": "markdown",
   "id": "975b2a55",
   "metadata": {
    "slideshow": {
     "slide_type": "subslide"
    }
   },
   "source": [
    "Let's go back to the solar panels:\n",
    "suppose that the number of defects per panel turns out to *not* be Poisson,\n",
    "and in fact the distribution of number of defects per panel looks like this:"
   ]
  },
  {
   "cell_type": "code",
   "execution_count": 3,
   "id": "22273bd2",
   "metadata": {
    "scrolled": true,
    "slideshow": {
     "slide_type": "skip"
    }
   },
   "outputs": [],
   "source": [
    "import pandas as pd\n",
    "\n",
    "npanels = 10000\n",
    "nd = rng.poisson(lam * rng.exponential(size=npanels), size=npanels)\n",
    "defects = pd.DataFrame({ \"value\" : np.arange(11, dtype='int') })\n",
    "defects[\"expected\"] = (\n",
    "    npanels * np.exp(-lam) * lam ** defects['value'] \n",
    "    /\n",
    "    np.array([np.math.factorial(k) for k in defects['value'].values])\n",
    ")\n",
    "defects['observed'] = [np.sum(nd == k) for k in defects['value']]"
   ]
  },
  {
   "cell_type": "code",
   "execution_count": 4,
   "id": "3044b84d",
   "metadata": {
    "slideshow": {
     "slide_type": "-"
    }
   },
   "outputs": [
    {
     "data": {
      "text/html": [
       "<div>\n",
       "<style scoped>\n",
       "    .dataframe tbody tr th:only-of-type {\n",
       "        vertical-align: middle;\n",
       "    }\n",
       "\n",
       "    .dataframe tbody tr th {\n",
       "        vertical-align: top;\n",
       "    }\n",
       "\n",
       "    .dataframe thead th {\n",
       "        text-align: right;\n",
       "    }\n",
       "</style>\n",
       "<table border=\"1\" class=\"dataframe\">\n",
       "  <thead>\n",
       "    <tr style=\"text-align: right;\">\n",
       "      <th></th>\n",
       "      <th>value</th>\n",
       "      <th>expected</th>\n",
       "      <th>observed</th>\n",
       "    </tr>\n",
       "  </thead>\n",
       "  <tbody>\n",
       "    <tr>\n",
       "      <th>0</th>\n",
       "      <td>0</td>\n",
       "      <td>3678.794412</td>\n",
       "      <td>4941</td>\n",
       "    </tr>\n",
       "    <tr>\n",
       "      <th>1</th>\n",
       "      <td>1</td>\n",
       "      <td>3678.794412</td>\n",
       "      <td>2484</td>\n",
       "    </tr>\n",
       "    <tr>\n",
       "      <th>2</th>\n",
       "      <td>2</td>\n",
       "      <td>1839.397206</td>\n",
       "      <td>1259</td>\n",
       "    </tr>\n",
       "    <tr>\n",
       "      <th>3</th>\n",
       "      <td>3</td>\n",
       "      <td>613.132402</td>\n",
       "      <td>675</td>\n",
       "    </tr>\n",
       "    <tr>\n",
       "      <th>4</th>\n",
       "      <td>4</td>\n",
       "      <td>153.283100</td>\n",
       "      <td>319</td>\n",
       "    </tr>\n",
       "    <tr>\n",
       "      <th>5</th>\n",
       "      <td>5</td>\n",
       "      <td>30.656620</td>\n",
       "      <td>169</td>\n",
       "    </tr>\n",
       "    <tr>\n",
       "      <th>6</th>\n",
       "      <td>6</td>\n",
       "      <td>5.109437</td>\n",
       "      <td>78</td>\n",
       "    </tr>\n",
       "    <tr>\n",
       "      <th>7</th>\n",
       "      <td>7</td>\n",
       "      <td>0.729920</td>\n",
       "      <td>35</td>\n",
       "    </tr>\n",
       "    <tr>\n",
       "      <th>8</th>\n",
       "      <td>8</td>\n",
       "      <td>0.091240</td>\n",
       "      <td>14</td>\n",
       "    </tr>\n",
       "    <tr>\n",
       "      <th>9</th>\n",
       "      <td>9</td>\n",
       "      <td>0.010138</td>\n",
       "      <td>15</td>\n",
       "    </tr>\n",
       "    <tr>\n",
       "      <th>10</th>\n",
       "      <td>10</td>\n",
       "      <td>0.001014</td>\n",
       "      <td>7</td>\n",
       "    </tr>\n",
       "  </tbody>\n",
       "</table>\n",
       "</div>"
      ],
      "text/plain": [
       "    value     expected  observed\n",
       "0       0  3678.794412      4941\n",
       "1       1  3678.794412      2484\n",
       "2       2  1839.397206      1259\n",
       "3       3   613.132402       675\n",
       "4       4   153.283100       319\n",
       "5       5    30.656620       169\n",
       "6       6     5.109437        78\n",
       "7       7     0.729920        35\n",
       "8       8     0.091240        14\n",
       "9       9     0.010138        15\n",
       "10     10     0.001014         7"
      ]
     },
     "execution_count": 4,
     "metadata": {},
     "output_type": "execute_result"
    }
   ],
   "source": [
    "defects"
   ]
  },
  {
   "cell_type": "markdown",
   "id": "6007bb2c",
   "metadata": {
    "slideshow": {
     "slide_type": "subslide"
    }
   },
   "source": [
    "## Overdispersion\n",
    "\n",
    "What's going on? With some more investigation,\n",
    "we find that some panels are more error-prone than others:\n",
    "a better model for the number of defects per panel is\n",
    "that the \"quality\" of a panel, $R$, is drawn from an Exponential distribution,\n",
    "and given this quality, the number of defects is Poisson with mean $R$:\n",
    "$$\\begin{aligned}\n",
    "\\text{error rate: } R &\\sim \\text{Exponential}(1) \\\\\n",
    "\\text{number of defects: } X &\\sim \\text{Poisson}(R) .\n",
    "\\end{aligned}$$"
   ]
  },
  {
   "cell_type": "markdown",
   "id": "7e29ded1",
   "metadata": {
    "slideshow": {
     "slide_type": "subslide"
    }
   },
   "source": [
    "*Question:* What is $\\E[X]$?"
   ]
  },
  {
   "cell_type": "markdown",
   "id": "7249176b",
   "metadata": {
    "slideshow": {
     "slide_type": "fragment"
    }
   },
   "source": [
    "Well, given $R$, the mean is, well, $R$, i.e., $\\E[X|R] = R$.\n",
    "\n",
    "So, it would make sense if $\\E[X] = \\E[R] = 1$.\n",
    "\n",
    "This is true; here is the \"proof\" from first principles:\n",
    "$$\\begin{aligned}\n",
    " \\E[X]\n",
    " &=\n",
    " \\sum_x x \\P\\{X = x\\} \\\\\n",
    " &=\n",
    " \\sum_x x \\sum_r \\P\\{X = x, R = r\\} \\\\\n",
    " &=\n",
    " \\sum_x x \\sum_r \\P\\{R = r\\} \\P\\{X = x \\;|\\; R = r\\} \\\\\n",
    " &=\n",
    " \\sum_r \\P\\{R = r\\} \\sum_x x \\P\\{X = x \\;|\\; R = r\\} \\\\\n",
    " &=\n",
    " \\sum_r \\P\\{R = r\\} \\E[X = x \\;|\\; R = r] \\\\\n",
    " &=\n",
    " \\sum_r \\P\\{R = r\\} r \\\\\n",
    " &=\n",
    " \\E[R] .\n",
    "\\end{aligned}$$"
   ]
  },
  {
   "cell_type": "markdown",
   "id": "d624af2f",
   "metadata": {
    "slideshow": {
     "slide_type": "subslide"
    }
   },
   "source": [
    "# Challenge\n",
    "\n",
    "Estimate the proportion of broken panels from this model by simulation."
   ]
  },
  {
   "cell_type": "code",
   "execution_count": 8,
   "id": "df7f5f50",
   "metadata": {},
   "outputs": [
    {
     "name": "stdout",
     "output_type": "stream",
     "text": [
      "Proportion of broken panels: 0.12579\n"
     ]
    }
   ],
   "source": [
    "n = 100000\n",
    "R = rng.exponential(1, size=n)\n",
    "X = rng.poisson(R, size=n)\n",
    "print(f\"Proportion of broken panels: {np.mean(X > 2)}\")"
   ]
  }
 ],
 "metadata": {
  "celltoolbar": "Slideshow",
  "kernelspec": {
   "display_name": "Python 3 (ipykernel)",
   "language": "python",
   "name": "python3"
  },
  "language_info": {
   "codemirror_mode": {
    "name": "ipython",
    "version": 3
   },
   "file_extension": ".py",
   "mimetype": "text/x-python",
   "name": "python",
   "nbconvert_exporter": "python",
   "pygments_lexer": "ipython3",
   "version": "3.11.5"
  },
  "rise": {
   "scroll": true,
   "transition": "none"
  }
 },
 "nbformat": 4,
 "nbformat_minor": 5
}
