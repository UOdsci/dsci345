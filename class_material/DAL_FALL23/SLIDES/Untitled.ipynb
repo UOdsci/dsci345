{
 "cells": [
  {
   "cell_type": "code",
   "execution_count": 1,
   "id": "70601af8",
   "metadata": {},
   "outputs": [],
   "source": [
    "def sim_X(max_n=20):\n",
    "    G = rng.choice([0, 2], size=max_n)\n",
    "    W = [np.nan for _ in G]\n",
    "    for k in range(len(G)):\n",
    "        W[k] = np.prod(G[:(k+1)])\n",
    "\n",
    "    X = np.max(W)\n",
    "    return X"
   ]
  },
  {
   "cell_type": "code",
   "execution_count": 2,
   "id": "da3f7ef0",
   "metadata": {},
   "outputs": [],
   "source": [
    "import matplotlib\n",
    "import matplotlib.pyplot as plt\n",
    "matplotlib.rcParams['figure.figsize'] = (15, 8)\n",
    "import numpy as np\n",
    "import pandas as pd\n",
    "\n",
    "rng = np.random.default_rng()"
   ]
  },
  {
   "cell_type": "code",
   "execution_count": 12,
   "id": "1a2ca4b5",
   "metadata": {},
   "outputs": [],
   "source": [
    "def sim_X(max_n=20):\n",
    "    G = rng.choice([0, 2], size=max_n)\n",
    "    W = [np.nan for _ in G]\n",
    "    for k in range(len(G)):\n",
    "        W[k] = np.prod(G[:(k+1)])\n",
    "\n",
    "    X = np.max(W)\n",
    "    return G"
   ]
  },
  {
   "cell_type": "code",
   "execution_count": 6,
   "id": "e9c3831e",
   "metadata": {},
   "outputs": [
    {
     "data": {
      "text/plain": [
       "0"
      ]
     },
     "execution_count": 6,
     "metadata": {},
     "output_type": "execute_result"
    }
   ],
   "source": [
    "sim_X(20)"
   ]
  },
  {
   "cell_type": "code",
   "execution_count": 13,
   "id": "a9114b7c",
   "metadata": {},
   "outputs": [
    {
     "data": {
      "text/plain": [
       "array([0, 2, 2, 2, 2, 0, 0, 2, 2, 0, 0, 2, 0, 2, 0, 0, 0, 0, 2, 2])"
      ]
     },
     "execution_count": 13,
     "metadata": {},
     "output_type": "execute_result"
    }
   ],
   "source": [
    "sim_X(20)"
   ]
  },
  {
   "cell_type": "code",
   "execution_count": 18,
   "id": "59b470ec",
   "metadata": {},
   "outputs": [
    {
     "data": {
      "text/plain": [
       "1048576"
      ]
     },
     "execution_count": 18,
     "metadata": {},
     "output_type": "execute_result"
    }
   ],
   "source": [
    "np.prod([2, 2, 2, 2, 2, 2, 2, 2, 2, 2, 2, 2, 2, 2, 2, 2, 2, 2, 2, 2][:21])"
   ]
  },
  {
   "cell_type": "code",
   "execution_count": 21,
   "id": "b6465e97",
   "metadata": {},
   "outputs": [
    {
     "data": {
      "text/plain": [
       "[2, 2, 2, 2, 2, 2, 2, 2, 2, 2, 2, 2, 2, 2, 2, 2, 2, 2, 2]"
      ]
     },
     "execution_count": 21,
     "metadata": {},
     "output_type": "execute_result"
    }
   ],
   "source": [
    "[2, 2, 2, 2, 2, 2, 2, 2, 2, 2, 2, 2, 2, 2, 2, 2, 2, 2, 2, 2][:19]"
   ]
  },
  {
   "cell_type": "code",
   "execution_count": 22,
   "id": "41508c4b",
   "metadata": {},
   "outputs": [],
   "source": [
    "x = rng.exponential(size=1000)"
   ]
  },
  {
   "cell_type": "code",
   "execution_count": 23,
   "id": "343d1cbe",
   "metadata": {},
   "outputs": [],
   "source": [
    "xvals = np.arange(6)"
   ]
  },
  {
   "cell_type": "code",
   "execution_count": 24,
   "id": "02c391dc",
   "metadata": {},
   "outputs": [
    {
     "data": {
      "text/plain": [
       "array([0, 1, 2, 3, 4, 5])"
      ]
     },
     "execution_count": 24,
     "metadata": {},
     "output_type": "execute_result"
    }
   ],
   "source": [
    "xvals"
   ]
  },
  {
   "cell_type": "code",
   "execution_count": 37,
   "id": "0bcc34bd",
   "metadata": {},
   "outputs": [
    {
     "data": {
      "text/plain": [
       "[0, 2, 2, 2, 2, 0, 0, 2, 2, 0, 0, 2, 0, 2, 0, 0, 0, 0, 2]"
      ]
     },
     "execution_count": 37,
     "metadata": {},
     "output_type": "execute_result"
    }
   ],
   "source": [
    "[0, 2, 2, 2, 2, 0, 0, 2, 2, 0, 0, 2, 0, 2, 0, 0, 0, 0, 2, 2][:19]"
   ]
  },
  {
   "cell_type": "code",
   "execution_count": null,
   "id": "96d35df4",
   "metadata": {},
   "outputs": [],
   "source": []
  }
 ],
 "metadata": {
  "kernelspec": {
   "display_name": "Python 3 (ipykernel)",
   "language": "python",
   "name": "python3"
  },
  "language_info": {
   "codemirror_mode": {
    "name": "ipython",
    "version": 3
   },
   "file_extension": ".py",
   "mimetype": "text/x-python",
   "name": "python",
   "nbconvert_exporter": "python",
   "pygments_lexer": "ipython3",
   "version": "3.11.5"
  }
 },
 "nbformat": 4,
 "nbformat_minor": 5
}
