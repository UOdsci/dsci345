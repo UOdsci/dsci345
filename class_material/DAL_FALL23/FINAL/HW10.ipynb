{
 "cells": [
  {
   "cell_type": "markdown",
   "id": "de6e56a9",
   "metadata": {},
   "source": [
    "# Final: Probability and Statistics for Data Science\n",
    "\n",
    "*Instructions:*\n",
    "Please answer the following questions and submit your work\n",
    "by editing this jupyter notebook and submitting it on Canvas.\n",
    "Questions may involve math, programming, or neither,\n",
    "but you should make sure to *explain your work*:\n",
    "i.e., you should usually have a cell with at least a few sentences\n",
    "explaining what you are doing.\n",
    "\n",
    "Also, please be sure to always specify units of any quantities that have units,\n",
    "and label axes of plots (again, with units when appropriate)."
   ]
  },
  {
   "cell_type": "code",
   "execution_count": 2,
   "id": "f6af1f2e",
   "metadata": {},
   "outputs": [],
   "source": [
    "import numpy as np\n",
    "import matplotlib.pyplot as plt\n",
    "rng = np.random.default_rng(123)"
   ]
  },
  {
   "cell_type": "markdown",
   "id": "e12d468d",
   "metadata": {},
   "source": [
    "# 1. The Challenger\n",
    "\n",
    "\n",
    "On 28 January 1986 the space shuttle Challenger was destroyed in an\n",
    "explostion shortly after lauch from Cape Kennedy.  The cause of the\n",
    "explosion was eventually identified as catastrophic failure of the\n",
    "O-rings on the solid rocker booster.  The failure almost certainly occurred\n",
    "because the O-ring material was subjected to a lower temperature at\n",
    "lauch (31 degress F) than was appropriate.  The material and the solid\n",
    "rocket joints had never been tested at temperatures this low.  Some\n",
    "O-ring failures had occurred during other shuttle launches (or engine\n",
    "statics tests).  The failure data observed prior to the Challenger\n",
    "launch is given at http://pages.uoregon.edu/dlevin/DATA/shuttle.csv\n",
    "\n",
    " \n",
    "(a) Fit an appropriate model to the data which allows you to predict the probability of failure at different temperatures.  \n",
    "\n",
    "(b) Construct a graph of the data and display the fitted model.  Discuss how well the\n",
    "model fits the data.\n",
    "\n",
    "(c) What is the estimated failure probability at 50 degrees? at 75 degrees? and at 31 degrees?\n",
    "\n",
    " \n",
    "(d) Notice that there is extrapolation involved in obtaining this\n",
    "estimate.  What influence would that have on your recommendation about\n",
    "lauching the shuttle?\n",
    "\n",
    " \n",
    "\n",
    " \n",
    "\n"
   ]
  },
  {
   "cell_type": "markdown",
   "id": "cb621f42",
   "metadata": {
    "slideshow": {
     "slide_type": "subslide"
    }
   },
   "source": [
    "# 2. The three surveyors\n",
    "\n",
    "Moe, Larry, and Curly are measuring the heights of the trees in a field.\n",
    "To do this, Moe climbs the tree and holds a tape measure at the top of the tree,\n",
    "Larry looks at the position on the tape measure and yells it to Curly,\n",
    "and Curly writes it down.\n",
    "However, each make mistakes:\n",
    "if the true height of the tree is $h$ (in feet),\n",
    "then the number written down is\n",
    "$$\n",
    "    X = h + M + L + C ,\n",
    "$$\n",
    "where $M$, $L$, and $C$ are the errors introduced by each;\n",
    "these are independent and\n",
    "$$\\begin{aligned}\n",
    "  M &\\sim \\text{Exponential}(\\text{mean}=1.0) \\\\\n",
    "  L &\\sim \\text{Normal}(\\text{mean}=0, \\text{sd}=2.5) \\\\\n",
    "  C &\\sim \\text{Normal}(\\text{mean}=3.0, \\text{sd}=2.0) .\n",
    "\\end{aligned}$$\n",
    "\n",
    "In the following, suppose they have measured a tree with true height $h=20$.\n",
    "The expected value of $X$ is, by linearity of expectation,\n",
    "$$ \\mathbb{E}[X] = \\mathbb{E}[h + M + L + C] = h + \\mathbb{E}[M] + \\mathbb{E}[L] + \\mathbb{E}[C] = 20 + 1 + 0 + 3 = 24 \\text{ feet}. $$\n",
    "\n",
    "*(a)* Write a function to simulate from $X$,\n",
    "    and use it to make a histogram of the distribution of $X$.\n",
    "    (*Note: as a check, the mean should be close to 23.*)\n",
    "    \n",
    "*(b)* Use simulation to estimate $\\text{sd}[X]$.\n",
    "\n",
    "*(c)* Find $\\text{sd}[X]$ using math (i.e., using the probability rules from class\n",
    " and properties of the probability distributions above, which you may look up on Wikipedia).\n",
    " Make sure to state any facts that you use."
   ]
  },
  {
   "cell_type": "markdown",
   "id": "b273e01d",
   "metadata": {},
   "source": [
    "# 3. Jitter bugs\n",
    "\n",
    "We are studying how activity levels of springtails (a type of very small arthropod)\n",
    "depend on ambient temperature.\n",
    "To do this, we have measured how far twenty *[Sminthurus viridis](https://www.chaosofdelight.org/collembola-springtails)*\n",
    "traveled along a small tube over the course of 10 minutes, each measured at a different temperature.\n",
    "Here are the data (temperatures in degrees C, distances in mm):"
   ]
  },
  {
   "cell_type": "code",
   "execution_count": 39,
   "id": "05300111",
   "metadata": {},
   "outputs": [],
   "source": [
    "temperature = np.array([1.4, 2.8, 1.2, 10., 0.4, 6.3, 1.2, 0.6, 0.7, 2.6, 2.4,\n",
    "                   0.4 , 1. , 2.3, 2.8, 7.4, 2.6, 1.6, 9.4, 11.4])\n",
    "distance = np.array([12.1, 10.6,  9.5,  7.4,  9.8, 13.3, 11.1, 11.3, 10.3,  9.2,  9.7,\n",
    "                   9.5,  9.5, 10.8,  7.7,  7.5,  8.6, 11.5,  8.9, 14.1])"
   ]
  },
  {
   "cell_type": "markdown",
   "id": "c7067e3a",
   "metadata": {},
   "source": [
    "Our observation is that although the *average* distance is fairly consistent across\n",
    "temperatures, the *variability* between springtails differs substantially at different temperatures.\n",
    "So, we'd like to fit the following model: if $D$ is the distance and $T$ is the temperature,\n",
    "$$ D \\sim \\text{Normal}(\\text{mean}=a, \\text{sd}=\\exp(b T) ). $$\n",
    "(In words: although mean distance does not change with temperature,\n",
    "the standard deviation does.)"
   ]
  },
  {
   "cell_type": "markdown",
   "id": "e9c0e5ef",
   "metadata": {},
   "source": [
    "*(a)* Write the log-likelihood function for this model.\n",
    "    The function should have three arguments: the tuple of parameters, $(a, b)$;\n",
    "    the array of temperatures; and the array of distances.\n",
    "\n",
    "*(b)* Estimate the values of $a$ and $b$ from the data\n",
    "    by minimizing the negative log-likelihood.\n",
    "    \n",
    "*(c)* Use simulation\n",
    "    to obtain 95% confidence intervals for your two estimates.\n",
    "    Do this by: \n",
    "- creating several new, simulated data sets $D$ from this model using the estimated values of $a$ and $b$, but the same temperatures $T$ found in the data set,\n",
    "- re-applying the estimation procedure on each simulated data set to get new $a$ and $b$ values\n",
    "- and reporting a 95% interval of the resulting estimates. "
   ]
  },
  {
   "cell_type": "markdown",
   "id": "176904ef",
   "metadata": {},
   "source": [
    "# 4. Polynomial fitting\n",
    "\n",
    "Here is a small [data set](http://pages.uoregon.edu/dlevin/DATA/xy2023.txt) with several points (x, y). Model y as a polynomial function of x.\n",
    "\n",
    " (a) Plot the data, along with fitted polynomials of degrees 1 through 7.\n",
    " \n",
    " (b) Using cross-validation, estimate the MSE prediction for each degree of polynomial model \n",
    " \n",
    " (c) Plot the mean squared error as a function of degree.\n",
    " \n",
    " (d) Interpret your results in parts (b) and (c) in plain language. What degree polynomial should be the best at predicting $y$ based on the value of $x$ for new data?\n"
   ]
  }
 ],
 "metadata": {
  "celltoolbar": "Tags",
  "kernelspec": {
   "display_name": "Python 3 (ipykernel)",
   "language": "python",
   "name": "python3"
  },
  "language_info": {
   "codemirror_mode": {
    "name": "ipython",
    "version": 3
   },
   "file_extension": ".py",
   "mimetype": "text/x-python",
   "name": "python",
   "nbconvert_exporter": "python",
   "pygments_lexer": "ipython3",
   "version": "3.11.4"
  }
 },
 "nbformat": 4,
 "nbformat_minor": 5
}
