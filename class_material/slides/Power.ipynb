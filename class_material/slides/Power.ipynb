{
 "cells": [
  {
   "cell_type": "markdown",
   "id": "202599bf",
   "metadata": {
    "slideshow": {
     "slide_type": "slide"
    }
   },
   "source": [
    "# Power and false positives\n",
    "\n",
    "Peter Ralph\n",
    "\n",
    "https://uodsci.github.io/dsci345"
   ]
  },
  {
   "cell_type": "code",
   "execution_count": 1,
   "id": "733bfdf0",
   "metadata": {
    "slideshow": {
     "slide_type": "skip"
    }
   },
   "outputs": [],
   "source": [
    "import matplotlib\n",
    "import matplotlib.pyplot as plt\n",
    "matplotlib.rcParams['figure.figsize'] = (15, 8)\n",
    "import pandas as pd\n",
    "import numpy as np\n",
    "import scipy.stats\n",
    "\n",
    "rng = np.random.default_rng()"
   ]
  },
  {
   "cell_type": "markdown",
   "id": "88ec5c59",
   "metadata": {
    "slideshow": {
     "slide_type": "skip"
    }
   },
   "source": [
    "$$\\renewcommand{\\P}{\\mathbb{P}} \\newcommand{\\E}{\\mathbb{E}} \\newcommand{\\var}{\\text{var}} \\newcommand{\\sd}{\\text{sd}}$$\n",
    "This is here so we can use `\\P` and `\\E` and `\\var` and `\\sd` in LaTeX below."
   ]
  },
  {
   "cell_type": "markdown",
   "id": "c5503e1f",
   "metadata": {
    "slideshow": {
     "slide_type": "slide"
    }
   },
   "source": [
    "# Power analysis"
   ]
  },
  {
   "cell_type": "markdown",
   "id": "c6cb7350",
   "metadata": {
    "slideshow": {
     "slide_type": "subslide"
    }
   },
   "source": [
    "Suppose we're measuring expression\n",
    "of many ($\\sim$ 1,000) genes\n",
    "in a bunch of organisms at night and during the day.\n",
    "We'd like to know which genes are expressed \n",
    "at different levels in night and day, and by how much.\n",
    "\n",
    "However, gene expression is highly variable: some genes\n",
    "differ much more between individuals than others.\n",
    "Here's a model for $X$, the difference in log gene expression\n",
    "of a random gene in a random individual:\n",
    "$$ \\begin{aligned}\n",
    "    \\text{mean difference:} \\qquad M &\\sim \\begin{cases} 3 \\qquad &\\text{with probability}\\; 1/2 \\\\ 0 \\qquad &\\text{with probability}\\; 1/2 \\end{cases} \\\\\n",
    "    \\text{SD difference:} \\qquad D &\\sim \\text{Exponential}(\\text{mean}=2) \\\\\n",
    "    \\text{measured difference:} \\qquad X &\\sim \\text{Normal}(\\text{mean}=M, \\text{sd}=D) .\n",
    "\\end{aligned}$$"
   ]
  },
  {
   "cell_type": "markdown",
   "id": "879515f2",
   "metadata": {
    "slideshow": {
     "slide_type": "fragment"
    }
   },
   "source": [
    "*Goals:* We will want to, in the real data,\n",
    "\n",
    "- Identify genes that we're sure are differentially expressed.\n",
    "- Estimate how different their expression levels are.\n",
    "\n",
    "So, let's simulate from this and test out our methods."
   ]
  },
  {
   "cell_type": "markdown",
   "id": "e4d878df",
   "metadata": {
    "slideshow": {
     "slide_type": "subslide"
    }
   },
   "source": [
    "## Simulate\n",
    "\n",
    "\n",
    "*(Question: what shapes will M, D, and X be?)*"
   ]
  },
  {
   "cell_type": "code",
   "execution_count": null,
   "id": "fe87b801",
   "metadata": {},
   "outputs": [],
   "source": []
  },
  {
   "cell_type": "markdown",
   "id": "286a25bd",
   "metadata": {
    "slideshow": {
     "slide_type": "subslide"
    }
   },
   "source": [
    "## Methods\n",
    "\n",
    "How will we identify differentially expressed genes?\n",
    "For each gene, let's \n",
    "1. do a $t$-test, and \n",
    "2. Then, we'll take the genes with $p$-value below $\\alpha$ as candidate differentially expressed genes.\n",
    "    What proportion do we get right (**power**) and wrong (**false positive rate**),\n",
    "    and how does this depend on $D$?\n",
    "3. Finally, find a 95% confidence interval."
   ]
  },
  {
   "cell_type": "markdown",
   "id": "354f895d",
   "metadata": {
    "slideshow": {
     "slide_type": "subslide"
    }
   },
   "source": [
    "First, the $t$-tests.\n",
    "How do we use `scipy.stats.ttest_1samp()`? What shapes will the results be?"
   ]
  },
  {
   "cell_type": "code",
   "execution_count": null,
   "id": "c5f6556e",
   "metadata": {},
   "outputs": [],
   "source": []
  },
  {
   "cell_type": "markdown",
   "id": "93c9cbb3",
   "metadata": {},
   "source": [
    "Overall performance: How do we find how many *true positives* we have? False positives? True/false negatives?"
   ]
  },
  {
   "cell_type": "code",
   "execution_count": null,
   "id": "f44d899b",
   "metadata": {},
   "outputs": [],
   "source": []
  },
  {
   "cell_type": "markdown",
   "id": "31a05ae2",
   "metadata": {
    "slideshow": {
     "slide_type": "subslide"
    }
   },
   "source": [
    "How can we summarise power and false positive rate as a function of $D$?"
   ]
  },
  {
   "cell_type": "code",
   "execution_count": null,
   "id": "711fe4cc",
   "metadata": {},
   "outputs": [],
   "source": []
  },
  {
   "cell_type": "markdown",
   "id": "4f039ae4",
   "metadata": {},
   "source": [
    "How can we check whether confidence intervals are *well-calibrated* (i.e., behave as advertised)?"
   ]
  },
  {
   "cell_type": "code",
   "execution_count": null,
   "id": "95a18073",
   "metadata": {},
   "outputs": [],
   "source": []
  }
 ],
 "metadata": {
  "celltoolbar": "Slideshow",
  "kernelspec": {
   "display_name": "Python 3 (ipykernel)",
   "language": "python",
   "name": "python3"
  },
  "language_info": {
   "codemirror_mode": {
    "name": "ipython",
    "version": 3
   },
   "file_extension": ".py",
   "mimetype": "text/x-python",
   "name": "python",
   "nbconvert_exporter": "python",
   "pygments_lexer": "ipython3",
   "version": "3.12.9"
  },
  "rise": {
   "scroll": true,
   "transition": "none"
  }
 },
 "nbformat": 4,
 "nbformat_minor": 5
}
