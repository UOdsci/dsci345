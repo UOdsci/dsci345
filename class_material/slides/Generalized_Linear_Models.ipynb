{
 "cells": [
  {
   "cell_type": "markdown",
   "id": "202599bf",
   "metadata": {
    "slideshow": {
     "slide_type": "slide"
    }
   },
   "source": [
    "# Generalized Linear Models\n",
    "\n",
    "Peter Ralph\n",
    "\n",
    "https://uodsci.github.io/dsci345"
   ]
  },
  {
   "cell_type": "code",
   "execution_count": null,
   "id": "733bfdf0",
   "metadata": {
    "slideshow": {
     "slide_type": "skip"
    }
   },
   "outputs": [],
   "source": [
    "import matplotlib\n",
    "import matplotlib.pyplot as plt\n",
    "matplotlib.rcParams['figure.figsize'] = (15, 8)\n",
    "import numpy as np\n",
    "import pandas as pd\n",
    "from dsci345 import pretty\n",
    "\n",
    "rng = np.random.default_rng()"
   ]
  },
  {
   "cell_type": "markdown",
   "id": "88ec5c59",
   "metadata": {
    "slideshow": {
     "slide_type": "skip"
    }
   },
   "source": [
    "$$\\renewcommand{\\P}{\\mathbb{P}} \\newcommand{\\E}{\\mathbb{E}} \\newcommand{\\var}{\\text{var}} \\newcommand{\\sd}{\\text{sd}} \\newcommand{\\cov}{\\text{cov}} \\newcommand{\\cor}{\\text{cor}}$$\n",
    "This is here so we can use `\\P` and `\\E` and `\\var` and `\\cov` and `\\cor` and `\\sd` in LaTeX below."
   ]
  },
  {
   "cell_type": "markdown",
   "id": "b9f60c3f",
   "metadata": {
    "slideshow": {
     "slide_type": "slide"
    }
   },
   "source": [
    "# Linear models: recap"
   ]
  },
  {
   "cell_type": "markdown",
   "id": "9f499c3d",
   "metadata": {
    "slideshow": {
     "slide_type": "subslide"
    }
   },
   "source": [
    "We've seen a few flavors of \"linear model\".\n",
    "First, the 'standard':\n",
    "$$\\begin{aligned}\n",
    "    Y &= Xb + \\epsilon \\\\\n",
    "    \\epsilon &\\sim \\text{Normal}(\\text{mean}=0, \\text{sd}=\\sigma) ,\n",
    "\\end{aligned}$$\n",
    "which is equivalent to\n",
    "$$\\begin{aligned}\n",
    "    Y &\\sim \\text{Normal}(\\text{mean}= Xb, \\text{sd}=\\sigma) .\n",
    "\\end{aligned}$$"
   ]
  },
  {
   "cell_type": "markdown",
   "id": "f6a4b4df",
   "metadata": {
    "slideshow": {
     "slide_type": "fragment"
    }
   },
   "source": [
    "Robust:\n",
    "$$\\begin{aligned}\n",
    "    Y &\\sim \\text{Cauchy}(\\text{location}= Xb, \\text{scale}=\\sigma) .\n",
    "\\end{aligned}$$"
   ]
  },
  {
   "cell_type": "markdown",
   "id": "d03af2c5",
   "metadata": {
    "slideshow": {
     "slide_type": "fragment"
    }
   },
   "source": [
    "And, in homework, Poisson:\n",
    "$$\\begin{aligned}\n",
    "    Y &\\sim \\text{Poisson}(\\text{mean}=\\exp(Xb)) .\n",
    "\\end{aligned}$$"
   ]
  },
  {
   "cell_type": "markdown",
   "id": "b37ab855",
   "metadata": {
    "slideshow": {
     "slide_type": "subslide"
    }
   },
   "source": [
    "What are these \"models\" *for*?\n",
    "\n",
    "- understanding how signal and noise combine in your data,\n",
    "    and how to extract the information you want\n",
    "    \n",
    "- simulating data, to test methods and build intuition\n",
    "\n",
    "- providing a framework to describe the data\n",
    "    (to *fit* the model, e.g., by maximum likelihood)\n",
    "\n",
    "- describing how good predictions based on a fitted model are likely to be"
   ]
  },
  {
   "cell_type": "markdown",
   "id": "586e2c40",
   "metadata": {
    "slideshow": {
     "slide_type": "fragment"
    }
   },
   "source": [
    "You could, for instance, decide your data come from a Poisson model\n",
    "and yet still fit it by least squares\n",
    "(i.e., maximum likelihood with a Normal model).\n",
    "*But*: the \"correct\" model\n",
    "(i.e., one that better describes the noise distribution)\n",
    "should provide more accurate results."
   ]
  },
  {
   "cell_type": "markdown",
   "id": "ce08516e",
   "metadata": {
    "slideshow": {
     "slide_type": "subslide"
    }
   },
   "source": [
    "## Generalizing\n",
    "\n",
    "In each case, we said:\n",
    "\n",
    "1. The *response*, $Y$, is random with some distribution,\n",
    "2. whose *mean* is determined by a linear combination of the *predictors*, $X$."
   ]
  },
  {
   "cell_type": "markdown",
   "id": "e7c9cc4d",
   "metadata": {
    "slideshow": {
     "slide_type": "subslide"
    }
   },
   "source": [
    "## Ingredients\n",
    "\n",
    "A *generalized linear model* has three ingredients:\n",
    "\n",
    "1. a *response distribution* for $Y$ (the \"family\"),\n",
    "2. a *linear predictor*, $Xb$, and\n",
    "3. a *link function* $h( )$ connecting the linear predictor to the mean of the response,\n",
    "    usually $h(\\E[Y]) = Xb$."
   ]
  },
  {
   "cell_type": "markdown",
   "id": "a4c2e490",
   "metadata": {
    "slideshow": {
     "slide_type": "fragment"
    }
   },
   "source": [
    "For instance:\n",
    "$$\\begin{aligned}\n",
    "    Y &\\sim \\text{Poisson}(\\text{mean}=\\exp(Xb)) \n",
    "\\end{aligned}$$\n",
    "is a Poisson GLM with a *log* link function\n",
    "(since $\\log(\\E[Y]) = Xb$)."
   ]
  },
  {
   "cell_type": "markdown",
   "id": "602b7de9",
   "metadata": {
    "slideshow": {
     "slide_type": "fragment"
    }
   },
   "source": [
    "For instance:\n",
    "$$\\begin{aligned}\n",
    "    Y &\\sim \\text{Normal}(\\text{mean}= Xb, \\text{sd}=\\sigma) .\n",
    "\\end{aligned}$$\n",
    "is a Normal GLM with an *identity* link function."
   ]
  },
  {
   "cell_type": "markdown",
   "id": "d13dcbf7",
   "metadata": {
    "slideshow": {
     "slide_type": "slide"
    }
   },
   "source": [
    "# Logistic models"
   ]
  },
  {
   "cell_type": "markdown",
   "id": "f11b5ca8",
   "metadata": {
    "slideshow": {
     "slide_type": "subslide"
    }
   },
   "source": [
    "Probably the most common GLM besides Normal is the \"Binomial GLM with a logistic link\",\n",
    "i.e.:\n",
    "$$\\begin{aligned}\n",
    "    Y_i &\\sim \\text{Binomial}(\\text{size}=N_i, \\text{prob}=\\theta_i) \\\\\n",
    "    \\theta_i &= \\frac{1}{1 + e^{-Xb}} .\n",
    "\\end{aligned}$$\n",
    "\n",
    "Here $f(x) = 1/(1 + e^{-x})$ is the *logistic function*,\n",
    "which takes the linear predictor (which can be any value)\n",
    "and gives us back a number between 0 and 1:"
   ]
  },
  {
   "cell_type": "code",
   "execution_count": null,
   "id": "68228500",
   "metadata": {},
   "outputs": [],
   "source": [
    "xx = np.linspace(-6, 6, 101)\n",
    "plt.plot(xx, 1/(1 + np.exp(-xx)));"
   ]
  },
  {
   "cell_type": "markdown",
   "id": "b95f8026",
   "metadata": {
    "slideshow": {
     "slide_type": "slide"
    }
   },
   "source": [
    "## Example: keep your head down\n",
    "\n",
    "Taller dandelion flowers spread their seeds farther...\n",
    "but are also more likely to be eaten.\n",
    "We survey a field before and after a herd of cows come through,\n",
    "and determine that the chance that a dandelion that is $x$ inches high is\n",
    "$$\n",
    "    p(x) = \\frac{1}{1 + e^{-(x - 5)}} .\n",
    "$$"
   ]
  },
  {
   "cell_type": "code",
   "execution_count": null,
   "id": "f8f2b49c",
   "metadata": {},
   "outputs": [],
   "source": [
    "xvals = np.linspace(0, 12, 61)\n",
    "pvals = 1/(1 + np.exp(-(xvals - 5)))\n",
    "plt.plot(xvals, pvals)\n",
    "plt.xlabel(\"height (inches)\"); plt.ylabel(\"probability of being eaten\");"
   ]
  },
  {
   "cell_type": "markdown",
   "id": "8814a6a4",
   "metadata": {
    "slideshow": {
     "slide_type": "subslide"
    }
   },
   "source": [
    "How might we determine this?\n",
    "Here's some hypothetical data: circles are uneaten, x's are eaten,\n",
    "along with the theoretical curve,\n",
    "as well as the proportion eaten in one inch height bins:"
   ]
  },
  {
   "cell_type": "code",
   "execution_count": null,
   "id": "afb3f83b",
   "metadata": {},
   "outputs": [],
   "source": [
    "n = 300\n",
    "x = rng.uniform(low=0, high=12, size=n)\n",
    "eaten = (rng.random(n) < 1/(1 + np.exp(-(x-5))))\n",
    "fig, ax = plt.subplots()\n",
    "[ax.axvline(k, c='lightgrey') for k in range(13)];\n",
    "ax.scatter(x[eaten], 1.0 + rng.uniform(-.05, .05, np.sum(eaten)), marker = \"x\")\n",
    "ax.scatter(x[~eaten], rng.uniform(-.05, .05, np.sum(~eaten)), marker = \"o\")\n",
    "ax.plot(xvals, pvals)\n",
    "ax.set_xlabel(\"height\"); ax.set_ylabel(\"eaten?\")\n",
    "props = [np.mean(eaten[np.floor(x) == k]) for k in range(12)]\n",
    "ax.scatter(np.arange(12) + 0.5, props, s=200);"
   ]
  },
  {
   "cell_type": "code",
   "execution_count": null,
   "id": "b6f50d9f",
   "metadata": {
    "slideshow": {
     "slide_type": "subslide"
    }
   },
   "outputs": [],
   "source": [
    "from sklearn.linear_model import LogisticRegression\n",
    "X = np.vstack([x]).T\n",
    "lfit = LogisticRegression(penalty=None).fit(X, eaten)"
   ]
  },
  {
   "cell_type": "code",
   "execution_count": null,
   "id": "2858f54f",
   "metadata": {},
   "outputs": [],
   "source": [
    "lfit.coef_, lfit.intercept_"
   ]
  },
  {
   "cell_type": "code",
   "execution_count": null,
   "id": "38c9c5c9",
   "metadata": {},
   "outputs": [],
   "source": [
    "x[:10], lfit.predict_proba(X)[:10]"
   ]
  },
  {
   "cell_type": "code",
   "execution_count": null,
   "id": "a2ec8206",
   "metadata": {},
   "outputs": [],
   "source": [
    "fig, ax = plt.subplots()\n",
    "xx = np.linspace(0, 12, 121)\n",
    "ax.plot(xx, lfit.predict_proba(np.column_stack([xx])), label=['predicted not eaten', 'predicted eaten'])\n",
    "ax.plot(xx, 1/(1 + np.exp(-(xx - 5))), label='true relationship')\n",
    "ax.legend();"
   ]
  },
  {
   "cell_type": "markdown",
   "id": "0d904fc1",
   "metadata": {
    "slideshow": {
     "slide_type": "slide"
    }
   },
   "source": [
    "# Your turn"
   ]
  },
  {
   "cell_type": "markdown",
   "id": "3fb893a4",
   "metadata": {
    "slideshow": {
     "slide_type": "subslide"
    }
   },
   "source": [
    "Identify the family, link function, and linear predictor of the following GLM:\n",
    "$$\\begin{aligned}\n",
    "    Y &\\sim \\text{Poisson}(\\text{mean}=(b_0 + b_1 X)^2) .\n",
    "\\end{aligned}$$\n",
    "Then, simulate 150 data points from it, and plot,\n",
    "taking $Y$ to be the number of misspelled words per page in an essay\n",
    "and $X$ to be the number of hours past 8pm."
   ]
  },
  {
   "cell_type": "code",
   "execution_count": null,
   "id": "f6b38290",
   "metadata": {},
   "outputs": [],
   "source": []
  },
  {
   "cell_type": "markdown",
   "id": "fe55c6b0",
   "metadata": {
    "slideshow": {
     "slide_type": "slide"
    }
   },
   "source": [
    "## Example: incidence\n",
    "\n",
    "Let's build a model of lung cancer incidence,\n",
    "based loosely on the results of [Tammemagi et al 2011](https://doi.org/10.1093/jnci/djr173).\n",
    "Suppose we have a study of smokers aged 50-80 years old,\n",
    "for whom we find out (a) their age,\n",
    "(b) how many \"pack-years\" did they smoke during their life (which ranges from 0 to 250 but mostly less than 50),\n",
    "and (c) whether they develop lung cancer over the 10-year study.\n",
    "The overall cancer rate is about 7% (*tangential note:* it is about 30x lower in non-smokers).\n",
    "Suppose that the probability of developing lung cancer\n",
    "of someone of age $a$ and a total number of pack-years smoked $s$ is\n",
    "$$\\begin{aligned}\n",
    "    p(a, s) = \\frac{1}{1 + \\exp(-(-4.1 + .02 a + .01 s))} .\n",
    "\\end{aligned}$$\n",
    "Incidence goes up with age and pack-years."
   ]
  },
  {
   "cell_type": "markdown",
   "id": "2a066041",
   "metadata": {
    "slideshow": {
     "slide_type": "subslide"
    }
   },
   "source": [
    "Here is a visual depiction of the model:"
   ]
  },
  {
   "cell_type": "code",
   "execution_count": null,
   "id": "4de42075",
   "metadata": {},
   "outputs": [],
   "source": [
    "aa = np.linspace(50, 80, 101)\n",
    "for s in [0, 10, 30, 50, 100]:\n",
    "    plt.plot(aa, 1/(1 + np.exp(-(-4.1 + .02 * aa + .01 * s))), label=f\"pack-years: {s}\")\n",
    "plt.xlabel(\"age\"); plt.ylabel(\"cancer incidence\")\n",
    "plt.legend();"
   ]
  },
  {
   "cell_type": "markdown",
   "id": "36451695",
   "metadata": {
    "slideshow": {
     "slide_type": "subslide"
    }
   },
   "source": [
    "Our plan:\n",
    "\n",
    "1. Simulate 10,000 data points (people) from this model.\n",
    "2. Fit the model.\n",
    "3. See how close we get to the true parameters."
   ]
  },
  {
   "cell_type": "markdown",
   "id": "1c42fe78",
   "metadata": {
    "slideshow": {
     "slide_type": "subslide"
    }
   },
   "source": [
    "First, let's pick distributions for *age* and *pack-years*:"
   ]
  },
  {
   "cell_type": "code",
   "execution_count": null,
   "id": "d09739bf",
   "metadata": {},
   "outputs": [],
   "source": [
    "n = 10_000\n",
    "age = np.round(rng.uniform(low=50, high=80, size=n), 1)\n",
    "pack_years = np.round(rng.gamma(shape=6, scale=0.1*age), 0)\n",
    "\n",
    "fig, (ax0, ax1) = plt.subplots(1, 2)\n",
    "ax0.hist(age, bins=pretty(age, 40))\n",
    "ax0.set_xlabel(\"age (years)\"); ax0.set_ylabel(\"frequency\")\n",
    "ax1.hist(pack_years, bins=pretty(pack_years, 40))\n",
    "ax1.set_xlabel(\"pack-years smoked\"); ax1.set_ylabel(\"frequency\");"
   ]
  },
  {
   "cell_type": "markdown",
   "id": "677122ab",
   "metadata": {
    "slideshow": {
     "slide_type": "subslide"
    }
   },
   "source": [
    "The joint distribution:"
   ]
  },
  {
   "cell_type": "code",
   "execution_count": null,
   "id": "738194e8",
   "metadata": {
    "slideshow": {
     "slide_type": "-"
    }
   },
   "outputs": [],
   "source": [
    "plt.scatter(age, pack_years, s=1)\n",
    "plt.xlabel(\"age (years)\"); plt.ylabel(\"pack-years smoked\");"
   ]
  },
  {
   "cell_type": "markdown",
   "id": "3c58a3fe",
   "metadata": {
    "slideshow": {
     "slide_type": "subslide"
    }
   },
   "source": [
    "Now, let's decide whether they develop cancer\n",
    "based on age and years smoked:"
   ]
  },
  {
   "cell_type": "code",
   "execution_count": null,
   "id": "19737ba1",
   "metadata": {},
   "outputs": [],
   "source": [
    "theta = -4.1 + .02 * age + .01 * pack_years\n",
    "prob_cancer =  1/(1 + np.exp(-theta))\n",
    "cancer = rng.binomial(n=1, p=prob_cancer)\n",
    "\n",
    "plt.scatter(theta, cancer + rng.uniform(low=-.05, high=.05, size=n), s=1);"
   ]
  },
  {
   "cell_type": "markdown",
   "id": "71d2cd60",
   "metadata": {
    "slideshow": {
     "slide_type": "subslide"
    }
   },
   "source": [
    "To fit the model we could use our old friend `scipy.optimize.minimize`,\n",
    "but instead we'll use [scikit-learn](https://scikit-learn.org/stable/modules/generated/sklearn.linear_model.LogisticRegression.html#sklearn.linear_model.LogisticRegression):"
   ]
  },
  {
   "cell_type": "code",
   "execution_count": null,
   "id": "c3d891d3",
   "metadata": {},
   "outputs": [],
   "source": [
    "from sklearn.linear_model import LogisticRegression\n",
    "X = np.vstack([age, pack_years]).T\n",
    "lfit = LogisticRegression(penalty='none').fit(X, cancer)\n",
    "b_age, b_py = lfit.coef_[0]\n",
    "print(f\"The linear predictor is {lfit.intercept_[0]:.3} + {b_age:.3} * age + {b_py:.3} * pack_years .\")"
   ]
  },
  {
   "cell_type": "markdown",
   "id": "49a78637",
   "metadata": {
    "slideshow": {
     "slide_type": "subslide"
    }
   },
   "source": [
    "Here's the fit (it's pretty good!):"
   ]
  },
  {
   "cell_type": "code",
   "execution_count": null,
   "id": "df95e179",
   "metadata": {},
   "outputs": [],
   "source": [
    "aa = np.linspace(50, 80, 101)\n",
    "colors = plt.rcParams['axes.prop_cycle'].by_key()['color']\n",
    "for s, c in zip([0, 10, 30, 50, 100], colors):\n",
    "    plt.plot(aa, 1/(1 + np.exp(-(-4.1 + .02 * aa + .01 * s))), label=f\"pack-years: {s}\", c=c)\n",
    "    plt.plot(aa, lfit.predict_proba(np.vstack([aa, np.repeat(s, len(aa))]).T)[:,1], linestyle=\":\", c=c)\n",
    "plt.xlabel(\"age\"); plt.ylabel(\"cancer incidence\")\n",
    "plt.legend();"
   ]
  }
 ],
 "metadata": {
  "celltoolbar": "Slideshow",
  "kernelspec": {
   "display_name": "Python 3 (ipykernel)",
   "language": "python",
   "name": "python3"
  },
  "language_info": {
   "codemirror_mode": {
    "name": "ipython",
    "version": 3
   },
   "file_extension": ".py",
   "mimetype": "text/x-python",
   "name": "python",
   "nbconvert_exporter": "python",
   "pygments_lexer": "ipython3",
   "version": "3.11.8"
  },
  "rise": {
   "scroll": true,
   "transition": "none"
  }
 },
 "nbformat": 4,
 "nbformat_minor": 5
}
