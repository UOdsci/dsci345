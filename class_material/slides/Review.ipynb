{
 "cells": [
  {
   "cell_type": "markdown",
   "id": "202599bf",
   "metadata": {
    "slideshow": {
     "slide_type": "slide"
    }
   },
   "source": [
    "# Review\n",
    "\n",
    "Peter Ralph\n",
    "\n",
    "https://uodsci.github.io/dsci345"
   ]
  },
  {
   "cell_type": "code",
   "execution_count": 1,
   "id": "733bfdf0",
   "metadata": {
    "slideshow": {
     "slide_type": "skip"
    }
   },
   "outputs": [],
   "source": [
    "import matplotlib\n",
    "import matplotlib.pyplot as plt\n",
    "matplotlib.rcParams['figure.figsize'] = (15, 8)\n",
    "import numpy as np\n",
    "import pandas as pd\n",
    "import patsy\n",
    "from dsci345 import pretty\n",
    "\n",
    "rng = np.random.default_rng()"
   ]
  },
  {
   "cell_type": "markdown",
   "id": "88ec5c59",
   "metadata": {
    "slideshow": {
     "slide_type": "skip"
    }
   },
   "source": [
    "$$\\renewcommand{\\P}{\\mathbb{P}} \\newcommand{\\E}{\\mathbb{E}} \\newcommand{\\var}{\\text{var}} \\newcommand{\\sd}{\\text{sd}} \\newcommand{\\cov}{\\text{cov}} \\newcommand{\\cor}{\\text{cor}}$$\n",
    "This is here so we can use `\\P` and `\\E` and `\\var` and `\\cov` and `\\cor` and `\\sd` in LaTeX below."
   ]
  },
  {
   "cell_type": "markdown",
   "id": "c676a4b3",
   "metadata": {
    "slideshow": {
     "slide_type": "slide"
    }
   },
   "source": [
    "# Uncertainty: (how to) deal with it"
   ]
  },
  {
   "cell_type": "markdown",
   "id": "480e39af",
   "metadata": {
    "slideshow": {
     "slide_type": "subslide"
    }
   },
   "source": [
    "When we're doing data science, we\n",
    "\n",
    "- look at data\n",
    "- make predictions about future values\n",
    "- infer aspects of the underlying process"
   ]
  },
  {
   "cell_type": "markdown",
   "id": "3b92b271",
   "metadata": {
    "slideshow": {
     "slide_type": "fragment"
    }
   },
   "source": [
    "Fundamental to all stages are *randomness* and *uncertainty*."
   ]
  },
  {
   "cell_type": "markdown",
   "id": "441bbb54",
   "metadata": {
    "slideshow": {
     "slide_type": "fragment"
    }
   },
   "source": [
    "*For instance:* randomized algorithms (e.g., stochastic gradient descent)."
   ]
  },
  {
   "cell_type": "markdown",
   "id": "351645e3",
   "metadata": {
    "slideshow": {
     "slide_type": "subslide"
    }
   },
   "source": [
    "*For instance:*\n",
    "\n",
    "Computing **a statistic**\n",
    "gives you a number that describes a data set."
   ]
  },
  {
   "cell_type": "markdown",
   "id": "e000a471",
   "metadata": {
    "slideshow": {
     "slide_type": "fragment"
    }
   },
   "source": [
    "**Doing statistics** helps you understand\n",
    "how reliable that description is\n",
    "and how well it applies to the wider world."
   ]
  },
  {
   "cell_type": "markdown",
   "id": "543a708e",
   "metadata": {
    "slideshow": {
     "slide_type": "fragment"
    }
   },
   "source": [
    "We understand uncertainty, conceptually and quantitatively,\n",
    "with **randomness**,\n",
    "\n",
    "i.e., through *probability*."
   ]
  },
  {
   "cell_type": "markdown",
   "id": "e6dd70a8",
   "metadata": {
    "slideshow": {
     "slide_type": "subslide"
    }
   },
   "source": [
    "## Goals of this class\n",
    "\n",
    "- Become familiar with different types of probability models.\n",
    "\n",
    "- Calculate properties of probability models.\n",
    "\n",
    "- Construct and simulate from realistic models of data generation.\n",
    "\n",
    "- Be able to test estimation and prediction methods with simulation.\n",
    "\n",
    "- Gain familiarity with fundamental statistical concepts."
   ]
  },
  {
   "cell_type": "markdown",
   "id": "1268baa5",
   "metadata": {
    "slideshow": {
     "slide_type": "fragment"
    }
   },
   "source": [
    "We'll spend a lot of time on *probability models*,\n",
    "for applications from classical statistics\n",
    "to machine learning."
   ]
  },
  {
   "cell_type": "markdown",
   "id": "6545d86e",
   "metadata": {
    "slideshow": {
     "slide_type": "slide"
    }
   },
   "source": [
    "# Tools: Distributions"
   ]
  },
  {
   "cell_type": "markdown",
   "id": "352a2806",
   "metadata": {
    "slideshow": {
     "slide_type": "subslide"
    }
   },
   "source": [
    "- Uniform\n",
    "- Exponential\n",
    "- Normal\n",
    "- multivariate Normal\n",
    "- Binomial\n",
    "- Gamma\n",
    "- Student's $t$\n",
    "- Beta\n",
    "- Cauchy"
   ]
  },
  {
   "cell_type": "markdown",
   "id": "10e1576c",
   "metadata": {
    "slideshow": {
     "slide_type": "slide"
    }
   },
   "source": [
    "# Probability and Random Variables"
   ]
  },
  {
   "cell_type": "markdown",
   "id": "b9265ddd",
   "metadata": {
    "slideshow": {
     "slide_type": "subslide"
    }
   },
   "source": [
    "- probability rules: like area\n",
    "- rules for means and variances\n",
    "- algebra with random variables: $$ \\mathbb{E}[f(X)] = \\sum_x \\mathbb{P}\\{X=x\\} f(x) $$\n",
    "- independence\n",
    "- means minimize sum-of-squared-errors\n",
    "- covariance and correlation"
   ]
  },
  {
   "cell_type": "markdown",
   "id": "bc9e3cd8",
   "metadata": {
    "slideshow": {
     "slide_type": "subslide"
    }
   },
   "source": [
    "## Modeling:\n",
    "\n",
    "- Central Limit Theorem: sums of little things gets you Normals\n",
    "- rare events gets you Poisson counts and Exponential waiting times\n",
    "\n",
    "Linear models:\n",
    "- the usual\n",
    "- Poisson-exponential\n",
    "- Binomial-logistic\n",
    "- robust\n",
    "- nonlinear linear models"
   ]
  },
  {
   "cell_type": "markdown",
   "id": "85f8de8e",
   "metadata": {
    "slideshow": {
     "slide_type": "subslide"
    }
   },
   "source": [
    "## Model fitting:\n",
    "\n",
    "- method of moments\n",
    "- maximum likelihood\n",
    "- penalized (or, regularized) likelihood"
   ]
  },
  {
   "cell_type": "markdown",
   "id": "b5eaa92d",
   "metadata": {
    "slideshow": {
     "slide_type": "subslide"
    }
   },
   "source": [
    "## Statistics\n",
    "\n",
    "- sampling distributions\n",
    "- standard errors\n",
    "- the $t$ distribution\n",
    "- confidence intervals\n",
    "- heteroskedasticity\n"
   ]
  },
  {
   "cell_type": "markdown",
   "id": "98c1ee37",
   "metadata": {
    "slideshow": {
     "slide_type": "subslide"
    }
   },
   "source": [
    "## Methods\n",
    "\n",
    "- PCA\n",
    "- diagnostics for linear models\n",
    "- transformations\n",
    "- crossvalidation\n",
    "- the bootstrap\n",
    "- the other bootstrap"
   ]
  },
  {
   "cell_type": "markdown",
   "id": "eb44cc09",
   "metadata": {
    "slideshow": {
     "slide_type": "slide"
    }
   },
   "source": [
    "# Details"
   ]
  },
  {
   "cell_type": "markdown",
   "id": "d2d8b141",
   "metadata": {
    "slideshow": {
     "slide_type": "subslide"
    }
   },
   "source": [
    "Relationships:\n",
    "\n",
    "Definition(s) of variance:\n",
    "$$ \\var[X] = \\E[(X - \\E[X])^2] = \\E[X^2] - \\E[X]^2  $$\n",
    "and covariance:\n",
    "$$ \\cov[X,Y] = \\E[XY] - \\E[X] \\E[Y] $$\n",
    "and correlation:\n",
    "$$ \\cor[X,Y] = \\frac{\\cov[X,Y]}{\\sqrt{\\var[X]\\var[Y]}} .$$\n",
    "\n",
    "If $X$ and $Y$ are independent:\n",
    "$$ \\E[XY] = \\E[X] \\E[Y] $$\n",
    "and so\n",
    "$$ \\var[X + Y] = \\var[X] + \\var[Y]. $$\n",
    "\n",
    "*Bilinearity of covariance:*\n",
    "$$ \\cov[a X + Y, Z] = a \\cov[X, Z] + \\cov[Y, Z] . $$\n",
    "\n",
    "*Law of total variance:*\n",
    "$$ \\var[X] = \\var[\\E[X|Y]] + \\E[\\var[X|Y]] . $$"
   ]
  }
 ],
 "metadata": {
  "celltoolbar": "Slideshow",
  "kernelspec": {
   "display_name": "Python 3 (ipykernel)",
   "language": "python",
   "name": "python3"
  },
  "language_info": {
   "codemirror_mode": {
    "name": "ipython",
    "version": 3
   },
   "file_extension": ".py",
   "mimetype": "text/x-python",
   "name": "python",
   "nbconvert_exporter": "python",
   "pygments_lexer": "ipython3",
   "version": "3.11.8"
  },
  "rise": {
   "scroll": true,
   "transition": "none"
  }
 },
 "nbformat": 4,
 "nbformat_minor": 5
}
