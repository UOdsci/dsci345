{
 "cells": [
  {
   "cell_type": "markdown",
   "id": "202599bf",
   "metadata": {
    "slideshow": {
     "slide_type": "slide"
    }
   },
   "source": [
    "# Looking back: a review\n",
    "\n",
    "Fall 2022: Peter Ralph\n",
    "\n",
    "https://uodsci.github.io/dsci345"
   ]
  },
  {
   "cell_type": "code",
   "execution_count": 1,
   "id": "733bfdf0",
   "metadata": {
    "slideshow": {
     "slide_type": "skip"
    }
   },
   "outputs": [],
   "source": [
    "import matplotlib\n",
    "import matplotlib.pyplot as plt\n",
    "matplotlib.rcParams['figure.figsize'] = (15, 8)\n",
    "import numpy as np\n",
    "import pandas as pd\n",
    "\n",
    "rng = np.random.default_rng()"
   ]
  },
  {
   "cell_type": "markdown",
   "id": "88ec5c59",
   "metadata": {
    "slideshow": {
     "slide_type": "skip"
    }
   },
   "source": [
    "$$\\renewcommand{\\P}{\\mathbb{P}} \\newcommand{\\E}{\\mathbb{E}} \\newcommand{\\var}{\\text{var}} \\newcommand{\\sd}{\\text{sd}}$$\n",
    "This is here so we can use `\\P` and `\\E` and `\\var` and `\\sd` in LaTeX below."
   ]
  },
  {
   "cell_type": "markdown",
   "id": "703b4210",
   "metadata": {
    "slideshow": {
     "slide_type": "slide"
    }
   },
   "source": [
    "# Distribution roundup"
   ]
  },
  {
   "cell_type": "markdown",
   "id": "cd0b6d48",
   "metadata": {
    "slideshow": {
     "slide_type": "subslide"
    }
   },
   "source": [
    "- *Bernoulli:* $X \\in \\{0, 1\\}$ and $X = 1$ with probability $p$:\n",
    "    (*flipping coins; random trials*)\n",
    "    ```\n",
    "    rng.random() < p\n",
    "    ```\n",
    "\n",
    "- *Binomial:* $0 \\le X \\le n$:\n",
    "    (*number of sucesses in $n$ independent trials if probaiblity of success is $p$*)\n",
    "    ```\n",
    "    rng.binomial(n=n, p=p)\n",
    "    ```\n",
    "\n",
    "- *Normal:* $- \\infty < X < \\infty$, has mean $\\mu$ and SD $\\sigma$:\n",
    "    (*sums of many independent things of similar size*)\n",
    "    ```\n",
    "    rng.normal(loc=mu, scale=sigma)\n",
    "    ```\n",
    "    \n",
    "- *Poisson:* $X \\in \\{0, 1, 2, 3, \\ldots\\}$:\n",
    "    (*number of rare events*)\n",
    "    ```\n",
    "    rng.poisson(lam=mu)\n",
    "    ```\n",
    "\n",
    "- *Exponential:* $X \\ge 0$, and $\\P\\{X > x\\} = \\exp(-\\theta x)$:\n",
    "    (*waiting times, distributions piled up near zero*)\n",
    "    ```\n",
    "    rng.exponential(scale=theta)\n",
    "    ```\n",
    "\n",
    "- *Gamma:* $X \\ge 0$, with $\\text{shape}=k$ is the sum of $k$ Exponentials:\n",
    "    (*waiting times, nonnegative numbers*)\n",
    "    ```\n",
    "    rng.gamma(shape=k, scale=theta)\n",
    "    ```"
   ]
  },
  {
   "cell_type": "markdown",
   "id": "e2f3d0ed",
   "metadata": {
    "slideshow": {
     "slide_type": "subslide"
    }
   },
   "source": [
    "## On computation\n",
    "\n",
    "\n",
    "For continuous distributions - probability density function (*pdf*):\n",
    "```\n",
    "from scipy.stats import normal\n",
    "normal.pdf( )\n",
    "```\n",
    "\n",
    "For discrete distribution - probability mass function (*pmf*):\n",
    "```\n",
    "from scipy.stats import binomial\n",
    "binomial.pmf( )\n",
    "```\n",
    "\n",
    "Either - cumulative distribution function (*cdf*):\n",
    "```\n",
    "normal.cdf( )\n",
    "binomial.cdf( )\n",
    "```"
   ]
  },
  {
   "cell_type": "markdown",
   "id": "daaf3643",
   "metadata": {
    "slideshow": {
     "slide_type": "slide"
    }
   },
   "source": [
    "# Mathematics of probability"
   ]
  },
  {
   "cell_type": "markdown",
   "id": "fb0affae",
   "metadata": {
    "slideshow": {
     "slide_type": "subslide"
    }
   },
   "source": [
    "Probability can be thought of as relative *area*, and so:\n",
    "\n",
    "0. *Probabilities are proportions:* $\\hspace{2em} 0 \\le \\P\\{A\\} \\le 1$\n",
    "\n",
    "1. *Everything:* $\\hspace{2em} \\P\\{ \\Omega \\} = 1$\n",
    "\n",
    "2. *Complements:* $\\hspace{2em} \\P\\{ \\text{not } A\\} = 1 - \\P\\{A\\}$\n",
    "\n",
    "3. *Disjoint events:* If $\\hspace{2em} \\P\\{A \\text{ and } B\\} = 0$\n",
    "    then $\\hspace{2em} \\P\\{A \\text{ or } B\\} = \\P\\{A\\} + \\P\\{B\\}$.\n",
    "\n",
    "4. *Independence:* $A$ and $B$ are independent iff $\\P\\{A \\text{ and } B\\} = \\P\\{A\\} \\P\\{B\\}$.\n",
    "\n",
    "5. *Conditional probability:* \n",
    "    $$\\P\\{A \\;|\\; B\\} = \\frac{\\P\\{A \\text{ and } B\\}}{ \\P\\{B\\} }$$"
   ]
  },
  {
   "cell_type": "markdown",
   "id": "3f35796c",
   "metadata": {
    "slideshow": {
     "slide_type": "subslide"
    }
   },
   "source": [
    "## Bayes' rule\n",
    "\n",
    "A consequence is that\n",
    "\n",
    "$$\\P\\{B \\;|\\; A\\} = \\frac{\\P\\{B\\} \\P\\{A \\;|\\; B\\}}{ \\P\\{A\\} } .$$"
   ]
  },
  {
   "cell_type": "markdown",
   "id": "45d74b92",
   "metadata": {
    "slideshow": {
     "slide_type": "subslide"
    }
   },
   "source": [
    "## Random variables\n",
    "\n",
    "The *mean* of $X$ is\n",
    "$$ \\E[X] = \\sum_x x \\P\\{X = x\\}, $$\n",
    "or, if $X$ has *probability density* $f_X(x)$,\n",
    "$$ \\E[X] = \\int x f_X(x) dx . $$\n",
    "\n",
    "The *variance* of $X$ is $\\sd[X]^2$ and\n",
    "$$ \\var[X] = \\E[X^2] - \\E[X]^2 .$$"
   ]
  },
  {
   "cell_type": "markdown",
   "id": "0bcb149b",
   "metadata": {
    "slideshow": {
     "slide_type": "fragment"
    }
   },
   "source": [
    "It is *always* true that\n",
    "$$ \\E[X + Y] = \\E[X] + \\E[Y] .$$"
   ]
  },
  {
   "cell_type": "markdown",
   "id": "b8bb9463",
   "metadata": {
    "slideshow": {
     "slide_type": "fragment"
    }
   },
   "source": [
    "If $X$ and $Y$ are *independent* then\n",
    "$$ \\var[X + Y] = \\var[X] + \\var[Y] . $$"
   ]
  },
  {
   "cell_type": "markdown",
   "id": "1f3822e3",
   "metadata": {
    "slideshow": {
     "slide_type": "subslide"
    }
   },
   "source": [
    "## Poisson limits\n",
    "\n",
    "If we have a large number of almost independent trials,\n",
    "then\n",
    "\n",
    "- the total number of successes is Poisson, and\n",
    "- the time$^*$ between successes is Exponential.\n",
    "\n",
    "$^*$ *measured in suitable units*"
   ]
  },
  {
   "cell_type": "markdown",
   "id": "7cb44916",
   "metadata": {
    "slideshow": {
     "slide_type": "subslide"
    }
   },
   "source": [
    "## Central limits\n",
    "\n",
    "If $X_1, \\ldots, X_n$ are independent\n",
    "with mean $\\mu$ and SD $\\sigma$\n",
    "then\n",
    "$$  \\frac{1}{n} \\left( X_1 + \\cdots + X_n \\right) \\approx \\text{Normal}(\\mu, \\sigma/\\sqrt{n}) . $$"
   ]
  },
  {
   "cell_type": "markdown",
   "id": "b5a5f168",
   "metadata": {
    "slideshow": {
     "slide_type": "subslide"
    }
   },
   "source": [
    "## Facts about Normals\n",
    "\n",
    "1. If $a$ and $b$ are numbers and $X \\sim \\text{Normal}(\\mu, \\sigma)$\n",
    "    then\n",
    "    $$ aX + b \\sim \\text{Normal}(a \\mu + b, a\\sigma) . $$\n",
    "\n",
    "2. If $X \\sim \\text{Normal}(\\mu_X, \\sigma_X)$ and $Y \\sim \\text{Normal}(\\mu_Y, \\sigma_Y)$\n",
    "    are independent then\n",
    "    $$ X + Y \\sim \\text{Normal}(\\mu_X + \\mu_Y, \\sqrt{\\sigma_X^2 + \\sigma_Y^2}) . $$"
   ]
  },
  {
   "cell_type": "markdown",
   "id": "cfff2fea",
   "metadata": {
    "slideshow": {
     "slide_type": "subslide"
    }
   },
   "source": [
    "## $t$ statistics\n",
    "\n",
    "Also thanks to the Central Limit Theorem,\n",
    "if \n",
    "\n",
    "- $X_1, \\ldots, X_n$ are a bunch of independent samples from some distribution with mean $\\mu$,\n",
    "- $\\bar X$ is the sample mean, and\n",
    "- $S$ is the sample standard deviation,\n",
    "\n",
    "then the difference between the sample mean and $\\mu$, in units of $S$:\n",
    "$$  T = \\frac{\\bar X - \\mu}{S/\\sqrt{n}}  $$\n",
    "has, approximately$^*$, [Student's t distribution](https://en.wikipedia.org/wiki/Student%27s_t-distribution)\n",
    "with $n-2$ degrees of freedom."
   ]
  },
  {
   "cell_type": "markdown",
   "id": "2c940696",
   "metadata": {
    "slideshow": {
     "slide_type": "slide"
    }
   },
   "source": [
    "# Concepts"
   ]
  },
  {
   "cell_type": "markdown",
   "id": "0865f4df",
   "metadata": {
    "slideshow": {
     "slide_type": "subslide"
    }
   },
   "source": [
    "## Method of moments\n",
    "\n",
    "To fit a distribution to data with the method of moments,\n",
    "\n",
    "1. Pick a particular form of the distribution.\n",
    "2. Choose parameter values for the distribution so that the \"moments\" (e.g., the mean) match."
   ]
  },
  {
   "cell_type": "markdown",
   "id": "8fd6a631",
   "metadata": {
    "slideshow": {
     "slide_type": "subslide"
    }
   },
   "source": [
    "## Maximum likelihood\n",
    "\n",
    "To fit a model by *maximum likelihood*:\n",
    "\n",
    "1. formulate a generative model that seems likely to fit the data\n",
    "    with some free parameters\n",
    "    that describe what we want to know about,\n",
    "2. write down the *likelihood* (i.e., probability) of generating *our actual data*\n",
    "    as a function of the parameter(s), and\n",
    "3. choose the parameter values the make the data look most probable."
   ]
  },
  {
   "cell_type": "markdown",
   "id": "92d2362d",
   "metadata": {
    "slideshow": {
     "slide_type": "subslide"
    }
   },
   "source": [
    "## The $p$-value\n",
    "\n",
    "is\n",
    "\n",
    "> the probability of seeing a result\n",
    "> at least as surprising as what we observed in the data,\n",
    "> if the null hypothesis is true."
   ]
  },
  {
   "cell_type": "markdown",
   "id": "c2de0cd0",
   "metadata": {
    "slideshow": {
     "slide_type": "fragment"
    }
   },
   "source": [
    "The parts of this are:\n",
    "\n",
    "- *the probability ... if the null hypothesis is true*:\n",
    "    we need a concrete model we can compute probabilities with\n",
    "\n",
    "- *a result*: a statistic summarizing how strongly our data suggest that model is *not* right\n",
    "\n",
    "- *at least as surprising*: usually, the statistic is chosen so that larger values are more surprising"
   ]
  },
  {
   "cell_type": "markdown",
   "id": "4f3b1948",
   "metadata": {
    "slideshow": {
     "slide_type": "subslide"
    }
   },
   "source": [
    "## Confidence intervals\n",
    "\n",
    "A 95% confidence interval for the sample mean is\n",
    "$$ \\text{from}\\quad \\bar x - t_* s / \\sqrt{n} \\quad \\text{to} \\quad \\bar x + t_* s / \\sqrt{n}, $$\n",
    "where $\\P\\{t < t_*\\} = 0.975$.\n",
    "\n",
    "Across many such confidence intervals constructed on many datasets of independent samples,\n",
    "the true mean will fall within the confidence interval 95% of the time."
   ]
  },
  {
   "cell_type": "markdown",
   "id": "a0d6bfc2",
   "metadata": {
    "slideshow": {
     "slide_type": "slide"
    }
   },
   "source": [
    "# A simulation problem\n",
    "\n",
    "Let's say we make a random number as follows:\n",
    "shuffle a deck of cards and draw the first card,\n",
    "and add the number on the card to your total.\n",
    "(A=1, J=11, Q=12, and K=13)\n",
    "Draw another card: if it is the same suit as the first, add it to your total.\n",
    "Continue until you get a card of a different suit.\n",
    "\n",
    "1. Write a function to simulate from this\n",
    "    and use it to make a histogram of the distribution.\n",
    "\n",
    "2. What is the largest possible value?\n",
    "    What is the probability of getting this largest value?"
   ]
  },
  {
   "cell_type": "code",
   "execution_count": 30,
   "id": "24a57f30",
   "metadata": {},
   "outputs": [
    {
     "data": {
      "text/plain": [
       "10"
      ]
     },
     "execution_count": 30,
     "metadata": {},
     "output_type": "execute_result"
    }
   ],
   "source": [
    "\n",
    "\n",
    "def sim_cards():\n",
    "    deck = [\n",
    "        (num, suit)\n",
    "        for num in range(1, 14)\n",
    "        for suit in np.arange(4)\n",
    "    ]\n",
    "    # shuffle the deck\n",
    "    deck = rng.choice(deck, replace=False, size=52)\n",
    "    j = 0\n",
    "    card = deck[j]\n",
    "    total = card[0]\n",
    "    # print(f\"First card: {card}; total: {total}\")\n",
    "    while j < 52:\n",
    "        next_card = deck[j+1]\n",
    "        # print(f\"Next card: {next_card}; total: {total}\")\n",
    "        if next_card[1] != card[1]:\n",
    "            break\n",
    "        else:\n",
    "            total += next_card[0]\n",
    "        j += 1\n",
    "    return total\n",
    "\n",
    "sim_cards()"
   ]
  },
  {
   "cell_type": "code",
   "execution_count": 33,
   "id": "db9e3705",
   "metadata": {},
   "outputs": [
    {
     "data": {
      "text/plain": [
       "(array([6.000e+02, 1.158e+03, 1.225e+03, 1.334e+03, 1.373e+03, 1.415e+03,\n",
       "        1.435e+03, 3.060e+02, 2.720e+02, 2.440e+02, 2.090e+02, 1.520e+02,\n",
       "        9.500e+01, 5.800e+01, 3.700e+01, 3.000e+01, 1.800e+01, 1.600e+01,\n",
       "        7.000e+00, 1.000e+00, 3.000e+00, 5.000e+00, 3.000e+00, 1.000e+00,\n",
       "        2.000e+00, 0.000e+00, 0.000e+00, 0.000e+00, 1.000e+00]),\n",
       " array([ 0.,  2.,  4.,  6.,  8., 10., 12., 14., 16., 18., 20., 22., 24.,\n",
       "        26., 28., 30., 32., 34., 36., 38., 40., 42., 44., 46., 48., 50.,\n",
       "        52., 54., 56., 58.]),\n",
       " <BarContainer object of 29 artists>)"
      ]
     },
     "execution_count": 33,
     "metadata": {},
     "output_type": "execute_result"
    },
    {
     "data": {
      "image/png": "[encoded data removed]",
      "text/plain": [
       "<Figure size 1500x800 with 1 Axes>"
      ]
     },
     "metadata": {},
     "output_type": "display_data"
    }
   ],
   "source": [
    "values = [sim_cards() for _ in range(10000)]\n",
    "from dsci345 import pretty\n",
    "\n",
    "plt.hist(values, bins=pretty(values, 40));"
   ]
  },
  {
   "cell_type": "markdown",
   "id": "462bf3b3",
   "metadata": {},
   "source": [
    "The largest possible value is 91,\n",
    "and the chance of getting this value is\n",
    "$$\n",
    "   \\frac{12}{51} \\times \\frac{11}{50} \\times \\cdots \\frac{1}{40}\n",
    "   \\approx 2.12 \\times 10^{-10}\n",
    "$$"
   ]
  },
  {
   "cell_type": "markdown",
   "id": "23a330e7",
   "metadata": {
    "slideshow": {
     "slide_type": "slide"
    }
   },
   "source": [
    "# A new distribution\n",
    "\n",
    "Suppose we have a coin that comes up heads with probability $p$\n",
    "(and tails with probability $1-p$).\n",
    "Let $X$ be the number of times we have to flip the coin until the $k$-th heads.\n",
    "Then, $X$ has the *negative binomial* distribution.\n",
    "\n",
    "1. Write a function to simulate from this distribution\n",
    "    following this description.\n",
    "\n",
    "2. Check your function by simulating at least 10,000 random draws\n",
    "    with $k=3$ and $p=0.3$,\n",
    "    and making a table comparing the observed and expected proportions of these draws that are $n$\n",
    "    for each $0 \\le n \\le 20$."
   ]
  },
  {
   "cell_type": "code",
   "execution_count": null,
   "id": "d84d8284",
   "metadata": {},
   "outputs": [],
   "source": []
  },
  {
   "cell_type": "markdown",
   "id": "c7d14906",
   "metadata": {
    "slideshow": {
     "slide_type": "slide"
    }
   },
   "source": [
    "# Tips\n",
    "\n",
    "The amount of money a barista gets in tips each day has a mean \\\\$52 and an SD of \\\\$15.\n",
    "Over 8 weeks of 5-day work weeks,\n",
    "what is the mean and SD of the total amount of tips will they have got?\n",
    "Assuming the tips each day are independent,\n",
    "estimate the probability that the total amount of tips exceeds \\\\$2,300."
   ]
  },
  {
   "cell_type": "markdown",
   "id": "a64a858c",
   "metadata": {},
   "source": [
    "The mean amount of tips is\n",
    "$ 40 \\times \\$52 = \\$2,080.$\n",
    "and the variance is\n",
    "$ 40 \\times 15^2 = 9000$,\n",
    "so the standard deviation is\n",
    "$ \\sqrt{9000} = \\$94.86$.\n"
   ]
  },
  {
   "cell_type": "markdown",
   "id": "50988816",
   "metadata": {},
   "source": [
    "Since we're adding up lots of independent things\n",
    "(the \"things\" are the amount of tips in each day)\n",
    "we can use the normal approximation, so:"
   ]
  },
  {
   "cell_type": "code",
   "execution_count": 65,
   "id": "3dbebcd4",
   "metadata": {},
   "outputs": [
    {
     "data": {
      "text/plain": [
       "0.010191900701979173"
      ]
     },
     "execution_count": 65,
     "metadata": {},
     "output_type": "execute_result"
    }
   ],
   "source": [
    "from scipy.stats import norm\n",
    "1 - norm.cdf(2300, loc=2080, scale=94.86)"
   ]
  },
  {
   "cell_type": "markdown",
   "id": "0220e2d9",
   "metadata": {
    "slideshow": {
     "slide_type": "slide"
    }
   },
   "source": [
    "## Fitting an exponential\n",
    "\n",
    "Suppose that we have 20 independent observations:\n",
    "```\n",
    "2.51, 44.16,  6.1 , 42.4,  3.49,  1.62, 25.37, 50.58, 41.11, 15.25,\n",
    "6.64,  6.54, 14.64,  7.33,  7.11, 61.53, 7.26, 13.34,  1.88, 10.67\n",
    "```\n",
    "Make up a story that could have produced these numbers,\n",
    "and then use maximum likelihood to fit an Exponential distribution to these data."
   ]
  },
  {
   "cell_type": "code",
   "execution_count": 46,
   "id": "675cdcb6",
   "metadata": {},
   "outputs": [
    {
     "data": {
      "text/plain": [
       "(array([10.,  2.,  2.,  1.,  0.,  0.,  2.,  1.,  1.,  1.]),\n",
       " array([ 1.62 ,  7.611, 13.602, 19.593, 25.584, 31.575, 37.566, 43.557,\n",
       "        49.548, 55.539, 61.53 ]),\n",
       " <BarContainer object of 10 artists>)"
      ]
     },
     "execution_count": 46,
     "metadata": {},
     "output_type": "execute_result"
    },
    {
     "data": {
      "image/png": "[encoded data removed]",
      "text/plain": [
       "<Figure size 1500x800 with 1 Axes>"
      ]
     },
     "metadata": {},
     "output_type": "display_data"
    }
   ],
   "source": [
    "x = [2.51, 44.16,  6.1 , 42.4,  3.49,  1.62, 25.37, 50.58, 41.11, 15.25,\n",
    "    6.64,  6.54, 14.64,  7.33,  7.11, 61.53, 7.26, 13.34,  1.88, 10.67]\n",
    "plt.hist(x)"
   ]
  },
  {
   "cell_type": "code",
   "execution_count": 56,
   "id": "73355361",
   "metadata": {},
   "outputs": [],
   "source": [
    "# 1. write a log-likelihood function\n",
    "from scipy.stats import expon\n",
    "\n",
    "def log_likelihood(scale):\n",
    "    return np.sum(expon.logpdf(x, scale=scale))"
   ]
  },
  {
   "cell_type": "code",
   "execution_count": 57,
   "id": "658e660f",
   "metadata": {},
   "outputs": [
    {
     "data": {
      "text/plain": [
       "-145.14891244002885"
      ]
     },
     "execution_count": 57,
     "metadata": {},
     "output_type": "execute_result"
    }
   ],
   "source": [
    "log_likelihood(3)"
   ]
  },
  {
   "cell_type": "code",
   "execution_count": 59,
   "id": "6560a5f9",
   "metadata": {},
   "outputs": [
    {
     "data": {
      "image/png": "[encoded data removed]",
      "text/plain": [
       "<Figure size 1500x800 with 1 Axes>"
      ]
     },
     "metadata": {},
     "output_type": "display_data"
    }
   ],
   "source": [
    "xvals = np.linspace(5, 40, 101)\n",
    "lvals = [log_likelihood(a) for a in xvals]\n",
    "plt.plot(xvals, lvals)\n",
    "plt.xlabel(\"scale parameter\")\n",
    "plt.ylabel(\"log-likelihood\");"
   ]
  },
  {
   "cell_type": "code",
   "execution_count": 61,
   "id": "c102c339",
   "metadata": {},
   "outputs": [
    {
     "data": {
      "text/plain": [
       "      fun: 78.32999308675163\n",
       " hess_inv: array([[16.95651328]])\n",
       "      jac: array([-9.53674316e-07])\n",
       "  message: 'Optimization terminated successfully.'\n",
       "     nfev: 18\n",
       "      nit: 8\n",
       "     njev: 9\n",
       "   status: 0\n",
       "  success: True\n",
       "        x: array([18.47647761])"
      ]
     },
     "execution_count": 61,
     "metadata": {},
     "output_type": "execute_result"
    }
   ],
   "source": [
    "import scipy\n",
    "\n",
    "def f(scale):\n",
    "    return -1 * log_likelihood(scale)\n",
    "\n",
    "scipy.optimize.minimize(\n",
    "    f,\n",
    "    10\n",
    ")"
   ]
  },
  {
   "cell_type": "markdown",
   "id": "42a072cc",
   "metadata": {},
   "source": [
    "The maximum likelihood estimate for the scale parameter on the Exponential\n",
    "is 18.5."
   ]
  },
  {
   "cell_type": "markdown",
   "id": "4e44dd3d",
   "metadata": {
    "slideshow": {
     "slide_type": "slide"
    }
   },
   "source": [
    "# The beta distribution: introduction"
   ]
  },
  {
   "cell_type": "code",
   "execution_count": 39,
   "id": "4add57c1",
   "metadata": {},
   "outputs": [
    {
     "data": {
      "text/plain": [
       "array([0.70247288, 0.06706727, 0.98810507, 0.32376168, 0.35145546,\n",
       "       0.13162128, 0.30439685, 0.36214   , 0.99997619, 0.75311264])"
      ]
     },
     "execution_count": 39,
     "metadata": {},
     "output_type": "execute_result"
    }
   ],
   "source": [
    "rng.beta(a=0.5, b=0.5,size=10)"
   ]
  },
  {
   "cell_type": "code",
   "execution_count": 41,
   "id": "43ca62fe",
   "metadata": {},
   "outputs": [
    {
     "data": {
      "image/png": "[encoded data removed]",
      "text/plain": [
       "<Figure size 1500x800 with 1 Axes>"
      ]
     },
     "metadata": {},
     "output_type": "display_data"
    }
   ],
   "source": [
    "x = rng.beta(a=0.5, b=0.5,size=100000)\n",
    "plt.hist(x, bins=40);"
   ]
  },
  {
   "cell_type": "code",
   "execution_count": 42,
   "id": "63fc1c9c",
   "metadata": {},
   "outputs": [
    {
     "data": {
      "image/png": "[encoded data removed]",
      "text/plain": [
       "<Figure size 1500x800 with 1 Axes>"
      ]
     },
     "metadata": {},
     "output_type": "display_data"
    }
   ],
   "source": [
    "x = rng.beta(a=5, b=5,size=100000)\n",
    "plt.hist(x, bins=40);"
   ]
  },
  {
   "cell_type": "code",
   "execution_count": 45,
   "id": "22984c0f",
   "metadata": {},
   "outputs": [
    {
     "data": {
      "text/plain": [
       "Text(0, 0.5, 'density of a Beta distribution')"
      ]
     },
     "execution_count": 45,
     "metadata": {},
     "output_type": "execute_result"
    },
    {
     "data": {
      "image/png": "[encoded data removed]",
      "text/plain": [
       "<Figure size 1500x800 with 1 Axes>"
      ]
     },
     "metadata": {},
     "output_type": "display_data"
    }
   ],
   "source": [
    "from scipy.stats import beta\n",
    "xvals = np.linspace(0, 1, 101)\n",
    "fx = [beta.pdf(x, a=5, b=1) for x in xvals]\n",
    "\n",
    "plt.plot(xvals, fx);\n",
    "plt.xlabel(\"value\")\n",
    "plt.ylabel(\"density of a Beta distribution\");"
   ]
  },
  {
   "cell_type": "code",
   "execution_count": 38,
   "id": "7c698442",
   "metadata": {},
   "outputs": [
    {
     "name": "stdout",
     "output_type": "stream",
     "text": [
      "Help on built-in function beta:\n",
      "\n",
      "beta(...) method of numpy.random._generator.Generator instance\n",
      "    beta(a, b, size=None)\n",
      "    \n",
      "    Draw samples from a Beta distribution.\n",
      "    \n",
      "    The Beta distribution is a special case of the Dirichlet distribution,\n",
      "    and is related to the Gamma distribution.  It has the probability\n",
      "    distribution function\n",
      "    \n",
      "    .. math:: f(x; a,b) = \\frac{1}{B(\\alpha, \\beta)} x^{\\alpha - 1}\n",
      "                                                     (1 - x)^{\\beta - 1},\n",
      "    \n",
      "    where the normalization, B, is the beta function,\n",
      "    \n",
      "    .. math:: B(\\alpha, \\beta) = \\int_0^1 t^{\\alpha - 1}\n",
      "                                 (1 - t)^{\\beta - 1} dt.\n",
      "    \n",
      "    It is often seen in Bayesian inference and order statistics.\n",
      "    \n",
      "    Parameters\n",
      "    ----------\n",
      "    a : float or array_like of floats\n",
      "        Alpha, positive (>0).\n",
      "    b : float or array_like of floats\n",
      "        Beta, positive (>0).\n",
      "    size : int or tuple of ints, optional\n",
      "        Output shape.  If the given shape is, e.g., ``(m, n, k)``, then\n",
      "        ``m * n * k`` samples are drawn.  If size is ``None`` (default),\n",
      "        a single value is returned if ``a`` and ``b`` are both scalars.\n",
      "        Otherwise, ``np.broadcast(a, b).size`` samples are drawn.\n",
      "    \n",
      "    Returns\n",
      "    -------\n",
      "    out : ndarray or scalar\n",
      "        Drawn samples from the parameterized beta distribution.\n",
      "\n"
     ]
    }
   ],
   "source": [
    "help(rng.beta)"
   ]
  }
 ],
 "metadata": {
  "celltoolbar": "Slideshow",
  "kernelspec": {
   "display_name": "Python 3 (ipykernel)",
   "language": "python",
   "name": "python3"
  },
  "language_info": {
   "codemirror_mode": {
    "name": "ipython",
    "version": 3
   },
   "file_extension": ".py",
   "mimetype": "text/x-python",
   "name": "python",
   "nbconvert_exporter": "python",
   "pygments_lexer": "ipython3",
   "version": "3.9.9"
  },
  "rise": {
   "scroll": true,
   "transition": "none"
  }
 },
 "nbformat": 4,
 "nbformat_minor": 5
}
