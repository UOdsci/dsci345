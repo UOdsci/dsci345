{
 "cells": [
  {
   "cell_type": "markdown",
   "id": "202599bf",
   "metadata": {
    "slideshow": {
     "slide_type": "slide"
    }
   },
   "source": [
    "# Looking back: a review\n",
    "\n",
    "Fall 2022: Peter Ralph\n",
    "\n",
    "https://uodsci.github.io/dsci345"
   ]
  },
  {
   "cell_type": "code",
   "execution_count": 1,
   "id": "733bfdf0",
   "metadata": {
    "slideshow": {
     "slide_type": "skip"
    }
   },
   "outputs": [],
   "source": [
    "import matplotlib\n",
    "import matplotlib.pyplot as plt\n",
    "matplotlib.rcParams['figure.figsize'] = (15, 8)\n",
    "import numpy as np\n",
    "import pandas as pd\n",
    "\n",
    "rng = np.random.default_rng()"
   ]
  },
  {
   "cell_type": "markdown",
   "id": "88ec5c59",
   "metadata": {
    "slideshow": {
     "slide_type": "skip"
    }
   },
   "source": [
    "$$\\renewcommand{\\P}{\\mathbb{P}} \\newcommand{\\E}{\\mathbb{E}} \\newcommand{\\var}{\\text{var}} \\newcommand{\\sd}{\\text{sd}}$$\n",
    "This is here so we can use `\\P` and `\\E` and `\\var` and `\\sd` in LaTeX below."
   ]
  },
  {
   "cell_type": "markdown",
   "id": "9e3cc4bf",
   "metadata": {
    "slideshow": {
     "slide_type": "slide"
    }
   },
   "source": [
    "# Distribution roundup"
   ]
  },
  {
   "cell_type": "markdown",
   "id": "60605d61",
   "metadata": {
    "slideshow": {
     "slide_type": "subslide"
    }
   },
   "source": [
    "- *Bernoulli:* $X \\in \\{0, 1\\}$ and $X = 1$ with probability $p$:\n",
    "    (*flipping coins; random trials*)\n",
    "    ```\n",
    "    rng.random() < p\n",
    "    ```\n",
    "\n",
    "- *Binomial:* $0 \\le X \\le n$:\n",
    "    (*number of sucesses in $n$ independent trials if probaiblity of success is $p$*)\n",
    "    ```\n",
    "    rng.binomial(n=n, p=p)\n",
    "    ```\n",
    "\n",
    "- *Normal:* $- \\infty < X < \\infty$, has mean $\\mu$ and SD $\\sigma$:\n",
    "    (*sums of many independent things of similar size*)\n",
    "    ```\n",
    "    rng.normal(loc=mu, scale=sigma)\n",
    "    ```\n",
    "    \n",
    "- *Poisson:* $X \\in \\{0, 1, 2, 3, \\ldots\\}$:\n",
    "    (*number of rare events*)\n",
    "    ```\n",
    "    rng.poisson(lam=mu)\n",
    "    ```\n",
    "\n",
    "- *Exponential:* $X \\ge 0$, and $\\P\\{X > x\\} = \\exp(-\\theta x)$:\n",
    "    (*waiting times, distributions piled up near zero*)\n",
    "    ```\n",
    "    rng.exponential(scale=theta)\n",
    "    ```\n",
    "\n",
    "- *Gamma:* $X \\ge 0$, with $\\text{shape}=k$ is the sum of $k$ Exponentials:\n",
    "    (*waiting times, nonnegative numbers*)\n",
    "    ```\n",
    "    rng.gamma(shape=k, scale=theta)\n",
    "    ```"
   ]
  },
  {
   "cell_type": "markdown",
   "id": "bda2bfed",
   "metadata": {
    "slideshow": {
     "slide_type": "subslide"
    }
   },
   "source": [
    "## On computation\n",
    "\n",
    "\n",
    "For continuous distributions - probability density function (*pdf*):\n",
    "```\n",
    "from scipy.stats import normal\n",
    "normal.pdf( )\n",
    "```\n",
    "\n",
    "For discrete distribution - probability mass function (*pmf*):\n",
    "```\n",
    "from scipy.stats import binomial\n",
    "binomial.pmf( )\n",
    "```\n",
    "\n",
    "Either - cumulative distribution function (*cdf*):\n",
    "```\n",
    "normal.cdf( )\n",
    "binomial.cdf( )\n",
    "```"
   ]
  },
  {
   "cell_type": "markdown",
   "id": "e436e5a5",
   "metadata": {
    "slideshow": {
     "slide_type": "slide"
    }
   },
   "source": [
    "# Mathematics of probability"
   ]
  },
  {
   "cell_type": "markdown",
   "id": "226bfa3a",
   "metadata": {
    "slideshow": {
     "slide_type": "subslide"
    }
   },
   "source": [
    "Probability can be thought of as relative *area*, and so:\n",
    "\n",
    "0. *Probabilities are proportions:* $\\hspace{2em} 0 \\le \\P\\{A\\} \\le 1$\n",
    "\n",
    "1. *Everything:* $\\hspace{2em} \\P\\{ \\Omega \\} = 1$\n",
    "\n",
    "2. *Complements:* $\\hspace{2em} \\P\\{ \\text{not } A\\} = 1 - \\P\\{A\\}$\n",
    "\n",
    "3. *Disjoint events:* If $\\hspace{2em} \\P\\{A \\text{ and } B\\} = 0$\n",
    "    then $\\hspace{2em} \\P\\{A \\text{ or } B\\} = \\P\\{A\\} + \\P\\{B\\}$.\n",
    "\n",
    "4. *Independence:* $A$ and $B$ are independent iff $\\P\\{A \\text{ and } B\\} = \\P\\{A\\} \\P\\{B\\}$.\n",
    "\n",
    "5. *Conditional probability:* \n",
    "    $$\\P\\{A \\;|\\; B\\} = \\frac{\\P\\{A \\text{ and } B\\}}{ \\P\\{B\\} }$$"
   ]
  },
  {
   "cell_type": "markdown",
   "id": "8ad51284",
   "metadata": {
    "slideshow": {
     "slide_type": "subslide"
    }
   },
   "source": [
    "## Bayes' rule\n",
    "\n",
    "A consequence is that\n",
    "\n",
    "$$\\P\\{B \\;|\\; A\\} = \\frac{\\P\\{B\\} \\P\\{A \\;|\\; B\\}}{ \\P\\{A\\} } .$$"
   ]
  },
  {
   "cell_type": "markdown",
   "id": "a6d6c213",
   "metadata": {
    "slideshow": {
     "slide_type": "subslide"
    }
   },
   "source": [
    "## Random variables\n",
    "\n",
    "The *mean* of $X$ is\n",
    "$$ \\E[X] = \\sum_x x \\P\\{X = x\\}, $$\n",
    "or, if $X$ has *probability density* $f_X(x)$,\n",
    "$$ \\E[X] = \\int x f_X(x) dx . $$\n",
    "\n",
    "The *variance* of $X$ is $\\sd[X]^2$ and\n",
    "$$ \\var[X] = \\E[X^2] - \\E[X]^2 .$$"
   ]
  },
  {
   "cell_type": "markdown",
   "id": "519b3148",
   "metadata": {
    "slideshow": {
     "slide_type": "fragment"
    }
   },
   "source": [
    "It is *always* true that\n",
    "$$ \\E[X + Y] = \\E[X] + \\E[Y] .$$"
   ]
  },
  {
   "cell_type": "markdown",
   "id": "37afc62c",
   "metadata": {
    "slideshow": {
     "slide_type": "fragment"
    }
   },
   "source": [
    "If $X$ and $Y$ are *independent* then\n",
    "$$ \\var[X + Y] = \\var[X] + \\var[Y] . $$"
   ]
  },
  {
   "cell_type": "markdown",
   "id": "c9f9a4ac",
   "metadata": {
    "slideshow": {
     "slide_type": "subslide"
    }
   },
   "source": [
    "## Poisson limits\n",
    "\n",
    "If we have a large number of almost independent trials,\n",
    "then\n",
    "\n",
    "- the total number of successes is Poisson, and\n",
    "- the time$^*$ between successes is Exponential.\n",
    "\n",
    "$^*$ *measured in suitable units*"
   ]
  },
  {
   "cell_type": "markdown",
   "id": "83b66773",
   "metadata": {
    "slideshow": {
     "slide_type": "subslide"
    }
   },
   "source": [
    "## Central limits\n",
    "\n",
    "If $X_1, \\ldots, X_n$ are independent\n",
    "with mean $\\mu$ and SD $\\sigma$\n",
    "then\n",
    "$$  \\frac{1}{n} \\left( X_1 + \\cdots + X_n \\right) \\approx \\text{Normal}(\\mu, \\sigma/\\sqrt{n}) . $$"
   ]
  },
  {
   "cell_type": "markdown",
   "id": "e045f323",
   "metadata": {
    "slideshow": {
     "slide_type": "subslide"
    }
   },
   "source": [
    "## Facts about Normals\n",
    "\n",
    "1. If $a$ and $b$ are numbers and $X \\sim \\text{Normal}(\\mu, \\sigma)$\n",
    "    then\n",
    "    $$ aX + b \\sim \\text{Normal}(a \\mu + b, a\\sigma) . $$\n",
    "\n",
    "2. If $X \\sim \\text{Normal}(\\mu_X, \\sigma_X)$ and $Y \\sim \\text{Normal}(\\mu_Y, \\sigma_Y)$\n",
    "    are independent then\n",
    "    $$ X + Y \\sim \\text{Normal}(\\mu_X + \\mu_Y, \\sqrt{\\sigma_X^2 + \\sigma_Y^2}) . $$"
   ]
  },
  {
   "cell_type": "markdown",
   "id": "41f4cf33",
   "metadata": {
    "slideshow": {
     "slide_type": "subslide"
    }
   },
   "source": [
    "## $t$ statistics\n",
    "\n",
    "Also thanks to the Central Limit Theorem,\n",
    "if \n",
    "\n",
    "- $X_1, \\ldots, X_n$ are a bunch of independent samples from some distribution with mean $\\mu$,\n",
    "- $\\bar X$ is the sample mean, and\n",
    "- $S$ is the sample standard deviation,\n",
    "\n",
    "then the difference between the sample mean and $\\mu$, in units of $S$:\n",
    "$$  T = \\frac{\\bar X - \\mu}{S/\\sqrt{n}}  $$\n",
    "has, approximately$^*$, [Student's t distribution](https://en.wikipedia.org/wiki/Student%27s_t-distribution)\n",
    "with $n-2$ degrees of freedom."
   ]
  },
  {
   "cell_type": "markdown",
   "id": "a984c888",
   "metadata": {
    "slideshow": {
     "slide_type": "slide"
    }
   },
   "source": [
    "# Concepts"
   ]
  },
  {
   "cell_type": "markdown",
   "id": "8f13c2c1",
   "metadata": {
    "slideshow": {
     "slide_type": "subslide"
    }
   },
   "source": [
    "## Method of moments\n",
    "\n",
    "To fit a distribution to data with the method of moments,\n",
    "\n",
    "1. Pick a particular form of the distribution.\n",
    "2. Choose parameter values for the distribution so that the \"moments\" (e.g., the mean) match."
   ]
  },
  {
   "cell_type": "markdown",
   "id": "ba0a557c",
   "metadata": {
    "slideshow": {
     "slide_type": "subslide"
    }
   },
   "source": [
    "## Maximum likelihood\n",
    "\n",
    "To fit a model by *maximum likelihood*:\n",
    "\n",
    "1. formulate a generative model that seems likely to fit the data\n",
    "    with some free parameters\n",
    "    that describe what we want to know about,\n",
    "2. write down the *likelihood* (i.e., probability) of generating *our actual data*\n",
    "    as a function of the parameter(s), and\n",
    "3. choose the parameter values the make the data look most probable."
   ]
  },
  {
   "cell_type": "markdown",
   "id": "92d2362d",
   "metadata": {
    "slideshow": {
     "slide_type": "subslide"
    }
   },
   "source": [
    "## The $p$-value\n",
    "\n",
    "is\n",
    "\n",
    "> the probability of seeing a result\n",
    "> at least as surprising as what we observed in the data,\n",
    "> if the null hypothesis is true."
   ]
  },
  {
   "cell_type": "markdown",
   "id": "c2de0cd0",
   "metadata": {
    "slideshow": {
     "slide_type": "fragment"
    }
   },
   "source": [
    "The parts of this are:\n",
    "\n",
    "- *the probability ... if the null hypothesis is true*:\n",
    "    we need a concrete model we can compute probabilities with\n",
    "\n",
    "- *a result*: a statistic summarizing how strongly our data suggest that model is *not* right\n",
    "\n",
    "- *at least as surprising*: usually, the statistic is chosen so that larger values are more surprising"
   ]
  },
  {
   "cell_type": "markdown",
   "id": "ae0c8e79",
   "metadata": {
    "slideshow": {
     "slide_type": "subslide"
    }
   },
   "source": [
    "## Confidence intervals\n",
    "\n",
    "A 95% confidence interval for the sample mean is\n",
    "$$ \\text{from}\\quad \\bar x - t_* s / \\sqrt{n} \\quad \\text{to} \\quad \\bar x + t_* s / \\sqrt{n}, $$\n",
    "where $\\P\\{t < t_*\\} = 0.975$.\n",
    "\n",
    "Across many such confidence intervals constructed on many datasets of independent samples,\n",
    "the true mean will fall within the confidence interval 95% of the time."
   ]
  },
  {
   "cell_type": "markdown",
   "id": "f5d77f11",
   "metadata": {
    "slideshow": {
     "slide_type": "slide"
    }
   },
   "source": [
    "# A simulation problem\n",
    "\n",
    "Let's say we make a random number as follows:\n",
    "shuffle a deck of cards and draw the first card,\n",
    "and add the number on the card to your total.\n",
    "(A=1, J=11, Q=12, and K=13)\n",
    "Draw another card: if it is the same suit as the first, add it to your total.\n",
    "Continue until you get a card of a different suit.\n",
    "\n",
    "1. Write a function to simulate from this\n",
    "    and use it to make a histogram of the distribution.\n",
    "\n",
    "2. What is the largest possible value?\n",
    "    What is the probability of getting this largest value?"
   ]
  },
  {
   "cell_type": "markdown",
   "id": "d9b96e4a",
   "metadata": {
    "slideshow": {
     "slide_type": "slide"
    }
   },
   "source": [
    "# A new distribution\n",
    "\n",
    "Suppose we have a coin that comes up heads with probability $p$\n",
    "(and tails with probability $1-p$).\n",
    "Let $X$ be the number of times we have to flip the coin until the $k$-th heads.\n",
    "Then, $X$ has the *negative binomial* distribution.\n",
    "\n",
    "1. Write a function to simulate from this distribution\n",
    "    following this description.\n",
    "\n",
    "2. Check your function by simulating at least 10,000 random draws\n",
    "    with $k=3$ and $p=0.3$,\n",
    "    and making a table comparing the observed and expected proportions of these draws that are $n$\n",
    "    for each $0 \\le n \\le 20$."
   ]
  },
  {
   "cell_type": "markdown",
   "id": "6bd097e8",
   "metadata": {
    "slideshow": {
     "slide_type": "slide"
    }
   },
   "source": [
    "# Tips\n",
    "\n",
    "The amount of money a barista gets in tips each day has a mean \\\\$52 and an SD of \\\\$15.\n",
    "Over 8 weeks of 5-day work weeks,\n",
    "what is the mean and SD of the total amount of tips will they have got?\n",
    "Assuming the tips each day are independent,\n",
    "estimate the probability that the total amount of tips exceeds \\\\$2,300."
   ]
  },
  {
   "cell_type": "markdown",
   "id": "7a8f2f8e",
   "metadata": {
    "slideshow": {
     "slide_type": "slide"
    }
   },
   "source": [
    "## Fitting an exponential\n",
    "\n",
    "Suppose that we have 20 independent observations:\n",
    "```\n",
    "2.51, 44.16,  6.1 , 42.4,  3.49,  1.62, 25.37, 50.58, 41.11, 15.25,\n",
    "6.64,  6.54, 14.64,  7.33,  7.11, 61.53, 7.26, 13.34,  1.88, 10.67\n",
    "```\n",
    "Make up a story that could have produced these numbers,\n",
    "and then use maximum likelihood to fit an Exponential distribution to these data."
   ]
  }
 ],
 "metadata": {
  "celltoolbar": "Slideshow",
  "kernelspec": {
   "display_name": "Python 3 (ipykernel)",
   "language": "python",
   "name": "python3"
  },
  "language_info": {
   "codemirror_mode": {
    "name": "ipython",
    "version": 3
   },
   "file_extension": ".py",
   "mimetype": "text/x-python",
   "name": "python",
   "nbconvert_exporter": "python",
   "pygments_lexer": "ipython3",
   "version": "3.9.9"
  },
  "rise": {
   "scroll": true,
   "transition": "none"
  }
 },
 "nbformat": 4,
 "nbformat_minor": 5
}
