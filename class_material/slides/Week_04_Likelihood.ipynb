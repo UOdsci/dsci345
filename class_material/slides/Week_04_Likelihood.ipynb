{
 "cells": [
  {
   "cell_type": "markdown",
   "id": "202599bf",
   "metadata": {
    "slideshow": {
     "slide_type": "slide"
    }
   },
   "source": [
    "# Likelihood, and p-values\n",
    "\n",
    "Fall 2022: Peter Ralph\n",
    "\n",
    "https://uodsci.github.io/dsci345"
   ]
  },
  {
   "cell_type": "code",
   "execution_count": 1,
   "id": "733bfdf0",
   "metadata": {
    "slideshow": {
     "slide_type": "skip"
    }
   },
   "outputs": [],
   "source": [
    "import matplotlib\n",
    "import matplotlib.pyplot as plt\n",
    "matplotlib.rcParams['figure.figsize'] = (15, 8)\n",
    "import numpy as np\n",
    "import pandas as pd\n",
    "\n",
    "rng = np.random.default_rng()"
   ]
  },
  {
   "cell_type": "markdown",
   "id": "b0b9f690",
   "metadata": {
    "slideshow": {
     "slide_type": "skip"
    }
   },
   "source": [
    "$$\\renewcommand{\\P}{\\mathbb{P}} \\newcommand{\\E}{\\mathbb{E}} \\newcommand{\\var}{\\text{var}} \\newcommand{\\sd}{\\text{sd}}$$\n",
    "This is here so we can use `\\P` and `\\E` and `\\var` and `\\sd` in LaTeX below."
   ]
  },
  {
   "cell_type": "markdown",
   "id": "75ed9a7e",
   "metadata": {
    "slideshow": {
     "slide_type": "skip"
    }
   },
   "source": [
    "Outline:\n",
    "\n",
    "1. Guess at p from flipping coins\n",
    "2. Infer mu from Gaussian observations\n",
    "3. General method\n",
    "4. Relationship to method of moments\n",
    "5. Example without math"
   ]
  },
  {
   "cell_type": "markdown",
   "id": "00f1e89c",
   "metadata": {
    "slideshow": {
     "slide_type": "slide"
    }
   },
   "source": [
    "# Guess the probability\n",
    "\n",
    "i.e., Maximum Likelihood with the Binomial"
   ]
  },
  {
   "cell_type": "markdown",
   "id": "a31f5fb9",
   "metadata": {
    "slideshow": {
     "slide_type": "subslide"
    }
   },
   "source": [
    "We've got a weird-looking coin,\n",
    "and we'd like to figure out the probability that it comes up Heads\n",
    "when it's flipped.\n",
    "How do we do this?\n",
    "\n",
    "*(More generally: from observations of a 0/1-valued random variable $X$ with $\\P\\{X = 1\\} = p$, infer $p$.)*"
   ]
  },
  {
   "cell_type": "markdown",
   "id": "b89b7231",
   "metadata": {
    "slideshow": {
     "slide_type": "fragment"
    }
   },
   "source": [
    "Let's say out of 20 flips it came up Heads 15 times.\n",
    "What's your best guess at $p$?"
   ]
  },
  {
   "cell_type": "markdown",
   "id": "1d3796ba",
   "metadata": {
    "slideshow": {
     "slide_type": "fragment"
    }
   },
   "source": [
    "Well, since $X \\sim \\text{Binomial}(20, p)$,\n",
    "$$\n",
    "    \\P\\{ X = 15 \\}\n",
    "    =\n",
    "    \\binom{20}{15} p^{15} (1-p)^5.\n",
    "$$\n",
    "Let's call this $L(p)$."
   ]
  },
  {
   "cell_type": "markdown",
   "id": "01baadf5",
   "metadata": {
    "slideshow": {
     "slide_type": "fragment"
    }
   },
   "source": [
    "Maximizing $L(p)$ is the same as maximizing $\\log L(p)$, and\n",
    "$$\n",
    "\\frac{d}{dp} \\log L(p) = \\frac{15}{p} + \\frac{5}{1-p} ,\n",
    "$$\n",
    "which is equal to 0 at $p = 3/4$."
   ]
  },
  {
   "cell_type": "markdown",
   "id": "f1e0e93f",
   "metadata": {
    "slideshow": {
     "slide_type": "subslide"
    }
   },
   "source": [
    "Okay, so our guess is $p = 0.75$ \"by maximum likelihood\".\n",
    "How sure are we?"
   ]
  },
  {
   "cell_type": "code",
   "execution_count": 17,
   "id": "2678c319",
   "metadata": {
    "slideshow": {
     "slide_type": "-"
    }
   },
   "outputs": [
    {
     "data": {
      "image/png": "[encoded data removed]",
      "text/plain": [
       "<Figure size 1080x576 with 1 Axes>"
      ]
     },
     "metadata": {
      "needs_background": "light"
     },
     "output_type": "display_data"
    }
   ],
   "source": [
    "def L(p):\n",
    "    C = np.math.factorial(20) / (np.math.factorial(15) * np.math.factorial(5))\n",
    "    return C * (p ** 15) * ((1-p) ** 5)\n",
    "\n",
    "pvals = np.linspace(0, 1, 51)\n",
    "plt.plot(pvals, L(pvals))\n",
    "plt.xlabel(\"probability of heads (p)\")\n",
    "plt.ylabel(\"likelihood\")\n",
    "plt.axvline(0.75, c='red');"
   ]
  },
  {
   "cell_type": "markdown",
   "id": "c0f2730e",
   "metadata": {
    "slideshow": {
     "slide_type": "slide"
    }
   },
   "source": [
    "# Guess the mean\n",
    "\n",
    "i.e., Maximum Likelihood with the Gaussian"
   ]
  },
  {
   "cell_type": "markdown",
   "id": "1f2092f3",
   "metadata": {
    "slideshow": {
     "slide_type": "subslide"
    }
   },
   "source": [
    "I weighed 5 apples off my tree yesterday; their weights were 112g, 145g, 131g, 98g, and 104g.\n",
    "I've got about 200 apples on the tree; what your estimate of their total weight?"
   ]
  },
  {
   "cell_type": "code",
   "execution_count": 19,
   "id": "b2d3d01c",
   "metadata": {},
   "outputs": [
    {
     "data": {
      "text/plain": [
       "118.0"
      ]
     },
     "execution_count": 19,
     "metadata": {},
     "output_type": "execute_result"
    }
   ],
   "source": [
    "x = [112, 145, 131, 98, 104]\n",
    "np.mean(x)"
   ]
  },
  {
   "cell_type": "markdown",
   "id": "cb2ea433",
   "metadata": {
    "slideshow": {
     "slide_type": "fragment"
    }
   },
   "source": [
    "Well, the average weight of those was 118g, so... probably around 200 * 118g = 23600g = 23.6kg?"
   ]
  },
  {
   "cell_type": "markdown",
   "id": "3c7917a8",
   "metadata": {
    "slideshow": {
     "slide_type": "subslide"
    }
   },
   "source": [
    "*More formally:* let's assume the distribution of the weights (across *all* the apples) is Normal.\n",
    "If the mean is $\\mu$ grams and standard deviation $\\sigma$ grams, then the chance* of getting an apple\n",
    "that weighs $x$ grams is\n",
    "$$\n",
    "  L(x; \\mu, \\sigma) = \\frac{1}{\\sqrt{2 \\pi \\sigma^2}} \\exp\\left(-\\frac{(x - \\mu)^2}{2 \\sigma^2}\\right) .\n",
    "$$\n",
    "$*$ *(okay, this is actually a probability density, but let's go with it)*\n",
    "\n",
    "So, the chance of getting apples weighing $x_1, \\ldots, x_n$ is\n",
    "$$\n",
    "  \\prod_{i=1}^n L(x_i; \\mu, \\sigma)\n",
    "  = \n",
    "  \\frac{1}{\\sqrt{2 \\pi \\sigma^2}} \\exp\\left(- \\frac{\\sum_{i=1}^n (x_i - \\mu)^2}{2 \\sigma^2} \\right) .\n",
    "$$"
   ]
  },
  {
   "cell_type": "markdown",
   "id": "6dfdb033",
   "metadata": {
    "slideshow": {
     "slide_type": "fragment"
    }
   },
   "source": [
    "So, the *log-likelihood* is\n",
    "$$\n",
    "  \\log L(x; \\mu, \\sigma) = - \\frac{1}{2 \\sigma^2}\\sum_{i=1}^n (x_i - \\mu)^2 - \\log(2 \\pi \\sigma^2)/2 ,\n",
    "$$\n",
    "and\n",
    "$$\\begin{aligned}\n",
    "  \\frac{d}{d\\mu} \\log L(x; \\mu, \\sigma) \n",
    "  &=\n",
    "  - \\frac{1}{2\\sigma^2}\\sum_{i=1}^n 2 (x_i - \\mu) \\\\\n",
    "  &=\n",
    "  - \\frac{n}{\\sigma^2}\\left( \\left(\\frac{1}{n} \\sum_{i=1}^n x_i\\right) - \\mu \\right)\n",
    "\\end{aligned}$$\n",
    "Notice that $\\bar x = \\sum_{i=1}^n x_i / n$ is the *sample mean*."
   ]
  },
  {
   "cell_type": "markdown",
   "id": "ab96c988",
   "metadata": {
    "slideshow": {
     "slide_type": "fragment"
    }
   },
   "source": [
    "So, $L(x;\\mu,\\sigma)$ is maximized if $\\mu = \\bar x$.\n",
    "(But first: check this is a maximum, not a minimum.)\n",
    "Remarkably, this doesn't depend on $\\sigma$!"
   ]
  },
  {
   "cell_type": "markdown",
   "id": "57c6884e",
   "metadata": {
    "slideshow": {
     "slide_type": "subslide"
    }
   },
   "source": [
    "We've learned that:\n",
    "\n",
    "1. Given independent samples from a Normal($\\mu$, $\\sigma$) distribution,\n",
    "    the maximum-likelihood estimate for $\\mu$ is the sample mean.\n",
    "\n",
    "2. Maximizing the likelihood of a Normal distribution\n",
    "    requires minimizing the sum of squared errors.\n",
    "\n",
    "3. The maximum likelihood estimate for the mean apple weight on my tree is 118g."
   ]
  },
  {
   "cell_type": "markdown",
   "id": "f349dde1",
   "metadata": {
    "slideshow": {
     "slide_type": "subslide"
    }
   },
   "source": [
    "Again: how certain are we? Now, the answer *depends on $\\sigma$*."
   ]
  },
  {
   "cell_type": "code",
   "execution_count": 30,
   "id": "5846b235",
   "metadata": {},
   "outputs": [
    {
     "data": {
      "image/png": "[encoded data removed]",
      "text/plain": [
       "<Figure size 1080x576 with 2 Axes>"
      ]
     },
     "metadata": {
      "needs_background": "light"
     },
     "output_type": "display_data"
    }
   ],
   "source": [
    "muvals = np.linspace(100, 140, 51)\n",
    "x = np.array([112, 145, 131, 98, 104])\n",
    "\n",
    "def normal_L(mu, sigma):\n",
    "    C = np.sqrt(2 * np.math.pi * sigma**2)\n",
    "    return np.prod(np.exp(- (x - mu)**2 / (2 * sigma**2)) / C)\n",
    "\n",
    "sigvals = [5, 25]\n",
    "fig, axes = plt.subplots(1, len(sigvals))\n",
    "for sig, ax in zip(sigvals, axes):\n",
    "    ax.plot(muvals, [normal_L(m, sig) for m in muvals])\n",
    "    ax.axvline(np.mean(x), c='r')\n",
    "    ax.set_title(f\"sigma={sig}\")"
   ]
  },
  {
   "cell_type": "markdown",
   "id": "f837f2ab",
   "metadata": {
    "slideshow": {
     "slide_type": "slide"
    }
   },
   "source": [
    "# Likelihood surfaces"
   ]
  },
  {
   "cell_type": "markdown",
   "id": "9dd675d9",
   "metadata": {
    "slideshow": {
     "slide_type": "subslide"
    }
   },
   "source": [
    "So, what did we just do? We\n",
    "\n",
    "1. formulated a generative model that seems likely to fit the data\n",
    "    with some free parameters\n",
    "    that describe what we want to know about,\n",
    "2. wrote down the *likelihood* (i.e., probability) of generating *our actual data*\n",
    "    as a function of the parameter(s), and\n",
    "3. said that \"gee, seems like a good guess of the parameter(s) values are the ones that\n",
    "    make our data look most probable\"."
   ]
  },
  {
   "cell_type": "markdown",
   "id": "cabc7920",
   "metadata": {
    "slideshow": {
     "slide_type": "fragment"
    }
   },
   "source": [
    "*Formally:* given data $D$ and a model $M$ with parameters $\\theta \\in A$ and likelihood function\n",
    "$$ L_M(D|\\theta) = \\P_M\\{D|\\theta\\} , $$\n",
    "a *maximum likelihood estimate* of $\\theta$ is\n",
    "$$  \\theta^* = \\text{argmax}_{\\theta \\in A}\\{ L_M(D|\\theta) \\}, $$\n",
    "i.e., $\\theta^*$ is the parameter values that maximize the likelihood."
   ]
  },
  {
   "cell_type": "markdown",
   "id": "98e3fbe7",
   "metadata": {
    "slideshow": {
     "slide_type": "subslide"
    }
   },
   "source": [
    "## Example: the gamma distribution\n",
    "\n",
    "Let's say we have hourly rainfall measurements\n",
    "throughout a winter storm.\n",
    "We'd like to (a) estimate the average rainfall for the storm\n",
    "(across a wider region, taking our location as representative),\n",
    "and (b) fit a distribution to describe the hourly variation."
   ]
  },
  {
   "cell_type": "markdown",
   "id": "824c7b02",
   "metadata": {
    "slideshow": {
     "slide_type": "fragment"
    }
   },
   "source": [
    "Let $X_i$ be the number of millimeters of rain\n",
    "that fell in the $i^\\text{th}$ hour.\n",
    "Since $X_i \\ge 0$, let's take\n",
    "$$\n",
    "    X_i \\sim \\text{Gamma}(\\text{scale}=m, \\text{shape}=k) .\n",
    "$$\n",
    "And, here's our data:"
   ]
  },
  {
   "cell_type": "code",
   "execution_count": null,
   "id": "50b55609",
   "metadata": {},
   "outputs": [],
   "source": [
    "rng.gamma(scale=25x)"
   ]
  }
 ],
 "metadata": {
  "celltoolbar": "Slideshow",
  "kernelspec": {
   "display_name": "Python 3 (ipykernel)",
   "language": "python",
   "name": "python3"
  },
  "language_info": {
   "codemirror_mode": {
    "name": "ipython",
    "version": 3
   },
   "file_extension": ".py",
   "mimetype": "text/x-python",
   "name": "python",
   "nbconvert_exporter": "python",
   "pygments_lexer": "ipython3",
   "version": "3.9.9"
  },
  "rise": {
   "scroll": true,
   "transition": "none"
  }
 },
 "nbformat": 4,
 "nbformat_minor": 5
}
