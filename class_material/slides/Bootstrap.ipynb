{
 "cells": [
  {
   "cell_type": "markdown",
   "id": "202599bf",
   "metadata": {
    "slideshow": {
     "slide_type": "slide"
    }
   },
   "source": [
    "# Hello again, Uncertainty\n",
    "\n",
    "Peter Ralph\n",
    "\n",
    "https://uodsci.github.io/dsci345"
   ]
  },
  {
   "cell_type": "code",
   "execution_count": 1,
   "id": "733bfdf0",
   "metadata": {
    "slideshow": {
     "slide_type": "skip"
    }
   },
   "outputs": [],
   "source": [
    "import matplotlib\n",
    "import matplotlib.pyplot as plt\n",
    "matplotlib.rcParams['figure.figsize'] = (15, 8)\n",
    "import numpy as np\n",
    "import pandas as pd\n",
    "from dsci345 import pretty\n",
    "\n",
    "rng = np.random.default_rng()"
   ]
  },
  {
   "cell_type": "markdown",
   "id": "88ec5c59",
   "metadata": {
    "slideshow": {
     "slide_type": "skip"
    }
   },
   "source": [
    "$$\\renewcommand{\\P}{\\mathbb{P}} \\newcommand{\\E}{\\mathbb{E}} \\newcommand{\\var}{\\text{var}} \\newcommand{\\sd}{\\text{sd}} \\newcommand{\\cov}{\\text{cov}} \\newcommand{\\cor}{\\text{cor}}$$\n",
    "This is here so we can use `\\P` and `\\E` and `\\var` and `\\cov` and `\\cor` and `\\sd` in LaTeX below."
   ]
  },
  {
   "cell_type": "markdown",
   "id": "e9064c6e",
   "metadata": {
    "slideshow": {
     "slide_type": "slide"
    }
   },
   "source": [
    "# Prediction and Estimation"
   ]
  },
  {
   "cell_type": "markdown",
   "id": "ef4684d1",
   "metadata": {
    "slideshow": {
     "slide_type": "subslide"
    }
   },
   "source": [
    "Suppose I've collected data on rent in Eugene.\n",
    "Consider the following questions:\n",
    "\n",
    "1. How much does rent cost in the Bethel neighborhood this year?\n",
    "2. How much is rent changing by, per year?\n",
    "\n",
    "*Question:* What would good answers to these questions look like?"
   ]
  },
  {
   "cell_type": "markdown",
   "id": "5ed7086d",
   "metadata": {
    "slideshow": {
     "slide_type": "fragment"
    }
   },
   "source": [
    "We could answer these questions by\n",
    "\n",
    "- reporting empirical averages from the actual data\n",
    "- fitting a black-box predictor and asking it questions\n",
    "- fitting a model with explicit terms for neighborhood and year\n",
    "\n",
    "*(Discuss pros and cons and how these would actually work.)*"
   ]
  },
  {
   "cell_type": "markdown",
   "id": "f176dbf6",
   "metadata": {
    "slideshow": {
     "slide_type": "subslide"
    }
   },
   "source": [
    "# A third question\n",
    "\n",
    "3. How sure are you about those answers?"
   ]
  },
  {
   "cell_type": "markdown",
   "id": "334a64d7",
   "metadata": {
    "slideshow": {
     "slide_type": "fragment"
    }
   },
   "source": [
    "> 1. How much does rent cost in the Bethel neighborhood this year?\n",
    "\n",
    "\n",
    "Note that this has two notions of uncertainty:\n",
    "rents come in a range of values, but also there will be uncertainty in our estimates of that range."
   ]
  },
  {
   "cell_type": "markdown",
   "id": "ea82e3b6",
   "metadata": {
    "slideshow": {
     "slide_type": "slide"
    }
   },
   "source": [
    "# Uncertainty, by math"
   ]
  },
  {
   "cell_type": "markdown",
   "id": "ce9e7ce9",
   "metadata": {
    "slideshow": {
     "slide_type": "subslide"
    }
   },
   "source": [
    "## Reminder: confidence intervals\n",
    "\n",
    "If we have $n$ independent samples from some source,\n",
    "and the sample mean and SD are $\\bar x$ and $s$ respectively,\n",
    "then a 95% confidence interval is\n",
    "$$ \\bar x - t_n s / \\sqrt{n} \\qquad \\text{to} \\qquad \\bar x + t_n s / \\sqrt{n} , $$\n",
    "where $t_n$ is the 97.5% quantile for the $t$ distribution with $n-1$ degrees of freedom."
   ]
  },
  {
   "cell_type": "markdown",
   "id": "02d75722",
   "metadata": {
    "slideshow": {
     "slide_type": "fragment"
    }
   },
   "source": [
    "*Said another way:* $\\bar x$ is our estimate of the mean,\n",
    "and math gives us an estimate of the uncertainty behind our estimate."
   ]
  },
  {
   "cell_type": "markdown",
   "id": "0da288de",
   "metadata": {
    "slideshow": {
     "slide_type": "subslide"
    }
   },
   "source": [
    "1. How much does rent cost in the Bethel neighborhood this year?\n",
    "\n",
    "**(Take the mean of the rents in Bethel this year.)**\n",
    "\n",
    "2. How much is rent changing by, per year?\n",
    "\n",
    "**(Take the mean difference in rent of places that go up for rent in adjacent years.)**\n",
    "\n",
    "3. How sure are you about those answers?\n",
    "\n",
    "**(Get 95% CIs for them.)**"
   ]
  },
  {
   "cell_type": "markdown",
   "id": "84e18b6c",
   "metadata": {
    "slideshow": {
     "slide_type": "slide"
    }
   },
   "source": [
    "# A model"
   ]
  },
  {
   "cell_type": "markdown",
   "id": "58b58529",
   "metadata": {
    "slideshow": {
     "slide_type": "subslide"
    }
   },
   "source": [
    "For example: suppose we fit a model where\n",
    "the price of the $i^\\text{th}$ apartment is\n",
    "$$\\begin{aligned}\n",
    "    p_i &= \\beta_{n_i} + \\beta_\\text{year} y_i + \\beta_\\text{area} a_i + \\epsilon_i \\\\\n",
    "    \\epsilon_i &\\sim \\text{Normal}(0, \\sigma) ,\n",
    "\\end{aligned}$$\n",
    "where\n",
    "- $p_i$ is the price (in dollars)\n",
    "- $n_i$ is the neighborhood,\n",
    "- $\\beta_n$ is the mean price in neighborhood $n$\n",
    "- $y_i$ is the year\n",
    "- $\\beta_\\text{year}$ is the amount that rent changes by, per year, on average\n",
    "- $a_i$ is the area in square feet\n",
    "- $\\beta_\\text{area}$ is the amount that rent goes up per additional square foot, on average\n",
    "- $\\epsilon_i$ is the residual, and\n",
    "- $\\sigma$ is how much otherwise similar apartments differ in price"
   ]
  },
  {
   "cell_type": "markdown",
   "id": "61200376",
   "metadata": {
    "slideshow": {
     "slide_type": "subslide"
    }
   },
   "source": [
    "1. How much does rent cost in the Bethel neighborhood this year?\n",
    "\n",
    "**(Our estimate of $\\beta_\\text{Bethel}$ plus terms for year and area.)**\n",
    "\n",
    "2. How much is rent changing by, per year?\n",
    "\n",
    "**(Our estimate of $\\beta_\\text{year}$.)**\n",
    "\n",
    "3. How sure are you about those answers?\n",
    "\n",
    "**???**"
   ]
  },
  {
   "cell_type": "markdown",
   "id": "7afb588e",
   "metadata": {
    "slideshow": {
     "slide_type": "subslide"
    }
   },
   "source": [
    "## Aside: how do we fit this model?\n",
    "\n",
    "We'll do it in two lines,\n",
    "with [patsy](https://patsy.readthedocs.io/en/latest/quickstart.html)\n",
    "and `np.linalg.lstsq`."
   ]
  },
  {
   "cell_type": "markdown",
   "id": "3377b89d",
   "metadata": {
    "slideshow": {
     "slide_type": "subslide"
    }
   },
   "source": [
    "First, let's read in [the data](data/housing.csv).\n",
    "*(Note: it's fake data.)* ([github link](https://github.com/UOdsci/dsci345/raw/main/class_material/slides/data/housing.csv))"
   ]
  },
  {
   "cell_type": "code",
   "execution_count": 2,
   "id": "0444c7dd",
   "metadata": {},
   "outputs": [
    {
     "data": {
      "text/html": [
       "<div>\n",
       "<style scoped>\n",
       "    .dataframe tbody tr th:only-of-type {\n",
       "        vertical-align: middle;\n",
       "    }\n",
       "\n",
       "    .dataframe tbody tr th {\n",
       "        vertical-align: top;\n",
       "    }\n",
       "\n",
       "    .dataframe thead th {\n",
       "        text-align: right;\n",
       "    }\n",
       "</style>\n",
       "<table border=\"1\" class=\"dataframe\">\n",
       "  <thead>\n",
       "    <tr style=\"text-align: right;\">\n",
       "      <th></th>\n",
       "      <th>hood</th>\n",
       "      <th>year</th>\n",
       "      <th>area</th>\n",
       "      <th>rent</th>\n",
       "    </tr>\n",
       "  </thead>\n",
       "  <tbody>\n",
       "    <tr>\n",
       "      <th>0</th>\n",
       "      <td>river</td>\n",
       "      <td>2014</td>\n",
       "      <td>489.0</td>\n",
       "      <td>942.0</td>\n",
       "    </tr>\n",
       "    <tr>\n",
       "      <th>1</th>\n",
       "      <td>bethel</td>\n",
       "      <td>2010</td>\n",
       "      <td>610.0</td>\n",
       "      <td>370.0</td>\n",
       "    </tr>\n",
       "    <tr>\n",
       "      <th>2</th>\n",
       "      <td>churchill</td>\n",
       "      <td>2017</td>\n",
       "      <td>385.0</td>\n",
       "      <td>669.0</td>\n",
       "    </tr>\n",
       "    <tr>\n",
       "      <th>3</th>\n",
       "      <td>bethel</td>\n",
       "      <td>2012</td>\n",
       "      <td>757.0</td>\n",
       "      <td>624.0</td>\n",
       "    </tr>\n",
       "    <tr>\n",
       "      <th>4</th>\n",
       "      <td>bethel</td>\n",
       "      <td>2019</td>\n",
       "      <td>504.0</td>\n",
       "      <td>990.0</td>\n",
       "    </tr>\n",
       "    <tr>\n",
       "      <th>...</th>\n",
       "      <td>...</td>\n",
       "      <td>...</td>\n",
       "      <td>...</td>\n",
       "      <td>...</td>\n",
       "    </tr>\n",
       "    <tr>\n",
       "      <th>395</th>\n",
       "      <td>bethel</td>\n",
       "      <td>2012</td>\n",
       "      <td>238.0</td>\n",
       "      <td>579.0</td>\n",
       "    </tr>\n",
       "    <tr>\n",
       "      <th>396</th>\n",
       "      <td>campus</td>\n",
       "      <td>2016</td>\n",
       "      <td>287.0</td>\n",
       "      <td>759.0</td>\n",
       "    </tr>\n",
       "    <tr>\n",
       "      <th>397</th>\n",
       "      <td>churchill</td>\n",
       "      <td>2016</td>\n",
       "      <td>526.0</td>\n",
       "      <td>679.0</td>\n",
       "    </tr>\n",
       "    <tr>\n",
       "      <th>398</th>\n",
       "      <td>campus</td>\n",
       "      <td>2014</td>\n",
       "      <td>418.0</td>\n",
       "      <td>868.0</td>\n",
       "    </tr>\n",
       "    <tr>\n",
       "      <th>399</th>\n",
       "      <td>bethel</td>\n",
       "      <td>2018</td>\n",
       "      <td>386.0</td>\n",
       "      <td>983.0</td>\n",
       "    </tr>\n",
       "  </tbody>\n",
       "</table>\n",
       "<p>400 rows × 4 columns</p>\n",
       "</div>"
      ],
      "text/plain": [
       "          hood  year   area   rent\n",
       "0        river  2014  489.0  942.0\n",
       "1       bethel  2010  610.0  370.0\n",
       "2    churchill  2017  385.0  669.0\n",
       "3       bethel  2012  757.0  624.0\n",
       "4       bethel  2019  504.0  990.0\n",
       "..         ...   ...    ...    ...\n",
       "395     bethel  2012  238.0  579.0\n",
       "396     campus  2016  287.0  759.0\n",
       "397  churchill  2016  526.0  679.0\n",
       "398     campus  2014  418.0  868.0\n",
       "399     bethel  2018  386.0  983.0\n",
       "\n",
       "[400 rows x 4 columns]"
      ]
     },
     "execution_count": 2,
     "metadata": {},
     "output_type": "execute_result"
    }
   ],
   "source": [
    "df = pd.read_csv(\"data/housing.csv\", index_col=0)\n",
    "df"
   ]
  },
  {
   "cell_type": "markdown",
   "id": "ce68e476",
   "metadata": {
    "slideshow": {
     "slide_type": "subslide"
    }
   },
   "source": [
    "Next, let's shift the variables, so that for instance\n",
    "$\\beta_\\text{Bethel}$ is the average price of a 500 ft${}^2$ apartment in 2010\n",
    "(instead of a 0 ft${}^2$ apartment in the year 0):"
   ]
  },
  {
   "cell_type": "code",
   "execution_count": 5,
   "id": "56edb2a0",
   "metadata": {},
   "outputs": [],
   "source": [
    "df['area'] -= 500\n",
    "df['year'] -= 2010"
   ]
  },
  {
   "cell_type": "markdown",
   "id": "b4265d20",
   "metadata": {},
   "source": [
    "Now, fit the model,\n",
    "using patsy to make the *design matrix* (see board):"
   ]
  },
  {
   "cell_type": "code",
   "execution_count": 6,
   "id": "74a7ea63",
   "metadata": {},
   "outputs": [
    {
     "data": {
      "text/plain": [
       "{'bethel': 556.0088681522523,\n",
       " 'campus': 649.8851743401476,\n",
       " 'churchill': 584.0968576228607,\n",
       " 'river': 610.4626011683356,\n",
       " 'whittaker': 643.2011227181572,\n",
       " 'year': 31.218431226183213,\n",
       " 'area': 0.10063620684218222}"
      ]
     },
     "execution_count": 6,
     "metadata": {},
     "output_type": "execute_result"
    }
   ],
   "source": [
    "import patsy\n",
    "outcome, predictors = patsy.dmatrices(\"rent ~ 0 + hood + year + area\", df)\n",
    "fit = np.linalg.lstsq(predictors, outcome, rcond=None)\n",
    "\n",
    "estimates = { k.lstrip('hood[').rstrip(\"]\") : v for k, v in zip(predictors.design_info.column_names, fit[0].ravel())}\n",
    "\n",
    "estimates"
   ]
  },
  {
   "cell_type": "code",
   "execution_count": 10,
   "id": "0bd4a6bc",
   "metadata": {},
   "outputs": [
    {
     "data": {
      "text/plain": [
       "array([[   0.,    0.,    0.,    1.,    0.,    4.,  -11.],\n",
       "       [   1.,    0.,    0.,    0.,    0.,    0.,  110.],\n",
       "       [   0.,    0.,    1.,    0.,    0.,    7., -115.],\n",
       "       [   1.,    0.,    0.,    0.,    0.,    2.,  257.],\n",
       "       [   1.,    0.,    0.,    0.,    0.,    9.,    4.],\n",
       "       [   0.,    0.,    0.,    0.,    1.,    5.,  -16.],\n",
       "       [   0.,    0.,    0.,    1.,    0.,    6.,   93.],\n",
       "       [   1.,    0.,    0.,    0.,    0.,    4., -196.],\n",
       "       [   1.,    0.,    0.,    0.,    0.,    3.,  163.],\n",
       "       [   0.,    1.,    0.,    0.,    0.,    2.,   81.]])"
      ]
     },
     "execution_count": 10,
     "metadata": {},
     "output_type": "execute_result"
    }
   ],
   "source": [
    "np.asarray(predictors)[:10,:]"
   ]
  },
  {
   "cell_type": "code",
   "execution_count": 11,
   "id": "3fbd90d8",
   "metadata": {},
   "outputs": [
    {
     "data": {
      "text/html": [
       "<div>\n",
       "<style scoped>\n",
       "    .dataframe tbody tr th:only-of-type {\n",
       "        vertical-align: middle;\n",
       "    }\n",
       "\n",
       "    .dataframe tbody tr th {\n",
       "        vertical-align: top;\n",
       "    }\n",
       "\n",
       "    .dataframe thead th {\n",
       "        text-align: right;\n",
       "    }\n",
       "</style>\n",
       "<table border=\"1\" class=\"dataframe\">\n",
       "  <thead>\n",
       "    <tr style=\"text-align: right;\">\n",
       "      <th></th>\n",
       "      <th>hood</th>\n",
       "      <th>year</th>\n",
       "      <th>area</th>\n",
       "      <th>rent</th>\n",
       "    </tr>\n",
       "  </thead>\n",
       "  <tbody>\n",
       "    <tr>\n",
       "      <th>0</th>\n",
       "      <td>river</td>\n",
       "      <td>4</td>\n",
       "      <td>-11.0</td>\n",
       "      <td>942.0</td>\n",
       "    </tr>\n",
       "    <tr>\n",
       "      <th>1</th>\n",
       "      <td>bethel</td>\n",
       "      <td>0</td>\n",
       "      <td>110.0</td>\n",
       "      <td>370.0</td>\n",
       "    </tr>\n",
       "    <tr>\n",
       "      <th>2</th>\n",
       "      <td>churchill</td>\n",
       "      <td>7</td>\n",
       "      <td>-115.0</td>\n",
       "      <td>669.0</td>\n",
       "    </tr>\n",
       "    <tr>\n",
       "      <th>3</th>\n",
       "      <td>bethel</td>\n",
       "      <td>2</td>\n",
       "      <td>257.0</td>\n",
       "      <td>624.0</td>\n",
       "    </tr>\n",
       "    <tr>\n",
       "      <th>4</th>\n",
       "      <td>bethel</td>\n",
       "      <td>9</td>\n",
       "      <td>4.0</td>\n",
       "      <td>990.0</td>\n",
       "    </tr>\n",
       "    <tr>\n",
       "      <th>...</th>\n",
       "      <td>...</td>\n",
       "      <td>...</td>\n",
       "      <td>...</td>\n",
       "      <td>...</td>\n",
       "    </tr>\n",
       "    <tr>\n",
       "      <th>395</th>\n",
       "      <td>bethel</td>\n",
       "      <td>2</td>\n",
       "      <td>-262.0</td>\n",
       "      <td>579.0</td>\n",
       "    </tr>\n",
       "    <tr>\n",
       "      <th>396</th>\n",
       "      <td>campus</td>\n",
       "      <td>6</td>\n",
       "      <td>-213.0</td>\n",
       "      <td>759.0</td>\n",
       "    </tr>\n",
       "    <tr>\n",
       "      <th>397</th>\n",
       "      <td>churchill</td>\n",
       "      <td>6</td>\n",
       "      <td>26.0</td>\n",
       "      <td>679.0</td>\n",
       "    </tr>\n",
       "    <tr>\n",
       "      <th>398</th>\n",
       "      <td>campus</td>\n",
       "      <td>4</td>\n",
       "      <td>-82.0</td>\n",
       "      <td>868.0</td>\n",
       "    </tr>\n",
       "    <tr>\n",
       "      <th>399</th>\n",
       "      <td>bethel</td>\n",
       "      <td>8</td>\n",
       "      <td>-114.0</td>\n",
       "      <td>983.0</td>\n",
       "    </tr>\n",
       "  </tbody>\n",
       "</table>\n",
       "<p>400 rows × 4 columns</p>\n",
       "</div>"
      ],
      "text/plain": [
       "          hood  year   area   rent\n",
       "0        river     4  -11.0  942.0\n",
       "1       bethel     0  110.0  370.0\n",
       "2    churchill     7 -115.0  669.0\n",
       "3       bethel     2  257.0  624.0\n",
       "4       bethel     9    4.0  990.0\n",
       "..         ...   ...    ...    ...\n",
       "395     bethel     2 -262.0  579.0\n",
       "396     campus     6 -213.0  759.0\n",
       "397  churchill     6   26.0  679.0\n",
       "398     campus     4  -82.0  868.0\n",
       "399     bethel     8 -114.0  983.0\n",
       "\n",
       "[400 rows x 4 columns]"
      ]
     },
     "execution_count": 11,
     "metadata": {},
     "output_type": "execute_result"
    }
   ],
   "source": [
    "df"
   ]
  },
  {
   "cell_type": "markdown",
   "id": "7f1389c8",
   "metadata": {
    "slideshow": {
     "slide_type": "slide"
    }
   },
   "source": [
    "# Uncertainty, by simulation"
   ]
  },
  {
   "cell_type": "markdown",
   "id": "c19fd691",
   "metadata": {
    "slideshow": {
     "slide_type": "subslide"
    }
   },
   "source": [
    "Okay, so we'd like to know\n",
    "how far off our guesses of $\\beta_\\text{Bethel}$ or $a$ are\n",
    "from \"the truth\"."
   ]
  },
  {
   "cell_type": "markdown",
   "id": "3a7353ad",
   "metadata": {
    "slideshow": {
     "slide_type": "fragment"
    }
   },
   "source": [
    "Well, one way to do this is to *simulate* data where we know the truth,\n",
    "and then see how far off our guesses are.\n",
    "If the simulations describe the real data well, \n",
    "then this should give us a good estimate."
   ]
  },
  {
   "cell_type": "markdown",
   "id": "4393153e",
   "metadata": {
    "slideshow": {
     "slide_type": "fragment"
    }
   },
   "source": [
    "This is sometimes known as *the parametric bootstrap*.\n",
    "(We'll meet it's more famous cousin, \"the\" bootstrap, next.)\n",
    "We actually did it, last class.\n",
    "Let's do it again!"
   ]
  },
  {
   "cell_type": "markdown",
   "id": "ef3fed53",
   "metadata": {
    "slideshow": {
     "slide_type": "subslide"
    }
   },
   "source": [
    "Okay, from our \"real data\" we estimated a certain set of estimated parameter values.\n",
    "To make the simulated datasets look as much like the real data as possible,\n",
    "we should simulate using those parameter values."
   ]
  },
  {
   "cell_type": "code",
   "execution_count": 13,
   "id": "b6c99c77",
   "metadata": {
    "slideshow": {
     "slide_type": "subslide"
    }
   },
   "outputs": [],
   "source": [
    "def sim_rents(df, beta):\n",
    "    # TODO: estimate sigma\n",
    "    sim_df = df.copy()\n",
    "    sim_df['rent'] = np.round(\n",
    "        np.array([beta[h] for h in sim_df.hood]) + beta['year'] * sim_df.year + beta['area'] * sim_df.area\n",
    "        + rng.normal(scale=150, size=len(df))\n",
    "    )\n",
    "    return sim_df"
   ]
  },
  {
   "cell_type": "code",
   "execution_count": 14,
   "id": "1b18ff02",
   "metadata": {
    "slideshow": {
     "slide_type": "subslide"
    }
   },
   "outputs": [],
   "source": [
    "def fit_model(df):\n",
    "    outcome, predictors = patsy.dmatrices(\"rent ~ 0 + hood + year + area\", df)\n",
    "    fit = np.linalg.lstsq(predictors, outcome, rcond=None)\n",
    "    estimates = { k.lstrip('hood[').rstrip(\"]\") : v for k, v in zip(predictors.design_info.column_names, fit[0].ravel())}\n",
    "    return estimates"
   ]
  },
  {
   "cell_type": "code",
   "execution_count": 16,
   "id": "11ac2a14",
   "metadata": {},
   "outputs": [
    {
     "data": {
      "text/plain": [
       "{'bethel': 556.0088681522523,\n",
       " 'campus': 649.8851743401476,\n",
       " 'churchill': 584.0968576228607,\n",
       " 'river': 610.4626011683356,\n",
       " 'whittaker': 643.2011227181572,\n",
       " 'year': 31.218431226183213,\n",
       " 'area': 0.10063620684218222}"
      ]
     },
     "execution_count": 16,
     "metadata": {},
     "output_type": "execute_result"
    }
   ],
   "source": [
    "estimates"
   ]
  },
  {
   "cell_type": "code",
   "execution_count": 15,
   "id": "aea9b229",
   "metadata": {
    "slideshow": {
     "slide_type": "subslide"
    }
   },
   "outputs": [
    {
     "data": {
      "text/html": [
       "<div>\n",
       "<style scoped>\n",
       "    .dataframe tbody tr th:only-of-type {\n",
       "        vertical-align: middle;\n",
       "    }\n",
       "\n",
       "    .dataframe tbody tr th {\n",
       "        vertical-align: top;\n",
       "    }\n",
       "\n",
       "    .dataframe thead th {\n",
       "        text-align: right;\n",
       "    }\n",
       "</style>\n",
       "<table border=\"1\" class=\"dataframe\">\n",
       "  <thead>\n",
       "    <tr style=\"text-align: right;\">\n",
       "      <th></th>\n",
       "      <th>bethel</th>\n",
       "      <th>campus</th>\n",
       "      <th>churchill</th>\n",
       "      <th>river</th>\n",
       "      <th>whittaker</th>\n",
       "      <th>year</th>\n",
       "      <th>area</th>\n",
       "    </tr>\n",
       "  </thead>\n",
       "  <tbody>\n",
       "    <tr>\n",
       "      <th>0</th>\n",
       "      <td>537.181011</td>\n",
       "      <td>658.163390</td>\n",
       "      <td>583.538148</td>\n",
       "      <td>585.267186</td>\n",
       "      <td>652.645758</td>\n",
       "      <td>30.428551</td>\n",
       "      <td>0.124945</td>\n",
       "    </tr>\n",
       "    <tr>\n",
       "      <th>1</th>\n",
       "      <td>539.219998</td>\n",
       "      <td>656.266532</td>\n",
       "      <td>579.149272</td>\n",
       "      <td>585.925625</td>\n",
       "      <td>619.167459</td>\n",
       "      <td>33.899929</td>\n",
       "      <td>0.110050</td>\n",
       "    </tr>\n",
       "    <tr>\n",
       "      <th>2</th>\n",
       "      <td>588.146704</td>\n",
       "      <td>678.373530</td>\n",
       "      <td>624.898839</td>\n",
       "      <td>642.636383</td>\n",
       "      <td>651.877928</td>\n",
       "      <td>26.477483</td>\n",
       "      <td>0.050200</td>\n",
       "    </tr>\n",
       "    <tr>\n",
       "      <th>3</th>\n",
       "      <td>548.444380</td>\n",
       "      <td>651.855979</td>\n",
       "      <td>567.443875</td>\n",
       "      <td>622.506284</td>\n",
       "      <td>640.612109</td>\n",
       "      <td>31.831667</td>\n",
       "      <td>0.153933</td>\n",
       "    </tr>\n",
       "    <tr>\n",
       "      <th>4</th>\n",
       "      <td>573.544834</td>\n",
       "      <td>645.153739</td>\n",
       "      <td>590.588778</td>\n",
       "      <td>638.459991</td>\n",
       "      <td>657.964895</td>\n",
       "      <td>31.273906</td>\n",
       "      <td>0.065392</td>\n",
       "    </tr>\n",
       "    <tr>\n",
       "      <th>...</th>\n",
       "      <td>...</td>\n",
       "      <td>...</td>\n",
       "      <td>...</td>\n",
       "      <td>...</td>\n",
       "      <td>...</td>\n",
       "      <td>...</td>\n",
       "      <td>...</td>\n",
       "    </tr>\n",
       "    <tr>\n",
       "      <th>995</th>\n",
       "      <td>560.761071</td>\n",
       "      <td>662.763241</td>\n",
       "      <td>611.618315</td>\n",
       "      <td>629.028994</td>\n",
       "      <td>672.549244</td>\n",
       "      <td>28.864046</td>\n",
       "      <td>0.105972</td>\n",
       "    </tr>\n",
       "    <tr>\n",
       "      <th>996</th>\n",
       "      <td>521.410209</td>\n",
       "      <td>605.082096</td>\n",
       "      <td>592.155073</td>\n",
       "      <td>625.309497</td>\n",
       "      <td>593.041560</td>\n",
       "      <td>36.055542</td>\n",
       "      <td>0.071566</td>\n",
       "    </tr>\n",
       "    <tr>\n",
       "      <th>997</th>\n",
       "      <td>535.612613</td>\n",
       "      <td>661.924057</td>\n",
       "      <td>585.815843</td>\n",
       "      <td>616.517880</td>\n",
       "      <td>666.886847</td>\n",
       "      <td>31.743339</td>\n",
       "      <td>0.185950</td>\n",
       "    </tr>\n",
       "    <tr>\n",
       "      <th>998</th>\n",
       "      <td>557.075412</td>\n",
       "      <td>640.321883</td>\n",
       "      <td>577.177340</td>\n",
       "      <td>578.439111</td>\n",
       "      <td>643.415354</td>\n",
       "      <td>31.902673</td>\n",
       "      <td>0.102117</td>\n",
       "    </tr>\n",
       "    <tr>\n",
       "      <th>999</th>\n",
       "      <td>563.375855</td>\n",
       "      <td>641.520052</td>\n",
       "      <td>598.331570</td>\n",
       "      <td>643.330827</td>\n",
       "      <td>645.186250</td>\n",
       "      <td>30.662780</td>\n",
       "      <td>0.103483</td>\n",
       "    </tr>\n",
       "  </tbody>\n",
       "</table>\n",
       "<p>1000 rows × 7 columns</p>\n",
       "</div>"
      ],
      "text/plain": [
       "         bethel      campus   churchill       river   whittaker       year  \\\n",
       "0    537.181011  658.163390  583.538148  585.267186  652.645758  30.428551   \n",
       "1    539.219998  656.266532  579.149272  585.925625  619.167459  33.899929   \n",
       "2    588.146704  678.373530  624.898839  642.636383  651.877928  26.477483   \n",
       "3    548.444380  651.855979  567.443875  622.506284  640.612109  31.831667   \n",
       "4    573.544834  645.153739  590.588778  638.459991  657.964895  31.273906   \n",
       "..          ...         ...         ...         ...         ...        ...   \n",
       "995  560.761071  662.763241  611.618315  629.028994  672.549244  28.864046   \n",
       "996  521.410209  605.082096  592.155073  625.309497  593.041560  36.055542   \n",
       "997  535.612613  661.924057  585.815843  616.517880  666.886847  31.743339   \n",
       "998  557.075412  640.321883  577.177340  578.439111  643.415354  31.902673   \n",
       "999  563.375855  641.520052  598.331570  643.330827  645.186250  30.662780   \n",
       "\n",
       "         area  \n",
       "0    0.124945  \n",
       "1    0.110050  \n",
       "2    0.050200  \n",
       "3    0.153933  \n",
       "4    0.065392  \n",
       "..        ...  \n",
       "995  0.105972  \n",
       "996  0.071566  \n",
       "997  0.185950  \n",
       "998  0.102117  \n",
       "999  0.103483  \n",
       "\n",
       "[1000 rows x 7 columns]"
      ]
     },
     "execution_count": 15,
     "metadata": {},
     "output_type": "execute_result"
    }
   ],
   "source": [
    "experiments = pd.DataFrame([\n",
    "    fit_model(sim_rents(df, beta=estimates))\n",
    "    for _ in range(1000)\n",
    "])\n",
    "experiments"
   ]
  },
  {
   "cell_type": "code",
   "execution_count": 17,
   "id": "6b55a2ec",
   "metadata": {
    "slideshow": {
     "slide_type": "subslide"
    }
   },
   "outputs": [
    {
     "data": {
      "image/png": "[encoded data removed]",
      "text/plain": [
       "<Figure size 1500x800 with 1 Axes>"
      ]
     },
     "metadata": {},
     "output_type": "display_data"
    }
   ],
   "source": [
    "plt.hist(experiments.bethel)\n",
    "plt.xlabel(\"mean bethel rent\"); plt.ylabel(\"frequency\");\n",
    "plt.axvline(estimates['bethel'], color='red');"
   ]
  },
  {
   "cell_type": "markdown",
   "id": "b7e3c7c0",
   "metadata": {
    "slideshow": {
     "slide_type": "subslide"
    }
   },
   "source": [
    "**Conclusion:** The mean rent in Bethel for 500 ft${}^2$ apartments in 2010\n",
    "as about \\\\$556, with a 95\\% confidence interval of about \\\\$517 to \\\\$594.\n",
    "\n",
    "Widths of other 95\\% confidence intervals are below."
   ]
  },
  {
   "cell_type": "code",
   "execution_count": 18,
   "id": "0a04f327",
   "metadata": {},
   "outputs": [
    {
     "data": {
      "text/plain": [
       "bethel       76.687519\n",
       "campus       87.101376\n",
       "churchill    81.234354\n",
       "river        81.418507\n",
       "whittaker    88.140197\n",
       "year         10.883268\n",
       "area          0.205620\n",
       "dtype: float64"
      ]
     },
     "execution_count": 18,
     "metadata": {},
     "output_type": "execute_result"
    }
   ],
   "source": [
    "experiments.quantile(0.975) - experiments.quantile(0.025)"
   ]
  },
  {
   "cell_type": "markdown",
   "id": "e7790792",
   "metadata": {
    "slideshow": {
     "slide_type": "slide"
    }
   },
   "source": [
    "# Uncertainty, by our bootstraps"
   ]
  },
  {
   "cell_type": "markdown",
   "id": "84ac6f1a",
   "metadata": {
    "slideshow": {
     "slide_type": "subslide"
    }
   },
   "source": [
    "*However*, sometimes we don't have\n",
    "(or can't be bothered to make)\n",
    "a good generative model\n",
    "to simulate from.\n",
    "Or we tried and it was hard to get realistic-looking data.\n",
    "What to do then?"
   ]
  },
  {
   "cell_type": "markdown",
   "id": "8c5488c3",
   "metadata": {
    "slideshow": {
     "slide_type": "fragment"
    }
   },
   "source": [
    "Well, what we'd *like* to do is to draw a bunch of new datasets\n",
    "from wherever we got the first one."
   ]
  },
  {
   "cell_type": "markdown",
   "id": "3fa15c92",
   "metadata": {
    "slideshow": {
     "slide_type": "fragment"
    }
   },
   "source": [
    "This seems unrealistic... *but*, our best guess at what that would be like if we could...\n",
    "is our dataset itself!"
   ]
  },
  {
   "cell_type": "markdown",
   "id": "486f54b2",
   "metadata": {
    "slideshow": {
     "slide_type": "subslide"
    }
   },
   "source": [
    "## The bootstrap\n",
    "\n",
    "Suppose we have a method that estimates something.\n",
    "To get an estimate of *uncertainty* of that estimate,\n",
    "\n",
    "1. Obtain a new dataset, of the same size as the original,\n",
    "    by resampling *with replacement* observations from the original dataset.\n",
    "    \n",
    "2. Apply the method to this 'bootstrapped' dataset.\n",
    "\n",
    "3. Repeat lots of times.\n",
    "\n",
    "Then, the middle 95% of the estimates\n",
    "gives you the \"bootstrap 95% confidence interval\"."
   ]
  },
  {
   "cell_type": "markdown",
   "id": "0ac47a23",
   "metadata": {
    "slideshow": {
     "slide_type": "subslide"
    }
   },
   "source": [
    "## Exercise:\n",
    "\n",
    "Here are 10 numbers.\n",
    "```\n",
    "array([176, 255,  53,  94,  61, 119,  42, 109,   0,  30])\n",
    "```\n",
    "\n",
    "1. Compute the median.\n",
    "2. 1,000 times, resample 10 numbers, with replacement, from this list of numbers,\n",
    "    and compute the median.\n",
    "3. Make a histogram of those 1,000 medians, with the original median as a vertical line."
   ]
  },
  {
   "cell_type": "code",
   "execution_count": 23,
   "id": "007288a3",
   "metadata": {},
   "outputs": [],
   "source": [
    "# IN CLASS\n",
    "x = np.array([176, 255,  53,  94,  61, 119,  42, 109,   0,  30])\n",
    "\n",
    "med_x = np.median(x)"
   ]
  },
  {
   "cell_type": "code",
   "execution_count": 35,
   "id": "87db1e2a",
   "metadata": {},
   "outputs": [
    {
     "data": {
      "image/png": "[encoded data removed]",
      "text/plain": [
       "<Figure size 1500x800 with 1 Axes>"
      ]
     },
     "metadata": {},
     "output_type": "display_data"
    }
   ],
   "source": [
    "boots = [ np.median(rng.choice(x, len(x))) for _ in range(1000) ]\n",
    "\n",
    "plt.hist(boots, bins=20)\n",
    "plt.xlabel(\"bootstrapped medians\")\n",
    "plt.axvline(med_x, label='estimate', c='red')\n",
    "plt.legend();"
   ]
  },
  {
   "cell_type": "code",
   "execution_count": 36,
   "id": "fca7ea37",
   "metadata": {},
   "outputs": [
    {
     "data": {
      "text/plain": [
       "array([ 36., 119.])"
      ]
     },
     "execution_count": 36,
     "metadata": {},
     "output_type": "execute_result"
    }
   ],
   "source": [
    "# 95% CI\n",
    "np.quantile(boots, [0.025, 0.975])"
   ]
  },
  {
   "cell_type": "markdown",
   "id": "f83a43c7",
   "metadata": {
    "slideshow": {
     "slide_type": "subslide"
    }
   },
   "source": [
    "Here's a (very) simple method to obtain a bootstrap resampled version of a data frame:"
   ]
  },
  {
   "cell_type": "code",
   "execution_count": 37,
   "id": "ef75bf1b",
   "metadata": {},
   "outputs": [],
   "source": [
    "def bootstrap(df):\n",
    "    n = df.shape[0]\n",
    "    return df.loc[rng.choice(n, n)]"
   ]
  },
  {
   "cell_type": "markdown",
   "id": "4f5e017f",
   "metadata": {
    "slideshow": {
     "slide_type": "subslide"
    }
   },
   "source": [
    "And, here, let's apply the`fit_model` method above to 1000 of these."
   ]
  },
  {
   "cell_type": "code",
   "execution_count": 38,
   "id": "213236de",
   "metadata": {},
   "outputs": [
    {
     "data": {
      "text/html": [
       "<div>\n",
       "<style scoped>\n",
       "    .dataframe tbody tr th:only-of-type {\n",
       "        vertical-align: middle;\n",
       "    }\n",
       "\n",
       "    .dataframe tbody tr th {\n",
       "        vertical-align: top;\n",
       "    }\n",
       "\n",
       "    .dataframe thead th {\n",
       "        text-align: right;\n",
       "    }\n",
       "</style>\n",
       "<table border=\"1\" class=\"dataframe\">\n",
       "  <thead>\n",
       "    <tr style=\"text-align: right;\">\n",
       "      <th></th>\n",
       "      <th>bethel</th>\n",
       "      <th>campus</th>\n",
       "      <th>churchill</th>\n",
       "      <th>river</th>\n",
       "      <th>whittaker</th>\n",
       "      <th>year</th>\n",
       "      <th>area</th>\n",
       "    </tr>\n",
       "  </thead>\n",
       "  <tbody>\n",
       "    <tr>\n",
       "      <th>0</th>\n",
       "      <td>540.844095</td>\n",
       "      <td>641.842169</td>\n",
       "      <td>584.863888</td>\n",
       "      <td>596.363770</td>\n",
       "      <td>639.113025</td>\n",
       "      <td>33.848051</td>\n",
       "      <td>0.086750</td>\n",
       "    </tr>\n",
       "    <tr>\n",
       "      <th>1</th>\n",
       "      <td>570.861600</td>\n",
       "      <td>671.847769</td>\n",
       "      <td>559.711904</td>\n",
       "      <td>638.249700</td>\n",
       "      <td>666.800626</td>\n",
       "      <td>29.726543</td>\n",
       "      <td>0.157536</td>\n",
       "    </tr>\n",
       "    <tr>\n",
       "      <th>2</th>\n",
       "      <td>542.875877</td>\n",
       "      <td>668.814156</td>\n",
       "      <td>578.131789</td>\n",
       "      <td>584.978389</td>\n",
       "      <td>634.872710</td>\n",
       "      <td>34.606964</td>\n",
       "      <td>0.085758</td>\n",
       "    </tr>\n",
       "    <tr>\n",
       "      <th>3</th>\n",
       "      <td>586.549469</td>\n",
       "      <td>654.132613</td>\n",
       "      <td>578.865020</td>\n",
       "      <td>630.487941</td>\n",
       "      <td>650.580539</td>\n",
       "      <td>31.245671</td>\n",
       "      <td>0.114540</td>\n",
       "    </tr>\n",
       "    <tr>\n",
       "      <th>4</th>\n",
       "      <td>522.564521</td>\n",
       "      <td>681.682985</td>\n",
       "      <td>591.421743</td>\n",
       "      <td>604.497022</td>\n",
       "      <td>638.408604</td>\n",
       "      <td>30.114905</td>\n",
       "      <td>0.061743</td>\n",
       "    </tr>\n",
       "    <tr>\n",
       "      <th>...</th>\n",
       "      <td>...</td>\n",
       "      <td>...</td>\n",
       "      <td>...</td>\n",
       "      <td>...</td>\n",
       "      <td>...</td>\n",
       "      <td>...</td>\n",
       "      <td>...</td>\n",
       "    </tr>\n",
       "    <tr>\n",
       "      <th>995</th>\n",
       "      <td>562.391017</td>\n",
       "      <td>712.123754</td>\n",
       "      <td>563.509542</td>\n",
       "      <td>612.196986</td>\n",
       "      <td>663.673752</td>\n",
       "      <td>31.013787</td>\n",
       "      <td>0.117550</td>\n",
       "    </tr>\n",
       "    <tr>\n",
       "      <th>996</th>\n",
       "      <td>572.649253</td>\n",
       "      <td>671.634826</td>\n",
       "      <td>618.622722</td>\n",
       "      <td>615.187036</td>\n",
       "      <td>678.335147</td>\n",
       "      <td>26.619500</td>\n",
       "      <td>0.073451</td>\n",
       "    </tr>\n",
       "    <tr>\n",
       "      <th>997</th>\n",
       "      <td>536.724820</td>\n",
       "      <td>586.519439</td>\n",
       "      <td>589.795985</td>\n",
       "      <td>617.748594</td>\n",
       "      <td>633.243831</td>\n",
       "      <td>35.576456</td>\n",
       "      <td>0.166385</td>\n",
       "    </tr>\n",
       "    <tr>\n",
       "      <th>998</th>\n",
       "      <td>537.188041</td>\n",
       "      <td>666.550663</td>\n",
       "      <td>550.167690</td>\n",
       "      <td>601.954183</td>\n",
       "      <td>625.402453</td>\n",
       "      <td>34.881064</td>\n",
       "      <td>0.109406</td>\n",
       "    </tr>\n",
       "    <tr>\n",
       "      <th>999</th>\n",
       "      <td>583.059981</td>\n",
       "      <td>646.865982</td>\n",
       "      <td>596.228807</td>\n",
       "      <td>584.325664</td>\n",
       "      <td>658.519304</td>\n",
       "      <td>32.632455</td>\n",
       "      <td>0.110767</td>\n",
       "    </tr>\n",
       "  </tbody>\n",
       "</table>\n",
       "<p>1000 rows × 7 columns</p>\n",
       "</div>"
      ],
      "text/plain": [
       "         bethel      campus   churchill       river   whittaker       year  \\\n",
       "0    540.844095  641.842169  584.863888  596.363770  639.113025  33.848051   \n",
       "1    570.861600  671.847769  559.711904  638.249700  666.800626  29.726543   \n",
       "2    542.875877  668.814156  578.131789  584.978389  634.872710  34.606964   \n",
       "3    586.549469  654.132613  578.865020  630.487941  650.580539  31.245671   \n",
       "4    522.564521  681.682985  591.421743  604.497022  638.408604  30.114905   \n",
       "..          ...         ...         ...         ...         ...        ...   \n",
       "995  562.391017  712.123754  563.509542  612.196986  663.673752  31.013787   \n",
       "996  572.649253  671.634826  618.622722  615.187036  678.335147  26.619500   \n",
       "997  536.724820  586.519439  589.795985  617.748594  633.243831  35.576456   \n",
       "998  537.188041  666.550663  550.167690  601.954183  625.402453  34.881064   \n",
       "999  583.059981  646.865982  596.228807  584.325664  658.519304  32.632455   \n",
       "\n",
       "         area  \n",
       "0    0.086750  \n",
       "1    0.157536  \n",
       "2    0.085758  \n",
       "3    0.114540  \n",
       "4    0.061743  \n",
       "..        ...  \n",
       "995  0.117550  \n",
       "996  0.073451  \n",
       "997  0.166385  \n",
       "998  0.109406  \n",
       "999  0.110767  \n",
       "\n",
       "[1000 rows x 7 columns]"
      ]
     },
     "execution_count": 38,
     "metadata": {},
     "output_type": "execute_result"
    }
   ],
   "source": [
    "boots = pd.DataFrame([\n",
    "    fit_model(bootstrap(df))\n",
    "    for _ in range(1000)\n",
    "])\n",
    "boots"
   ]
  },
  {
   "cell_type": "markdown",
   "id": "08f5b1c3",
   "metadata": {
    "slideshow": {
     "slide_type": "subslide"
    }
   },
   "source": [
    "And, here is the distribution of estimates of $\\beta_\\text{Bethel}$.\n",
    "It is similar, but not identical, to our other distribution above (as expected)."
   ]
  },
  {
   "cell_type": "code",
   "execution_count": 39,
   "id": "357c0431",
   "metadata": {},
   "outputs": [
    {
     "data": {
      "image/png": "[encoded data removed]",
      "text/plain": [
       "<Figure size 1500x800 with 1 Axes>"
      ]
     },
     "metadata": {},
     "output_type": "display_data"
    }
   ],
   "source": [
    "plt.hist(boots.bethel)\n",
    "plt.xlabel(\"mean bethel rent\"); plt.ylabel(\"frequency\");\n",
    "plt.axvline(estimates['bethel'], color='red');"
   ]
  },
  {
   "cell_type": "markdown",
   "id": "41eecfb9",
   "metadata": {
    "slideshow": {
     "slide_type": "subslide"
    }
   },
   "source": [
    "**Conclusion:** The mean rent in Bethel for 500 ft${}^2$ apartments in 2010\n",
    "as about \\\\$556, with a 95\\% confidence interval of about \\\\$516 to \\\\$595.\n",
    "\n",
    "Widths of other 95\\% confidence intervals are below."
   ]
  },
  {
   "cell_type": "code",
   "execution_count": 40,
   "id": "8548d625",
   "metadata": {},
   "outputs": [
    {
     "data": {
      "text/plain": [
       "bethel       81.903727\n",
       "campus       86.150208\n",
       "churchill    80.140679\n",
       "river        79.275665\n",
       "whittaker    83.781929\n",
       "year         10.668984\n",
       "area          0.198419\n",
       "dtype: float64"
      ]
     },
     "execution_count": 40,
     "metadata": {},
     "output_type": "execute_result"
    }
   ],
   "source": [
    "boots.quantile(0.975) - experiments.quantile(0.025)"
   ]
  }
 ],
 "metadata": {
  "celltoolbar": "Slideshow",
  "kernelspec": {
   "display_name": "Python 3 (ipykernel)",
   "language": "python",
   "name": "python3"
  },
  "language_info": {
   "codemirror_mode": {
    "name": "ipython",
    "version": 3
   },
   "file_extension": ".py",
   "mimetype": "text/x-python",
   "name": "python",
   "nbconvert_exporter": "python",
   "pygments_lexer": "ipython3",
   "version": "3.11.8"
  },
  "rise": {
   "scroll": true,
   "transition": "none"
  }
 },
 "nbformat": 4,
 "nbformat_minor": 5
}
