{
 "cells": [
  {
   "cell_type": "markdown",
   "id": "202599bf",
   "metadata": {
    "slideshow": {
     "slide_type": "slide"
    }
   },
   "source": [
    "# Hello again, Uncertainty\n",
    "\n",
    "Peter Ralph\n",
    "\n",
    "https://uodsci.github.io/dsci345"
   ]
  },
  {
   "cell_type": "code",
   "execution_count": 1,
   "id": "733bfdf0",
   "metadata": {
    "slideshow": {
     "slide_type": "skip"
    }
   },
   "outputs": [],
   "source": [
    "import matplotlib\n",
    "import matplotlib.pyplot as plt\n",
    "matplotlib.rcParams['figure.figsize'] = (15, 8)\n",
    "import numpy as np\n",
    "import pandas as pd\n",
    "from dsci345 import pretty\n",
    "\n",
    "rng = np.random.default_rng()"
   ]
  },
  {
   "cell_type": "markdown",
   "id": "88ec5c59",
   "metadata": {
    "slideshow": {
     "slide_type": "skip"
    }
   },
   "source": [
    "$$\\renewcommand{\\P}{\\mathbb{P}} \\newcommand{\\E}{\\mathbb{E}} \\newcommand{\\var}{\\text{var}} \\newcommand{\\sd}{\\text{sd}} \\newcommand{\\cov}{\\text{cov}} \\newcommand{\\cor}{\\text{cor}}$$\n",
    "This is here so we can use `\\P` and `\\E` and `\\var` and `\\cov` and `\\cor` and `\\sd` in LaTeX below."
   ]
  },
  {
   "cell_type": "markdown",
   "id": "e9064c6e",
   "metadata": {
    "slideshow": {
     "slide_type": "slide"
    }
   },
   "source": [
    "# Prediction and Estimation"
   ]
  },
  {
   "cell_type": "markdown",
   "id": "ef4684d1",
   "metadata": {
    "slideshow": {
     "slide_type": "subslide"
    }
   },
   "source": [
    "Suppose I've collected data on rent in Eugene.\n",
    "Consider the following questions:\n",
    "\n",
    "1. How much does rent cost in the Bethel neighborhood this year?\n",
    "2. How much is rent changing by, per year?\n",
    "\n",
    "*Question:* What would good answers to these questions look like?"
   ]
  },
  {
   "cell_type": "markdown",
   "id": "5ed7086d",
   "metadata": {
    "slideshow": {
     "slide_type": "fragment"
    }
   },
   "source": [
    "We could answer these questions by\n",
    "\n",
    "- reporting empirical averages from the actual data\n",
    "- fitting a black-box predictor and asking it questions\n",
    "- fitting a model with explicit terms for neighborhood and year\n",
    "\n",
    "*(Discuss pros and cons and how these would actually work.)*"
   ]
  },
  {
   "cell_type": "markdown",
   "id": "f176dbf6",
   "metadata": {
    "slideshow": {
     "slide_type": "subslide"
    }
   },
   "source": [
    "# A third question\n",
    "\n",
    "3. How sure are you about those answers?"
   ]
  },
  {
   "cell_type": "markdown",
   "id": "334a64d7",
   "metadata": {
    "slideshow": {
     "slide_type": "fragment"
    }
   },
   "source": [
    "> 1. How much does rent cost in the Bethel neighborhood this year?\n",
    "\n",
    "\n",
    "Note that this has two notions of uncertainty:\n",
    "rents come in a range of values, but also there will be uncertainty in our estimates of that range."
   ]
  },
  {
   "cell_type": "markdown",
   "id": "ea82e3b6",
   "metadata": {
    "slideshow": {
     "slide_type": "slide"
    }
   },
   "source": [
    "# Uncertainty, by math"
   ]
  },
  {
   "cell_type": "markdown",
   "id": "ce9e7ce9",
   "metadata": {
    "slideshow": {
     "slide_type": "subslide"
    }
   },
   "source": [
    "## Reminder: confidence intervals\n",
    "\n",
    "If we have $n$ independent samples from some source,\n",
    "and the sample mean and SD are $\\bar x$ and $s$ respectively,\n",
    "then a 95% confidence interval is\n",
    "$$ \\bar x - t_n s / \\sqrt{n} \\qquad \\text{to} \\qquad \\bar x + t_n s / \\sqrt{n} , $$\n",
    "where $t_n$ is the 97.5% quantile for the $t$ distribution with $n-1$ degrees of freedom."
   ]
  },
  {
   "cell_type": "markdown",
   "id": "02d75722",
   "metadata": {
    "slideshow": {
     "slide_type": "fragment"
    }
   },
   "source": [
    "*Said another way:* $\\bar x$ is our estimate of the mean,\n",
    "and math gives us an estimate of the uncertainty behind our estimate."
   ]
  },
  {
   "cell_type": "markdown",
   "id": "0da288de",
   "metadata": {
    "slideshow": {
     "slide_type": "subslide"
    }
   },
   "source": [
    "1. How much does rent cost in the Bethel neighborhood this year?\n",
    "\n",
    "**(Take the mean of the rents in Bethel this year.)**\n",
    "\n",
    "2. How much is rent changing by, per year?\n",
    "\n",
    "**(Take the mean difference in rent of places that go up for rent in adjacent years.)**\n",
    "\n",
    "3. How sure are you about those answers?\n",
    "\n",
    "**(Get 95% CIs for them.)**"
   ]
  },
  {
   "cell_type": "markdown",
   "id": "84e18b6c",
   "metadata": {
    "slideshow": {
     "slide_type": "slide"
    }
   },
   "source": [
    "# A model"
   ]
  },
  {
   "cell_type": "markdown",
   "id": "58b58529",
   "metadata": {
    "slideshow": {
     "slide_type": "subslide"
    }
   },
   "source": [
    "For example: suppose we fit a model where\n",
    "the price of the $i^\\text{th}$ apartment is\n",
    "$$\\begin{aligned}\n",
    "    p_i &= \\beta_{n_i} + \\beta_\\text{year} y_i + \\beta_\\text{area} a_i + \\epsilon_i \\\\\n",
    "    \\epsilon_i &\\sim \\text{Normal}(0, \\sigma) ,\n",
    "\\end{aligned}$$\n",
    "where\n",
    "- $p_i$ is the price (in dollars)\n",
    "- $n_i$ is the neighborhood,\n",
    "- $\\beta_n$ is the mean price in neighborhood $n$\n",
    "- $y_i$ is the year\n",
    "- $\\beta_\\text{year}$ is the amount that rent changes by, per year, on average\n",
    "- $a_i$ is the area in square feet\n",
    "- $\\beta_\\text{area}$ is the amount that rent goes up per additional square foot, on average\n",
    "- $\\epsilon_i$ is the residual, and\n",
    "- $\\sigma$ is how much otherwise similar apartments differ in price"
   ]
  },
  {
   "cell_type": "markdown",
   "id": "61200376",
   "metadata": {
    "slideshow": {
     "slide_type": "subslide"
    }
   },
   "source": [
    "1. How much does rent cost in the Bethel neighborhood this year?\n",
    "\n",
    "**(Our estimate of $\\beta_\\text{Bethel}$ plus terms for year and area.)**\n",
    "\n",
    "2. How much is rent changing by, per year?\n",
    "\n",
    "**(Our estimate of $\\beta_\\text{year}$.)**\n",
    "\n",
    "3. How sure are you about those answers?\n",
    "\n",
    "**???**"
   ]
  },
  {
   "cell_type": "markdown",
   "id": "7afb588e",
   "metadata": {
    "slideshow": {
     "slide_type": "subslide"
    }
   },
   "source": [
    "## Aside: how do we fit this model?\n",
    "\n",
    "We'll do it in two lines,\n",
    "with [patsy](https://patsy.readthedocs.io/en/latest/quickstart.html)\n",
    "and `np.linalg.lstsq`. \n",
    "*(Reminder: since the residuals are Normal, least squares is the same as maximum likelihood.)*"
   ]
  },
  {
   "cell_type": "markdown",
   "id": "3377b89d",
   "metadata": {
    "slideshow": {
     "slide_type": "subslide"
    }
   },
   "source": [
    "First, let's read in [the data](data/housing.csv).\n",
    "*(Note: it's fake data.)* ([github link](https://github.com/UOdsci/dsci345/raw/main/class_material/slides/data/housing.csv))"
   ]
  },
  {
   "cell_type": "code",
   "execution_count": 2,
   "id": "0444c7dd",
   "metadata": {
    "scrolled": true
   },
   "outputs": [
    {
     "data": {
      "text/html": [
       "<div>\n",
       "<style scoped>\n",
       "    .dataframe tbody tr th:only-of-type {\n",
       "        vertical-align: middle;\n",
       "    }\n",
       "\n",
       "    .dataframe tbody tr th {\n",
       "        vertical-align: top;\n",
       "    }\n",
       "\n",
       "    .dataframe thead th {\n",
       "        text-align: right;\n",
       "    }\n",
       "</style>\n",
       "<table border=\"1\" class=\"dataframe\">\n",
       "  <thead>\n",
       "    <tr style=\"text-align: right;\">\n",
       "      <th></th>\n",
       "      <th>hood</th>\n",
       "      <th>year</th>\n",
       "      <th>area</th>\n",
       "      <th>rent</th>\n",
       "    </tr>\n",
       "  </thead>\n",
       "  <tbody>\n",
       "    <tr>\n",
       "      <th>0</th>\n",
       "      <td>river</td>\n",
       "      <td>2014</td>\n",
       "      <td>489.0</td>\n",
       "      <td>942.0</td>\n",
       "    </tr>\n",
       "    <tr>\n",
       "      <th>1</th>\n",
       "      <td>bethel</td>\n",
       "      <td>2010</td>\n",
       "      <td>610.0</td>\n",
       "      <td>370.0</td>\n",
       "    </tr>\n",
       "    <tr>\n",
       "      <th>2</th>\n",
       "      <td>churchill</td>\n",
       "      <td>2017</td>\n",
       "      <td>385.0</td>\n",
       "      <td>669.0</td>\n",
       "    </tr>\n",
       "    <tr>\n",
       "      <th>3</th>\n",
       "      <td>bethel</td>\n",
       "      <td>2012</td>\n",
       "      <td>757.0</td>\n",
       "      <td>624.0</td>\n",
       "    </tr>\n",
       "    <tr>\n",
       "      <th>4</th>\n",
       "      <td>bethel</td>\n",
       "      <td>2019</td>\n",
       "      <td>504.0</td>\n",
       "      <td>990.0</td>\n",
       "    </tr>\n",
       "    <tr>\n",
       "      <th>...</th>\n",
       "      <td>...</td>\n",
       "      <td>...</td>\n",
       "      <td>...</td>\n",
       "      <td>...</td>\n",
       "    </tr>\n",
       "    <tr>\n",
       "      <th>395</th>\n",
       "      <td>bethel</td>\n",
       "      <td>2012</td>\n",
       "      <td>238.0</td>\n",
       "      <td>579.0</td>\n",
       "    </tr>\n",
       "    <tr>\n",
       "      <th>396</th>\n",
       "      <td>campus</td>\n",
       "      <td>2016</td>\n",
       "      <td>287.0</td>\n",
       "      <td>759.0</td>\n",
       "    </tr>\n",
       "    <tr>\n",
       "      <th>397</th>\n",
       "      <td>churchill</td>\n",
       "      <td>2016</td>\n",
       "      <td>526.0</td>\n",
       "      <td>679.0</td>\n",
       "    </tr>\n",
       "    <tr>\n",
       "      <th>398</th>\n",
       "      <td>campus</td>\n",
       "      <td>2014</td>\n",
       "      <td>418.0</td>\n",
       "      <td>868.0</td>\n",
       "    </tr>\n",
       "    <tr>\n",
       "      <th>399</th>\n",
       "      <td>bethel</td>\n",
       "      <td>2018</td>\n",
       "      <td>386.0</td>\n",
       "      <td>983.0</td>\n",
       "    </tr>\n",
       "  </tbody>\n",
       "</table>\n",
       "<p>400 rows × 4 columns</p>\n",
       "</div>"
      ],
      "text/plain": [
       "          hood  year   area   rent\n",
       "0        river  2014  489.0  942.0\n",
       "1       bethel  2010  610.0  370.0\n",
       "2    churchill  2017  385.0  669.0\n",
       "3       bethel  2012  757.0  624.0\n",
       "4       bethel  2019  504.0  990.0\n",
       "..         ...   ...    ...    ...\n",
       "395     bethel  2012  238.0  579.0\n",
       "396     campus  2016  287.0  759.0\n",
       "397  churchill  2016  526.0  679.0\n",
       "398     campus  2014  418.0  868.0\n",
       "399     bethel  2018  386.0  983.0\n",
       "\n",
       "[400 rows x 4 columns]"
      ]
     },
     "execution_count": 2,
     "metadata": {},
     "output_type": "execute_result"
    }
   ],
   "source": [
    "df = pd.read_csv(\"data/housing.csv\", index_col=0)\n",
    "df"
   ]
  },
  {
   "cell_type": "markdown",
   "id": "ce68e476",
   "metadata": {
    "slideshow": {
     "slide_type": "subslide"
    }
   },
   "source": [
    "Next, let's shift the variables, so that for instance\n",
    "$\\beta_\\text{Bethel}$ is the average price of a 500 ft${}^2$ apartment in 2010\n",
    "(instead of a 0 ft${}^2$ apartment in the year 0):"
   ]
  },
  {
   "cell_type": "code",
   "execution_count": 12,
   "id": "56edb2a0",
   "metadata": {},
   "outputs": [],
   "source": [
    "df['area'] -= 500\n",
    "df['year'] -= 2010"
   ]
  },
  {
   "cell_type": "markdown",
   "id": "b4265d20",
   "metadata": {},
   "source": [
    "Now, fit the model,\n",
    "using patsy to make the *design matrix* (see board):"
   ]
  },
  {
   "cell_type": "code",
   "execution_count": 13,
   "id": "74a7ea63",
   "metadata": {},
   "outputs": [
    {
     "data": {
      "text/plain": [
       "{'bethel': 556.0088681522553,\n",
       " 'campus': 649.8851743401478,\n",
       " 'churchill': 584.096857622859,\n",
       " 'river': 610.4626011683354,\n",
       " 'whittaker': 643.2011227181556,\n",
       " 'year': 31.218431226183554,\n",
       " 'area': 0.10063620684195485}"
      ]
     },
     "execution_count": 13,
     "metadata": {},
     "output_type": "execute_result"
    }
   ],
   "source": [
    "import patsy\n",
    "outcome, predictors = patsy.dmatrices(\"rent ~ 0 + hood + year + area\", df)\n",
    "fit = np.linalg.lstsq(predictors, outcome, rcond=None)\n",
    "\n",
    "estimates = { k.lstrip('hood[').rstrip(\"]\") : v for k, v in zip(predictors.design_info.column_names, fit[0].ravel())}\n",
    "\n",
    "estimates"
   ]
  },
  {
   "cell_type": "code",
   "execution_count": 17,
   "id": "0bd4a6bc",
   "metadata": {},
   "outputs": [
    {
     "data": {
      "text/plain": [
       "array([[   0.,    0.,    0.,    1.,    0.,    4.,  -11.],\n",
       "       [   1.,    0.,    0.,    0.,    0.,    0.,  110.],\n",
       "       [   0.,    0.,    1.,    0.,    0.,    7., -115.],\n",
       "       [   1.,    0.,    0.,    0.,    0.,    2.,  257.],\n",
       "       [   1.,    0.,    0.,    0.,    0.,    9.,    4.],\n",
       "       [   0.,    0.,    0.,    0.,    1.,    5.,  -16.],\n",
       "       [   0.,    0.,    0.,    1.,    0.,    6.,   93.],\n",
       "       [   1.,    0.,    0.,    0.,    0.,    4., -196.],\n",
       "       [   1.,    0.,    0.,    0.,    0.,    3.,  163.],\n",
       "       [   0.,    1.,    0.,    0.,    0.,    2.,   81.]])"
      ]
     },
     "execution_count": 17,
     "metadata": {},
     "output_type": "execute_result"
    }
   ],
   "source": [
    "np.asarray(predictors)[:10,:]"
   ]
  },
  {
   "cell_type": "code",
   "execution_count": 18,
   "id": "3fbd90d8",
   "metadata": {},
   "outputs": [
    {
     "data": {
      "text/html": [
       "<div>\n",
       "<style scoped>\n",
       "    .dataframe tbody tr th:only-of-type {\n",
       "        vertical-align: middle;\n",
       "    }\n",
       "\n",
       "    .dataframe tbody tr th {\n",
       "        vertical-align: top;\n",
       "    }\n",
       "\n",
       "    .dataframe thead th {\n",
       "        text-align: right;\n",
       "    }\n",
       "</style>\n",
       "<table border=\"1\" class=\"dataframe\">\n",
       "  <thead>\n",
       "    <tr style=\"text-align: right;\">\n",
       "      <th></th>\n",
       "      <th>hood</th>\n",
       "      <th>year</th>\n",
       "      <th>area</th>\n",
       "      <th>rent</th>\n",
       "    </tr>\n",
       "  </thead>\n",
       "  <tbody>\n",
       "    <tr>\n",
       "      <th>0</th>\n",
       "      <td>river</td>\n",
       "      <td>4</td>\n",
       "      <td>-11.0</td>\n",
       "      <td>942.0</td>\n",
       "    </tr>\n",
       "    <tr>\n",
       "      <th>1</th>\n",
       "      <td>bethel</td>\n",
       "      <td>0</td>\n",
       "      <td>110.0</td>\n",
       "      <td>370.0</td>\n",
       "    </tr>\n",
       "    <tr>\n",
       "      <th>2</th>\n",
       "      <td>churchill</td>\n",
       "      <td>7</td>\n",
       "      <td>-115.0</td>\n",
       "      <td>669.0</td>\n",
       "    </tr>\n",
       "    <tr>\n",
       "      <th>3</th>\n",
       "      <td>bethel</td>\n",
       "      <td>2</td>\n",
       "      <td>257.0</td>\n",
       "      <td>624.0</td>\n",
       "    </tr>\n",
       "    <tr>\n",
       "      <th>4</th>\n",
       "      <td>bethel</td>\n",
       "      <td>9</td>\n",
       "      <td>4.0</td>\n",
       "      <td>990.0</td>\n",
       "    </tr>\n",
       "    <tr>\n",
       "      <th>...</th>\n",
       "      <td>...</td>\n",
       "      <td>...</td>\n",
       "      <td>...</td>\n",
       "      <td>...</td>\n",
       "    </tr>\n",
       "    <tr>\n",
       "      <th>395</th>\n",
       "      <td>bethel</td>\n",
       "      <td>2</td>\n",
       "      <td>-262.0</td>\n",
       "      <td>579.0</td>\n",
       "    </tr>\n",
       "    <tr>\n",
       "      <th>396</th>\n",
       "      <td>campus</td>\n",
       "      <td>6</td>\n",
       "      <td>-213.0</td>\n",
       "      <td>759.0</td>\n",
       "    </tr>\n",
       "    <tr>\n",
       "      <th>397</th>\n",
       "      <td>churchill</td>\n",
       "      <td>6</td>\n",
       "      <td>26.0</td>\n",
       "      <td>679.0</td>\n",
       "    </tr>\n",
       "    <tr>\n",
       "      <th>398</th>\n",
       "      <td>campus</td>\n",
       "      <td>4</td>\n",
       "      <td>-82.0</td>\n",
       "      <td>868.0</td>\n",
       "    </tr>\n",
       "    <tr>\n",
       "      <th>399</th>\n",
       "      <td>bethel</td>\n",
       "      <td>8</td>\n",
       "      <td>-114.0</td>\n",
       "      <td>983.0</td>\n",
       "    </tr>\n",
       "  </tbody>\n",
       "</table>\n",
       "<p>400 rows × 4 columns</p>\n",
       "</div>"
      ],
      "text/plain": [
       "          hood  year   area   rent\n",
       "0        river     4  -11.0  942.0\n",
       "1       bethel     0  110.0  370.0\n",
       "2    churchill     7 -115.0  669.0\n",
       "3       bethel     2  257.0  624.0\n",
       "4       bethel     9    4.0  990.0\n",
       "..         ...   ...    ...    ...\n",
       "395     bethel     2 -262.0  579.0\n",
       "396     campus     6 -213.0  759.0\n",
       "397  churchill     6   26.0  679.0\n",
       "398     campus     4  -82.0  868.0\n",
       "399     bethel     8 -114.0  983.0\n",
       "\n",
       "[400 rows x 4 columns]"
      ]
     },
     "execution_count": 18,
     "metadata": {},
     "output_type": "execute_result"
    }
   ],
   "source": [
    "df"
   ]
  },
  {
   "cell_type": "markdown",
   "id": "7f1389c8",
   "metadata": {
    "slideshow": {
     "slide_type": "slide"
    }
   },
   "source": [
    "# Uncertainty, by simulation"
   ]
  },
  {
   "cell_type": "markdown",
   "id": "c19fd691",
   "metadata": {
    "slideshow": {
     "slide_type": "subslide"
    }
   },
   "source": [
    "Okay, so we'd like to know\n",
    "how far off our guesses of $\\beta_\\text{Bethel}$ or $\\beta_a$ are\n",
    "from \"the truth\"."
   ]
  },
  {
   "cell_type": "markdown",
   "id": "3a7353ad",
   "metadata": {
    "slideshow": {
     "slide_type": "fragment"
    }
   },
   "source": [
    "Well, one way to do this is to *simulate* data where we know the truth,\n",
    "and then see how far off our guesses are.\n",
    "If the simulations describe the real data well, \n",
    "then this should give us a good estimate."
   ]
  },
  {
   "cell_type": "markdown",
   "id": "4393153e",
   "metadata": {
    "slideshow": {
     "slide_type": "fragment"
    }
   },
   "source": [
    "This is sometimes known as *the parametric bootstrap*.\n",
    "(We'll meet it's more famous cousin, \"the\" bootstrap, next.)\n",
    "We actually did it, last class.\n",
    "Let's do it again!"
   ]
  },
  {
   "cell_type": "markdown",
   "id": "ef3fed53",
   "metadata": {
    "slideshow": {
     "slide_type": "subslide"
    }
   },
   "source": [
    "Okay, from our \"real data\" we estimated a certain set of estimated parameter values.\n",
    "To make the simulated datasets look as much like the real data as possible,\n",
    "we should simulate using those parameter values."
   ]
  },
  {
   "cell_type": "code",
   "execution_count": 19,
   "id": "b6c99c77",
   "metadata": {
    "slideshow": {
     "slide_type": "subslide"
    }
   },
   "outputs": [],
   "source": [
    "def sim_rents(df, beta):\n",
    "    # TODO: estimate sigma\n",
    "    sim_df = df.copy()\n",
    "    sim_df['rent'] = np.round(\n",
    "        np.array([beta[h] for h in sim_df.hood]) + beta['year'] * sim_df.year + beta['area'] * sim_df.area\n",
    "        + rng.normal(scale=150, size=len(df))\n",
    "    )\n",
    "    return sim_df"
   ]
  },
  {
   "cell_type": "code",
   "execution_count": 20,
   "id": "1b18ff02",
   "metadata": {
    "slideshow": {
     "slide_type": "subslide"
    }
   },
   "outputs": [],
   "source": [
    "def fit_model(df):\n",
    "    outcome, predictors = patsy.dmatrices(\"rent ~ 0 + hood + year + area\", df)\n",
    "    fit = np.linalg.lstsq(predictors, outcome, rcond=None)\n",
    "    estimates = { k.lstrip('hood[').rstrip(\"]\") : v for k, v in zip(predictors.design_info.column_names, fit[0].ravel())}\n",
    "    return estimates"
   ]
  },
  {
   "cell_type": "code",
   "execution_count": 21,
   "id": "11ac2a14",
   "metadata": {},
   "outputs": [
    {
     "data": {
      "text/plain": [
       "{'bethel': 556.0088681522553,\n",
       " 'campus': 649.8851743401478,\n",
       " 'churchill': 584.096857622859,\n",
       " 'river': 610.4626011683354,\n",
       " 'whittaker': 643.2011227181556,\n",
       " 'year': 31.218431226183554,\n",
       " 'area': 0.10063620684195485}"
      ]
     },
     "execution_count": 21,
     "metadata": {},
     "output_type": "execute_result"
    }
   ],
   "source": [
    "estimates"
   ]
  },
  {
   "cell_type": "code",
   "execution_count": 22,
   "id": "aea9b229",
   "metadata": {
    "slideshow": {
     "slide_type": "subslide"
    }
   },
   "outputs": [
    {
     "data": {
      "text/html": [
       "<div>\n",
       "<style scoped>\n",
       "    .dataframe tbody tr th:only-of-type {\n",
       "        vertical-align: middle;\n",
       "    }\n",
       "\n",
       "    .dataframe tbody tr th {\n",
       "        vertical-align: top;\n",
       "    }\n",
       "\n",
       "    .dataframe thead th {\n",
       "        text-align: right;\n",
       "    }\n",
       "</style>\n",
       "<table border=\"1\" class=\"dataframe\">\n",
       "  <thead>\n",
       "    <tr style=\"text-align: right;\">\n",
       "      <th></th>\n",
       "      <th>bethel</th>\n",
       "      <th>campus</th>\n",
       "      <th>churchill</th>\n",
       "      <th>river</th>\n",
       "      <th>whittaker</th>\n",
       "      <th>year</th>\n",
       "      <th>area</th>\n",
       "    </tr>\n",
       "  </thead>\n",
       "  <tbody>\n",
       "    <tr>\n",
       "      <th>0</th>\n",
       "      <td>584.166142</td>\n",
       "      <td>669.344459</td>\n",
       "      <td>574.731355</td>\n",
       "      <td>591.671821</td>\n",
       "      <td>608.832851</td>\n",
       "      <td>31.493292</td>\n",
       "      <td>0.167410</td>\n",
       "    </tr>\n",
       "    <tr>\n",
       "      <th>1</th>\n",
       "      <td>548.470520</td>\n",
       "      <td>642.081607</td>\n",
       "      <td>595.742004</td>\n",
       "      <td>600.295146</td>\n",
       "      <td>666.204431</td>\n",
       "      <td>31.388636</td>\n",
       "      <td>0.069435</td>\n",
       "    </tr>\n",
       "    <tr>\n",
       "      <th>2</th>\n",
       "      <td>547.651974</td>\n",
       "      <td>638.041640</td>\n",
       "      <td>575.990943</td>\n",
       "      <td>615.388108</td>\n",
       "      <td>646.721045</td>\n",
       "      <td>31.595768</td>\n",
       "      <td>0.062728</td>\n",
       "    </tr>\n",
       "    <tr>\n",
       "      <th>3</th>\n",
       "      <td>536.316663</td>\n",
       "      <td>654.783653</td>\n",
       "      <td>555.725922</td>\n",
       "      <td>569.821275</td>\n",
       "      <td>619.417161</td>\n",
       "      <td>34.060227</td>\n",
       "      <td>0.134359</td>\n",
       "    </tr>\n",
       "    <tr>\n",
       "      <th>4</th>\n",
       "      <td>531.365627</td>\n",
       "      <td>642.714180</td>\n",
       "      <td>549.097306</td>\n",
       "      <td>599.470425</td>\n",
       "      <td>620.595974</td>\n",
       "      <td>35.858746</td>\n",
       "      <td>0.186808</td>\n",
       "    </tr>\n",
       "    <tr>\n",
       "      <th>...</th>\n",
       "      <td>...</td>\n",
       "      <td>...</td>\n",
       "      <td>...</td>\n",
       "      <td>...</td>\n",
       "      <td>...</td>\n",
       "      <td>...</td>\n",
       "      <td>...</td>\n",
       "    </tr>\n",
       "    <tr>\n",
       "      <th>995</th>\n",
       "      <td>571.000615</td>\n",
       "      <td>652.546163</td>\n",
       "      <td>591.171362</td>\n",
       "      <td>613.168836</td>\n",
       "      <td>620.567379</td>\n",
       "      <td>32.368239</td>\n",
       "      <td>0.076406</td>\n",
       "    </tr>\n",
       "    <tr>\n",
       "      <th>996</th>\n",
       "      <td>563.204296</td>\n",
       "      <td>651.825988</td>\n",
       "      <td>575.818048</td>\n",
       "      <td>585.150447</td>\n",
       "      <td>635.718936</td>\n",
       "      <td>32.763511</td>\n",
       "      <td>0.116031</td>\n",
       "    </tr>\n",
       "    <tr>\n",
       "      <th>997</th>\n",
       "      <td>535.515492</td>\n",
       "      <td>672.482377</td>\n",
       "      <td>585.800205</td>\n",
       "      <td>619.261592</td>\n",
       "      <td>630.486191</td>\n",
       "      <td>32.680833</td>\n",
       "      <td>0.122732</td>\n",
       "    </tr>\n",
       "    <tr>\n",
       "      <th>998</th>\n",
       "      <td>566.963529</td>\n",
       "      <td>652.628457</td>\n",
       "      <td>586.192732</td>\n",
       "      <td>601.332649</td>\n",
       "      <td>630.896443</td>\n",
       "      <td>33.485426</td>\n",
       "      <td>0.165508</td>\n",
       "    </tr>\n",
       "    <tr>\n",
       "      <th>999</th>\n",
       "      <td>550.667404</td>\n",
       "      <td>691.137482</td>\n",
       "      <td>587.182878</td>\n",
       "      <td>595.772298</td>\n",
       "      <td>659.115267</td>\n",
       "      <td>28.295050</td>\n",
       "      <td>0.172685</td>\n",
       "    </tr>\n",
       "  </tbody>\n",
       "</table>\n",
       "<p>1000 rows × 7 columns</p>\n",
       "</div>"
      ],
      "text/plain": [
       "         bethel      campus   churchill       river   whittaker       year  \\\n",
       "0    584.166142  669.344459  574.731355  591.671821  608.832851  31.493292   \n",
       "1    548.470520  642.081607  595.742004  600.295146  666.204431  31.388636   \n",
       "2    547.651974  638.041640  575.990943  615.388108  646.721045  31.595768   \n",
       "3    536.316663  654.783653  555.725922  569.821275  619.417161  34.060227   \n",
       "4    531.365627  642.714180  549.097306  599.470425  620.595974  35.858746   \n",
       "..          ...         ...         ...         ...         ...        ...   \n",
       "995  571.000615  652.546163  591.171362  613.168836  620.567379  32.368239   \n",
       "996  563.204296  651.825988  575.818048  585.150447  635.718936  32.763511   \n",
       "997  535.515492  672.482377  585.800205  619.261592  630.486191  32.680833   \n",
       "998  566.963529  652.628457  586.192732  601.332649  630.896443  33.485426   \n",
       "999  550.667404  691.137482  587.182878  595.772298  659.115267  28.295050   \n",
       "\n",
       "         area  \n",
       "0    0.167410  \n",
       "1    0.069435  \n",
       "2    0.062728  \n",
       "3    0.134359  \n",
       "4    0.186808  \n",
       "..        ...  \n",
       "995  0.076406  \n",
       "996  0.116031  \n",
       "997  0.122732  \n",
       "998  0.165508  \n",
       "999  0.172685  \n",
       "\n",
       "[1000 rows x 7 columns]"
      ]
     },
     "execution_count": 22,
     "metadata": {},
     "output_type": "execute_result"
    }
   ],
   "source": [
    "experiments = pd.DataFrame([\n",
    "    fit_model(sim_rents(df, beta=estimates))\n",
    "    for _ in range(1000)\n",
    "])\n",
    "experiments"
   ]
  },
  {
   "cell_type": "code",
   "execution_count": 23,
   "id": "6b55a2ec",
   "metadata": {
    "slideshow": {
     "slide_type": "subslide"
    }
   },
   "outputs": [
    {
     "data": {
      "image/png": "[encoded data removed]",
      "text/plain": [
       "<Figure size 1500x800 with 1 Axes>"
      ]
     },
     "metadata": {},
     "output_type": "display_data"
    }
   ],
   "source": [
    "plt.hist(experiments.bethel)\n",
    "plt.xlabel(\"mean bethel rent\"); plt.ylabel(\"frequency\");\n",
    "plt.axvline(estimates['bethel'], color='red');"
   ]
  },
  {
   "cell_type": "markdown",
   "id": "b7e3c7c0",
   "metadata": {
    "slideshow": {
     "slide_type": "subslide"
    }
   },
   "source": [
    "**Conclusion:** The mean rent in Bethel for 500 ft${}^2$ apartments in 2010\n",
    "as about \\\\$556, with a 95\\% confidence interval of about \\\\$518 to \\\\$595.\n",
    "\n",
    "Widths of other 95\\% confidence intervals are below."
   ]
  },
  {
   "cell_type": "code",
   "execution_count": 26,
   "id": "2cee481f",
   "metadata": {},
   "outputs": [
    {
     "data": {
      "text/plain": [
       "{'bethel': 556.0088681522553,\n",
       " 'campus': 649.8851743401478,\n",
       " 'churchill': 584.096857622859,\n",
       " 'river': 610.4626011683354,\n",
       " 'whittaker': 643.2011227181556,\n",
       " 'year': 31.218431226183554,\n",
       " 'area': 0.10063620684195485}"
      ]
     },
     "execution_count": 26,
     "metadata": {},
     "output_type": "execute_result"
    }
   ],
   "source": [
    "estimates"
   ]
  },
  {
   "cell_type": "code",
   "execution_count": 24,
   "id": "0a04f327",
   "metadata": {},
   "outputs": [
    {
     "data": {
      "text/plain": [
       "bethel       75.792440\n",
       "campus       85.024373\n",
       "churchill    77.645715\n",
       "river        80.409836\n",
       "whittaker    83.334995\n",
       "year         10.468143\n",
       "area          0.191446\n",
       "dtype: float64"
      ]
     },
     "execution_count": 24,
     "metadata": {},
     "output_type": "execute_result"
    }
   ],
   "source": [
    "experiments.quantile(0.975) - experiments.quantile(0.025)"
   ]
  },
  {
   "cell_type": "markdown",
   "id": "e7790792",
   "metadata": {
    "slideshow": {
     "slide_type": "slide"
    }
   },
   "source": [
    "# Uncertainty, by our bootstraps"
   ]
  },
  {
   "cell_type": "markdown",
   "id": "84ac6f1a",
   "metadata": {
    "slideshow": {
     "slide_type": "subslide"
    }
   },
   "source": [
    "*However*, sometimes we don't have\n",
    "(or can't be bothered to make)\n",
    "a good generative model\n",
    "to simulate from.\n",
    "Or we tried and it was hard to get realistic-looking data.\n",
    "What to do then?"
   ]
  },
  {
   "cell_type": "markdown",
   "id": "8c5488c3",
   "metadata": {
    "slideshow": {
     "slide_type": "fragment"
    }
   },
   "source": [
    "Well, what we'd *like* to do is to draw a bunch of new datasets\n",
    "from wherever we got the first one."
   ]
  },
  {
   "cell_type": "markdown",
   "id": "3fa15c92",
   "metadata": {
    "slideshow": {
     "slide_type": "fragment"
    }
   },
   "source": [
    "This seems unrealistic... *but*, our best guess at what that would be like if we could...\n",
    "is our dataset itself!"
   ]
  },
  {
   "cell_type": "markdown",
   "id": "486f54b2",
   "metadata": {
    "slideshow": {
     "slide_type": "subslide"
    }
   },
   "source": [
    "## The bootstrap\n",
    "\n",
    "Suppose we have a method that estimates something.\n",
    "To get an estimate of *uncertainty* of that estimate,\n",
    "\n",
    "1. Obtain a new dataset, of the same size as the original,\n",
    "    by resampling *with replacement* observations from the original dataset.\n",
    "    \n",
    "2. Apply the method to this 'bootstrapped' dataset.\n",
    "\n",
    "3. Repeat lots of times.\n",
    "\n",
    "Then, the middle 95% of the estimates\n",
    "gives you the \"bootstrap 95% confidence interval\"."
   ]
  },
  {
   "cell_type": "markdown",
   "id": "0ac47a23",
   "metadata": {
    "slideshow": {
     "slide_type": "subslide"
    }
   },
   "source": [
    "## Exercise:\n",
    "\n",
    "Here are 10 numbers.\n",
    "```\n",
    "array([176, 255,  53,  94,  61, 119,  42, 109,   0,  30])\n",
    "```\n",
    "\n",
    "1. Compute the median.\n",
    "2. 1,000 times, resample 10 numbers, with replacement, from this list of numbers,\n",
    "    and compute the median.\n",
    "3. Make a histogram of those 1,000 medians, with the original median as a vertical line."
   ]
  },
  {
   "cell_type": "code",
   "execution_count": 37,
   "id": "007288a3",
   "metadata": {},
   "outputs": [],
   "source": [
    "# IN CLASS\n",
    "x = np.array([176, 255,  53,  94,  61, 119,  42, 109,   0,  30])\n",
    "med_x = np.median(x)"
   ]
  },
  {
   "cell_type": "code",
   "execution_count": 36,
   "id": "633b682d",
   "metadata": {},
   "outputs": [],
   "source": [
    "boot_meds = [np.median(rng.choice(x, size=10, replace=True)) for _ in range(1000)]"
   ]
  },
  {
   "cell_type": "code",
   "execution_count": 46,
   "id": "8388950b",
   "metadata": {},
   "outputs": [
    {
     "data": {
      "image/png": "[encoded data removed]",
      "text/plain": [
       "<Figure size 1500x800 with 1 Axes>"
      ]
     },
     "metadata": {},
     "output_type": "display_data"
    }
   ],
   "source": [
    "fig, ax = plt.subplots()\n",
    "ax.hist(boot_meds, bins=pretty(boot_meds, 20))\n",
    "ax.axvline(med_x, c='red');"
   ]
  },
  {
   "cell_type": "code",
   "execution_count": 47,
   "id": "9018765b",
   "metadata": {},
   "outputs": [
    {
     "data": {
      "text/plain": [
       "(42.0, 142.6249999999999)"
      ]
     },
     "execution_count": 47,
     "metadata": {},
     "output_type": "execute_result"
    }
   ],
   "source": [
    "# 95% confidence interval\n",
    "(np.quantile(boot_meds, 0.025), np.quantile(boot_meds, 0.975))"
   ]
  },
  {
   "cell_type": "markdown",
   "id": "f83a43c7",
   "metadata": {
    "slideshow": {
     "slide_type": "subslide"
    }
   },
   "source": [
    "Here's a (very) simple method to obtain a bootstrap resampled version of a data frame:"
   ]
  },
  {
   "cell_type": "code",
   "execution_count": 48,
   "id": "ef75bf1b",
   "metadata": {},
   "outputs": [],
   "source": [
    "def bootstrap(df):\n",
    "    n = df.shape[0]\n",
    "    return df.loc[rng.choice(n, n)]"
   ]
  },
  {
   "cell_type": "markdown",
   "id": "4f5e017f",
   "metadata": {
    "slideshow": {
     "slide_type": "subslide"
    }
   },
   "source": [
    "And, here, let's apply the`fit_model` method above to 1000 of these."
   ]
  },
  {
   "cell_type": "code",
   "execution_count": 49,
   "id": "213236de",
   "metadata": {},
   "outputs": [
    {
     "data": {
      "text/html": [
       "<div>\n",
       "<style scoped>\n",
       "    .dataframe tbody tr th:only-of-type {\n",
       "        vertical-align: middle;\n",
       "    }\n",
       "\n",
       "    .dataframe tbody tr th {\n",
       "        vertical-align: top;\n",
       "    }\n",
       "\n",
       "    .dataframe thead th {\n",
       "        text-align: right;\n",
       "    }\n",
       "</style>\n",
       "<table border=\"1\" class=\"dataframe\">\n",
       "  <thead>\n",
       "    <tr style=\"text-align: right;\">\n",
       "      <th></th>\n",
       "      <th>bethel</th>\n",
       "      <th>campus</th>\n",
       "      <th>churchill</th>\n",
       "      <th>river</th>\n",
       "      <th>whittaker</th>\n",
       "      <th>year</th>\n",
       "      <th>area</th>\n",
       "    </tr>\n",
       "  </thead>\n",
       "  <tbody>\n",
       "    <tr>\n",
       "      <th>0</th>\n",
       "      <td>560.210451</td>\n",
       "      <td>636.016871</td>\n",
       "      <td>578.413202</td>\n",
       "      <td>619.843782</td>\n",
       "      <td>667.053935</td>\n",
       "      <td>30.274924</td>\n",
       "      <td>0.047091</td>\n",
       "    </tr>\n",
       "    <tr>\n",
       "      <th>1</th>\n",
       "      <td>564.531604</td>\n",
       "      <td>622.427456</td>\n",
       "      <td>588.565815</td>\n",
       "      <td>613.542364</td>\n",
       "      <td>638.936977</td>\n",
       "      <td>31.627643</td>\n",
       "      <td>0.026321</td>\n",
       "    </tr>\n",
       "    <tr>\n",
       "      <th>2</th>\n",
       "      <td>567.543019</td>\n",
       "      <td>627.054073</td>\n",
       "      <td>572.087178</td>\n",
       "      <td>595.868772</td>\n",
       "      <td>626.018438</td>\n",
       "      <td>33.476634</td>\n",
       "      <td>0.139231</td>\n",
       "    </tr>\n",
       "    <tr>\n",
       "      <th>3</th>\n",
       "      <td>529.557267</td>\n",
       "      <td>686.867199</td>\n",
       "      <td>596.213492</td>\n",
       "      <td>589.702256</td>\n",
       "      <td>625.340334</td>\n",
       "      <td>31.717146</td>\n",
       "      <td>0.163151</td>\n",
       "    </tr>\n",
       "    <tr>\n",
       "      <th>4</th>\n",
       "      <td>554.290280</td>\n",
       "      <td>671.216130</td>\n",
       "      <td>606.793057</td>\n",
       "      <td>619.289359</td>\n",
       "      <td>674.408295</td>\n",
       "      <td>30.395264</td>\n",
       "      <td>0.092401</td>\n",
       "    </tr>\n",
       "    <tr>\n",
       "      <th>...</th>\n",
       "      <td>...</td>\n",
       "      <td>...</td>\n",
       "      <td>...</td>\n",
       "      <td>...</td>\n",
       "      <td>...</td>\n",
       "      <td>...</td>\n",
       "      <td>...</td>\n",
       "    </tr>\n",
       "    <tr>\n",
       "      <th>995</th>\n",
       "      <td>561.655127</td>\n",
       "      <td>632.217128</td>\n",
       "      <td>596.172648</td>\n",
       "      <td>569.205587</td>\n",
       "      <td>630.093907</td>\n",
       "      <td>31.005708</td>\n",
       "      <td>0.086366</td>\n",
       "    </tr>\n",
       "    <tr>\n",
       "      <th>996</th>\n",
       "      <td>566.418449</td>\n",
       "      <td>660.594556</td>\n",
       "      <td>566.797056</td>\n",
       "      <td>610.844184</td>\n",
       "      <td>644.450902</td>\n",
       "      <td>31.040472</td>\n",
       "      <td>0.176374</td>\n",
       "    </tr>\n",
       "    <tr>\n",
       "      <th>997</th>\n",
       "      <td>558.289485</td>\n",
       "      <td>672.877620</td>\n",
       "      <td>606.194516</td>\n",
       "      <td>636.635536</td>\n",
       "      <td>658.130228</td>\n",
       "      <td>27.092402</td>\n",
       "      <td>0.092001</td>\n",
       "    </tr>\n",
       "    <tr>\n",
       "      <th>998</th>\n",
       "      <td>554.571696</td>\n",
       "      <td>638.935515</td>\n",
       "      <td>577.161752</td>\n",
       "      <td>591.444945</td>\n",
       "      <td>640.712619</td>\n",
       "      <td>32.526722</td>\n",
       "      <td>0.098845</td>\n",
       "    </tr>\n",
       "    <tr>\n",
       "      <th>999</th>\n",
       "      <td>539.905624</td>\n",
       "      <td>614.977725</td>\n",
       "      <td>565.819934</td>\n",
       "      <td>616.107835</td>\n",
       "      <td>631.627624</td>\n",
       "      <td>33.099410</td>\n",
       "      <td>0.105934</td>\n",
       "    </tr>\n",
       "  </tbody>\n",
       "</table>\n",
       "<p>1000 rows × 7 columns</p>\n",
       "</div>"
      ],
      "text/plain": [
       "         bethel      campus   churchill       river   whittaker       year  \\\n",
       "0    560.210451  636.016871  578.413202  619.843782  667.053935  30.274924   \n",
       "1    564.531604  622.427456  588.565815  613.542364  638.936977  31.627643   \n",
       "2    567.543019  627.054073  572.087178  595.868772  626.018438  33.476634   \n",
       "3    529.557267  686.867199  596.213492  589.702256  625.340334  31.717146   \n",
       "4    554.290280  671.216130  606.793057  619.289359  674.408295  30.395264   \n",
       "..          ...         ...         ...         ...         ...        ...   \n",
       "995  561.655127  632.217128  596.172648  569.205587  630.093907  31.005708   \n",
       "996  566.418449  660.594556  566.797056  610.844184  644.450902  31.040472   \n",
       "997  558.289485  672.877620  606.194516  636.635536  658.130228  27.092402   \n",
       "998  554.571696  638.935515  577.161752  591.444945  640.712619  32.526722   \n",
       "999  539.905624  614.977725  565.819934  616.107835  631.627624  33.099410   \n",
       "\n",
       "         area  \n",
       "0    0.047091  \n",
       "1    0.026321  \n",
       "2    0.139231  \n",
       "3    0.163151  \n",
       "4    0.092401  \n",
       "..        ...  \n",
       "995  0.086366  \n",
       "996  0.176374  \n",
       "997  0.092001  \n",
       "998  0.098845  \n",
       "999  0.105934  \n",
       "\n",
       "[1000 rows x 7 columns]"
      ]
     },
     "execution_count": 49,
     "metadata": {},
     "output_type": "execute_result"
    }
   ],
   "source": [
    "boots = pd.DataFrame([\n",
    "    fit_model(bootstrap(df))\n",
    "    for _ in range(1000)\n",
    "])\n",
    "boots"
   ]
  },
  {
   "cell_type": "markdown",
   "id": "08f5b1c3",
   "metadata": {
    "slideshow": {
     "slide_type": "subslide"
    }
   },
   "source": [
    "And, here is the distribution of estimates of $\\beta_\\text{Bethel}$.\n",
    "It is similar, but not identical, to our other distribution above (as expected)."
   ]
  },
  {
   "cell_type": "code",
   "execution_count": 50,
   "id": "357c0431",
   "metadata": {},
   "outputs": [
    {
     "data": {
      "image/png": "[encoded data removed]",
      "text/plain": [
       "<Figure size 1500x800 with 1 Axes>"
      ]
     },
     "metadata": {},
     "output_type": "display_data"
    }
   ],
   "source": [
    "plt.hist(boots.bethel)\n",
    "plt.xlabel(\"mean bethel rent\"); plt.ylabel(\"frequency\");\n",
    "plt.axvline(estimates['bethel'], color='red');"
   ]
  },
  {
   "cell_type": "markdown",
   "id": "41eecfb9",
   "metadata": {
    "slideshow": {
     "slide_type": "subslide"
    }
   },
   "source": [
    "**Conclusion:** The mean rent in Bethel for 500 ft${}^2$ apartments in 2010\n",
    "as about \\\\$556, with a 95\\% confidence interval of about \\\\$518 to \\\\$595.\n",
    "\n",
    "Widths of other 95\\% confidence intervals are below."
   ]
  },
  {
   "cell_type": "code",
   "execution_count": 52,
   "id": "8548d625",
   "metadata": {},
   "outputs": [
    {
     "data": {
      "text/plain": [
       "bethel       76.281754\n",
       "campus       83.879112\n",
       "churchill    86.591591\n",
       "river        79.459017\n",
       "whittaker    81.761172\n",
       "year         10.911707\n",
       "area          0.200773\n",
       "dtype: float64"
      ]
     },
     "execution_count": 52,
     "metadata": {},
     "output_type": "execute_result"
    }
   ],
   "source": [
    "boots.quantile(0.975) - boots.quantile(0.025)"
   ]
  }
 ],
 "metadata": {
  "celltoolbar": "Slideshow",
  "kernelspec": {
   "display_name": "Python 3 (ipykernel)",
   "language": "python",
   "name": "python3"
  },
  "language_info": {
   "codemirror_mode": {
    "name": "ipython",
    "version": 3
   },
   "file_extension": ".py",
   "mimetype": "text/x-python",
   "name": "python",
   "nbconvert_exporter": "python",
   "pygments_lexer": "ipython3",
   "version": "3.12.9"
  },
  "rise": {
   "scroll": true,
   "transition": "none"
  }
 },
 "nbformat": 4,
 "nbformat_minor": 5
}
