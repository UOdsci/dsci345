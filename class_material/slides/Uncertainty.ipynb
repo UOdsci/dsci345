{
 "cells": [
  {
   "cell_type": "markdown",
   "id": "ee815e30",
   "metadata": {
    "slideshow": {
     "slide_type": "slide"
    },
    "tags": []
   },
   "source": [
    "# Quantifying uncertainty: Confidence intervals\n",
    "\n",
    "Peter Ralph\n",
    "\n",
    "https://uodsci.github.io/dsci345"
   ]
  },
  {
   "cell_type": "code",
   "execution_count": 1,
   "id": "560c6606",
   "metadata": {
    "slideshow": {
     "slide_type": "skip"
    }
   },
   "outputs": [],
   "source": [
    "import matplotlib\n",
    "import matplotlib.pyplot as plt\n",
    "matplotlib.rcParams['figure.figsize'] = (15, 8)\n",
    "import numpy as np\n",
    "import pandas as pd\n",
    "\n",
    "rng = np.random.default_rng(seed=123)"
   ]
  },
  {
   "cell_type": "markdown",
   "id": "204d56b5",
   "metadata": {
    "slideshow": {
     "slide_type": "skip"
    }
   },
   "source": [
    "$$\\renewcommand{\\P}{\\mathbb{P}} \\newcommand{\\E}{\\mathbb{E}} \\newcommand{\\var}{\\text{var}} \\newcommand{\\sd}{\\text{sd}}$$\n",
    "This is here so we can use `\\P` and `\\E` and `\\var` and `\\sd` in LaTeX below."
   ]
  },
  {
   "cell_type": "markdown",
   "id": "6a8a26da",
   "metadata": {
    "slideshow": {
     "slide_type": "slide"
    }
   },
   "source": [
    "# Confidence intervals"
   ]
  },
  {
   "cell_type": "markdown",
   "id": "29de072d",
   "metadata": {
    "slideshow": {
     "slide_type": "subslide"
    }
   },
   "source": [
    "Recall that if \n",
    "\n",
    "- $X_1, \\ldots, X_n$ are a bunch of independent samples from some distribution with mean $\\mu$,\n",
    "- $\\bar X$ is the sample mean, and\n",
    "- $S$ is the sample standard deviation,\n",
    "\n",
    "then the difference between the sample mean and $\\mu$, in units of $S/\\sqrt{n}$:\n",
    "$$  T = \\frac{\\bar X - \\mu}{S/\\sqrt{n}}  $$\n",
    "has, approximately$^*$, [Student's t distribution](https://en.wikipedia.org/wiki/Student%27s_t-distribution)\n",
    "with $n-1$ degrees of freedom.\n",
    "\n",
    "$^*$ (the approximation is better the bigger $n$ is and the closer $X_i$ is to Normal)"
   ]
  },
  {
   "cell_type": "markdown",
   "id": "e5ed06c2",
   "metadata": {
    "slideshow": {
     "slide_type": "subslide"
    }
   },
   "source": [
    "Rearranging,\n",
    "$$ \\mu = \\bar{X} + T \\frac{S}{\\sqrt{n}}  $$\n",
    "... i.e., **the true mean is within a few$^*$ multiples of $S/\\sqrt{n}$ of the sample mean**,\n",
    "where \"a few\" has the $t(\\text{df}=n-1)$ distribution."
   ]
  },
  {
   "cell_type": "markdown",
   "id": "22932e15",
   "metadata": {
    "slideshow": {
     "slide_type": "fragment"
    }
   },
   "source": [
    "Therefore, if we choose $t_*$ so that\n",
    "$$ \\P\\{ - t_* \\le T \\le t* \\} = 95\\%, $$\n",
    "then \n",
    "$$ \\P\\{ \\bar X - t_* S / \\sqrt{n} \\le \\mu \\le \\bar X + t_* S / \\sqrt{n} \\} = 95\\% . $$"
   ]
  },
  {
   "cell_type": "markdown",
   "id": "791213e2",
   "metadata": {
    "slideshow": {
     "slide_type": "fragment"
    }
   },
   "source": [
    "*Note:* the random quantities in that statement are $\\bar X$ and $S$, not $\\mu$!"
   ]
  },
  {
   "cell_type": "markdown",
   "id": "76216c07",
   "metadata": {
    "slideshow": {
     "slide_type": "subslide"
    }
   },
   "source": [
    "## How to get a confidence interval\n",
    "\n",
    "Suppose we have $n$ samples, with mean $\\bar x$ and sample SD $s$, and that\n",
    "$$ \\P\\{ - t_* \\le T \\le t_* \\} = \\alpha, $$\n",
    "where $T$ has the Student's $t$ distribution with $\\text{df}=n-1$.\n",
    "\n",
    "Then a $\\alpha$-confidence interval is\n",
    "$$  \\bar x - t_* s/\\sqrt{n} \\qquad \\text{to} \\qquad \\bar x + t_* s/\\sqrt{n} . $$"
   ]
  },
  {
   "cell_type": "markdown",
   "id": "9e1e4756",
   "metadata": {
    "slideshow": {
     "slide_type": "fragment"
    }
   },
   "source": [
    "*What does it mean?*\n",
    "If you do a great many experiments and in each construct a 95% confidence interval\n",
    "for the mean,\n",
    "then$^*$ the true mean should lie within 95% of those confidence intervals.\n",
    "\n",
    "${}^*$ if the $t$-approximation is good."
   ]
  },
  {
   "cell_type": "markdown",
   "id": "5f864531",
   "metadata": {
    "slideshow": {
     "slide_type": "subslide"
    }
   },
   "source": [
    "**Question:** Why 95%?"
   ]
  },
  {
   "cell_type": "markdown",
   "id": "285ddfe5",
   "metadata": {
    "slideshow": {
     "slide_type": "fragment"
    }
   },
   "source": [
    "**Question:** When can you say that \"the probability that the true mean is in the confidence interval is 95%\"?"
   ]
  },
  {
   "cell_type": "markdown",
   "id": "fa728c05",
   "metadata": {
    "slideshow": {
     "slide_type": "fragment"
    }
   },
   "source": [
    "**Question:** How far outside the confidence interval do you expect $\\mu$ to be, in the other cases?"
   ]
  },
  {
   "cell_type": "markdown",
   "id": "8dbdb0b7",
   "metadata": {
    "slideshow": {
     "slide_type": "slide"
    }
   },
   "source": [
    "# Exercise: confidence intervals"
   ]
  },
  {
   "cell_type": "markdown",
   "id": "5e43cbac",
   "metadata": {
    "slideshow": {
     "slide_type": "subslide"
    }
   },
   "source": [
    "I have surveyed 100 people with small puppies,\n",
    "chosen randomly in Eugene,\n",
    "and recorded how many puppy boops they had received in the last 24hrs.\n",
    "Here are the data:"
   ]
  },
  {
   "cell_type": "code",
   "execution_count": 2,
   "id": "9b45614d",
   "metadata": {
    "slideshow": {
     "slide_type": "-"
    }
   },
   "outputs": [],
   "source": [
    "boops = np.array([ 0,  0,  0,  0,  0,  0,  1,  1,  1,  1,  2,  2,  2,  2,  2,  2,  3,\n",
    "        3,  3,  3,  4,  4,  5,  5,  5,  5,  5,  5,  5,  6,  6,  6,  8,  8,\n",
    "        8,  8,  8,  9,  9, 10, 10, 10, 10, 10, 11, 11, 11, 12, 13, 13, 14,\n",
    "       15, 15, 15, 16, 17, 17, 17, 18, 18, 19, 19, 20, 20, 20, 21, 21, 22,\n",
    "       23, 23, 23, 25, 25, 26, 26, 27, 28, 28, 29, 30, 31, 31, 32, 33, 33,\n",
    "       33, 37, 37, 38, 41, 42, 42, 43, 44, 46, 48, 53, 53, 68, 89])"
   ]
  },
  {
   "cell_type": "markdown",
   "id": "1134868f",
   "metadata": {
    "slideshow": {
     "slide_type": "-"
    }
   },
   "source": [
    "**Important Question:** How many boops/day, on average, does a Eugene puppy owner get?\n",
    "How sure are we, and how much variation between puppy owners is there?\n",
    "We'd like to understand the accuracy for this important estimate as carefully as possible,\n",
    "so be sure to validate the method you use with simulation."
   ]
  },
  {
   "cell_type": "markdown",
   "id": "f2239309",
   "metadata": {
    "slideshow": {
     "slide_type": "fragment"
    }
   },
   "source": [
    "**Plan:**\n",
    "\n",
    "1. Look at the data.\n",
    "2. Estimate the mean and provide a confidence interval.\n",
    "3. Summarize between-owner variation.\n",
    "4. Validate the *coverage* of our confidence-interval-producing procedure with simulation."
   ]
  },
  {
   "cell_type": "code",
   "execution_count": 3,
   "id": "4b61720e",
   "metadata": {},
   "outputs": [
    {
     "data": {
      "image/png": "[encoded data removed]",
      "text/plain": [
       "<Figure size 1500x800 with 1 Axes>"
      ]
     },
     "metadata": {},
     "output_type": "display_data"
    }
   ],
   "source": [
    "fig, ax = plt.subplots()\n",
    "ax.hist(boops)\n",
    "ax.set_ylabel(\"density\")\n",
    "ax.set_xlabel(\"number of boops/day\");"
   ]
  },
  {
   "cell_type": "code",
   "execution_count": 8,
   "id": "cc299182",
   "metadata": {},
   "outputs": [
    {
     "name": "stdout",
     "output_type": "stream",
     "text": [
      "The mean number of boops/day is 17.79 boops and the SD is 16.42 boops.\n"
     ]
    }
   ],
   "source": [
    "mean_boops = np.mean(boops)\n",
    "sd_boops = np.std(boops, ddof=1)\n",
    "print(f\"The mean number of boops/day is {mean_boops} boops and the SD is {sd_boops:.2f} boops.\")"
   ]
  },
  {
   "cell_type": "code",
   "execution_count": 18,
   "id": "9b14d48c",
   "metadata": {},
   "outputs": [
    {
     "data": {
      "text/plain": [
       "(14.532247400791988, 21.04775259920801)"
      ]
     },
     "execution_count": 18,
     "metadata": {},
     "output_type": "execute_result"
    }
   ],
   "source": [
    "from scipy.stats import t\n",
    "n =  len(boops)\n",
    "alpha = .95\n",
    "# t_star = t.cdf(1 - (1 - alpha)/2, df=n-1) # no!\n",
    "t_star = t.ppf(1 - (1 - alpha)/2, df=n-1)\n",
    "mean_boops - t_star * sd_boops / np.sqrt(n), mean_boops + t_star * sd_boops / np.sqrt(n)"
   ]
  },
  {
   "cell_type": "markdown",
   "id": "7d6b2988",
   "metadata": {},
   "source": [
    "Simulation study: is our procedure for getting CIs well-calibrated,\n",
    "i.e., do they actually cover the true value 95% of the time?"
   ]
  },
  {
   "cell_type": "markdown",
   "id": "c9218b6e",
   "metadata": {},
   "source": [
    "What distribution shall we use?\n"
   ]
  },
  {
   "cell_type": "code",
   "execution_count": null,
   "id": "b22b7816",
   "metadata": {},
   "outputs": [],
   "source": []
  },
  {
   "cell_type": "code",
   "execution_count": null,
   "id": "92c87e35",
   "metadata": {},
   "outputs": [],
   "source": [
    "# code for plotting intervals\n",
    "\n",
    "fig, ax = plt.subplots()\n",
    "for k, (x0, x1) in enumerate(cis):\n",
    "    ax.plot(np.repeat(k, 2), (x0, x1))\n",
    "    \n",
    "ax.axhline(sim_mean, c='red');"
   ]
  }
 ],
 "metadata": {
  "celltoolbar": "Slideshow",
  "kernelspec": {
   "display_name": "Python 3 (ipykernel)",
   "language": "python",
   "name": "python3"
  },
  "language_info": {
   "codemirror_mode": {
    "name": "ipython",
    "version": 3
   },
   "file_extension": ".py",
   "mimetype": "text/x-python",
   "name": "python",
   "nbconvert_exporter": "python",
   "pygments_lexer": "ipython3",
   "version": "3.11.8"
  }
 },
 "nbformat": 4,
 "nbformat_minor": 5
}
