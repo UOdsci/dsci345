{
 "cells": [
  {
   "cell_type": "markdown",
   "id": "8ebd3e32",
   "metadata": {
    "slideshow": {
     "slide_type": "slide"
    }
   },
   "source": [
    "# Quantifying uncertainty: Confidence intervals\n",
    "\n",
    "Peter Ralph\n",
    "\n",
    "https://uodsci.github.io/dsci345"
   ]
  },
  {
   "cell_type": "code",
   "execution_count": 2,
   "id": "dd55d8bd",
   "metadata": {
    "slideshow": {
     "slide_type": "skip"
    }
   },
   "outputs": [],
   "source": [
    "import matplotlib\n",
    "import matplotlib.pyplot as plt\n",
    "matplotlib.rcParams['figure.figsize'] = (15, 8)\n",
    "import numpy as np\n",
    "import pandas as pd\n",
    "\n",
    "rng = np.random.default_rng(seed=123)"
   ]
  },
  {
   "cell_type": "markdown",
   "id": "8e7f7e3c",
   "metadata": {
    "slideshow": {
     "slide_type": "skip"
    }
   },
   "source": [
    "$$\\renewcommand{\\P}{\\mathbb{P}} \\newcommand{\\E}{\\mathbb{E}} \\newcommand{\\var}{\\text{var}} \\newcommand{\\sd}{\\text{sd}}$$\n",
    "This is here so we can use `\\P` and `\\E` and `\\var` and `\\sd` in LaTeX below."
   ]
  },
  {
   "cell_type": "markdown",
   "id": "3db68874",
   "metadata": {
    "slideshow": {
     "slide_type": "slide"
    }
   },
   "source": [
    "# Confidence intervals"
   ]
  },
  {
   "cell_type": "markdown",
   "id": "41a67482",
   "metadata": {
    "slideshow": {
     "slide_type": "subslide"
    }
   },
   "source": [
    "Recall that if \n",
    "\n",
    "- $X_1, \\ldots, X_n$ are a bunch of independent samples from some distribution with mean $\\mu$,\n",
    "- $\\bar X$ is the sample mean, and\n",
    "- $S$ is the sample standard deviation,\n",
    "\n",
    "then the difference between the sample mean and $\\mu$, in units of $S$:\n",
    "$$  T = \\frac{\\bar X - \\mu}{S/\\sqrt{n}}  $$\n",
    "has, approximately$^*$, [Student's t distribution](https://en.wikipedia.org/wiki/Student%27s_t-distribution)\n",
    "with $n-1$ degrees of freedom.\n",
    "\n",
    "$^*$ (the approximation is better the bigger $n$ is and the closer $X_i$ is to Normal)"
   ]
  },
  {
   "cell_type": "markdown",
   "id": "2f168c7b",
   "metadata": {
    "slideshow": {
     "slide_type": "subslide"
    }
   },
   "source": [
    "Rearranging,\n",
    "$$ \\mu = \\bar{X} + T \\frac{S}{\\sqrt{n}}  $$\n",
    "... i.e., **the true mean is within a few$^*$ multiples of $S/\\sqrt{n}$ of the sample mean**,\n",
    "where \"a few\" has the $t(\\text{df}=n-1)$ distribution."
   ]
  },
  {
   "cell_type": "markdown",
   "id": "332fbab3",
   "metadata": {
    "slideshow": {
     "slide_type": "fragment"
    }
   },
   "source": [
    "Therefore, if we choose $t_*$ so that\n",
    "$$ \\P\\{ - t_* \\le T \\le t* \\} = 95\\%, $$\n",
    "then \n",
    "$$ \\P\\{ \\bar X - t_* S / \\sqrt{n} \\le \\mu \\le \\bar X + t_* S / \\sqrt{n} \\} = 95\\% . $$"
   ]
  },
  {
   "cell_type": "markdown",
   "id": "4f711ba6",
   "metadata": {
    "slideshow": {
     "slide_type": "fragment"
    }
   },
   "source": [
    "*Note:* the random quantities in that statement are $\\bar X$ and $S$, not $\\mu$!"
   ]
  },
  {
   "cell_type": "markdown",
   "id": "2c9b8ec6",
   "metadata": {
    "slideshow": {
     "slide_type": "subslide"
    }
   },
   "source": [
    "## How to get a confidence interval\n",
    "\n",
    "Suppose we have $n$ samples, with mean $\\bar x$ and sample SD $s$, and that\n",
    "$$ \\P\\{ - t_* \\le T \\le t* \\} = \\alpha, $$\n",
    "where $T$ has the Student's $t$ distribution with $\\text{df}=n-1$.\n",
    "\n",
    "Then a $\\alpha$-confidence interval is\n",
    "$$  \\bar x - t_* s/\\sqrt{n} \\qquad \\text{to} \\qquad \\bar x + t_* s/\\sqrt{n} . $$"
   ]
  },
  {
   "cell_type": "markdown",
   "id": "3d99dde7",
   "metadata": {
    "slideshow": {
     "slide_type": "fragment"
    }
   },
   "source": [
    "*What does it mean?*\n",
    "If you do a great many experiments and in each construct a 95% confidence interval\n",
    "for the mean,\n",
    "then$^*$ the true mean should lie within 95% of those confidence intervals.\n",
    "\n",
    "${}^*$ if the $t$-approximation is good."
   ]
  },
  {
   "cell_type": "markdown",
   "id": "edf739fa",
   "metadata": {
    "slideshow": {
     "slide_type": "subslide"
    }
   },
   "source": [
    "**Question:** Why 95%?"
   ]
  },
  {
   "cell_type": "markdown",
   "id": "d8758ec8",
   "metadata": {
    "slideshow": {
     "slide_type": "fragment"
    }
   },
   "source": [
    "**Question:** When can you say that \"the probability that the true mean is in the confidence interval is 95%\"?"
   ]
  },
  {
   "cell_type": "markdown",
   "id": "8a82a5ab",
   "metadata": {
    "slideshow": {
     "slide_type": "fragment"
    }
   },
   "source": [
    "**Question:** How far outside the confidence interval do you expect $\\mu$ to be, in the other cases?"
   ]
  },
  {
   "cell_type": "markdown",
   "id": "8dbdb0b7",
   "metadata": {
    "slideshow": {
     "slide_type": "slide"
    }
   },
   "source": [
    "# Exercise: confidence intervals"
   ]
  },
  {
   "cell_type": "markdown",
   "id": "0aeab479",
   "metadata": {
    "slideshow": {
     "slide_type": "subslide"
    }
   },
   "source": [
    "I have surveyed 100 people with small puppies,\n",
    "chosen randomly in Eugene,\n",
    "and recorded how many puppy boops they had received in the last 24hrs.\n",
    "Here are the data:"
   ]
  },
  {
   "cell_type": "code",
   "execution_count": 7,
   "id": "8f8b3a54",
   "metadata": {
    "slideshow": {
     "slide_type": "-"
    }
   },
   "outputs": [],
   "source": [
    "boops = np.array([ 0,  0,  0,  0,  0,  0,  1,  1,  1,  1,  2,  2,  2,  2,  2,  2,  3,\n",
    "        3,  3,  3,  4,  4,  5,  5,  5,  5,  5,  5,  5,  6,  6,  6,  8,  8,\n",
    "        8,  8,  8,  9,  9, 10, 10, 10, 10, 10, 11, 11, 11, 12, 13, 13, 14,\n",
    "       15, 15, 15, 16, 17, 17, 17, 18, 18, 19, 19, 20, 20, 20, 21, 21, 22,\n",
    "       23, 23, 23, 25, 25, 26, 26, 27, 28, 28, 29, 30, 31, 31, 32, 33, 33,\n",
    "       33, 37, 37, 38, 41, 42, 42, 43, 44, 46, 48, 53, 53, 68, 89])"
   ]
  },
  {
   "cell_type": "markdown",
   "id": "23fd178e",
   "metadata": {
    "slideshow": {
     "slide_type": "-"
    }
   },
   "source": [
    "**Important Question:** How many boops/day, on average, does a Eugene puppy owner get?\n",
    "How sure are we, and how much variation between puppy owners is there?\n",
    "We'd like to understand the accuracy for this important estimate as carefully as possible,\n",
    "so be sure to validate the method you use with simulation."
   ]
  },
  {
   "cell_type": "markdown",
   "id": "e9613848",
   "metadata": {
    "slideshow": {
     "slide_type": "fragment"
    }
   },
   "source": [
    "**Plan:**\n",
    "\n",
    "1. Look at the data.\n",
    "2. Estimate the mean and provide a confidence interval.\n",
    "3. Summarize between-owner variation.\n",
    "4. Validate the *coverage* of our confidence-interval-producing procedure with simulation."
   ]
  }
 ],
 "metadata": {
  "celltoolbar": "Slideshow",
  "kernelspec": {
   "display_name": "Python 3 (ipykernel)",
   "language": "python",
   "name": "python3"
  },
  "language_info": {
   "codemirror_mode": {
    "name": "ipython",
    "version": 3
   },
   "file_extension": ".py",
   "mimetype": "text/x-python",
   "name": "python",
   "nbconvert_exporter": "python",
   "pygments_lexer": "ipython3",
   "version": "3.11.2"
  }
 },
 "nbformat": 4,
 "nbformat_minor": 5
}
