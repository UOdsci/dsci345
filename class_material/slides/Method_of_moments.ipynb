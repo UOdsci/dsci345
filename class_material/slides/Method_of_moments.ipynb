{
 "cells": [
  {
   "cell_type": "markdown",
   "id": "202599bf",
   "metadata": {
    "slideshow": {
     "slide_type": "slide"
    }
   },
   "source": [
    "# Method of moments\n",
    "\n",
    "Peter Ralph\n",
    "\n",
    "https://uodsci.github.io/dsci345"
   ]
  },
  {
   "cell_type": "code",
   "execution_count": 1,
   "id": "733bfdf0",
   "metadata": {
    "slideshow": {
     "slide_type": "skip"
    }
   },
   "outputs": [],
   "source": [
    "import matplotlib\n",
    "import matplotlib.pyplot as plt\n",
    "matplotlib.rcParams['figure.figsize'] = (15, 8)\n",
    "import numpy as np\n",
    "import pandas as pd\n",
    "import dsci345 as dsci\n",
    "\n",
    "rng = np.random.default_rng(seed=123)"
   ]
  },
  {
   "cell_type": "markdown",
   "id": "b0b9f690",
   "metadata": {
    "slideshow": {
     "slide_type": "skip"
    }
   },
   "source": [
    "$$\\renewcommand{\\P}{\\mathbb{P}} \\newcommand{\\E}{\\mathbb{E}} \\newcommand{\\var}{\\text{var}} \\newcommand{\\sd}{\\text{sd}}$$\n",
    "This is here so we can use `\\P` and `\\E` and `\\var` and `\\sd` in LaTeX below."
   ]
  },
  {
   "cell_type": "markdown",
   "id": "b8bc0bb8",
   "metadata": {
    "slideshow": {
     "slide_type": "slide"
    }
   },
   "source": [
    "# Fitting distributions to data"
   ]
  },
  {
   "cell_type": "code",
   "execution_count": 2,
   "id": "6dc96330",
   "metadata": {
    "slideshow": {
     "slide_type": "skip"
    }
   },
   "outputs": [],
   "source": [
    "lam = 1\n",
    "npanels = 1000\n",
    "nd = rng.poisson(lam * rng.exponential(size=npanels), size=npanels)\n",
    "defects = pd.DataFrame({ \"value\" : np.arange(11, dtype='int') })\n",
    "defects['observed'] = [np.sum(nd == k) for k in defects['value']]"
   ]
  },
  {
   "cell_type": "markdown",
   "id": "07ebe52a",
   "metadata": {
    "slideshow": {
     "slide_type": "subslide"
    }
   },
   "source": [
    "## Back to the factory\n",
    "\n",
    "In our Poisson example,\n",
    "we had data like this\n",
    "for the distribution of numbers of defects per solar panel.\n",
    "Our goal was to get a good model for this number.\n",
    "How did we do that?"
   ]
  },
  {
   "cell_type": "code",
   "execution_count": 3,
   "id": "2081bbcb",
   "metadata": {
    "slideshow": {
     "slide_type": "subslide"
    }
   },
   "outputs": [
    {
     "data": {
      "text/html": [
       "<div>\n",
       "<style scoped>\n",
       "    .dataframe tbody tr th:only-of-type {\n",
       "        vertical-align: middle;\n",
       "    }\n",
       "\n",
       "    .dataframe tbody tr th {\n",
       "        vertical-align: top;\n",
       "    }\n",
       "\n",
       "    .dataframe thead th {\n",
       "        text-align: right;\n",
       "    }\n",
       "</style>\n",
       "<table border=\"1\" class=\"dataframe\">\n",
       "  <thead>\n",
       "    <tr style=\"text-align: right;\">\n",
       "      <th></th>\n",
       "      <th>value</th>\n",
       "      <th>observed</th>\n",
       "    </tr>\n",
       "  </thead>\n",
       "  <tbody>\n",
       "    <tr>\n",
       "      <th>0</th>\n",
       "      <td>0</td>\n",
       "      <td>514</td>\n",
       "    </tr>\n",
       "    <tr>\n",
       "      <th>1</th>\n",
       "      <td>1</td>\n",
       "      <td>252</td>\n",
       "    </tr>\n",
       "    <tr>\n",
       "      <th>2</th>\n",
       "      <td>2</td>\n",
       "      <td>127</td>\n",
       "    </tr>\n",
       "    <tr>\n",
       "      <th>3</th>\n",
       "      <td>3</td>\n",
       "      <td>53</td>\n",
       "    </tr>\n",
       "    <tr>\n",
       "      <th>4</th>\n",
       "      <td>4</td>\n",
       "      <td>26</td>\n",
       "    </tr>\n",
       "    <tr>\n",
       "      <th>5</th>\n",
       "      <td>5</td>\n",
       "      <td>17</td>\n",
       "    </tr>\n",
       "    <tr>\n",
       "      <th>6</th>\n",
       "      <td>6</td>\n",
       "      <td>4</td>\n",
       "    </tr>\n",
       "    <tr>\n",
       "      <th>7</th>\n",
       "      <td>7</td>\n",
       "      <td>2</td>\n",
       "    </tr>\n",
       "    <tr>\n",
       "      <th>8</th>\n",
       "      <td>8</td>\n",
       "      <td>2</td>\n",
       "    </tr>\n",
       "    <tr>\n",
       "      <th>9</th>\n",
       "      <td>9</td>\n",
       "      <td>3</td>\n",
       "    </tr>\n",
       "    <tr>\n",
       "      <th>10</th>\n",
       "      <td>10</td>\n",
       "      <td>0</td>\n",
       "    </tr>\n",
       "  </tbody>\n",
       "</table>\n",
       "</div>"
      ],
      "text/plain": [
       "    value  observed\n",
       "0       0       514\n",
       "1       1       252\n",
       "2       2       127\n",
       "3       3        53\n",
       "4       4        26\n",
       "5       5        17\n",
       "6       6         4\n",
       "7       7         2\n",
       "8       8         2\n",
       "9       9         3\n",
       "10     10         0"
      ]
     },
     "execution_count": 3,
     "metadata": {},
     "output_type": "execute_result"
    }
   ],
   "source": [
    "defects"
   ]
  },
  {
   "cell_type": "markdown",
   "id": "f2b03f92",
   "metadata": {
    "slideshow": {
     "slide_type": "subslide"
    }
   },
   "source": [
    "Well, here's what we did:\n",
    "\n",
    "> The mean number of defects per panel is 1, and they're \"counts\", so... maybe Poisson? With mean 1?\n"
   ]
  },
  {
   "cell_type": "markdown",
   "id": "6f7bea52",
   "metadata": {
    "slideshow": {
     "slide_type": "fragment"
    }
   },
   "source": [
    "In other words, we used the *Method of Moments*:\n",
    "\n",
    "1. Pick a particular form of the distribution.\n",
    "2. Choose parameter values for the distribution so that the \"moments\" (here, the mean) match."
   ]
  },
  {
   "cell_type": "markdown",
   "id": "39082cfe",
   "metadata": {
    "slideshow": {
     "slide_type": "fragment"
    }
   },
   "source": [
    "Our next step was to say\n",
    "\n",
    "> Gee, it's more spread out (\"overdispersed\") than that... maybe an Exponential mixture of Poissons?\n",
    ">  (i.e., Poisson but where the mean is random, from the Exponential distribution)\n",
    "\n",
    "Let's have a look at applying the method of moments here, too."
   ]
  },
  {
   "cell_type": "markdown",
   "id": "bb7304c0",
   "metadata": {
    "slideshow": {
     "slide_type": "subslide"
    }
   },
   "source": [
    "## Goodness-of-fit\n",
    "\n",
    "*Do these look similar? How or how not?*"
   ]
  },
  {
   "cell_type": "code",
   "execution_count": 4,
   "id": "659476ed",
   "metadata": {},
   "outputs": [
    {
     "data": {
      "text/html": [
       "<div>\n",
       "<style scoped>\n",
       "    .dataframe tbody tr th:only-of-type {\n",
       "        vertical-align: middle;\n",
       "    }\n",
       "\n",
       "    .dataframe tbody tr th {\n",
       "        vertical-align: top;\n",
       "    }\n",
       "\n",
       "    .dataframe thead th {\n",
       "        text-align: right;\n",
       "    }\n",
       "</style>\n",
       "<table border=\"1\" class=\"dataframe\">\n",
       "  <thead>\n",
       "    <tr style=\"text-align: right;\">\n",
       "      <th></th>\n",
       "      <th>value</th>\n",
       "      <th>observed</th>\n",
       "      <th>expected</th>\n",
       "    </tr>\n",
       "  </thead>\n",
       "  <tbody>\n",
       "    <tr>\n",
       "      <th>0</th>\n",
       "      <td>0</td>\n",
       "      <td>514</td>\n",
       "      <td>382</td>\n",
       "    </tr>\n",
       "    <tr>\n",
       "      <th>1</th>\n",
       "      <td>1</td>\n",
       "      <td>252</td>\n",
       "      <td>368</td>\n",
       "    </tr>\n",
       "    <tr>\n",
       "      <th>2</th>\n",
       "      <td>2</td>\n",
       "      <td>127</td>\n",
       "      <td>185</td>\n",
       "    </tr>\n",
       "    <tr>\n",
       "      <th>3</th>\n",
       "      <td>3</td>\n",
       "      <td>53</td>\n",
       "      <td>55</td>\n",
       "    </tr>\n",
       "    <tr>\n",
       "      <th>4</th>\n",
       "      <td>4</td>\n",
       "      <td>26</td>\n",
       "      <td>9</td>\n",
       "    </tr>\n",
       "    <tr>\n",
       "      <th>5</th>\n",
       "      <td>5</td>\n",
       "      <td>17</td>\n",
       "      <td>1</td>\n",
       "    </tr>\n",
       "    <tr>\n",
       "      <th>6</th>\n",
       "      <td>6</td>\n",
       "      <td>4</td>\n",
       "      <td>0</td>\n",
       "    </tr>\n",
       "    <tr>\n",
       "      <th>7</th>\n",
       "      <td>7</td>\n",
       "      <td>2</td>\n",
       "      <td>0</td>\n",
       "    </tr>\n",
       "    <tr>\n",
       "      <th>8</th>\n",
       "      <td>8</td>\n",
       "      <td>2</td>\n",
       "      <td>0</td>\n",
       "    </tr>\n",
       "    <tr>\n",
       "      <th>9</th>\n",
       "      <td>9</td>\n",
       "      <td>3</td>\n",
       "      <td>0</td>\n",
       "    </tr>\n",
       "    <tr>\n",
       "      <th>10</th>\n",
       "      <td>10</td>\n",
       "      <td>0</td>\n",
       "      <td>0</td>\n",
       "    </tr>\n",
       "  </tbody>\n",
       "</table>\n",
       "</div>"
      ],
      "text/plain": [
       "    value  observed  expected\n",
       "0       0       514       382\n",
       "1       1       252       368\n",
       "2       2       127       185\n",
       "3       3        53        55\n",
       "4       4        26         9\n",
       "5       5        17         1\n",
       "6       6         4         0\n",
       "7       7         2         0\n",
       "8       8         2         0\n",
       "9       9         3         0\n",
       "10     10         0         0"
      ]
     },
     "execution_count": 4,
     "metadata": {},
     "output_type": "execute_result"
    }
   ],
   "source": [
    "obs_mean = np.sum(defects['value'] * defects['observed']) / np.sum(defects['observed'])\n",
    "obs_sd = np.sqrt(\n",
    "    np.sum((defects['value'] ** 2) * defects['observed']) / np.sum(defects['observed'])\n",
    "    - obs_mean ** 2\n",
    ")\n",
    "x = rng.poisson(obs_mean, size=np.sum(defects['observed']))\n",
    "defects['expected'] = [np.sum(x==u) for u in defects['value']]\n",
    "defects"
   ]
  },
  {
   "cell_type": "markdown",
   "id": "601ee1a9",
   "metadata": {
    "slideshow": {
     "slide_type": "subslide"
    }
   },
   "source": [
    "A plot of the numbers in the previous slide:\n",
    "observed counts and the expected counts under the Poisson model, as lines.\n",
    "The \"observed\" line starts higher than the \"expected, but then drops below it."
   ]
  },
  {
   "cell_type": "code",
   "execution_count": 5,
   "id": "41cc1ac3",
   "metadata": {
    "slideshow": {
     "slide_type": "-"
    }
   },
   "outputs": [
    {
     "data": {
      "image/png": "[encoded data removed]",
      "text/plain": [
       "<Figure size 1500x800 with 1 Axes>"
      ]
     },
     "metadata": {},
     "output_type": "display_data"
    }
   ],
   "source": [
    "plt.plot(defects['value'], defects['observed'], label=f'observed, mean={obs_mean}, sd={obs_sd:.2f}')\n",
    "plt.xlabel(\"count\"); plt.ylabel(\"frequency\")\n",
    "plt.plot(defects['value'], defects['expected'], label=f'poisson, mean={obs_mean}, sd={np.sqrt(obs_mean):.2f}')\n",
    "plt.legend();"
   ]
  },
  {
   "cell_type": "markdown",
   "id": "6590eba5",
   "metadata": {
    "slideshow": {
     "slide_type": "subslide"
    }
   },
   "source": [
    "## Variance of a mixture\n",
    "\n",
    "We'd like to fit *two* moments (mean and SD),\n",
    "so let's use a model with *two* parameters:\n",
    "$$\\begin{aligned}\n",
    "\\text{error rate: } R &\\sim \\text{Gamma}(\\text{scale}=\\theta, \\text{shape}=k) \\\\\n",
    "\\text{number of defects: } X &\\sim \\text{Poisson}(R) .\n",
    "\\end{aligned}$$\n",
    "We'd like to see if we can choose $\\theta$ and $k$ so the mean and SD match the observed values."
   ]
  },
  {
   "cell_type": "markdown",
   "id": "c32bd000",
   "metadata": {
    "slideshow": {
     "slide_type": "subslide"
    }
   },
   "source": [
    "**Law of Total Variance:**\n",
    "$$  \\var[X] = \\E[\\var[X|R]] + \\var[\\E[X|R]] $$\n",
    "\n",
    "Here we have\n",
    "$$\\begin{aligned}\n",
    "   \\var[X|R] &= R \\\\\n",
    "   \\E[X|R] &= R \\\\\n",
    "   \\E[R] &= \\theta k \\\\\n",
    "   \\var[R] &= \\theta^2 k\n",
    "\\end{aligned}$$\n",
    "and so\n",
    "$$ \\var[X] = \\theta k (1 + \\theta ) , $$\n",
    "i.e., the variance is *inflated* by $(1 + \\theta)$."
   ]
  },
  {
   "cell_type": "markdown",
   "id": "c8f39f4a",
   "metadata": {
    "slideshow": {
     "slide_type": "subslide"
    }
   },
   "source": [
    "Okay, so we want to find $\\theta$ and $k$ so that\n",
    "$$\\begin{aligned}\n",
    "  \\E[X] = \\E[R] = \\theta k = \\text{observed mean} \\\\\n",
    "  \\sd[X] = \\sqrt{\\theta k (1 + \\theta)} = \\text{observed SD} .\n",
    "\\end{aligned}$$"
   ]
  },
  {
   "cell_type": "code",
   "execution_count": 6,
   "id": "28254a9d",
   "metadata": {},
   "outputs": [
    {
     "data": {
      "text/plain": [
       "(np.float64(0.935), np.float64(1.3478779618348242))"
      ]
     },
     "execution_count": 6,
     "metadata": {},
     "output_type": "execute_result"
    }
   ],
   "source": [
    "obs_mean, obs_sd"
   ]
  },
  {
   "cell_type": "code",
   "execution_count": 7,
   "id": "d4b31324",
   "metadata": {},
   "outputs": [
    {
     "name": "stdout",
     "output_type": "stream",
     "text": [
      "Estimates: theta = 0.94, k = 0.99.\n"
     ]
    }
   ],
   "source": [
    "theta = obs_sd**2  / obs_mean - 1\n",
    "k = obs_mean / theta\n",
    "print(f\"Estimates: theta = {theta:.2f}, k = {k:.2f}.\")"
   ]
  },
  {
   "cell_type": "markdown",
   "id": "cf4ded59",
   "metadata": {
    "slideshow": {
     "slide_type": "slide"
    }
   },
   "source": [
    "## Goodness-of-fit, take 2\n",
    "\n",
    "Here's our fit, having used the *method of moments* to fit a *Gamma-Poisson mixture* to the data:"
   ]
  },
  {
   "cell_type": "code",
   "execution_count": 8,
   "id": "4b6bbcfc",
   "metadata": {},
   "outputs": [
    {
     "data": {
      "text/html": [
       "<div>\n",
       "<style scoped>\n",
       "    .dataframe tbody tr th:only-of-type {\n",
       "        vertical-align: middle;\n",
       "    }\n",
       "\n",
       "    .dataframe tbody tr th {\n",
       "        vertical-align: top;\n",
       "    }\n",
       "\n",
       "    .dataframe thead th {\n",
       "        text-align: right;\n",
       "    }\n",
       "</style>\n",
       "<table border=\"1\" class=\"dataframe\">\n",
       "  <thead>\n",
       "    <tr style=\"text-align: right;\">\n",
       "      <th></th>\n",
       "      <th>value</th>\n",
       "      <th>observed</th>\n",
       "      <th>expected</th>\n",
       "    </tr>\n",
       "  </thead>\n",
       "  <tbody>\n",
       "    <tr>\n",
       "      <th>0</th>\n",
       "      <td>0</td>\n",
       "      <td>514</td>\n",
       "      <td>539</td>\n",
       "    </tr>\n",
       "    <tr>\n",
       "      <th>1</th>\n",
       "      <td>1</td>\n",
       "      <td>252</td>\n",
       "      <td>234</td>\n",
       "    </tr>\n",
       "    <tr>\n",
       "      <th>2</th>\n",
       "      <td>2</td>\n",
       "      <td>127</td>\n",
       "      <td>112</td>\n",
       "    </tr>\n",
       "    <tr>\n",
       "      <th>3</th>\n",
       "      <td>3</td>\n",
       "      <td>53</td>\n",
       "      <td>56</td>\n",
       "    </tr>\n",
       "    <tr>\n",
       "      <th>4</th>\n",
       "      <td>4</td>\n",
       "      <td>26</td>\n",
       "      <td>30</td>\n",
       "    </tr>\n",
       "    <tr>\n",
       "      <th>5</th>\n",
       "      <td>5</td>\n",
       "      <td>17</td>\n",
       "      <td>11</td>\n",
       "    </tr>\n",
       "    <tr>\n",
       "      <th>6</th>\n",
       "      <td>6</td>\n",
       "      <td>4</td>\n",
       "      <td>11</td>\n",
       "    </tr>\n",
       "    <tr>\n",
       "      <th>7</th>\n",
       "      <td>7</td>\n",
       "      <td>2</td>\n",
       "      <td>3</td>\n",
       "    </tr>\n",
       "    <tr>\n",
       "      <th>8</th>\n",
       "      <td>8</td>\n",
       "      <td>2</td>\n",
       "      <td>1</td>\n",
       "    </tr>\n",
       "    <tr>\n",
       "      <th>9</th>\n",
       "      <td>9</td>\n",
       "      <td>3</td>\n",
       "      <td>0</td>\n",
       "    </tr>\n",
       "    <tr>\n",
       "      <th>10</th>\n",
       "      <td>10</td>\n",
       "      <td>0</td>\n",
       "      <td>1</td>\n",
       "    </tr>\n",
       "  </tbody>\n",
       "</table>\n",
       "</div>"
      ],
      "text/plain": [
       "    value  observed  expected\n",
       "0       0       514       539\n",
       "1       1       252       234\n",
       "2       2       127       112\n",
       "3       3        53        56\n",
       "4       4        26        30\n",
       "5       5        17        11\n",
       "6       6         4        11\n",
       "7       7         2         3\n",
       "8       8         2         1\n",
       "9       9         3         0\n",
       "10     10         0         1"
      ]
     },
     "execution_count": 8,
     "metadata": {},
     "output_type": "execute_result"
    }
   ],
   "source": [
    "R = rng.gamma(shape=k, scale=theta, size=np.sum(defects['observed']))\n",
    "X = rng.poisson(R, size=np.sum(defects['observed']))\n",
    "defects['expected'] = [np.sum(X==u) for u in defects['value']]\n",
    "defects"
   ]
  },
  {
   "cell_type": "markdown",
   "id": "d6eec47d",
   "metadata": {
    "slideshow": {
     "slide_type": "subslide"
    }
   },
   "source": [
    "A plot of the numbers in the previous slide, as before,\n",
    "except this time, the 'observed' and 'expected' lines match closely."
   ]
  },
  {
   "cell_type": "code",
   "execution_count": 9,
   "id": "d3ee53db",
   "metadata": {},
   "outputs": [
    {
     "data": {
      "image/png": "[encoded data removed]",
      "text/plain": [
       "<Figure size 1500x800 with 1 Axes>"
      ]
     },
     "metadata": {},
     "output_type": "display_data"
    }
   ],
   "source": [
    "plt.plot(defects['value'], defects['observed'], label=f'observed, mean={obs_mean:.2f}, sd={obs_sd:.2f}')\n",
    "plt.xlabel(\"count\"); plt.ylabel(\"frequency\")\n",
    "plt.plot(defects['value'], defects['expected'], label=f'poisson, mean={np.mean(X):.2f}, sd={np.std(X):.2f}')\n",
    "plt.legend();"
   ]
  }
 ],
 "metadata": {
  "celltoolbar": "Slideshow",
  "kernelspec": {
   "display_name": "Python 3 (ipykernel)",
   "language": "python",
   "name": "python3"
  },
  "language_info": {
   "codemirror_mode": {
    "name": "ipython",
    "version": 3
   },
   "file_extension": ".py",
   "mimetype": "text/x-python",
   "name": "python",
   "nbconvert_exporter": "python",
   "pygments_lexer": "ipython3",
   "version": "3.12.9"
  },
  "rise": {
   "scroll": true,
   "transition": "none"
  }
 },
 "nbformat": 4,
 "nbformat_minor": 5
}
