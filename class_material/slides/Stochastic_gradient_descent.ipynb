{
 "cells": [
  {
   "cell_type": "markdown",
   "id": "202599bf",
   "metadata": {
    "slideshow": {
     "slide_type": "slide"
    }
   },
   "source": [
    "# A theoretical look at stochastic gradient descent\n",
    "\n",
    "Peter Ralph\n",
    "\n",
    "https://uodsci.github.io/dsci345"
   ]
  },
  {
   "cell_type": "code",
   "execution_count": 3,
   "id": "733bfdf0",
   "metadata": {
    "slideshow": {
     "slide_type": "skip"
    }
   },
   "outputs": [],
   "source": [
    "import matplotlib\n",
    "import matplotlib.pyplot as plt\n",
    "matplotlib.rcParams['figure.figsize'] = (15, 8)\n",
    "import numpy as np\n",
    "import pandas as pd\n",
    "\n",
    "rng = np.random.default_rng()"
   ]
  },
  {
   "cell_type": "markdown",
   "id": "b0b9f690",
   "metadata": {
    "slideshow": {
     "slide_type": "skip"
    }
   },
   "source": [
    "$$\\renewcommand{\\P}{\\mathbb{P}} \\newcommand{\\E}{\\mathbb{E}} \\newcommand{\\var}{\\text{var}} \\newcommand{\\sd}{\\text{sd}}$$\n",
    "This is here so we can use `\\P` and `\\E` and `\\var` and `\\sd` in LaTeX below."
   ]
  },
  {
   "cell_type": "markdown",
   "id": "aae2bf52",
   "metadata": {
    "slideshow": {
     "slide_type": "slide"
    }
   },
   "source": [
    "# Application: stochastic gradient descent"
   ]
  },
  {
   "cell_type": "markdown",
   "id": "4aa72c32",
   "metadata": {
    "slideshow": {
     "slide_type": "subslide"
    }
   },
   "source": [
    "## Problem: find the mean\n",
    "\n",
    "Suppose we have a very large dataset,\n",
    "so large (or unwieldy) that we don't get to see all of it at once.\n",
    "Instead, we get fed it in randomly chosen *batches*, each of size $n$.\n",
    "We would like to do something simple: estimate the \"typical value\".\n",
    "\n",
    "*Question:* How would you do this?"
   ]
  },
  {
   "cell_type": "markdown",
   "id": "896c68b6",
   "metadata": {
    "slideshow": {
     "slide_type": "subslide"
    }
   },
   "source": [
    "*Fact:* For any collection of numbers $x_1, \\ldots, x_N$,\n",
    "the *mean* is the unique value that minimizes the mean-squared error,\n",
    "i.e., if $\\mu = (1/N) \\sum_{i=1}^N x_i$ and\n",
    "$$  F_x(m) = \\frac{1}{N} \\sum_{i=1}^N (x_i - m)^2 ,$$\n",
    "then $\\min_m F_x(m) = F_x(\\mu)$."
   ]
  },
  {
   "cell_type": "markdown",
   "id": "7032c589",
   "metadata": {
    "slideshow": {
     "slide_type": "fragment"
    }
   },
   "source": [
    "*Proof:* The derivative of $F(m)$ is\n",
    "$$ F_x'(m) = 2 \\frac{1}{N} \\sum_{i=1}^N (m - x_i) = 2(m - \\mu) .$$\n",
    "This is equal to zero only at $m = \\mu$."
   ]
  },
  {
   "cell_type": "markdown",
   "id": "c755e4ca",
   "metadata": {
    "slideshow": {
     "slide_type": "subslide"
    }
   },
   "source": [
    "## Minimization\n",
    "\n",
    "Here's a solution: first, start with a guess $m = 0$, and pick an $\\epsilon > 0$.\n",
    "Then, for each batch $X_1, \\ldots, X_n$:\n",
    "\n",
    "1. Compute the batch mean $\\bar X = (1/n) \\sum_{i=1}^n X_i$.\n",
    "\n",
    "2. Compute the gradient of $F$ using this batch,\n",
    "    $F_X'(m) = 2 (m - \\bar X)$.\n",
    "    \n",
    "3. If $F_X'(m)$ is small, then stop. Otherwise, move our guess $m$ a little bit,\n",
    "    updating $m \\mapsto m - \\epsilon F_X'(m)$."
   ]
  },
  {
   "cell_type": "markdown",
   "id": "c05f32cc",
   "metadata": {
    "slideshow": {
     "slide_type": "subslide"
    }
   },
   "source": [
    "## How's it work in practice?"
   ]
  },
  {
   "cell_type": "code",
   "execution_count": 1,
   "id": "46dcdbc8",
   "metadata": {
    "slideshow": {
     "slide_type": "-"
    }
   },
   "outputs": [],
   "source": [
    "# set-up\n",
    "mu = 3\n",
    "n = 10\n",
    "\n",
    "def next_batch():\n",
    "    return rng.exponential(scale=mu, size=n)"
   ]
  },
  {
   "cell_type": "code",
   "execution_count": 13,
   "id": "4afcbc45",
   "metadata": {
    "slideshow": {
     "slide_type": "fragment"
    }
   },
   "outputs": [
    {
     "name": "stdout",
     "output_type": "stream",
     "text": [
      "step 25: value: 1.28\n",
      "step 50: value: 2.03\n",
      "step 75: value: 2.53\n",
      "step 100: value: 2.69\n",
      "step 125: value: 2.82\n",
      "step 150: value: 2.90\n",
      "step 175: value: 3.00\n",
      "step 200: value: 2.98\n",
      "step 225: value: 2.89\n",
      "step 250: value: 2.88\n",
      "step 275: value: 2.97\n",
      "step 300: value: 3.06\n",
      "step 325: value: 3.11\n",
      "step 350: value: 3.10\n",
      "step 375: value: 3.04\n",
      "step 400: value: 3.07\n",
      "step 425: value: 3.05\n",
      "step 450: value: 3.17\n",
      "step 475: value: 3.13\n"
     ]
    }
   ],
   "source": [
    "m = 0\n",
    "eps = 0.01  #  play around with this!\n",
    "num_batches = 500\n",
    "mvec = np.repeat(np.nan, num_batches)\n",
    "mvec[0] = m\n",
    "for k in range(1, num_batches):\n",
    "    X = next_batch()\n",
    "    dF = 2 * (m - np.mean(X))\n",
    "    m -= eps * dF\n",
    "    mvec[k] = m\n",
    "    if k % 25 == 0:\n",
    "        print(f\"step {k}: value: {m:.2f}\")"
   ]
  },
  {
   "cell_type": "code",
   "execution_count": 7,
   "id": "0fdc9475",
   "metadata": {
    "slideshow": {
     "slide_type": "subslide"
    }
   },
   "outputs": [
    {
     "data": {
      "image/png": "[encoded data removed]",
      "text/plain": [
       "<Figure size 1500x800 with 1 Axes>"
      ]
     },
     "metadata": {},
     "output_type": "display_data"
    }
   ],
   "source": [
    "plt.plot(mvec)\n",
    "plt.xlabel(\"batch number\"); plt.ylabel(\"estimate\")\n",
    "plt.title(f\"espilon = {eps}\")\n",
    "plt.hlines(mu, 0, num_batches, \"red\", \":\"); "
   ]
  },
  {
   "cell_type": "markdown",
   "id": "79bd2001",
   "metadata": {
    "slideshow": {
     "slide_type": "subslide"
    }
   },
   "source": [
    "## That's nice, but what about theory?\n",
    "\n",
    "Well, we know that if $X_1, \\ldots, X_n$ are independent and identically distributed (*iid*)\n",
    "with mean $\\E[X_i] = \\mu$ and standard deviation $\\text{sd}(X_i) = \\sigma$,\n",
    "then\n",
    "$$ \\E[\\bar X] = \\mu $$\n",
    "and\n",
    "$$ \\text{sd}[ \\bar X ] = \\frac{\\sigma}{\\sqrt{n}} . $$"
   ]
  },
  {
   "cell_type": "markdown",
   "id": "67538dc4",
   "metadata": {
    "slideshow": {
     "slide_type": "fragment"
    }
   },
   "source": [
    "So, the *expected change* is\n",
    "$$ \\E[F'_X(m)] = \\E[2 (m - \\bar X)] = 2 (m - \\mu) , $$\n",
    "and the standard deviation is\n",
    "$$ \\text{sd}[F'_X(m)] = \\frac{2 \\sigma}{\\sqrt{n}} . $$"
   ]
  },
  {
   "cell_type": "markdown",
   "id": "a04e6d4b",
   "metadata": {
    "slideshow": {
     "slide_type": "subslide"
    }
   },
   "source": [
    "## Conclusion\n",
    "\n",
    "- If $m = \\mu$ then there is no mean change, i.e., \"equilibrium\" is at $m = \\mu$.\n",
    "- If $|m - \\mu| \\gg 2\\sigma/\\sqrt{n}$, then the *mean change* is more important than noise.\n",
    "- If $|m - \\mu| \\le 2\\sigma/\\sqrt{n}$ then the \"noise\" is important.\n",
    "\n",
    "So, this will fluctuate around $\\mu$, varying by an amount proportional to $\\sigma/\\sqrt{n}$. (For the exponential, $\\sigma=\\mu$.)"
   ]
  },
  {
   "cell_type": "markdown",
   "id": "fa7c0a0b",
   "metadata": {
    "slideshow": {
     "slide_type": "slide"
    }
   },
   "source": [
    "# A diversion\n",
    "\n",
    "What happens if the mean changes with time?\n",
    "Let's have it switch back and forth between 2 and 4\n",
    "every 200 steps."
   ]
  },
  {
   "cell_type": "code",
   "execution_count": null,
   "id": "40a9c862",
   "metadata": {
    "slideshow": {
     "slide_type": "subslide"
    }
   },
   "outputs": [],
   "source": [
    "# set-up\n",
    "n = 10\n",
    "\n",
    "def next_batch(t):\n",
    "    if int(t/200) % 2 == 0:\n",
    "        mu = 2\n",
    "    else:\n",
    "        mu = 4\n",
    "    return rng.exponential(scale=mu, size=n)"
   ]
  },
  {
   "cell_type": "code",
   "execution_count": null,
   "id": "79743a09",
   "metadata": {
    "slideshow": {
     "slide_type": "fragment"
    }
   },
   "outputs": [],
   "source": [
    "m = 0\n",
    "eps = 0.05  #  play around with this!\n",
    "num_batches = 1000\n",
    "mvec = np.repeat(np.nan, num_batches)\n",
    "mvec[0] = m\n",
    "for k in range(1, num_batches):\n",
    "    X = next_batch(k)\n",
    "    dF = 2 * (m - np.mean(X))\n",
    "    m -= eps * dF\n",
    "    mvec[k] = m"
   ]
  },
  {
   "cell_type": "code",
   "execution_count": null,
   "id": "17e2e991",
   "metadata": {
    "slideshow": {
     "slide_type": "subslide"
    }
   },
   "outputs": [],
   "source": [
    "plt.plot(mvec)\n",
    "plt.xlabel(\"batch number\"); plt.ylabel(\"estimate\")\n",
    "plt.title(f\"espilon = {eps}\")\n",
    "plt.hlines([2, 4], 0, num_batches, \"red\", \":\"); "
   ]
  }
 ],
 "metadata": {
  "celltoolbar": "Slideshow",
  "kernelspec": {
   "display_name": "Python 3 (ipykernel)",
   "language": "python",
   "name": "python3"
  },
  "language_info": {
   "codemirror_mode": {
    "name": "ipython",
    "version": 3
   },
   "file_extension": ".py",
   "mimetype": "text/x-python",
   "name": "python",
   "nbconvert_exporter": "python",
   "pygments_lexer": "ipython3",
   "version": "3.12.9"
  },
  "rise": {
   "scroll": true,
   "transition": "none"
  }
 },
 "nbformat": 4,
 "nbformat_minor": 5
}
