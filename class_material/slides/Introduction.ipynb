{
 "cells": [
  {
   "cell_type": "markdown",
   "id": "202599bf",
   "metadata": {
    "slideshow": {
     "slide_type": "slide"
    }
   },
   "source": [
    "# Probability and Statistics for Data Science\n",
    "\n",
    "Spring 2023: Peter Ralph\n",
    "\n",
    "https://uodsci.github.io/dsci345"
   ]
  },
  {
   "cell_type": "code",
   "execution_count": 1,
   "id": "733bfdf0",
   "metadata": {
    "slideshow": {
     "slide_type": "skip"
    }
   },
   "outputs": [],
   "source": [
    "import matplotlib\n",
    "import matplotlib.pyplot as plt\n",
    "matplotlib.rcParams['figure.figsize'] = (15, 8)\n",
    "import numpy as np\n",
    "import pandas as pd"
   ]
  },
  {
   "cell_type": "markdown",
   "id": "b0b9f690",
   "metadata": {
    "slideshow": {
     "slide_type": "skip"
    }
   },
   "source": [
    "This is here so we can use `\\P` and `\\E` in LaTeX below.\n",
    "$$\\renewcommand{\\P}{\\mathbb{P}} \\newcommand{\\E}{\\mathbb{E}}$$"
   ]
  },
  {
   "cell_type": "markdown",
   "id": "c676a4b3",
   "metadata": {
    "slideshow": {
     "slide_type": "slide"
    }
   },
   "source": [
    "# Uncertainty: (how to) deal with it"
   ]
  },
  {
   "cell_type": "markdown",
   "id": "480e39af",
   "metadata": {
    "slideshow": {
     "slide_type": "subslide"
    }
   },
   "source": [
    "When we're doing data science, we\n",
    "\n",
    "- look at data\n",
    "- make predictions about future values\n",
    "- infer aspects of the underlying process"
   ]
  },
  {
   "cell_type": "markdown",
   "id": "3b92b271",
   "metadata": {
    "slideshow": {
     "slide_type": "fragment"
    }
   },
   "source": [
    "Fundamental to all stages are *randomness* and *uncertainty*."
   ]
  },
  {
   "cell_type": "markdown",
   "id": "441bbb54",
   "metadata": {
    "slideshow": {
     "slide_type": "fragment"
    }
   },
   "source": [
    "*For instance:* randomized algorithms (e.g., stochastic gradient descent)."
   ]
  },
  {
   "cell_type": "markdown",
   "id": "351645e3",
   "metadata": {
    "slideshow": {
     "slide_type": "subslide"
    }
   },
   "source": [
    "*For instance:*\n",
    "\n",
    "Computing **a statistic**\n",
    "gives you a number that describes a data set."
   ]
  },
  {
   "cell_type": "markdown",
   "id": "e000a471",
   "metadata": {
    "slideshow": {
     "slide_type": "fragment"
    }
   },
   "source": [
    "**Doing statistics** helps you understand\n",
    "how reliable that description is\n",
    "and how well it applies to the wider world."
   ]
  },
  {
   "cell_type": "markdown",
   "id": "543a708e",
   "metadata": {
    "slideshow": {
     "slide_type": "fragment"
    }
   },
   "source": [
    "We understand uncertainty, conceptually and quantitatively,\n",
    "with **randomness**,\n",
    "\n",
    "i.e., through *probability*."
   ]
  },
  {
   "cell_type": "markdown",
   "id": "e6dd70a8",
   "metadata": {
    "slideshow": {
     "slide_type": "subslide"
    }
   },
   "source": [
    "## Goals of this class\n",
    "\n",
    "- Become familiar with different types of probability models.\n",
    "\n",
    "- Calculate properties of probability models.\n",
    "\n",
    "- Construct and simulate from realistic models of data generation.\n",
    "\n",
    "- Be able to test estimation and prediction methods with simulation.\n",
    "\n",
    "- Gain familiarity with fundamental statistical concepts."
   ]
  },
  {
   "cell_type": "markdown",
   "id": "1268baa5",
   "metadata": {
    "slideshow": {
     "slide_type": "fragment"
    }
   },
   "source": [
    "We'll spend a lot of time on *probability models*,\n",
    "for applications from classical statistics\n",
    "to machine learning."
   ]
  },
  {
   "cell_type": "markdown",
   "id": "b32dedff",
   "metadata": {
    "slideshow": {
     "slide_type": "subslide"
    }
   },
   "source": [
    "Course mechanics: https://uodsci.github.io/dsci345\n",
    "\n",
    "(break: fill out the survey)"
   ]
  },
  {
   "cell_type": "markdown",
   "id": "b5a2ffb7",
   "metadata": {
    "slideshow": {
     "slide_type": "slide"
    }
   },
   "source": [
    "# Getting random"
   ]
  },
  {
   "cell_type": "markdown",
   "id": "4e574b85",
   "metadata": {
    "slideshow": {
     "slide_type": "subslide"
    }
   },
   "source": [
    "**Today:** *Probability and expectation, conditional probabilities, and random variables.*\n",
    "\n",
    "First:\n",
    "let's get some [(pseudo-)randomness](https://numpy.org/doc/stable/reference/random/generator.html)."
   ]
  },
  {
   "cell_type": "code",
   "execution_count": null,
   "id": "22c09ecf",
   "metadata": {
    "slideshow": {
     "slide_type": "fragment"
    }
   },
   "outputs": [],
   "source": [
    "rng = np.random.default_rng()\n",
    "help(rng.random)"
   ]
  },
  {
   "cell_type": "code",
   "execution_count": null,
   "id": "a245d934",
   "metadata": {
    "cell_style": "center",
    "slideshow": {
     "slide_type": "subslide"
    }
   },
   "outputs": [],
   "source": [
    "x = rng.random(size=1000)\n",
    "print(x[:10])\n",
    "\n",
    "fig, (ax1, ax2) = plt.subplots(1, 2)\n",
    "ax1.plot(np.sort(x))\n",
    "ax2.hist(x);"
   ]
  },
  {
   "cell_type": "markdown",
   "id": "37d4cbf6",
   "metadata": {
    "cell_style": "center",
    "slideshow": {
     "slide_type": "-"
    }
   },
   "source": [
    "**Exercise:** put some other [distributions](https://numpy.org/doc/stable/reference/random/generator.html#distributions) into this code and see what happens."
   ]
  },
  {
   "cell_type": "markdown",
   "id": "653bef65",
   "metadata": {
    "slideshow": {
     "slide_type": "slide"
    }
   },
   "source": [
    "# Example: false positives"
   ]
  },
  {
   "cell_type": "markdown",
   "id": "971a1cdf",
   "metadata": {
    "slideshow": {
     "slide_type": "subslide"
    }
   },
   "source": [
    "Suppose that I got a positive result on an HIV test. What’s the chance I am HIV positive?\n",
    "(Here we really mean that “I” am a randomly chosen person from the US population.)"
   ]
  },
  {
   "cell_type": "markdown",
   "id": "b1932edb",
   "metadata": {
    "slideshow": {
     "slide_type": "subslide"
    }
   },
   "source": [
    "## Background data\n",
    "\n",
    "The HIV rapid test has 99.4% specificity and 99.8% sensitivity.\n",
    "\n",
    "Refreshing from [Wikipedia](https://en.wikipedia.org/wiki/Sensitivity_and_specificity),\n",
    "specificity is the “true positive” rate and the sensitivity is the “true negative” rate:\n",
    "\n",
    "- if you have HIV, the chance that it (wrongly) comes out negative is .006 = 0.6%;\n",
    "- if you don’t have HIV, the chance that it (wrongly) comes out positive is .002 = .2%.\n",
    "\n",
    "There are currently around\n",
    "[1.2 million people with HIV in the US](https://www.hiv.gov/hiv-basics/overview/data-and-trends/statistics),\n",
    "out of a total of [333 million](https://www.census.gov/popclock/),\n",
    "giving an overall rate of 0.0036 = 0.36%."
   ]
  },
  {
   "cell_type": "code",
   "execution_count": null,
   "id": "8009fd9c",
   "metadata": {
    "slideshow": {
     "slide_type": "-"
    }
   },
   "outputs": [],
   "source": [
    "true_pos = .994\n",
    "true_neg = .998\n",
    "pop_rate = 1.2 / 333"
   ]
  },
  {
   "cell_type": "markdown",
   "id": "2db0ff57",
   "metadata": {
    "slideshow": {
     "slide_type": "subslide"
    }
   },
   "source": [
    "Answer 1: **simulation**"
   ]
  },
  {
   "cell_type": "code",
   "execution_count": null,
   "id": "0dddbc3a",
   "metadata": {
    "slideshow": {
     "slide_type": "-"
    }
   },
   "outputs": [],
   "source": [
    "N = int(1e6)\n",
    "hiv_status = pd.Series( rng.random(N) < pop_rate, name=\"HIV+\")\n",
    "n = np.sum(hiv_status)\n",
    "test_result = pd.Series( np.full((N,), \"\"), name=\"test\")\n",
    "# hiv+ people\n",
    "test_result[hiv_status] = [\"+\" if p < true_pos else \"-\" for p in rng.random(n)]\n",
    "# hiv- people\n",
    "test_result[~hiv_status] = [\"-\" if p < true_neg else \"+\" for p in rng.random(N - n)]\n",
    "\n",
    "pd.crosstab(hiv_status, test_result, margins=True)"
   ]
  },
  {
   "cell_type": "markdown",
   "id": "82c8c205",
   "metadata": {
    "slideshow": {
     "slide_type": "subslide"
    }
   },
   "source": [
    "What is the proportion of people who got a positive test result who actually have HIV?"
   ]
  },
  {
   "cell_type": "code",
   "execution_count": null,
   "id": "cd625c83",
   "metadata": {
    "slideshow": {
     "slide_type": "-"
    }
   },
   "outputs": [],
   "source": [
    "pd.crosstab(hiv_status, test_result, margins=True)"
   ]
  },
  {
   "cell_type": "markdown",
   "id": "952b1e09",
   "metadata": {
    "slideshow": {
     "slide_type": "subslide"
    }
   },
   "source": [
    "> Suppose that I got a positive result on an HIV test. What’s the chance I am HIV positive?"
   ]
  },
  {
   "cell_type": "code",
   "execution_count": null,
   "id": "4285695e",
   "metadata": {},
   "outputs": [],
   "source": [
    "hiv_given_plus = sum(hiv_status & (test_result == \"+\")) / np.sum(test_result == \"+\")\n",
    "print(f\"The proportion of the {np.sum(test_result == '+')} people \"\n",
    "      f\"that had a positive test result that actually have HIV is {100*hiv_given_plus:.2f}%.\")"
   ]
  },
  {
   "cell_type": "markdown",
   "id": "8a368bdc",
   "metadata": {
    "slideshow": {
     "slide_type": "fragment"
    }
   },
   "source": [
    "**Does this answer my question?**"
   ]
  },
  {
   "cell_type": "markdown",
   "id": "467ebccc",
   "metadata": {
    "slideshow": {
     "slide_type": "subslide"
    }
   },
   "source": [
    "*Next answer:* let's use math."
   ]
  },
  {
   "cell_type": "markdown",
   "id": "17821a0c",
   "metadata": {
    "slideshow": {
     "slide_type": "slide"
    }
   },
   "source": [
    "# Probability rules\n",
    "\n",
    "(i.e., the *axioms of probability*)"
   ]
  },
  {
   "cell_type": "markdown",
   "id": "8235b231",
   "metadata": {
    "slideshow": {
     "slide_type": "subslide"
    }
   },
   "source": [
    "## Probability rules\n",
    "\n",
    "0. *Probabilities are proportions:* $\\hspace{2em} 0 \\le \\P\\{A\\} \\le 1$\n",
    "\n",
    "1. *Everything:* $\\hspace{2em} \\P\\{ \\Omega \\} = 1$\n",
    "\n",
    "2. *Complements:* $\\hspace{2em} \\P\\{ \\text{not } A\\} = 1 - \\P\\{A\\}$\n",
    "\n",
    "3. *Disjoint events:* If $\\hspace{2em} \\P\\{A \\text{ and } B\\} = 0$\n",
    "    then $\\hspace{2em} \\P\\{A \\text{ or } B\\} = \\P\\{A\\} + \\P\\{B\\}$.\n",
    "\n",
    "4. *Independence:* $A$ and $B$ are independent iff $\\P\\{A \\text{ and } B\\} = \\P\\{A\\} \\P\\{B\\}$.\n",
    "\n",
    "5. *Conditional probability:* \n",
    "    $$\\P\\{A \\;|\\; B\\} = \\frac{\\P\\{A \\text{ and } B\\}}{ \\P\\{B\\} }$$"
   ]
  },
  {
   "cell_type": "markdown",
   "id": "5e961e05",
   "metadata": {
    "slideshow": {
     "slide_type": "subslide"
    }
   },
   "source": [
    "## Bayes' rule\n",
    "\n",
    "A consequence is that\n",
    "\n",
    "$$\\P\\{B \\;|\\; A\\} = \\frac{\\P\\{B\\} \\P\\{A \\;|\\; B\\}}{ \\P\\{A\\} } .$$"
   ]
  },
  {
   "cell_type": "markdown",
   "id": "12291782",
   "metadata": {
    "slideshow": {
     "slide_type": "subslide"
    }
   },
   "source": [
    "(*Example:* HIV test calculation, on the board.)"
   ]
  },
  {
   "cell_type": "code",
   "execution_count": null,
   "id": "a38b3f15",
   "metadata": {
    "slideshow": {
     "slide_type": "-"
    }
   },
   "outputs": [],
   "source": []
  }
 ],
 "metadata": {
  "celltoolbar": "Slideshow",
  "kernelspec": {
   "display_name": "Python 3 (ipykernel)",
   "language": "python",
   "name": "python3"
  },
  "language_info": {
   "codemirror_mode": {
    "name": "ipython",
    "version": 3
   },
   "file_extension": ".py",
   "mimetype": "text/x-python",
   "name": "python",
   "nbconvert_exporter": "python",
   "pygments_lexer": "ipython3",
   "version": "3.11.2"
  },
  "rise": {
   "scroll": true,
   "transition": "none"
  }
 },
 "nbformat": 4,
 "nbformat_minor": 5
}
