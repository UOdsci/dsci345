{
 "cells": [
  {
   "cell_type": "markdown",
   "id": "202599bf",
   "metadata": {
    "slideshow": {
     "slide_type": "slide"
    }
   },
   "source": [
    "# Probability and Statistics for Data Science\n",
    "\n",
    "https://uodsci.github.io/dsci345"
   ]
  },
  {
   "cell_type": "code",
   "execution_count": 1,
   "id": "733bfdf0",
   "metadata": {
    "slideshow": {
     "slide_type": "skip"
    }
   },
   "outputs": [],
   "source": [
    "import matplotlib\n",
    "import matplotlib.pyplot as plt\n",
    "matplotlib.rcParams['figure.figsize'] = (15, 8)\n",
    "import numpy as np\n",
    "import pandas as pd"
   ]
  },
  {
   "cell_type": "markdown",
   "id": "b0b9f690",
   "metadata": {
    "slideshow": {
     "slide_type": "skip"
    }
   },
   "source": [
    "This is here so we can use `\\P` and `\\E` in LaTeX below.\n",
    "$$\\renewcommand{\\P}{\\mathbb{P}} \\newcommand{\\E}{\\mathbb{E}}$$"
   ]
  },
  {
   "cell_type": "markdown",
   "id": "c676a4b3",
   "metadata": {
    "slideshow": {
     "slide_type": "slide"
    }
   },
   "source": [
    "# Uncertainty: (how to) deal with it"
   ]
  },
  {
   "cell_type": "markdown",
   "id": "480e39af",
   "metadata": {
    "slideshow": {
     "slide_type": ""
    },
    "tags": []
   },
   "source": [
    "When we're doing data science, we\n",
    "\n",
    "- look at data\n",
    "- make predictions about future values\n",
    "- infer aspects of the underlying process"
   ]
  },
  {
   "cell_type": "markdown",
   "id": "3b92b271",
   "metadata": {
    "slideshow": {
     "slide_type": "fragment"
    }
   },
   "source": [
    "Fundamental to all stages are *randomness* and *uncertainty*."
   ]
  },
  {
   "cell_type": "markdown",
   "id": "351645e3",
   "metadata": {
    "slideshow": {
     "slide_type": "subslide"
    }
   },
   "source": [
    "*For instance:*\n",
    "\n",
    "Computing **a statistic**\n",
    "gives you a number that describes a data set."
   ]
  },
  {
   "cell_type": "markdown",
   "id": "e000a471",
   "metadata": {
    "slideshow": {
     "slide_type": "fragment"
    }
   },
   "source": [
    "**Doing statistics** helps you understand\n",
    "how reliable that description is\n",
    "and how well it applies to the wider world."
   ]
  },
  {
   "cell_type": "markdown",
   "id": "543a708e",
   "metadata": {
    "slideshow": {
     "slide_type": "fragment"
    }
   },
   "source": [
    "We understand uncertainty, conceptually and quantitatively,\n",
    "with **randomness**,\n",
    "\n",
    "i.e., through *probability*."
   ]
  },
  {
   "cell_type": "markdown",
   "id": "e6dd70a8",
   "metadata": {
    "slideshow": {
     "slide_type": "subslide"
    }
   },
   "source": [
    "## Goals of this class\n",
    "\n",
    "- Become familiar with different types of probability models.\n",
    "\n",
    "- Calculate properties of probability models.\n",
    "\n",
    "- Construct and simulate from realistic models of data generation.\n",
    "\n",
    "- Be able to test estimation and prediction methods with simulation.\n",
    "\n",
    "- Gain familiarity with fundamental statistical concepts."
   ]
  },
  {
   "cell_type": "markdown",
   "id": "1268baa5",
   "metadata": {
    "slideshow": {
     "slide_type": "fragment"
    }
   },
   "source": [
    "We'll spend a lot of time on *probability models*,\n",
    "for applications from classical statistics\n",
    "to machine learning."
   ]
  },
  {
   "cell_type": "markdown",
   "id": "b32dedff",
   "metadata": {
    "slideshow": {
     "slide_type": "subslide"
    }
   },
   "source": [
    "Course mechanics: https://uodsci.github.io/dsci345\n",
    "\n",
    "(break: fill out the survey)"
   ]
  },
  {
   "cell_type": "markdown",
   "id": "b5a2ffb7",
   "metadata": {
    "slideshow": {
     "slide_type": "slide"
    }
   },
   "source": [
    "# Getting random"
   ]
  },
  {
   "cell_type": "markdown",
   "id": "4e574b85",
   "metadata": {
    "slideshow": {
     "slide_type": "subslide"
    }
   },
   "source": [
    "**Today:** *Probability and expectation, conditional probabilities, and random variables.*\n",
    "\n",
    "First:\n",
    "let's get some [(pseudo-)randomness](https://numpy.org/doc/stable/reference/random/generator.html)."
   ]
  },
  {
   "cell_type": "code",
   "execution_count": 2,
   "id": "22c09ecf",
   "metadata": {
    "slideshow": {
     "slide_type": "fragment"
    }
   },
   "outputs": [
    {
     "name": "stdout",
     "output_type": "stream",
     "text": [
      "Help on built-in function random:\n",
      "\n",
      "random(...) method of numpy.random._generator.Generator instance\n",
      "    random(size=None, dtype=np.float64, out=None)\n",
      "    \n",
      "    Return random floats in the half-open interval [0.0, 1.0).\n",
      "    \n",
      "    Results are from the \"continuous uniform\" distribution over the\n",
      "    stated interval.  To sample :math:`Unif[a, b), b > a` use `uniform`\n",
      "    or multiply the output of `random` by ``(b - a)`` and add ``a``::\n",
      "    \n",
      "        (b - a) * random() + a\n",
      "    \n",
      "    Parameters\n",
      "    ----------\n",
      "    size : int or tuple of ints, optional\n",
      "        Output shape.  If the given shape is, e.g., ``(m, n, k)``, then\n",
      "        ``m * n * k`` samples are drawn.  Default is None, in which case a\n",
      "        single value is returned.\n",
      "    dtype : dtype, optional\n",
      "        Desired dtype of the result, only `float64` and `float32` are supported.\n",
      "        Byteorder must be native. The default value is np.float64.\n",
      "    out : ndarray, optional\n",
      "        Alternative output array in which to place the result. If size is not None,\n",
      "        it must have the same shape as the provided size and must match the type of\n",
      "        the output values.\n",
      "    \n",
      "    Returns\n",
      "    -------\n",
      "    out : float or ndarray of floats\n",
      "        Array of random floats of shape `size` (unless ``size=None``, in which\n",
      "        case a single float is returned).\n",
      "    \n",
      "    See Also\n",
      "    --------\n",
      "    uniform : Draw samples from the parameterized uniform distribution.\n",
      "    \n",
      "    Examples\n",
      "    --------\n",
      "    >>> rng = np.random.default_rng()\n",
      "    >>> rng.random()\n",
      "    0.47108547995356098 # random\n",
      "    >>> type(rng.random())\n",
      "    <class 'float'>\n",
      "    >>> rng.random((5,))\n",
      "    array([ 0.30220482,  0.86820401,  0.1654503 ,  0.11659149,  0.54323428]) # random\n",
      "    \n",
      "    Three-by-two array of random numbers from [-5, 0):\n",
      "    \n",
      "    >>> 5 * rng.random((3, 2)) - 5\n",
      "    array([[-3.99149989, -0.52338984], # random\n",
      "           [-2.99091858, -0.79479508],\n",
      "           [-1.23204345, -1.75224494]])\n",
      "\n"
     ]
    }
   ],
   "source": [
    "rng = np.random.default_rng()\n",
    "help(rng.random)"
   ]
  },
  {
   "cell_type": "code",
   "execution_count": 16,
   "id": "a245d934",
   "metadata": {
    "cell_style": "center",
    "slideshow": {
     "slide_type": "subslide"
    }
   },
   "outputs": [
    {
     "name": "stdout",
     "output_type": "stream",
     "text": [
      "[0.98797527 0.40497485 0.90364776 0.90818505 0.28664925 0.04586602\n",
      " 0.28506519 0.0219233  0.44743985 0.8135574 ]\n"
     ]
    },
    {
     "data": {
      "image/png": "[encoded data removed]",
      "text/plain": [
       "<Figure size 1500x800 with 2 Axes>"
      ]
     },
     "metadata": {},
     "output_type": "display_data"
    }
   ],
   "source": [
    "x = rng.random(size=1000)\n",
    "print(x[:10])\n",
    "\n",
    "fig, (ax1, ax2) = plt.subplots(1, 2)\n",
    "ax1.plot(np.sort(x))\n",
    "ax2.hist(x);"
   ]
  },
  {
   "cell_type": "markdown",
   "id": "37d4cbf6",
   "metadata": {
    "cell_style": "center",
    "slideshow": {
     "slide_type": "-"
    }
   },
   "source": [
    "**Exercise:** put some other [distributions](https://numpy.org/doc/stable/reference/random/generator.html#distributions) into this code and see what happens."
   ]
  },
  {
   "cell_type": "markdown",
   "id": "653bef65",
   "metadata": {
    "slideshow": {
     "slide_type": "slide"
    }
   },
   "source": [
    "# Example: false positives"
   ]
  },
  {
   "cell_type": "markdown",
   "id": "971a1cdf",
   "metadata": {
    "slideshow": {
     "slide_type": "subslide"
    }
   },
   "source": [
    "Suppose that I got a positive result on an HIV test. What’s the chance I am HIV positive?\n",
    "(Here we really mean that “I” am a randomly chosen person from the US population.)"
   ]
  },
  {
   "cell_type": "markdown",
   "id": "b1932edb",
   "metadata": {
    "slideshow": {
     "slide_type": "subslide"
    }
   },
   "source": [
    "## Background data\n",
    "\n",
    "The HIV rapid test has 99.4% specificity and 99.8% sensitivity.\n",
    "\n",
    "Refreshing from [Wikipedia](https://en.wikipedia.org/wiki/Sensitivity_and_specificity),\n",
    "specificity is the “true positive” rate and the sensitivity is the “true negative” rate:\n",
    "\n",
    "- if you have HIV, the chance that it (wrongly) comes out negative is .006 = 0.6%;\n",
    "- if you don’t have HIV, the chance that it (wrongly) comes out positive is .002 = .2%.\n",
    "\n",
    "There are currently around\n",
    "[1.2 million people with HIV in the US](https://www.hiv.gov/hiv-basics/overview/data-and-trends/statistics),\n",
    "out of a total of [333 million](https://www.census.gov/popclock/),\n",
    "giving an overall rate of 0.0036 = 0.36%."
   ]
  },
  {
   "cell_type": "code",
   "execution_count": 17,
   "id": "8009fd9c",
   "metadata": {
    "slideshow": {
     "slide_type": "-"
    }
   },
   "outputs": [],
   "source": [
    "true_pos = .994\n",
    "true_neg = .998\n",
    "pop_rate = 1.2 / 333"
   ]
  },
  {
   "cell_type": "markdown",
   "id": "2db0ff57",
   "metadata": {
    "slideshow": {
     "slide_type": "subslide"
    }
   },
   "source": [
    "Answer 1: **simulation**"
   ]
  },
  {
   "cell_type": "markdown",
   "id": "82c8c205",
   "metadata": {
    "slideshow": {
     "slide_type": "subslide"
    }
   },
   "source": [
    "What is the proportion of people who got a positive test result who actually have HIV?"
   ]
  },
  {
   "cell_type": "code",
   "execution_count": 27,
   "id": "eccde187",
   "metadata": {},
   "outputs": [],
   "source": [
    "N = 1_000_000\n",
    "hiv_status = [rng.uniform() < pop_rate for k in range(N)]\n",
    "test_result = np.full((N,), \"\")\n",
    "for k in range(N):\n",
    "    if hiv_status[k]:\n",
    "        if rng.uniform() < true_pos:\n",
    "            result = \"+\"\n",
    "        else:\n",
    "            result = \"-\"\n",
    "    else:\n",
    "        if rng.uniform() < true_neg:\n",
    "            result = \"-\"\n",
    "        else:\n",
    "            result = \"+\"\n",
    "    test_result[k] = result"
   ]
  },
  {
   "cell_type": "code",
   "execution_count": 29,
   "id": "1535c944",
   "metadata": {},
   "outputs": [
    {
     "data": {
      "text/plain": [
       "(array(['+', '-', '-', '-', '-', '-', '-', '-', '-', '-'], dtype='<U1'),\n",
       " [True, False, False, False, False, False, False, False, False, False])"
      ]
     },
     "execution_count": 29,
     "metadata": {},
     "output_type": "execute_result"
    }
   ],
   "source": [
    "test_result[:10], hiv_status[:10]"
   ]
  },
  {
   "cell_type": "code",
   "execution_count": 32,
   "id": "8a3ca1ec",
   "metadata": {},
   "outputs": [
    {
     "data": {
      "text/html": [
       "<div>\n",
       "<style scoped>\n",
       "    .dataframe tbody tr th:only-of-type {\n",
       "        vertical-align: middle;\n",
       "    }\n",
       "\n",
       "    .dataframe tbody tr th {\n",
       "        vertical-align: top;\n",
       "    }\n",
       "\n",
       "    .dataframe thead th {\n",
       "        text-align: right;\n",
       "    }\n",
       "</style>\n",
       "<table border=\"1\" class=\"dataframe\">\n",
       "  <thead>\n",
       "    <tr style=\"text-align: right;\">\n",
       "      <th>HIV status</th>\n",
       "      <th>False</th>\n",
       "      <th>True</th>\n",
       "    </tr>\n",
       "    <tr>\n",
       "      <th>test result</th>\n",
       "      <th></th>\n",
       "      <th></th>\n",
       "    </tr>\n",
       "  </thead>\n",
       "  <tbody>\n",
       "    <tr>\n",
       "      <th>+</th>\n",
       "      <td>1982</td>\n",
       "      <td>3469</td>\n",
       "    </tr>\n",
       "    <tr>\n",
       "      <th>-</th>\n",
       "      <td>994524</td>\n",
       "      <td>25</td>\n",
       "    </tr>\n",
       "  </tbody>\n",
       "</table>\n",
       "</div>"
      ],
      "text/plain": [
       "HIV status    False  True \n",
       "test result               \n",
       "+              1982   3469\n",
       "-            994524     25"
      ]
     },
     "execution_count": 32,
     "metadata": {},
     "output_type": "execute_result"
    }
   ],
   "source": [
    "test_result = pd.Series(test_result, name=\"test result\")\n",
    "hiv_status = pd.Series(hiv_status, name=\"HIV status\")\n",
    "pd.crosstab(test_result, hiv_status)"
   ]
  },
  {
   "cell_type": "code",
   "execution_count": 33,
   "id": "b0337353",
   "metadata": {},
   "outputs": [
    {
     "data": {
      "text/plain": [
       "0.6363969913777289"
      ]
     },
     "execution_count": 33,
     "metadata": {},
     "output_type": "execute_result"
    }
   ],
   "source": [
    "3469/(1982+3469)"
   ]
  },
  {
   "cell_type": "markdown",
   "id": "8cff1a77",
   "metadata": {},
   "source": [
    "Conclusion: only 63.6% of people with a positive test result\n",
    "actually have HIV."
   ]
  },
  {
   "cell_type": "markdown",
   "id": "952b1e09",
   "metadata": {
    "slideshow": {
     "slide_type": "subslide"
    }
   },
   "source": [
    "> Suppose that I got a positive result on an HIV test. What’s the chance I am HIV positive?"
   ]
  },
  {
   "cell_type": "markdown",
   "id": "8a368bdc",
   "metadata": {
    "slideshow": {
     "slide_type": "fragment"
    }
   },
   "source": [
    "**Does this answer my question?**"
   ]
  },
  {
   "cell_type": "markdown",
   "id": "467ebccc",
   "metadata": {
    "slideshow": {
     "slide_type": "subslide"
    }
   },
   "source": [
    "*Next answer:* let's use math."
   ]
  },
  {
   "cell_type": "markdown",
   "id": "17821a0c",
   "metadata": {
    "slideshow": {
     "slide_type": "slide"
    }
   },
   "source": [
    "# Probability rules\n",
    "\n",
    "(i.e., the *axioms of probability*)"
   ]
  },
  {
   "cell_type": "markdown",
   "id": "8235b231",
   "metadata": {
    "slideshow": {
     "slide_type": "subslide"
    }
   },
   "source": [
    "## Probability rules\n",
    "\n",
    "0. *Probabilities are proportions:* $\\hspace{2em} 0 \\le \\P\\{A\\} \\le 1$\n",
    "\n",
    "1. *Everything:* $\\hspace{2em} \\P\\{ \\Omega \\} = 1$\n",
    "\n",
    "2. *Complements:* $\\hspace{2em} \\P\\{ \\text{not } A\\} = 1 - \\P\\{A\\}$\n",
    "\n",
    "3. *Disjoint events:* If $\\hspace{2em} \\P\\{A \\text{ and } B\\} = 0$\n",
    "    then $\\hspace{2em} \\P\\{A \\text{ or } B\\} = \\P\\{A\\} + \\P\\{B\\}$.\n",
    "\n",
    "4. *Independence:* $A$ and $B$ are independent iff $\\P\\{A \\text{ and } B\\} = \\P\\{A\\} \\P\\{B\\}$.\n",
    "\n",
    "5. *Conditional probability:* \n",
    "    $$\\P\\{A \\;|\\; B\\} = \\frac{\\P\\{A \\text{ and } B\\}}{ \\P\\{B\\} }$$"
   ]
  },
  {
   "cell_type": "markdown",
   "id": "5e961e05",
   "metadata": {
    "slideshow": {
     "slide_type": "subslide"
    }
   },
   "source": [
    "## Bayes' rule\n",
    "\n",
    "A consequence is that\n",
    "\n",
    "$$\\P\\{B \\;|\\; A\\} = \\frac{\\P\\{B\\} \\P\\{A \\;|\\; B\\}}{ \\P\\{A\\} } .$$"
   ]
  },
  {
   "cell_type": "markdown",
   "id": "12291782",
   "metadata": {
    "slideshow": {
     "slide_type": "subslide"
    }
   },
   "source": [
    "(*Example:* HIV test calculation, on the board.)"
   ]
  }
 ],
 "metadata": {
  "celltoolbar": "Slideshow",
  "kernelspec": {
   "display_name": "Python 3 (ipykernel)",
   "language": "python",
   "name": "python3"
  },
  "language_info": {
   "codemirror_mode": {
    "name": "ipython",
    "version": 3
   },
   "file_extension": ".py",
   "mimetype": "text/x-python",
   "name": "python",
   "nbconvert_exporter": "python",
   "pygments_lexer": "ipython3",
   "version": "3.11.8"
  },
  "rise": {
   "scroll": true,
   "transition": "none"
  }
 },
 "nbformat": 4,
 "nbformat_minor": 5
}
