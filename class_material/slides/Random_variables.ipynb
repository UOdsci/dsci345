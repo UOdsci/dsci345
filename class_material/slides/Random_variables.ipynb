{
 "cells": [
  {
   "cell_type": "markdown",
   "id": "202599bf",
   "metadata": {
    "slideshow": {
     "slide_type": "slide"
    }
   },
   "source": [
    "# Simulation, and random variables\n",
    "\n",
    "https://uodsci.github.io/dsci345"
   ]
  },
  {
   "cell_type": "code",
   "execution_count": 1,
   "id": "733bfdf0",
   "metadata": {
    "slideshow": {
     "slide_type": "skip"
    }
   },
   "outputs": [],
   "source": [
    "import matplotlib\n",
    "import matplotlib.pyplot as plt\n",
    "matplotlib.rcParams['figure.figsize'] = (15, 8)\n",
    "import numpy as np\n",
    "import pandas as pd\n",
    "\n",
    "rng = np.random.default_rng()"
   ]
  },
  {
   "cell_type": "markdown",
   "id": "b0b9f690",
   "metadata": {
    "slideshow": {
     "slide_type": "skip"
    }
   },
   "source": [
    "$$\\renewcommand{\\P}{\\mathbb{P}} \\newcommand{\\E}{\\mathbb{E}} \\newcommand{\\var}{\\text{var}} \\newcommand{\\sd}{\\text{sd}}$$\n",
    "This is here so we can use `\\P` and `\\E` and `\\var` and `\\sd` in LaTeX below."
   ]
  },
  {
   "cell_type": "markdown",
   "id": "86718990",
   "metadata": {
    "slideshow": {
     "slide_type": "slide"
    }
   },
   "source": [
    "# Random variables"
   ]
  },
  {
   "cell_type": "markdown",
   "id": "59b4ba62",
   "metadata": {
    "slideshow": {
     "slide_type": "subslide"
    }
   },
   "source": [
    "The mathematical definition of a \"random variable\" is\n",
    "\"a mapping from the probability space $\\Omega$ into the real numbers\".\n",
    "\n",
    "A random variable is just a *variable*, with some extra structure:\n",
    "a probability distribution."
   ]
  },
  {
   "cell_type": "markdown",
   "id": "884cac52",
   "metadata": {
    "slideshow": {
     "slide_type": "fragment"
    }
   },
   "source": [
    "We create random variables in programming all the time:"
   ]
  },
  {
   "cell_type": "code",
   "execution_count": 2,
   "id": "9e8a9e7c",
   "metadata": {
    "slideshow": {
     "slide_type": "-"
    }
   },
   "outputs": [],
   "source": [
    "X = rng.random()"
   ]
  },
  {
   "cell_type": "markdown",
   "id": "2db97681",
   "metadata": {
    "slideshow": {
     "slide_type": "fragment"
    }
   },
   "source": [
    "What's `X`? We don't know! But, we *do* know `X` is a *number*,\n",
    "and so can do algebra with it, e.g., declare that `Y` is twice `X` squared plus one:"
   ]
  },
  {
   "cell_type": "code",
   "execution_count": 3,
   "id": "bf5cacc4",
   "metadata": {
    "slideshow": {
     "slide_type": "-"
    }
   },
   "outputs": [],
   "source": [
    "Y = 2 * X**2 + 1"
   ]
  },
  {
   "cell_type": "markdown",
   "id": "051b0d0f",
   "metadata": {
    "slideshow": {
     "slide_type": "fragment"
    }
   },
   "source": [
    "\n",
    "Do you want to know what `X` is, for reals?\n",
    "I could do `print(X)` but too bad, *I won't*:\n",
    "for the analogy to hold up,\n",
    "`X` should be the *abstract* instantiation of a draw from `rng.random()`."
   ]
  },
  {
   "cell_type": "markdown",
   "id": "ee325b0e",
   "metadata": {
    "slideshow": {
     "slide_type": "subslide"
    }
   },
   "source": [
    "*Example: the martingale*\n",
    "\n",
    "Let $G_i$ be a random variable that takes values either 0 or 2, with probability 1/2 each.\n",
    "Let $W_n = G_1 G_2 \\cdots G_n$, and $X = \\max_n W_n$.\n",
    "\n",
    "1. If $G_i$ is the outcome of a \"double-or-nothing\" bet, give an interpretation of $W_n$ and $X$.\n",
    "2. Write a function to simulate from $X$.\n",
    "3. Find the distribution of $W_n$ and $X$."
   ]
  },
  {
   "cell_type": "markdown",
   "id": "947cb25e",
   "metadata": {},
   "source": [
    "$W_n$ is the winnings after the $n$th game; $X$ was the highest winnings (which happened right before I went broke);\n",
    "$$ \\mathbb{P}\\{ X = 0 \\} =  1/2 $$\n",
    "and\n",
    "$$ \\mathbb{P}\\{ X = 2^n \\} = 2^{-(n+1)}\\qquad \\text{for } n \\ge 1$$"
   ]
  },
  {
   "cell_type": "code",
   "execution_count": null,
   "id": "3e5768c8",
   "metadata": {},
   "outputs": [],
   "source": [
    "# exercise"
   ]
  },
  {
   "cell_type": "markdown",
   "id": "76823639",
   "metadata": {},
   "source": [
    "$\\mathbb{P}\\{ W_n = 2^n \\} = 2^{-n} $ and $W_n = 0$ otherwise."
   ]
  },
  {
   "cell_type": "markdown",
   "id": "ee597958",
   "metadata": {
    "slideshow": {
     "slide_type": "subslide"
    }
   },
   "source": [
    "## The distribution of a random variable\n",
    "\n",
    "To say how $X$ behaves, we need to specify the *probability*\n",
    "of each possible outcome. For instance:\n",
    "\n",
    "- $X$ is the number rolled on a fair die: $\\P\\{X = k\\} = 1/6$ for $k \\in \\{1, 2, 3, 4, 5, 6\\}$.\n",
    "\n",
    "- $X$ is uniformly chosen in $[0, 1)$: $\\P\\{X < x\\} = x$ for $0 \\le x \\le 1$.\n",
    "\n",
    "- $X$ is the number of times I get \"heads\" when flipping a fair coin before my first \"tails\": $\\P\\{X \\ge k\\} = 2^{-k}$."
   ]
  },
  {
   "cell_type": "markdown",
   "id": "7fec6aea",
   "metadata": {
    "slideshow": {
     "slide_type": "fragment"
    }
   },
   "source": [
    "For some of these, the set of possible values is *discrete*,\n",
    "while for others it is *continuous*.\n",
    "\n",
    "A *continuous distribution* has a *density function*,\n",
    "i.e., a function $f_X(x)$ so that\n",
    "$$  \\P\\{ a \\le X \\le b \\} = \\int_a^b f_X(x) dx . $$"
   ]
  },
  {
   "cell_type": "markdown",
   "id": "099c7e3c",
   "metadata": {
    "slideshow": {
     "slide_type": "subslide"
    }
   },
   "source": [
    "*Example:* Let $X \\sim \\text{Binomial}(10, 1/4)$. What is $\\P\\{X \\ge 2\\}$?"
   ]
  },
  {
   "cell_type": "markdown",
   "id": "de73287b",
   "metadata": {
    "slideshow": {
     "slide_type": "fragment"
    }
   },
   "source": [
    "*Answer:* By complements, and then additivity of disjoint events,\n",
    "$$\n",
    " \\P\\{ X \\ge 2 \\}\n",
    " =\n",
    "  1 - \\P\\{ X < 2 \\}\n",
    " =\n",
    "  1 - \\P\\{X = 0\\} - \\P\\{X = 1\\} .\n",
    "$$\n",
    "[By Wikipedia](https://en.wikipedia.org/wiki/Binomial_distribution),\n",
    "if $X \\sim \\text{Binomial}(n, p)$ then\n",
    "$\\P\\{X = k\\} = \\binom{n}{k} p^k (1-p)^{n-k}$, so this is\n",
    "$$\n",
    "    1 - (3/4)^{10} - 10 \\times (1/4) (3/4)^9 .\n",
    "$$"
   ]
  },
  {
   "cell_type": "code",
   "execution_count": 4,
   "id": "062bd244",
   "metadata": {},
   "outputs": [
    {
     "data": {
      "text/plain": [
       "np.float64(0.755469)"
      ]
     },
     "execution_count": 4,
     "metadata": {},
     "output_type": "execute_result"
    }
   ],
   "source": [
    "x = rng.binomial(10, 0.25, size=1000000)\n",
    "np.mean(x >= 2)"
   ]
  },
  {
   "cell_type": "code",
   "execution_count": 5,
   "id": "8bded9ff",
   "metadata": {
    "slideshow": {
     "slide_type": "-"
    }
   },
   "outputs": [
    {
     "data": {
      "text/plain": [
       "0.7559747695922852"
      ]
     },
     "execution_count": 5,
     "metadata": {},
     "output_type": "execute_result"
    }
   ],
   "source": [
    "1 - 0.75**10 - 10 * 0.25 * .75**9"
   ]
  },
  {
   "cell_type": "markdown",
   "id": "0c10c128",
   "metadata": {
    "slideshow": {
     "slide_type": "subslide"
    }
   },
   "source": [
    "*Example:* Let $X \\sim \\text{Normal}(0, 1)$. What is $\\P\\{ |X| > 2 \\}$?"
   ]
  },
  {
   "cell_type": "markdown",
   "id": "39e3d62a",
   "metadata": {
    "slideshow": {
     "slide_type": "fragment"
    }
   },
   "source": [
    "*Answer:*\n",
    "By additivity of disjoint events, and then by complements,\n",
    "$$\n",
    " \\P\\{ |X| > 2 \\}\n",
    " =\n",
    "  \\P\\{ X < - 2 \\}\n",
    "  + \\P\\{ X > 2 \\} \n",
    " =\n",
    " 1 - \\P\\{ -2 \\le X \\le 2 \\} .\n",
    "$$\n",
    "[By Wikipedia](https://en.wikipedia.org/wiki/Normal_distribution),\n",
    "$X$ has density $e^{-x^2/2}/\\sqrt{2\\pi}$, so this is\n",
    "$$\n",
    "    1 - \\int_{-2}^2 \\frac{1}{\\sqrt{2\\pi}} e^{-\\frac{x^2}{2}} dx .\n",
    "$$"
   ]
  },
  {
   "cell_type": "markdown",
   "id": "ba933158",
   "metadata": {
    "slideshow": {
     "slide_type": "fragment"
    }
   },
   "source": [
    "For a *numerical* answer, we can go to [scipy](https://docs.scipy.org/doc/scipy/reference/generated/scipy.stats.norm.html#scipy.stats.norm):"
   ]
  },
  {
   "cell_type": "code",
   "execution_count": 6,
   "id": "6f3d7c09",
   "metadata": {},
   "outputs": [
    {
     "data": {
      "text/plain": [
       "np.float64(0.045652)"
      ]
     },
     "execution_count": 6,
     "metadata": {},
     "output_type": "execute_result"
    }
   ],
   "source": [
    "x = rng.normal(0, 1, size=1000000)\n",
    "np.mean(np.abs(x) > 2)"
   ]
  },
  {
   "cell_type": "code",
   "execution_count": 7,
   "id": "2f6983e8",
   "metadata": {
    "slideshow": {
     "slide_type": "-"
    }
   },
   "outputs": [
    {
     "data": {
      "text/plain": [
       "np.float64(0.0455002638963584)"
      ]
     },
     "execution_count": 7,
     "metadata": {},
     "output_type": "execute_result"
    }
   ],
   "source": [
    "from scipy.stats import norm\n",
    "norm.cdf(-2) + (1 - norm.cdf(2))"
   ]
  },
  {
   "cell_type": "markdown",
   "id": "379b8de1",
   "metadata": {
    "slideshow": {
     "slide_type": "subslide"
    }
   },
   "source": [
    "## Terminology:\n",
    "\n",
    "- the *cumulative distribution function* (CDF) of $X$ is\n",
    "    $$ F_X(x) = \\P\\{ X \\le x \\} . $$\n",
    "\n",
    "- the *probability density function* (PDF) of $X$, if it exists, is\n",
    "    $$ f_X(x) = \\frac{d}{dx} \\P\\{ X \\le x \\} , $$\n",
    "    or\n",
    "    $$ \\text{\"} f_X(x) dx = \\P\\{ X = x \\} dx \\text{\"} . $$\n",
    "\n",
    "For discrete random variables, probabilities are sums.\n",
    "For continuous random variables, they are *integrals* of the PDF...\n",
    "but, integrals are just fancy sums, anyways."
   ]
  },
  {
   "cell_type": "markdown",
   "id": "ba8e9ad7",
   "metadata": {
    "slideshow": {
     "slide_type": "subslide"
    }
   },
   "source": [
    "**Exercise:** The [Exponential(1) distribution](https://en.wikipedia.org/wiki/Exponential_distribution)\n",
    "has cumulative distribution function $\\P\\{ X < x \\} = 1 - e^{-x}$.\n",
    "Plot this (a) empirically, using `rng.exponential(size=1000000)`, and (b) by plotting this function."
   ]
  },
  {
   "cell_type": "markdown",
   "id": "5500c921",
   "metadata": {
    "slideshow": {
     "slide_type": "slide"
    }
   },
   "source": [
    "# Means and variances"
   ]
  },
  {
   "cell_type": "markdown",
   "id": "78d5236d",
   "metadata": {
    "slideshow": {
     "slide_type": "subslide"
    }
   },
   "source": [
    "## The expected value\n",
    "\n",
    "For a random variable $X$ and a function $f( )$,\n",
    "the *expected value* of $f(X)$ random variable is the weighted average of its possible values:\n",
    "$$ \\E[f(X)] = \\sum_x f(x) \\P\\{X = x\\} . $$\n",
    "\n",
    "The simplest example of this is the *mean* of $X$:\n",
    "$$ \\E[X] = \\sum_x x \\P\\{X = x\\} . $$"
   ]
  },
  {
   "cell_type": "markdown",
   "id": "e8b4bead",
   "metadata": {
    "slideshow": {
     "slide_type": "subslide"
    }
   },
   "source": [
    "*Example:* If $X$ is Binomial($n$, $p$), then $\\P\\{X = x\\} = \\binom{n}{x} p^x (1-p)^{n-x}$,\n",
    "so (by Wikipedia):\n",
    "$$ \\E[X] = \\sum_{x=0}^n x \\binom{n}{x} p^x (1-p)^{n-x} = np .$$"
   ]
  },
  {
   "cell_type": "markdown",
   "id": "0a42ff9e",
   "metadata": {
    "slideshow": {
     "slide_type": "fragment"
    }
   },
   "source": [
    "*Example:* If $X$ is Exponential($\\lambda$), then $X$ has density $\\lambda e^{-\\lambda x}$ so\n",
    "$$ \\E[X] = \\int_0^\\infty x \\lambda e^{-\\lambda x} dx  = \\frac{1}{\\lambda} .$$"
   ]
  },
  {
   "cell_type": "markdown",
   "id": "f01c0ebe",
   "metadata": {
    "slideshow": {
     "slide_type": "subslide"
    }
   },
   "source": [
    "## Additivity of expectation\n",
    "\n",
    "For *any* random variables $X$ and $Y$,\n",
    "$$ \\E[X + Y] = \\E[X] + \\E[Y] . $$"
   ]
  },
  {
   "cell_type": "markdown",
   "id": "30f38458",
   "metadata": {
    "slideshow": {
     "slide_type": "fragment"
    }
   },
   "source": [
    "*Example:* Suppose a random student spends on average \\\\$2.50 for coffee each day.\n",
    "In a class of 30, what is the expected total amount of money they spent on coffee that day?"
   ]
  },
  {
   "cell_type": "code",
   "execution_count": null,
   "id": "3ee03deb",
   "metadata": {},
   "outputs": [],
   "source": [
    "2.5 * 30"
   ]
  },
  {
   "cell_type": "code",
   "execution_count": null,
   "id": "23cbb2cb",
   "metadata": {},
   "outputs": [],
   "source": [
    "7000 + 30.5 * 2.5"
   ]
  },
  {
   "cell_type": "markdown",
   "id": "3dab5c85",
   "metadata": {
    "slideshow": {
     "slide_type": "fragment"
    }
   },
   "source": [
    "*Example:* Suppose also that the average amount of federal loans for a UO student is \\\\$7,000/year.\n",
    "What is the average sum of a student's annual loan amount and the amount they spend on coffee in a month?"
   ]
  },
  {
   "cell_type": "markdown",
   "id": "bb32d7ae",
   "metadata": {
    "slideshow": {
     "slide_type": "subslide"
    }
   },
   "source": [
    "## Multiplication and expectation\n",
    "\n",
    "If $X$ and $Y$ are **independent** then\n",
    "$$ \\E[X Y] = \\E[X] \\E[Y] .$$"
   ]
  },
  {
   "cell_type": "markdown",
   "id": "9b5ab05e",
   "metadata": {
    "slideshow": {
     "slide_type": "fragment"
    }
   },
   "source": [
    "*Example:* Let $U$ and $V$ be independent and Uniform on $[0, 1]$.\n",
    "What is the expected area of a rectangle with width $U$ and height $V$?"
   ]
  },
  {
   "cell_type": "markdown",
   "id": "80354321",
   "metadata": {},
   "source": [
    "$\\mathbb{E}[U] = \\mathbb{E}[V] = 0.5$, so 1/4."
   ]
  },
  {
   "cell_type": "markdown",
   "id": "d455694e",
   "metadata": {
    "slideshow": {
     "slide_type": "fragment"
    }
   },
   "source": [
    "*Non-example:* Let $U$ be Uniform on $[0, 1]$.\n",
    "What is the expected area of a square with width $U$?"
   ]
  },
  {
   "cell_type": "code",
   "execution_count": 10,
   "id": "5ef27f0a",
   "metadata": {},
   "outputs": [
    {
     "data": {
      "text/plain": [
       "np.float64(0.3330850673199569)"
      ]
     },
     "execution_count": 10,
     "metadata": {},
     "output_type": "execute_result"
    }
   ],
   "source": [
    "np.mean(rng.uniform(size=1000000)**2)"
   ]
  },
  {
   "cell_type": "markdown",
   "id": "5c35a1ff",
   "metadata": {
    "slideshow": {
     "slide_type": "fragment"
    }
   },
   "source": [
    "**Exercise:** Write down the integral for this area, and then evaluate it by simulation."
   ]
  },
  {
   "cell_type": "markdown",
   "id": "8c89c8c8",
   "metadata": {
    "cell_style": "center",
    "slideshow": {
     "slide_type": "subslide"
    }
   },
   "source": [
    "## The variance\n",
    "\n",
    "The *variance* of $X$ is\n",
    "$$ \\var[X] = \\E[X^2] - \\E[X]^2 , $$\n",
    "and the *standard deviation* is\n",
    "$$ \\sd[X] = \\sqrt{\\var[X]} .$$\n",
    "\n",
    "*Equivalent definition:* if $X$ has mean $\\mu$, then\n",
    "$$ \\var[X] = \\E[(X-\\mu)^2] . $$"
   ]
  },
  {
   "cell_type": "markdown",
   "id": "a37d3256",
   "metadata": {
    "slideshow": {
     "slide_type": "fragment"
    }
   },
   "source": [
    "The standard deviation tells us how much $X$ tends to differ from the mean."
   ]
  },
  {
   "cell_type": "markdown",
   "id": "ddffe5c8",
   "metadata": {
    "slideshow": {
     "slide_type": "subslide"
    }
   },
   "source": [
    "## Additivity of variance (or not)\n",
    "\n",
    "If $X$ and $Y$ are independent,\n",
    "then $$ \\var[X + Y] = \\var[X] + \\var[Y]. $$"
   ]
  },
  {
   "cell_type": "markdown",
   "id": "7bec9f4a",
   "metadata": {
    "slideshow": {
     "slide_type": "fragment"
    }
   },
   "source": [
    "*Example:* Suppose the amount of rain that falls each day is independent,\n",
    "with mean 0.1\" and variance 0.25\". What is the mean and variance of the total amount of rain\n",
    "in a week?"
   ]
  },
  {
   "cell_type": "markdown",
   "id": "e2c286b8",
   "metadata": {
    "slideshow": {
     "slide_type": "slide"
    }
   },
   "source": [
    "# Some distributions\n",
    "\n",
    "Here's a helper function we'll use to summarize the distributions."
   ]
  },
  {
   "cell_type": "code",
   "execution_count": 11,
   "id": "25584e46",
   "metadata": {},
   "outputs": [],
   "source": [
    "def print_dist(x):\n",
    "    x = np.sort(x)\n",
    "    with np.printoptions(precision=2):\n",
    "        print(f\"{len(x)} values; mean={np.mean(x):.1}; sd={np.std(x):.1}\")\n",
    "        print(f\"  smallest five values: {x[:5]}\")\n",
    "        print(f\"  largest five values: {x[-5:]}\")"
   ]
  },
  {
   "cell_type": "markdown",
   "id": "9d17f435",
   "metadata": {
    "slideshow": {
     "slide_type": "subslide"
    }
   },
   "source": [
    "## Exponential\n",
    "\n",
    "Simulate 100,000 draws from the [Exponential(5) distribution](https://en.wikipedia.org/wiki/Exponential_distribution):"
   ]
  },
  {
   "cell_type": "code",
   "execution_count": 13,
   "id": "5252990c",
   "metadata": {},
   "outputs": [
    {
     "data": {
      "text/plain": [
       "array([0.59801409, 4.06839608, 6.64260839, 4.81536738])"
      ]
     },
     "execution_count": 13,
     "metadata": {},
     "output_type": "execute_result"
    }
   ],
   "source": [
    "x[:4]"
   ]
  },
  {
   "cell_type": "code",
   "execution_count": 12,
   "id": "160d759e",
   "metadata": {
    "slideshow": {
     "slide_type": "-"
    }
   },
   "outputs": [
    {
     "name": "stdout",
     "output_type": "stream",
     "text": [
      "100000 values; mean=5e+00; sd=5e+00\n",
      "  smallest five values: [2.71e-05 1.54e-04 2.92e-04 3.89e-04 4.69e-04]\n",
      "  largest five values: [55.7  57.04 60.37 61.72 74.21]\n"
     ]
    }
   ],
   "source": [
    "x = rng.exponential(scale=5, size=100000)\n",
    "print_dist(x)"
   ]
  },
  {
   "cell_type": "markdown",
   "id": "330b3da2",
   "metadata": {
    "slideshow": {
     "slide_type": "subslide"
    }
   },
   "source": [
    "The histogram, which decays like $\\exp(-x/5)$,\n",
    "with vertical lines at the mean, which is about in the middle,\n",
    "and the mean plus/minus the SD, which are at about zero and where the curve is starting to get low."
   ]
  },
  {
   "cell_type": "code",
   "execution_count": 14,
   "id": "4ba1f299",
   "metadata": {
    "slideshow": {
     "slide_type": "-"
    }
   },
   "outputs": [
    {
     "data": {
      "image/png": "[encoded data removed]",
      "text/plain": [
       "<Figure size 1500x800 with 1 Axes>"
      ]
     },
     "metadata": {},
     "output_type": "display_data"
    }
   ],
   "source": [
    "mean_x = np.mean(x)\n",
    "sd_x = np.std(x)\n",
    "plt.hist(x, bins=100)\n",
    "plt.title(f\"mean={mean_x:.2f}, sd={sd_x:.2f}\")\n",
    "plt.vlines(mean_x, 0, 10000, 'red')\n",
    "plt.vlines([mean_x - sd_x, mean_x + sd_x], 0, 10000, 'red', ':');"
   ]
  },
  {
   "cell_type": "markdown",
   "id": "65751f58",
   "metadata": {
    "slideshow": {
     "slide_type": "subslide"
    }
   },
   "source": [
    "## Normal\n",
    "\n",
    "Same thing, for the [Normal distribution](https://en.wikipedia.org/wiki/Normal_distribution):"
   ]
  },
  {
   "cell_type": "code",
   "execution_count": 15,
   "id": "28e33699",
   "metadata": {
    "slideshow": {
     "slide_type": "-"
    }
   },
   "outputs": [
    {
     "name": "stdout",
     "output_type": "stream",
     "text": [
      "100000 values; mean=2e+00; sd=7e+00\n",
      "  smallest five values: [-27.39 -24.92 -24.6  -24.28 -24.11]\n",
      "  largest five values: [28.19 28.39 28.63 30.03 30.88]\n"
     ]
    }
   ],
   "source": [
    "x = rng.normal(loc=2, scale=7, size=100000)\n",
    "print_dist(x)"
   ]
  },
  {
   "cell_type": "markdown",
   "id": "fd07180d",
   "metadata": {
    "slideshow": {
     "slide_type": "subslide"
    }
   },
   "source": [
    "The histogram, which is a rounded bump with longish tails,\n",
    "centered at about 2 and halfway down the slope at about -5 and 9."
   ]
  },
  {
   "cell_type": "code",
   "execution_count": 16,
   "id": "b449067f",
   "metadata": {
    "slideshow": {
     "slide_type": "-"
    }
   },
   "outputs": [
    {
     "data": {
      "image/png": "[encoded data removed]",
      "text/plain": [
       "<Figure size 1500x800 with 1 Axes>"
      ]
     },
     "metadata": {},
     "output_type": "display_data"
    }
   ],
   "source": [
    "mean_x = np.mean(x)\n",
    "sd_x = np.std(x)\n",
    "\n",
    "plt.hist(x, bins=100)\n",
    "plt.title(f\"mean={mean_x:.2f}, sd={sd_x:.2f}\")\n",
    "plt.vlines(mean_x, 0, 4000, 'red')\n",
    "plt.vlines([mean_x - sd_x, mean_x + sd_x], 0, 4000, 'red', ':');"
   ]
  },
  {
   "cell_type": "markdown",
   "id": "c45f1c12",
   "metadata": {
    "slideshow": {
     "slide_type": "subslide"
    }
   },
   "source": [
    "## Binomial\n",
    "\n",
    "The [Binomial distribution](https://en.wikipedia.org/wiki/Binomial_distribution)"
   ]
  },
  {
   "cell_type": "code",
   "execution_count": null,
   "id": "4fede08b",
   "metadata": {
    "slideshow": {
     "slide_type": "-"
    }
   },
   "outputs": [],
   "source": [
    "x = rng.binomial(n=50, p=0.4, size=100000)\n",
    "print_dist(x)"
   ]
  },
  {
   "cell_type": "markdown",
   "id": "ed63f366",
   "metadata": {
    "slideshow": {
     "slide_type": "subslide"
    }
   },
   "source": [
    "The histogram here shows discrete values,\n",
    "but is shaped similar to the Normal;\n",
    "this one is centered at about 20 and halfway down the slopes are at about plus/minus 3.5."
   ]
  },
  {
   "cell_type": "code",
   "execution_count": null,
   "id": "9569bbe3",
   "metadata": {
    "slideshow": {
     "slide_type": "-"
    }
   },
   "outputs": [],
   "source": [
    "mean_x = np.mean(x)\n",
    "sd_x = np.std(x)\n",
    "\n",
    "plt.hist(x, bins=100)\n",
    "plt.title(f\"mean={mean_x:.2f}, sd={sd_x:.2f}\")\n",
    "plt.vlines(mean_x, 0, 4000, 'red')\n",
    "plt.vlines([mean_x - sd_x, mean_x + sd_x], 0, 4000, 'red', ':');"
   ]
  },
  {
   "cell_type": "markdown",
   "id": "e874e3f9",
   "metadata": {
    "slideshow": {
     "slide_type": "subslide"
    }
   },
   "source": [
    "# Poisson\n",
    "\n",
    "Do the same thing with `rng.poisson`, for the [Poisson distribution](https://en.wikipedia.org/wiki/Poisson_distribution)"
   ]
  },
  {
   "cell_type": "code",
   "execution_count": null,
   "id": "9eb194d9",
   "metadata": {},
   "outputs": [],
   "source": [
    "rng.poisson(lam=100, size=10)"
   ]
  }
 ],
 "metadata": {
  "celltoolbar": "Slideshow",
  "kernelspec": {
   "display_name": "Python 3 (ipykernel)",
   "language": "python",
   "name": "python3"
  },
  "language_info": {
   "codemirror_mode": {
    "name": "ipython",
    "version": 3
   },
   "file_extension": ".py",
   "mimetype": "text/x-python",
   "name": "python",
   "nbconvert_exporter": "python",
   "pygments_lexer": "ipython3",
   "version": "3.12.9"
  },
  "rise": {
   "scroll": true,
   "transition": "none"
  }
 },
 "nbformat": 4,
 "nbformat_minor": 5
}
