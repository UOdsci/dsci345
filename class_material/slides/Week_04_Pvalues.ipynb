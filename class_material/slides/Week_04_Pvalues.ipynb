{
 "cells": [
  {
   "cell_type": "markdown",
   "id": "202599bf",
   "metadata": {
    "slideshow": {
     "slide_type": "slide"
    }
   },
   "source": [
    "# Model selection, and p-values\n",
    "\n",
    "Fall 2022: Peter Ralph\n",
    "\n",
    "https://uodsci.github.io/dsci345"
   ]
  },
  {
   "cell_type": "code",
   "execution_count": 1,
   "id": "4ea03594",
   "metadata": {
    "slideshow": {
     "slide_type": "skip"
    }
   },
   "outputs": [],
   "source": [
    "import matplotlib\n",
    "import matplotlib.pyplot as plt\n",
    "matplotlib.rcParams['figure.figsize'] = (15, 8)\n",
    "import numpy as np\n",
    "import pandas as pd\n",
    "from dsci345 import pretty\n",
    "\n",
    "rng = np.random.default_rng(seed=123)"
   ]
  },
  {
   "cell_type": "markdown",
   "id": "b0b9f690",
   "metadata": {
    "slideshow": {
     "slide_type": "skip"
    }
   },
   "source": [
    "$$\\renewcommand{\\P}{\\mathbb{P}} \\newcommand{\\E}{\\mathbb{E}} \\newcommand{\\var}{\\text{var}} \\newcommand{\\sd}{\\text{sd}}$$\n",
    "This is here so we can use `\\P` and `\\E` and `\\var` and `\\sd` in LaTeX below."
   ]
  },
  {
   "cell_type": "markdown",
   "id": "75ed9a7e",
   "metadata": {
    "slideshow": {
     "slide_type": "skip"
    }
   },
   "source": [
    "Outline:\n",
    "\n",
    "1. We can fit models now (in two ways) but... what about \"false positives\",\n",
    "    i.e., estimates of an effect when there isn't one?\n",
    "2. Just fitting models willy-nilly leads to *bad* things:\n",
    "    for instance, which studies are more likely to get spuriously large effects:\n",
    "    small or large sample sizes?\n",
    "3. One solution: also report the strength of support *against*\n",
    "    a model of \"no effect\" (i.e., a p-value).\n",
    "4. The t-test."
   ]
  },
  {
   "cell_type": "markdown",
   "id": "f8d24e9a",
   "metadata": {
    "slideshow": {
     "slide_type": "slide"
    }
   },
   "source": [
    "# False positives"
   ]
  },
  {
   "cell_type": "markdown",
   "id": "88b6e364",
   "metadata": {
    "slideshow": {
     "slide_type": "subslide"
    }
   },
   "source": [
    "## The danger of statistics\n",
    "\n",
    "We now know how to fit models (in two ways!). Let's do experiments now!\n",
    "\n",
    "Let's say we all go out and test our own favorite method for avoiding COVID:\n",
    "vitamin C, vaccination, lots of coffee, lucky charms, chloroquine...\n",
    "Everyone comes back with an estimate of\n",
    "the relative risk of getting COVID using their treatment.\n",
    "*How useful is this?*"
   ]
  },
  {
   "cell_type": "markdown",
   "id": "07f721d4",
   "metadata": {
    "slideshow": {
     "slide_type": "fragment"
    }
   },
   "source": [
    "Some people have much bigger studies than others:\n",
    "whose methods will have the largest estimates:\n",
    "large studies or small ones?"
   ]
  },
  {
   "cell_type": "markdown",
   "id": "03aa464b",
   "metadata": {
    "slideshow": {
     "slide_type": "fragment"
    }
   },
   "source": [
    "We need to also report a **measure of uncertainty**\n",
    "and/or the **strength of statistical support**\n",
    "for our results."
   ]
  },
  {
   "cell_type": "markdown",
   "id": "2017f9f3",
   "metadata": {
    "slideshow": {
     "slide_type": "subslide"
    }
   },
   "source": [
    "## My skeptical friend\n",
    "\n",
    "*Me:* I have an amazing new treatment!\n",
    "I had ten random people soak their feet in ice water three times a day for a month,\n",
    "and none of them got sick!"
   ]
  },
  {
   "cell_type": "markdown",
   "id": "75cf9114",
   "metadata": {
    "slideshow": {
     "slide_type": "fragment"
    }
   },
   "source": [
    "*You:* Okay, sure, but they might not have got sick anyhow?"
   ]
  },
  {
   "cell_type": "markdown",
   "id": "5eec2b89",
   "metadata": {
    "slideshow": {
     "slide_type": "fragment"
    }
   },
   "source": [
    "*Me:* No, I got that covered, I had ten other random people who didn't do this,\n",
    "and three of them got sick."
   ]
  },
  {
   "cell_type": "markdown",
   "id": "94966f91",
   "metadata": {
    "slideshow": {
     "slide_type": "fragment"
    }
   },
   "source": [
    "*You:* Hm, okay, but isn't it kinda likely that you'd get such a big difference\n",
    "even if the ice water doesn't do anything? Just by random chance?"
   ]
  },
  {
   "cell_type": "markdown",
   "id": "23a60730",
   "metadata": {
    "slideshow": {
     "slide_type": "fragment"
    }
   },
   "source": [
    "*Me:* Gee, I dunno, how do we find out?"
   ]
  },
  {
   "cell_type": "markdown",
   "id": "9463c301",
   "metadata": {
    "slideshow": {
     "slide_type": "fragment"
    }
   },
   "source": [
    "*You:* Well, this isn't perfect, but"
   ]
  },
  {
   "cell_type": "code",
   "execution_count": 4,
   "id": "6972c3da",
   "metadata": {},
   "outputs": [
    {
     "data": {
      "text/plain": [
       "0.0559"
      ]
     },
     "execution_count": 4,
     "metadata": {},
     "output_type": "execute_result"
    }
   ],
   "source": [
    "ice = rng.binomial(n=10, p=3/20, size=10000)\n",
    "not_ice = rng.binomial(n=10, p=3/20, size=10000)\n",
    "np.mean(ice - not_ice >= 3)"
   ]
  },
  {
   "cell_type": "markdown",
   "id": "b096d9b6",
   "metadata": {
    "slideshow": {
     "slide_type": "subslide"
    }
   },
   "source": [
    "## Fingers\n",
    "\n",
    "I think that writing affects the ligaments in your fingers,\n",
    "so that the index finger on peoples' writing hands tends to be a different length\n",
    "than the index finger on the other hand.\n",
    "\n",
    "Let's collect some data!"
   ]
  },
  {
   "cell_type": "code",
   "execution_count": 5,
   "id": "8e55989a",
   "metadata": {},
   "outputs": [],
   "source": [
    "# num_longer = \n",
    "# num_shorter ="
   ]
  },
  {
   "cell_type": "markdown",
   "id": "17a9a7e2",
   "metadata": {
    "slideshow": {
     "slide_type": "fragment"
    }
   },
   "source": [
    "It's maybe more natural to suppose there *isn't* a difference.\n",
    "Okay, let's see how good my evidence is against this idea:\n",
    "what's the probability that we'd see such a big difference\n",
    "between those numbers even if we all just flipped coins to decide instead?"
   ]
  },
  {
   "cell_type": "code",
   "execution_count": null,
   "id": "4bd5282f",
   "metadata": {},
   "outputs": [],
   "source": [
    "# num_heads =\n",
    "# num_tails ="
   ]
  },
  {
   "cell_type": "markdown",
   "id": "bae20876",
   "metadata": {
    "slideshow": {
     "slide_type": "subslide"
    }
   },
   "source": [
    "*Exercise:* find the \"probability that we'd see such a big difference between those numbers even if we all just flipped coins\", by simulation."
   ]
  },
  {
   "cell_type": "code",
   "execution_count": null,
   "id": "cfd7503e",
   "metadata": {},
   "outputs": [],
   "source": []
  },
  {
   "cell_type": "markdown",
   "id": "aba92b93",
   "metadata": {
    "slideshow": {
     "slide_type": "slide"
    }
   },
   "source": [
    "# The p-value"
   ]
  },
  {
   "cell_type": "markdown",
   "id": "ce7ae2d9",
   "metadata": {
    "slideshow": {
     "slide_type": "subslide"
    }
   },
   "source": [
    "The $p$-value is\n",
    "\n",
    "> the probability of seeing a result\n",
    "> at least as surprising as what we observed in the data,\n",
    "> if the null hypothesis is true."
   ]
  },
  {
   "cell_type": "markdown",
   "id": "ccff0a00",
   "metadata": {
    "slideshow": {
     "slide_type": "fragment"
    }
   },
   "source": [
    "The parts of this are:\n",
    "\n",
    "- *the probability ... if the null hypothesis is true*:\n",
    "    we need a concrete model we can compute probabilities with\n",
    "\n",
    "- *a result*: a statistic summarizing how strongly our data suggest that model is *not* right\n",
    "\n",
    "- *at least as surprising*: usually, the statistic is chosen so that larger values are more surprising"
   ]
  },
  {
   "cell_type": "markdown",
   "id": "57bb4520",
   "metadata": {
    "slideshow": {
     "slide_type": "fragment"
    }
   },
   "source": [
    "In the finger exercise, we found the probability that\n",
    "if we all flipped fair coins,\n",
    "the difference\n",
    "between the number of people with Heads and with Tails\n",
    "was at least as big as <FILL ME>,\n",
    "the difference between the number of people with longer writing-hand fingers\n",
    "and those with shorter writing-hand fingers.\n",
    "    \n",
    "*Why's this a $p$-value?*"
   ]
  },
  {
   "cell_type": "markdown",
   "id": "a2e6e17a",
   "metadata": {
    "slideshow": {
     "slide_type": "slide"
    }
   },
   "source": [
    "# The $t$-test"
   ]
  },
  {
   "cell_type": "markdown",
   "id": "e73184fa",
   "metadata": {
    "slideshow": {
     "slide_type": "subslide"
    }
   },
   "source": [
    "It turns out that thanks to the Central Limit Theorem,\n",
    "if \n",
    "\n",
    "- $X_1, \\ldots, X_n$ are a bunch of independent samples from some distribution with mean $\\mu$,\n",
    "- $\\bar X$ is the sample mean, and\n",
    "- $S$ is the sample standard deviation,\n",
    "\n",
    "then\n",
    "$$  T = \\frac{\\bar X - \\mu}{S}  $$\n",
    "has, approximately, [Student's t distribution](https://en.wikipedia.org/wiki/Student%27s_t-distribution)\n",
    "with $n-2$ degrees of freedom."
   ]
  },
  {
   "cell_type": "markdown",
   "id": "1aecfab7",
   "metadata": {
    "slideshow": {
     "slide_type": "fragment"
    }
   },
   "source": [
    "*Exercise:* interpret this. What's the units?\n",
    "If it's small, what does that mean? Big?"
   ]
  }
 ],
 "metadata": {
  "celltoolbar": "Slideshow",
  "kernelspec": {
   "display_name": "Python 3 (ipykernel)",
   "language": "python",
   "name": "python3"
  },
  "language_info": {
   "codemirror_mode": {
    "name": "ipython",
    "version": 3
   },
   "file_extension": ".py",
   "mimetype": "text/x-python",
   "name": "python",
   "nbconvert_exporter": "python",
   "pygments_lexer": "ipython3",
   "version": "3.9.9"
  },
  "rise": {
   "scroll": true,
   "transition": "none"
  }
 },
 "nbformat": 4,
 "nbformat_minor": 5
}
