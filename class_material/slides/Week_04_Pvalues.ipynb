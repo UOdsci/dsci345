{
 "cells": [
  {
   "cell_type": "markdown",
   "id": "202599bf",
   "metadata": {
    "slideshow": {
     "slide_type": "slide"
    }
   },
   "source": [
    "# Model selection, and p-values\n",
    "\n",
    "Fall 2022: Peter Ralph\n",
    "\n",
    "https://uodsci.github.io/dsci345"
   ]
  },
  {
   "cell_type": "code",
   "execution_count": 1,
   "id": "bb241c75",
   "metadata": {
    "slideshow": {
     "slide_type": "skip"
    }
   },
   "outputs": [],
   "source": [
    "import matplotlib\n",
    "import matplotlib.pyplot as plt\n",
    "matplotlib.rcParams['figure.figsize'] = (15, 8)\n",
    "import numpy as np\n",
    "import pandas as pd\n",
    "from dsci345 import pretty\n",
    "\n",
    "rng = np.random.default_rng(seed=123)"
   ]
  },
  {
   "cell_type": "markdown",
   "id": "b0b9f690",
   "metadata": {
    "slideshow": {
     "slide_type": "skip"
    }
   },
   "source": [
    "$$\\renewcommand{\\P}{\\mathbb{P}} \\newcommand{\\E}{\\mathbb{E}} \\newcommand{\\var}{\\text{var}} \\newcommand{\\sd}{\\text{sd}}$$\n",
    "This is here so we can use `\\P` and `\\E` and `\\var` and `\\sd` in LaTeX below."
   ]
  },
  {
   "cell_type": "markdown",
   "id": "75ed9a7e",
   "metadata": {
    "slideshow": {
     "slide_type": "skip"
    }
   },
   "source": [
    "Outline:\n",
    "\n",
    "1. We can fit models now (in two ways) but... what about \"false positives\",\n",
    "    i.e., estimates of an effect when there isn't one?\n",
    "2. Just fitting models willy-nilly leads to *bad* things:\n",
    "    for instance, which studies are more likely to get spuriously large effects:\n",
    "    small or large sample sizes?\n",
    "3. One solution: also report the strength of support *against*\n",
    "    a model of \"no effect\" (i.e., a p-value).\n",
    "4. The t-test."
   ]
  },
  {
   "cell_type": "markdown",
   "id": "87fed37a",
   "metadata": {
    "slideshow": {
     "slide_type": "slide"
    }
   },
   "source": [
    "# False positives"
   ]
  },
  {
   "cell_type": "markdown",
   "id": "836dbb87",
   "metadata": {
    "slideshow": {
     "slide_type": "subslide"
    }
   },
   "source": [
    "## The danger of statistics\n",
    "\n",
    "We now know how to fit models (in two ways!). Let's do experiments now!\n",
    "\n",
    "Let's say we all go out and test our own favorite method for avoiding COVID:\n",
    "vitamin C, vaccination, lots of coffee, lucky charms, chloroquine...\n",
    "Everyone comes back with an estimate of\n",
    "the relative risk of getting COVID using their treatment.\n",
    "*How useful is this?*"
   ]
  },
  {
   "cell_type": "markdown",
   "id": "5a9ba7c8",
   "metadata": {
    "slideshow": {
     "slide_type": "fragment"
    }
   },
   "source": [
    "Some people have much bigger studies than others:\n",
    "whose methods will have the largest estimates:\n",
    "large studies or small ones?"
   ]
  },
  {
   "cell_type": "markdown",
   "id": "aef74bca",
   "metadata": {
    "slideshow": {
     "slide_type": "fragment"
    }
   },
   "source": [
    "We need to also report a **measure of uncertainty**\n",
    "and/or the **strength of statistical support**\n",
    "for our results."
   ]
  },
  {
   "cell_type": "markdown",
   "id": "c97b97cd",
   "metadata": {
    "slideshow": {
     "slide_type": "subslide"
    }
   },
   "source": [
    "## My skeptical friend\n",
    "\n",
    "*Me:* I have an amazing new treatment!\n",
    "I had ten random people soak their feet in ice water three times a day for a month,\n",
    "and none of them got sick!"
   ]
  },
  {
   "cell_type": "markdown",
   "id": "69892303",
   "metadata": {
    "slideshow": {
     "slide_type": "fragment"
    }
   },
   "source": [
    "*You:* Okay, sure, but they might not have got sick anyhow?"
   ]
  },
  {
   "cell_type": "markdown",
   "id": "d2e88225",
   "metadata": {
    "slideshow": {
     "slide_type": "fragment"
    }
   },
   "source": [
    "*Me:* I got that covered, ten other random people who didn't do this,\n",
    "and three of them got sick."
   ]
  },
  {
   "cell_type": "markdown",
   "id": "036a9539",
   "metadata": {
    "slideshow": {
     "slide_type": "fragment"
    }
   },
   "source": [
    "*You:* Hm, okay, but isn't it kinda likely that you'd get such a big difference\n",
    "even if the ice water doesn't do anything? Just by random chance?"
   ]
  },
  {
   "cell_type": "markdown",
   "id": "1d2146a6",
   "metadata": {
    "slideshow": {
     "slide_type": "fragment"
    }
   },
   "source": [
    "*Me:* Gee, I dunno, how do we find out?"
   ]
  },
  {
   "cell_type": "markdown",
   "id": "21d66350",
   "metadata": {
    "slideshow": {
     "slide_type": "subslide"
    }
   },
   "source": [
    "*You:* Well, this isn't perfect, but"
   ]
  },
  {
   "cell_type": "code",
   "execution_count": 4,
   "id": "21b1a51d",
   "metadata": {},
   "outputs": [
    {
     "data": {
      "text/plain": [
       "0.0559"
      ]
     },
     "execution_count": 4,
     "metadata": {},
     "output_type": "execute_result"
    }
   ],
   "source": [
    "ice = rng.binomial(n=10, p=3/20, size=10000)\n",
    "not_ice = rng.binomial(n=10, p=3/20, size=10000)\n",
    "np.mean(ice - not_ice >= 3)"
   ]
  },
  {
   "cell_type": "markdown",
   "id": "12ac0b11",
   "metadata": {
    "slideshow": {
     "slide_type": "subslide"
    }
   },
   "source": [
    "## Fingers\n",
    "\n",
    "I think that writing affects the ligaments in your fingers,\n",
    "so that the index finger on peoples' writing hands tends to be a different length\n",
    "than the index finger on the other hand.\n",
    "\n",
    "Let's collect some data!"
   ]
  },
  {
   "cell_type": "code",
   "execution_count": 5,
   "id": "a6ff54a0",
   "metadata": {},
   "outputs": [],
   "source": [
    "# num_longer = \n",
    "# num_shorter ="
   ]
  },
  {
   "cell_type": "markdown",
   "id": "268f4ac6",
   "metadata": {
    "slideshow": {
     "slide_type": "fragment"
    }
   },
   "source": [
    "It's maybe more natural to suppose there *isn't* a difference.\n",
    "Okay, let's see how good my evidence is against this idea:\n",
    "what's the probability that we'd see such a big difference\n",
    "between those numbers even if we all just flipped coins to decide instead?"
   ]
  },
  {
   "cell_type": "code",
   "execution_count": null,
   "id": "9917eae4",
   "metadata": {},
   "outputs": [],
   "source": [
    "# num_heads =\n",
    "# num_tails ="
   ]
  },
  {
   "cell_type": "markdown",
   "id": "bc54503a",
   "metadata": {
    "slideshow": {
     "slide_type": "subslide"
    }
   },
   "source": [
    "*Exercise:* find the \"probability that we'd see such a big difference between those numbers even if we all just flipped coins\", by simulation."
   ]
  },
  {
   "cell_type": "code",
   "execution_count": null,
   "id": "1bb51973",
   "metadata": {},
   "outputs": [],
   "source": []
  },
  {
   "cell_type": "markdown",
   "id": "7f6544a6",
   "metadata": {
    "slideshow": {
     "slide_type": "slide"
    }
   },
   "source": [
    "# The p-value"
   ]
  },
  {
   "cell_type": "markdown",
   "id": "fa4bded0",
   "metadata": {
    "slideshow": {
     "slide_type": "subslide"
    }
   },
   "source": [
    "The $p$-value is\n",
    "\n",
    "> the probability of seeing a result\n",
    "> at least as surprising as what we observed in the data,\n",
    "> if the null hypothesis is true."
   ]
  },
  {
   "cell_type": "markdown",
   "id": "39226462",
   "metadata": {
    "slideshow": {
     "slide_type": "fragment"
    }
   },
   "source": [
    "The parts of this are:\n",
    "\n",
    "- *the probability ... if the null hypothesis is true*:\n",
    "    we need a concrete model we can compute probabilities with\n",
    "\n",
    "- *a result*: a statistic summarizing how strongly our data suggest that model is *not* right\n",
    "\n",
    "- *at least as surprising*: usually, the statistic is chosen so that larger values are more surprising"
   ]
  },
  {
   "cell_type": "markdown",
   "id": "f63a1186",
   "metadata": {
    "slideshow": {
     "slide_type": "subslide"
    }
   },
   "source": [
    "In the finger exercise, we found the probability that\n",
    "if we all flipped fair coins,\n",
    "the difference\n",
    "between the number of people with Heads and with Tails\n",
    "was at least as big as <FILL ME>,\n",
    "the difference between the number of people with longer writing-hand fingers\n",
    "and those with shorter writing-hand fingers.\n",
    "    \n",
    "*Why's this a $p$-value?*"
   ]
  },
  {
   "cell_type": "markdown",
   "id": "296418b6",
   "metadata": {
    "slideshow": {
     "slide_type": "slide"
    }
   },
   "source": [
    "# Aside: the sample SD"
   ]
  },
  {
   "cell_type": "markdown",
   "id": "b5627670",
   "metadata": {
    "slideshow": {
     "slide_type": "subslide"
    }
   },
   "source": [
    "Recall that the *variance* of a random variable $X$ with mean $\\mu$\n",
    "is\n",
    "$$ \\text{var}[X] = \\mathbb{E}[ (X - \\mu)^2 ] . $$\n",
    "If we have samples $x_1, \\ldots, x_n$, with sample mean $\\bar x = (x_1 + \\cdots + x_n)/n$,\n",
    "this suggests estimating the variance of the distribution they are drawn from as\n",
    "$$ \\sigma^2(x) =  \\frac{1}{n} \\sum_{i=1}^n (x_i - \\bar x)^2 . $$"
   ]
  },
  {
   "cell_type": "markdown",
   "id": "05f6e933",
   "metadata": {
    "slideshow": {
     "slide_type": "fragment"
    }
   },
   "source": [
    "**However:** the estimator for $\\var[X]$ you *want* to use\n",
    "has an $n-1$ instead of $n$, and is called the *sample variance:*\n",
    "$$ s^2(x) = \\frac{1}{n-1} \\sum_{i=1}^n (x_i - \\bar x)^2 . $$\n",
    "\n",
    "It is an *unbiased* estimator: if $X_1, \\ldots, X_n$ are independent draws from $X$, then\n",
    "$$ \\E[s^2(X_1, \\ldots, X_n)] = \\var[X], $$\n",
    "while $\\sigma^2(X)$ gives an underestimate:\n",
    "$$ \\E[\\sigma^2(X_1, \\ldots, X_n)] = \\frac{n-1}{n} \\var[X]. $$"
   ]
  },
  {
   "cell_type": "markdown",
   "id": "ae764443",
   "metadata": {
    "slideshow": {
     "slide_type": "subslide"
    }
   },
   "source": [
    "The *sample SD*, as returned for instance by `np.std( )`, is $s(x)$.\n",
    "\n",
    "Checking this with math is straightforward but tedious;\n",
    "here's a quick simulation check:"
   ]
  },
  {
   "cell_type": "code",
   "execution_count": 11,
   "id": "85210dc8",
   "metadata": {},
   "outputs": [
    {
     "name": "stdout",
     "output_type": "stream",
     "text": [
      "The true variance is 1.0473017790738046.\n",
      "The mean sigma^2 is 0.772416534970991.\n",
      "The mean sample variance is 0.9646103934056804.\n"
     ]
    }
   ],
   "source": [
    "def sigma2(x):\n",
    "    return np.sum((x - np.mean(x))**2)/len(x)\n",
    "\n",
    "def s2(x):\n",
    "    return np.sum((x - np.mean(x))**2)/(len(x) - 1)\n",
    "\n",
    "n = 4\n",
    "sig_vals = [sigma2(rng.exponential(size=n)) for _ in range(1000)]\n",
    "s_vals = [s2(rng.exponential(size=n)) for _ in range(1000)]\n",
    "true_var = np.var(rng.exponential(size=10000))\n",
    "\n",
    "print(f\"The true variance is {true_var}.\")\n",
    "print(f\"The mean sigma^2 is {np.mean(sig_vals)}.\")\n",
    "print(f\"The mean sample variance is {np.mean(s_vals)}.\")"
   ]
  },
  {
   "cell_type": "markdown",
   "id": "875d079a",
   "metadata": {
    "slideshow": {
     "slide_type": "slide"
    }
   },
   "source": [
    "# The $t$-things"
   ]
  },
  {
   "cell_type": "markdown",
   "id": "20e2f8d0",
   "metadata": {
    "slideshow": {
     "slide_type": "subslide"
    }
   },
   "source": [
    "It turns out that thanks to the Central Limit Theorem,\n",
    "if \n",
    "\n",
    "- $X_1, \\ldots, X_n$ are a bunch of independent samples from some distribution with mean $\\mu$,\n",
    "- $\\bar X$ is the sample mean, and\n",
    "- $S$ is the sample standard deviation,\n",
    "\n",
    "then the difference between the sample mean and $\\mu$, in units of $S$:\n",
    "$$  T = \\frac{\\bar X - \\mu}{S/\\sqrt{n}}  $$\n",
    "has, approximately$^*$, [Student's t distribution](https://en.wikipedia.org/wiki/Student%27s_t-distribution)\n",
    "with $n-2$ degrees of freedom.\n",
    "\n",
    "$^*$ (the approximation is better the bigger $n$ is and the closer $X_i$ is to Normal)"
   ]
  },
  {
   "cell_type": "markdown",
   "id": "6e17228d",
   "metadata": {
    "slideshow": {
     "slide_type": "subslide"
    }
   },
   "source": [
    "So: let's suppose we have measurements $x_1, \\ldots, x_n$.\n",
    "\n",
    "1. How do we estimate the mean? With the sample mean, $(x_1 + \\cdots + x_n)/n$.\n",
    "    And, the SD? With the sample SD, $s$.\n",
    "\n",
    "2. How sure are we the mean is not zero?\n",
    "    Well, if it *was* zero, then $t = \\bar x / (s/\\sqrt{n})$ would be Student's $t(n-1)$ distributed,\n",
    "    so if $t$ is bigger than we'd expect then we can be pretty sure:\n",
    "    the $p$-value is\n",
    "    $$ \\P\\{ T > t \\} , $$\n",
    "    where $T$ is Student's t with $n-1$ degrees of freedom."
   ]
  },
  {
   "cell_type": "markdown",
   "id": "60d3e6c3",
   "metadata": {
    "slideshow": {
     "slide_type": "subslide"
    }
   },
   "source": [
    "In other words:\n",
    "\n",
    "- The sample mean, $\\bar X$, is likely close to the true mean, $\\mu$.\n",
    "- How close? Probably only a few multiples of the \"standard error of the mean\", $S/\\sqrt{n}$.\n",
    "- How many multiples? Well, that quantity is $t$-distributed, so you can calculate whatever you like about it."
   ]
  },
  {
   "cell_type": "markdown",
   "id": "2ce3c6f9",
   "metadata": {
    "slideshow": {
     "slide_type": "subslide"
    }
   },
   "source": [
    "## Example\n",
    "\n",
    "Let's say we've measured how typing speed\n",
    "of 100 people changes after drinking coffee:\n",
    "the average change is 3 wpm and the SD is 10 wpm.\n",
    "Is this good evidence that coffee increases typing speed?"
   ]
  },
  {
   "cell_type": "markdown",
   "id": "93c29775",
   "metadata": {
    "slideshow": {
     "slide_type": "fragment"
    }
   },
   "source": [
    "Well, this has a $t$ statistic of\n",
    "$$ t = \\frac{3}{10/\\sqrt{100}} = 3, $$\n",
    "and the probability a $t$ distribution with 99 degrees of freedom is at least 3 is"
   ]
  },
  {
   "cell_type": "code",
   "execution_count": 13,
   "id": "52d109e4",
   "metadata": {},
   "outputs": [
    {
     "data": {
      "text/plain": [
       "0.003415507921578742"
      ]
     },
     "execution_count": 13,
     "metadata": {},
     "output_type": "execute_result"
    }
   ],
   "source": [
    "from scipy.stats import t\n",
    "2 * (1 - t.cdf(3, df=99))"
   ]
  },
  {
   "cell_type": "markdown",
   "id": "9865fddd",
   "metadata": {
    "slideshow": {
     "slide_type": "fragment"
    }
   },
   "source": [
    "... so, it does seem like good evidence? ($p = 0.003$, $t$-test with $\\text{df}=99$)"
   ]
  },
  {
   "cell_type": "markdown",
   "id": "44e30ecb",
   "metadata": {
    "slideshow": {
     "slide_type": "fragment"
    }
   },
   "source": [
    "**However:** this does *not* answer the questions:\n",
    "\"What is the range of likely increases in typing speed?\"\n",
    "*(see: confidence intervals)*\n",
    "or\n",
    "\"Is this difference in typing speed big enough to care about?\"\n",
    "*(just think about the problem)*"
   ]
  },
  {
   "cell_type": "markdown",
   "id": "03269782",
   "metadata": {
    "slideshow": {
     "slide_type": "slide"
    }
   },
   "source": [
    "# Power analysis"
   ]
  },
  {
   "cell_type": "markdown",
   "id": "d6048d78",
   "metadata": {
    "slideshow": {
     "slide_type": "subslide"
    }
   },
   "source": [
    "Suppose we're measuring expression\n",
    "of many ($\\sim$ 1,000) genes\n",
    "in a bunch of organisms at night and during the day.\n",
    "We'd like to know which genes are expressed \n",
    "at different levels in night and day, and by how much.\n",
    "\n",
    "However, gene expression is highly variable: some genes\n",
    "differ much more between individuals than others.\n",
    "Here's a model for $X$, the difference in log gene expression\n",
    "of a random gene in a random individual:\n",
    "$$ \\begin{aligned}\n",
    "    \\text{mean difference:} \\qquad M &\\sim \\begin{cases} 3 \\qquad &\\text{with probability}\\; 1/2 \\\\ 0 \\qquad &\\text{with probability}\\; 1/2 \\end{cases} \\\\\n",
    "    \\text{SD difference:} \\qquad D &\\sim \\text{Exponential}(\\text{mean}=2) \\\\\n",
    "    \\text{measured difference:} \\qquad X &\\sim \\text{Normal}(\\text{mean}=M, \\text{sd}=D) .\n",
    "\\end{aligned}$$"
   ]
  },
  {
   "cell_type": "markdown",
   "id": "36212f06",
   "metadata": {
    "slideshow": {
     "slide_type": "fragment"
    }
   },
   "source": [
    "*Goals:* We will want to, in the real data,\n",
    "\n",
    "- Identify genes that we're sure are differentially expressed.\n",
    "- Estimate how different their expression levels are.\n",
    "\n",
    "So, let's simulate from this and test out our methods."
   ]
  },
  {
   "cell_type": "markdown",
   "id": "a7a960ac",
   "metadata": {
    "slideshow": {
     "slide_type": "subslide"
    }
   },
   "source": [
    "## Simulate"
   ]
  },
  {
   "cell_type": "code",
   "execution_count": 22,
   "id": "f982ac46",
   "metadata": {},
   "outputs": [],
   "source": [
    "n = 1000\n",
    "num_samples = 20\n",
    "M = rng.choice([0, 3], size=n)\n",
    "D = rng.exponential(scale=2, size=n)\n",
    "X = np.array([rng.normal(loc=M, scale=D, size=n) for _ in range(num_samples)])\n",
    "mean_X = np.mean(X, axis=0)\n",
    "sd_X = np.std(X, axis=0)"
   ]
  },
  {
   "cell_type": "code",
   "execution_count": 31,
   "id": "26dac459",
   "metadata": {
    "slideshow": {
     "slide_type": "fragment"
    }
   },
   "outputs": [
    {
     "data": {
      "image/png": "[encoded data removed]",
      "text/plain": [
       "<Figure size 1500x800 with 1 Axes>"
      ]
     },
     "metadata": {},
     "output_type": "display_data"
    }
   ],
   "source": [
    "from matplotlib.collections import LineCollection\n",
    "fig, ax = plt.subplots()\n",
    "\n",
    "for Mval, col in [(0, 'black'), (3, 'red')]:\n",
    "    ut = (M == Mval)\n",
    "    segs = [[(d, m - 2 * s), (d, m + 2 * s)] for d, m, s in zip(D[ut], mean_X[ut], sd_X[ut])]\n",
    "    ax.add_collection(LineCollection(segs, colors=col))\n",
    "    ax.scatter(D[ut], mean_X[ut], c=col, label=f'true diff={Mval}')\n",
    "\n",
    "ax.set_xlabel(\"true SD\"); ax.set_ylabel(\"mean difference +/- 2 SD\")\n",
    "ax.legend();"
   ]
  },
  {
   "cell_type": "code",
   "execution_count": 43,
   "id": "1287c887",
   "metadata": {
    "slideshow": {
     "slide_type": "subslide"
    }
   },
   "outputs": [
    {
     "data": {
      "image/png": "[encoded data removed]",
      "text/plain": [
       "<Figure size 1500x800 with 2 Axes>"
      ]
     },
     "metadata": {},
     "output_type": "display_data"
    }
   ],
   "source": [
    "import scipy.stats\n",
    "\n",
    "tt = scipy.stats.ttest_1samp(X, axis=0, popmean=0)\n",
    "\n",
    "fig, (ax1, ax2) = plt.subplots(1, 2)\n",
    "\n",
    "ax1.scatter(mean_X, tt.statistic)\n",
    "ax1.set_xlabel(\"mean difference\"); ax1.set_ylabel(\"t statistic\")\n",
    "ax2.scatter(mean_X, tt.pvalue)\n",
    "ax2.set_xlabel(\"mean difference\"); ax2.set_ylabel(\"p-value\");"
   ]
  },
  {
   "cell_type": "markdown",
   "id": "c1a415a8",
   "metadata": {},
   "source": [
    "## In class\n",
    "\n",
    "So, how will we do this?\n",
    "\n",
    "- Identify genes that we're sure are differentially expressed.\n",
    "- Estimate how different their expression levels are."
   ]
  }
 ],
 "metadata": {
  "celltoolbar": "Slideshow",
  "kernelspec": {
   "display_name": "Python 3 (ipykernel)",
   "language": "python",
   "name": "python3"
  },
  "language_info": {
   "codemirror_mode": {
    "name": "ipython",
    "version": 3
   },
   "file_extension": ".py",
   "mimetype": "text/x-python",
   "name": "python",
   "nbconvert_exporter": "python",
   "pygments_lexer": "ipython3",
   "version": "3.9.9"
  },
  "rise": {
   "scroll": true,
   "transition": "none"
  }
 },
 "nbformat": 4,
 "nbformat_minor": 5
}
