{
 "cells": [
  {
   "cell_type": "markdown",
   "id": "202599bf",
   "metadata": {
    "slideshow": {
     "slide_type": "slide"
    }
   },
   "source": [
    "# Some history\n",
    "\n",
    "Peter Ralph\n",
    "\n",
    "https://uodsci.github.io/dsci345"
   ]
  },
  {
   "cell_type": "markdown",
   "id": "751d3d61",
   "metadata": {
    "slideshow": {
     "slide_type": "slide"
    }
   },
   "source": [
    "# Threads of statistical history\n",
    "\n",
    "-    Cryptography: [Al-Khalīl, 750](https://en.wikipedia.org/wiki/Al-Khalil_ibn_Ahmad_al-Farahidi), [Al-Kindi, 800](https://en.wikipedia.org/wiki/Al-Kindi), [Ibn ’Adlan, 1200](https://en.wikipedia.org/wiki/Ibn_%27Adlan)\n",
    "-    Gambling: [Bernoulli, 1700](https://en.wikipedia.org/wiki/Jacob_Bernoulli), [de Moivre, 1718](https://en.wikipedia.org/wiki/The_Doctrine_of_Chances)\n",
    "-    Astronomy/physics: [Laplace, 1780](https://en.wikipedia.org/wiki/Pierre-Simon_Laplace), [Adrain, 1800](https://en.wikipedia.org/wiki/Robert_Adrain), [Gauss, 1800](https://en.wikipedia.org/wiki/Carl_Friedrich_Gauss)\n",
    "-    Public health: [Quetelet, 1835](https://en.wikipedia.org/wiki/Adolphe_Quetelet), [Nightingale, 1850](https://en.wikipedia.org/wiki/Florence_Nightingale)\n",
    "\n"
   ]
  },
  {
   "cell_type": "markdown",
   "id": "50156a40",
   "metadata": {
    "slideshow": {
     "slide_type": "subslide"
    }
   },
   "source": [
    "## The \"birth of modern statistics\"\n",
    "\n",
    "![Galton and Pearson](images/galton-and-pearson-1910.png)\n",
    "![RA Fisher](images/fisher.jpeg)"
   ]
  },
  {
   "cell_type": "markdown",
   "id": "3e5ec27f",
   "metadata": {
    "slideshow": {
     "slide_type": "subslide"
    }
   },
   "source": [
    "## Galton's science\n",
    "\n",
    "![Galton's scatter plot of heights](images/galton_scatter.png)"
   ]
  },
  {
   "cell_type": "markdown",
   "id": "674655de",
   "metadata": {
    "slideshow": {
     "slide_type": "subslide"
    }
   },
   "source": [
    "<div style=\"float: right; width: 40%;\">\n",
    "<img src=\"images/statistical-methods-for-research-workers.jpg\" alt=\"statistical methods for research workers\">\n",
    "</div>\n",
    "\n",
    "*Karl Pearson*: \n",
    "- correlation coefficient; $p$-value\n",
    "- head of the first Department of Applied Statistics as the Galton chair of Eugenics\n",
    "- focus on \"biometry\"\n",
    "\n",
    "*RA Fisher*:\n",
    "- developed ANOVA, maximum likelihood, lots of evolutionary theory\n",
    "- Galton chair of Eugenics, succeeding K. Pearson"
   ]
  },
  {
   "cell_type": "markdown",
   "id": "a21f715e",
   "metadata": {
    "slideshow": {
     "slide_type": "subslide"
    }
   },
   "source": [
    "## Eugenics?\n",
    "\n",
    "> Now, if you are going to take Darwinism as your theory of life and apply it to human problems, you must not only believe it to be true, but you must set to, and demonstrate that it actually applies. […] It was not a light task, but it gave for many years the raison d’etre of my statistical work.\n",
    "\n",
    "*Pearson, 1912, in ‘Darwinism, Medical Progress and Eugenics’. Eugenics Laboratory Lecture Series, IX*"
   ]
  },
  {
   "cell_type": "markdown",
   "id": "4b0ea8a8",
   "metadata": {
    "slideshow": {
     "slide_type": "subslide"
    }
   },
   "source": [
    "![eugenics poster](images/eugenics.png)"
   ]
  },
  {
   "cell_type": "markdown",
   "id": "10f2b1e7",
   "metadata": {
    "slideshow": {
     "slide_type": "subslide"
    }
   },
   "source": [
    "## Who gets to \"direct\"?\n",
    "\n",
    "<img src=\"images/runquist-science-large.jpg\" alt=\"runquist library mural\">"
   ]
  },
  {
   "cell_type": "markdown",
   "id": "a6decc13",
   "metadata": {
    "slideshow": {
     "slide_type": "subslide"
    }
   },
   "source": [
    "![Galton's view of British social structure](images/galton-social-structure.png)\n",
    "\n",
    "<div style=\"color: #666666;\">\n",
    "Galton 1909, *Essays in Eugenics.* London: Eugenics Education\n",
    "Society.\n",
    "(<a href=\"https://www.google.com/books/edition/Statistics_in_Britain_1865_1930/RqJhQgAACAAJ?hl=en\">from MacKenzie</a>)\n",
    "</div>"
   ]
  },
  {
   "cell_type": "markdown",
   "id": "226b37f7",
   "metadata": {
    "slideshow": {
     "slide_type": "subslide"
    }
   },
   "source": [
    "PSA: eugenics is a bunch of bullshit"
   ]
  },
  {
   "cell_type": "markdown",
   "id": "233c53a3",
   "metadata": {
    "slideshow": {
     "slide_type": "subslide"
    }
   },
   "source": [
    "## Pearson and tuberculosis\n",
    "\n",
    "- caused by Mycobacterium tuberculosis\n",
    "\n",
    "- occurs more often among relatives\n",
    "\n",
    "- major risk factors: silicosis (30x), malnutrition, smoking, alcoholism, crowding\n",
    "\n",
    "- minor: genetics (mostly immune-related)"
   ]
  },
  {
   "cell_type": "markdown",
   "id": "e298c2ce",
   "metadata": {
    "slideshow": {
     "slide_type": "fragment"
    }
   },
   "source": [
    "*Pearson:* it’s hereditary!"
   ]
  },
  {
   "cell_type": "markdown",
   "id": "155e949c",
   "metadata": {
    "slideshow": {
     "slide_type": "subslide"
    }
   },
   "source": [
    "## Fisher and smoking:\n",
    "\n",
    "<div style=\"float: right; width: 40%\">\n",
    "    <img src=\"images/fisher-smoking-1946.jpg\" alt=\"Fisher, smoking\">\n",
    "</div>\n",
    "\n",
    "- Hill & Doll: retrospectively compare cancer rates between matched smoking/nonsmoking pairs\n",
    "\n",
    "- Hill & Doll: prospectively compare cancer rates between smoking/nonsmoking doctors\n",
    "\n",
    "- etcetera\n",
    "\n",
    "- Fisher: Correlation is not causation. Let’s calmly study this a while longer.\n"
   ]
  },
  {
   "cell_type": "markdown",
   "id": "2741878c",
   "metadata": {
    "slideshow": {
     "slide_type": "subslide"
    }
   },
   "source": [
    "## Looking back\n",
    "\n",
    "Pearson and Fisher had a big impact,\n",
    "but there's lots more voices out there!\n",
    "\n",
    "\n",
    "<div >\n",
    "<a href=\"https://en.wikipedia.org/wiki/David_Blackwell\">\n",
    "<img alt=\"David Blackwell\" src=\"images/David_Blackwell_1999.jpeg\" style=\"width: 35%; display: inherit;\">\n",
    "</a>\n",
    "<a href=\"https://en.wikipedia.org/wiki/Florence_Nightingale_David\">\n",
    "<img alt=\"FN David\" src=\"images/FN-David.jpg\" style=\"width: 35%; display: inherit;\">\n",
    "</a>\n",
    "<a href=\"https://en.wikipedia.org/wiki/Bin_Yu\">\n",
    "<img alt=\"Bin Yu\" src=\"images/binyu.jpg\" style=\"width: 35%; display: inherit;\">\n",
    "</a>\n",
    "<a href=\"https://en.wikipedia.org/wiki/Mary_Eleanor_Spear\">\n",
    "<img alt=\"Mary Eleanor Spear\" src=\"images/Mary_Eleanor_Hunt_Spear_died_1986.png\" style=\"width: 35%; display: inherit;\">\n",
    "</a>\n"
   ]
  },
  {
   "cell_type": "markdown",
   "id": "22165080",
   "metadata": {
    "slideshow": {
     "slide_type": "subslide"
    }
   },
   "source": [
    "## Looking forward\n",
    "\n",
    "Pearson & Fisher had a big impact in part because (they were pushy and) they were working towards something.\n",
    "\n",
    "Today we have many problems that we need quantitative work to solve.\n",
    "\n",
    "Where do you want to have an impact?\n"
   ]
  },
  {
   "cell_type": "markdown",
   "id": "b77178d7",
   "metadata": {
    "slideshow": {
     "slide_type": "subslide"
    }
   },
   "source": [
    "\n",
    "## Some sources\n",
    "\n",
    "- [Eugenics and Statistics](https://njoselson.github.io/Fisher-Pearson/), by Nathaniel Joselson\n",
    "- [Statistics in Britain, 1865-1930](https://www.google.com/books/edition/Statistics_in_Britain_1865_1930/RqJhQgAACAAJ?hl=en), by Donald MacKenzie\n",
    "- [RA Fisher and the science of hatred](https://www.newstatesman.com/international/science-tech/2020/07/ra-fisher-and-science-hatred), New Statesmen, by Richard J Evans\n",
    "- [Empire of Guns](https://southasia.stanford.edu/news/how-british-gun-manufacturers-changed-industrial-world-lock-stock-and-barrel-lorraine), by Priya Satia\n",
    "- [Fisher and lung cancer](https://priceonomics.com/why-the-father-of-modern-statistics-didnt-believe/), Priceonomics\n",
    "- [How Eugenics Shaped Statistics](http://nautil.us/issue/92/frontiers/how-eugenics-shaped-statistics), by Aubrey Clayton\n"
   ]
  }
 ],
 "metadata": {
  "celltoolbar": "Slideshow",
  "kernelspec": {
   "display_name": "Python 3 (ipykernel)",
   "language": "python",
   "name": "python3"
  },
  "language_info": {
   "codemirror_mode": {
    "name": "ipython",
    "version": 3
   },
   "file_extension": ".py",
   "mimetype": "text/x-python",
   "name": "python",
   "nbconvert_exporter": "python",
   "pygments_lexer": "ipython3",
   "version": "3.11.8"
  },
  "rise": {
   "scroll": true,
   "transition": "none"
  }
 },
 "nbformat": 4,
 "nbformat_minor": 5
}
