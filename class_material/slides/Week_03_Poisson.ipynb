{
 "cells": [
  {
   "cell_type": "markdown",
   "id": "202599bf",
   "metadata": {
    "slideshow": {
     "slide_type": "slide"
    }
   },
   "source": [
    "# Poisson counting\n",
    "\n",
    "Fall 2022: Peter Ralph\n",
    "\n",
    "https://uodsci.github.io/dsci345"
   ]
  },
  {
   "cell_type": "code",
   "execution_count": 1,
   "id": "733bfdf0",
   "metadata": {
    "slideshow": {
     "slide_type": "skip"
    }
   },
   "outputs": [],
   "source": [
    "import matplotlib\n",
    "import matplotlib.pyplot as plt\n",
    "matplotlib.rcParams['figure.figsize'] = (15, 8)\n",
    "import numpy as np\n",
    "import pandas as pd\n",
    "\n",
    "rng = np.random.default_rng()"
   ]
  },
  {
   "cell_type": "markdown",
   "id": "b0b9f690",
   "metadata": {
    "slideshow": {
     "slide_type": "skip"
    }
   },
   "source": [
    "$$\\renewcommand{\\P}{\\mathbb{P}} \\newcommand{\\E}{\\mathbb{E}} \\newcommand{\\var}{\\text{var}} \\newcommand{\\sd}{\\text{sd}}$$\n",
    "This is here so we can use `\\P` and `\\E` and `\\var` and `\\sd` in LaTeX below."
   ]
  },
  {
   "cell_type": "markdown",
   "id": "00b3e274",
   "metadata": {
    "slideshow": {
     "slide_type": "slide"
    }
   },
   "source": [
    "# Motivation, and the Poisson"
   ]
  },
  {
   "cell_type": "markdown",
   "id": "7a8fd409",
   "metadata": {
    "slideshow": {
     "slide_type": "subslide"
    }
   },
   "source": [
    "Suppose that we're running a solar panel manufacturing plant.\n",
    "Each panel is made up of many modules, each of which may be defective.\n",
    "Usually only a few are:\n",
    "the average number of defects per panel is 1.\n",
    "A few defects are okay, but if a panel has more then 2 defects,\n",
    "the panel will not work.\n",
    "*What proportion of panels will work?*"
   ]
  },
  {
   "cell_type": "markdown",
   "id": "2c4a2620",
   "metadata": {
    "slideshow": {
     "slide_type": "fragment"
    }
   },
   "source": [
    "*What do we need to know?*\n",
    "Well, let's suppose that a panel has $N$ modules,\n",
    "and each module is broken independently of the others.\n",
    "If the probability of a module being broken is $p$, then we must have $p = 1/N$.\n",
    "(*Why?*)"
   ]
  },
  {
   "cell_type": "markdown",
   "id": "7d35c165",
   "metadata": {
    "slideshow": {
     "slide_type": "subslide"
    }
   },
   "source": [
    "## Poisson approximation\n",
    "\n",
    "Let's call the number of defects $X$. So, $X$ is Binomial($N$, $\\lambda/N$) with $\\lambda=1$.\n",
    "Binomial probabilities say that\n",
    "$$\\begin{aligned}\n",
    "    \\P\\{ X = k \\}\n",
    "    &=\n",
    "    \\frac{N (N-1) \\cdots (N-k+1)}{k!} \\left(\\frac{\\lambda}{N}\\right)^k \\left(1-\\frac{\\lambda}{N}\\right)^{N-k} .\n",
    "\\end{aligned}$$\n",
    "However, $N$ was arbitrary. For large $N$, (see board)\n",
    "$$\\begin{aligned}\n",
    "    \\P\\{ X = k \\}\n",
    "    &\\approx\n",
    "    \\frac{1}{k!} \\lambda^k e^{-\\lambda} ,\n",
    "\\end{aligned}$$\n",
    "i.e., $X$ is [Poisson with mean $\\lambda$](https://en.wikipedia.org/wiki/Poisson_distribution)."
   ]
  },
  {
   "cell_type": "markdown",
   "id": "ef1e0115",
   "metadata": {
    "slideshow": {
     "slide_type": "slide"
    }
   },
   "source": [
    "# Example: defects"
   ]
  },
  {
   "cell_type": "markdown",
   "id": "76861172",
   "metadata": {
    "slideshow": {
     "slide_type": "subslide"
    }
   },
   "source": [
    "Suppose that we're running a solar panel manufacturing plant.\n",
    "Each panel has a Poisson number of defects with mean 1.\n",
    "A few defects are okay, but if a panel has more then 2 defects,\n",
    "the panel will not work.\n",
    "*What proportion of panels will work?*"
   ]
  },
  {
   "cell_type": "markdown",
   "id": "e98de0a4",
   "metadata": {
    "slideshow": {
     "slide_type": "fragment"
    }
   },
   "source": [
    "*Solution:*\n",
    "Let $X$ denote the number of defective modules on a randomly chosen panel.\n",
    "Then $X$ has a Poisson($\\lambda = 1$) distribution, so\n",
    "$$\\begin{aligned}\n",
    "    \\P\\{X \\le 2\\} &= \\P\\{X = 0\\} + \\P\\{X = 1\\} + \\P\\{X = 2\\} \\\\\n",
    "        &= e^{-\\lambda} \\left( 1 + \\lambda + \\lambda^2 / 2 \\right) ,\n",
    "\\end{aligned}$$\n",
    "which is here"
   ]
  },
  {
   "cell_type": "code",
   "execution_count": 2,
   "id": "65a7170a",
   "metadata": {
    "slideshow": {
     "slide_type": "-"
    }
   },
   "outputs": [
    {
     "name": "stdout",
     "output_type": "stream",
     "text": [
      "Proportion that are good: 0.920\n"
     ]
    }
   ],
   "source": [
    "lam = 1\n",
    "p_good = np.exp(-lam) * (1 + lam + lam**2 / 2)\n",
    "print(f\"Proportion that are good: {p_good:.3f}\")"
   ]
  },
  {
   "cell_type": "markdown",
   "id": "bc418000",
   "metadata": {
    "slideshow": {
     "slide_type": "slide"
    }
   },
   "source": [
    "# Complications"
   ]
  },
  {
   "cell_type": "markdown",
   "id": "975b2a55",
   "metadata": {
    "slideshow": {
     "slide_type": "subslide"
    }
   },
   "source": [
    "*However:* this turns out *not* to match observation,\n",
    "and in fact the distribution of number of defects per panel looks like this:"
   ]
  },
  {
   "cell_type": "code",
   "execution_count": 3,
   "id": "22273bd2",
   "metadata": {
    "scrolled": true,
    "slideshow": {
     "slide_type": "skip"
    }
   },
   "outputs": [
    {
     "name": "stdout",
     "output_type": "stream",
     "text": [
      "proportion good: 0.8717\n",
      "value\texpected\tobserved\n",
      "0\t3678.79\t4990\n",
      "1\t3678.79\t2487\n",
      "2\t1839.40\t1240\n",
      "3\t613.13\t604\n",
      "4\t153.28\t354\n",
      "5\t30.66\t173\n",
      "6\t5.11\t81\n",
      "7\t0.73\t31\n",
      "8\t0.09\t25\n",
      "9\t0.01\t5\n",
      "10\t0.00\t5\n",
      "11\t0.00\t3\n"
     ]
    }
   ],
   "source": [
    "npanels = 10000\n",
    "nd = rng.poisson(lam * rng.exponential(size=npanels), size=npanels)\n",
    "print(f\"proportion good: {np.mean(nd <= 2)}\")\n",
    "print(\"\\t\".join(['value', 'expected', 'observed']))\n",
    "for k in range(12):\n",
    "    exp = npanels * np.exp(-lam) * lam**k / np.math.factorial(k)\n",
    "    obs = np.sum(nd == k)\n",
    "    print(\"\\t\".join([str(k), f\"{exp:.2f}\", str(obs)]))"
   ]
  },
  {
   "cell_type": "markdown",
   "id": "53637dbd",
   "metadata": {
    "slideshow": {
     "slide_type": "-"
    }
   },
   "source": [
    "```\n",
    "value\texpected\tobserved\n",
    "0\t3678.79\t4954\n",
    "1\t3678.79\t2511\n",
    "2\t1839.40\t1263\n",
    "3\t613.13\t625\n",
    "4\t153.28\t336\n",
    "5\t30.66\t146\n",
    "6\t5.11\t89\n",
    "7\t0.73\t42\n",
    "8\t0.09\t17\n",
    "9\t0.01\t8\n",
    "10\t0.00\t5\n",
    "11\t0.00\t3\n",
    "```"
   ]
  },
  {
   "cell_type": "markdown",
   "id": "6007bb2c",
   "metadata": {
    "slideshow": {
     "slide_type": "subslide"
    }
   },
   "source": [
    "## Overdispersion\n",
    "\n",
    "What's going on? With some more investigation,\n",
    "we find that some panels are more error-prone than others:\n",
    "a better model for the number of defects per panel is\n",
    "that the \"quality\" of a panel, $R$, is drawn from an Exponential distribution,\n",
    "and given this quality, the number of defects is Poisson with mean $R$:\n",
    "$$\\begin{aligned}\n",
    "\\text{error rate: } R &\\sim \\text{Exponential}(1) \\\\\n",
    "\\text{number of defects: } X &\\sim \\text{Poisson}(R) .\n",
    "\\end{aligned}$$"
   ]
  },
  {
   "cell_type": "markdown",
   "id": "7e29ded1",
   "metadata": {
    "slideshow": {
     "slide_type": "subslide"
    }
   },
   "source": [
    "*Question:* What is $\\E[X]$?"
   ]
  },
  {
   "cell_type": "markdown",
   "id": "7249176b",
   "metadata": {
    "slideshow": {
     "slide_type": "fragment"
    }
   },
   "source": [
    "Well, given $R$, the mean is, well, $R$, i.e., $\\E[X|R] = R$.\n",
    "\n",
    "So, it would make sense if $\\E[X] = \\E[R] = 1$.\n",
    "\n",
    "This is true; here is the \"proof\" from first principles:\n",
    "$$\\begin{aligned}\n",
    " \\E[X]\n",
    " &=\n",
    " \\sum_x x \\P\\{X = x\\} \\\\\n",
    " &=\n",
    " \\sum_x x \\sum_r \\P\\{X = x, R = r\\} \\\\\n",
    " &=\n",
    " \\sum_x x \\sum_r \\P\\{R = r\\} \\P\\{X = x \\;|\\; R = r\\} \\\\\n",
    " &=\n",
    " \\sum_r \\P\\{R = r\\} \\sum_x x \\P\\{X = x \\;|\\; R = r\\} \\\\\n",
    " &=\n",
    " \\sum_r \\P\\{R = r\\} \\E[X = x \\;|\\; R = r] \\\\\n",
    " &=\n",
    " \\sum_r \\P\\{R = r\\} r \\\\\n",
    " &=\n",
    " \\E[R] .\n",
    "\\end{aligned}$$"
   ]
  },
  {
   "cell_type": "markdown",
   "id": "8e991ed9",
   "metadata": {
    "slideshow": {
     "slide_type": "subslide"
    }
   },
   "source": [
    "# Challenge\n",
    "\n",
    "Estimate the proportion of broken panels from this model by simulation."
   ]
  }
 ],
 "metadata": {
  "celltoolbar": "Slideshow",
  "kernelspec": {
   "display_name": "Python 3 (ipykernel)",
   "language": "python",
   "name": "python3"
  },
  "language_info": {
   "codemirror_mode": {
    "name": "ipython",
    "version": 3
   },
   "file_extension": ".py",
   "mimetype": "text/x-python",
   "name": "python",
   "nbconvert_exporter": "python",
   "pygments_lexer": "ipython3",
   "version": "3.9.9"
  },
  "rise": {
   "scroll": true,
   "transition": "none"
  }
 },
 "nbformat": 4,
 "nbformat_minor": 5
}
