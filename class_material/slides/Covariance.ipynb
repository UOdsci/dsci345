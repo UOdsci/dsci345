{
 "cells": [
  {
   "cell_type": "markdown",
   "id": "202599bf",
   "metadata": {
    "slideshow": {
     "slide_type": "slide"
    }
   },
   "source": [
    "# Correlation and covariance\n",
    "\n",
    "Peter Ralph\n",
    "\n",
    "https://uodsci.github.io/dsci345"
   ]
  },
  {
   "cell_type": "code",
   "execution_count": null,
   "id": "733bfdf0",
   "metadata": {
    "slideshow": {
     "slide_type": "skip"
    }
   },
   "outputs": [],
   "source": [
    "import matplotlib\n",
    "import matplotlib.pyplot as plt\n",
    "matplotlib.rcParams['figure.figsize'] = (15, 8)\n",
    "import numpy as np\n",
    "import pandas as pd\n",
    "from dsci345 import pretty\n",
    "\n",
    "rng = np.random.default_rng()"
   ]
  },
  {
   "cell_type": "markdown",
   "id": "88ec5c59",
   "metadata": {
    "slideshow": {
     "slide_type": "skip"
    }
   },
   "source": [
    "$$\\renewcommand{\\P}{\\mathbb{P}} \\newcommand{\\E}{\\mathbb{E}} \\newcommand{\\var}{\\text{var}} \\newcommand{\\sd}{\\text{sd}} \\newcommand{\\cov}{\\text{cov}}$$\n",
    "This is here so we can use `\\P` and `\\E` and `\\var` and `\\cov` and `\\sd` in LaTeX below."
   ]
  },
  {
   "cell_type": "markdown",
   "id": "b9f60c3f",
   "metadata": {
    "slideshow": {
     "slide_type": "slide"
    }
   },
   "source": [
    "# Covariance, and correlation"
   ]
  },
  {
   "cell_type": "markdown",
   "id": "f8124f75",
   "metadata": {
    "slideshow": {
     "slide_type": "subslide"
    }
   },
   "source": [
    "## Definitions\n",
    "\n",
    "For random variables $X$ and $Y$,\n",
    "$$\\begin{aligned}\n",
    "    \\cov[X, Y]\n",
    "    &=\n",
    "    \\E[(X - \\E[X])(Y - \\E[Y])] \\\\\n",
    "    &=\n",
    "    \\E[XY] - \\E[X] \\E[Y] ,\n",
    "\\end{aligned}$$\n",
    "and\n",
    "$$\n",
    "    \\text{cor}[X, Y]\n",
    "    =\n",
    "    \\frac{\n",
    "        \\cov[X, Y]\n",
    "    }{\n",
    "        \\sd[X] \\sd[Y]\n",
    "    } \n",
    "$$"
   ]
  },
  {
   "cell_type": "markdown",
   "id": "2d964be1",
   "metadata": {
    "slideshow": {
     "slide_type": "fragment"
    }
   },
   "source": [
    "*Properties:*\n",
    "\n",
    "If $a$ is nonrandom and $Z$ is another random variable, then\n",
    "$$\\begin{aligned}\n",
    "    \\text{(constants)}  \\qquad & \\cov[a, X] = 0 \\\\\n",
    "    \\text{(bilinearity)}  \\qquad & \\cov[a X + Y, Z] = a \\; \\cov[X, Z] + \\cov[Y, Z] .\n",
    "\\end{aligned}$$"
   ]
  },
  {
   "cell_type": "markdown",
   "id": "119ae4a8",
   "metadata": {
    "slideshow": {
     "slide_type": "subslide"
    }
   },
   "source": [
    "## Example\n",
    "\n",
    "Let $Z_1$, $Z_2$, and $Z_3$ be independent Normal(0, 1),\n",
    "and\n",
    "$$\\begin{aligned}\n",
    "    X &= \\frac{1}{\\sqrt{2}}\\left( Z_1 + Z_2 \\right) \\\\\n",
    "    Y &= \\frac{1}{\\sqrt{2}}\\left( Z_2 + Z_3 \\right) .\n",
    "\\end{aligned}$$\n",
    "Then\n",
    "$$\\begin{aligned}\n",
    "    X &\\sim \\text{Normal}(0, 1) , \\\\\n",
    "    Y &\\sim \\text{Normal}(0, 1) ,\n",
    "\\end{aligned}$$\n",
    "and\n",
    "$$\\begin{aligned}\n",
    "    \\cov[X, Y]\n",
    "    &=\n",
    "    \\frac{1}{2}\n",
    "    \\E[(Z_1 + Z_2)(Z_2 + Z_3)] \\\\\n",
    "    &=\n",
    "    \\frac{1}{2} .\n",
    "\\end{aligned}$$"
   ]
  },
  {
   "cell_type": "code",
   "execution_count": null,
   "id": "cdd70ce4",
   "metadata": {
    "slideshow": {
     "slide_type": "subslide"
    }
   },
   "outputs": [],
   "source": [
    "Z = rng.normal(size=(3, 2000))\n",
    "X = ( Z[0,:] + Z[1,:] ) / np.sqrt(2)\n",
    "Y = ( Z[1,:] + Z[2,:] ) / np.sqrt(2)\n",
    "fig, ax = plt.subplots()\n",
    "ax.scatter(X, Y); ax.set_aspect(1)\n",
    "ax.set_xlabel(\"X\"); ax.set_ylabel(\"Y\");"
   ]
  },
  {
   "cell_type": "markdown",
   "id": "3eb4299f",
   "metadata": {
    "slideshow": {
     "slide_type": "subslide"
    }
   },
   "source": [
    "## Exercise:\n",
    "\n",
    "Modify the example so that $\\cov[X, Y] = - 1/2$ (and so the plot tilts the other way)."
   ]
  },
  {
   "cell_type": "markdown",
   "id": "ca728cd1",
   "metadata": {
    "slideshow": {
     "slide_type": "slide"
    }
   },
   "source": [
    "# Multivariate data"
   ]
  },
  {
   "cell_type": "markdown",
   "id": "3064bc9e",
   "metadata": {
    "slideshow": {
     "slide_type": "subslide"
    }
   },
   "source": [
    "Suppose we have a bunch of data, like\n",
    "$$ \n",
    "\\begin{bmatrix}\n",
    "X_{11} & X_{12} & \\cdots & X_{1k} \\\\\n",
    "X_{21} & X_{22} & \\cdots & X_{2k}\\\\\n",
    "\\vdots & \\vdots & \\ddots & \\vdots \\\\\n",
    "X_{n1} & \\cdots & \\cdots &X_{nk}\n",
    "\\end{bmatrix}\n",
    "$$\n",
    "where\n",
    "$$\\begin{aligned}\n",
    "    X_{i \\cdot} &= \\text{(one observation)} \\\\\n",
    "    X_{\\cdot j} &= \\text{(one variable)} .\n",
    "\\end{aligned}$$\n",
    "\n",
    "How do we describe relationships between the variables?"
   ]
  },
  {
   "cell_type": "markdown",
   "id": "624f37f0",
   "metadata": {
    "slideshow": {
     "slide_type": "fragment"
    }
   },
   "source": [
    "The **sample covariance matrix** of a dataset is\n",
    "$$ C_{jk} = \\cov[X_{\\cdot j}, X_{\\cdot k}]  $$\n",
    "(and the *sample covariance* is computed just like the sample variance)."
   ]
  },
  {
   "cell_type": "markdown",
   "id": "75e04ec6",
   "metadata": {
    "slideshow": {
     "slide_type": "subslide"
    }
   },
   "source": [
    "## Example\n",
    "\n",
    "Say we have measurements of lots of trees, for:\n",
    "\n",
    "0. age,\n",
    "1. height,\n",
    "2. number of leaves, and\n",
    "3. number of other trees within 5m.\n",
    "\n",
    "*Which correlations will be positive? Negative?*"
   ]
  },
  {
   "cell_type": "markdown",
   "id": "83ec1682",
   "metadata": {
    "slideshow": {
     "slide_type": "subslide"
    }
   },
   "source": [
    "Here is a hopefully interesting but not terribly realistic simulation:"
   ]
  },
  {
   "cell_type": "code",
   "execution_count": null,
   "id": "4ee4293e",
   "metadata": {
    "slideshow": {
     "slide_type": "-"
    }
   },
   "outputs": [],
   "source": [
    "n = 2000\n",
    "age = rng.exponential(scale=100, size=n)\n",
    "height = rng.gamma(scale=np.sqrt(age), shape=np.sqrt(age), size=n)\n",
    "leaves = np.round(rng.normal(loc=height*1000, scale=height*400, size=n))\n",
    "others = rng.poisson(25 * np.pi / 4 * np.exp(-height/100))\n",
    "X = np.column_stack([age, height, leaves, others])\n",
    "np.corrcoef(X.T)"
   ]
  },
  {
   "cell_type": "code",
   "execution_count": null,
   "id": "42f6c630",
   "metadata": {
    "slideshow": {
     "slide_type": "subslide"
    }
   },
   "outputs": [],
   "source": [
    "fig, axes = plt.subplots(4, 4)\n",
    "names = ['age', 'height', 'leaves', 'others']\n",
    "for i in range(4):\n",
    "    for j in range(4):\n",
    "        ax = axes[i][j]\n",
    "        if i == j:\n",
    "            ax.hist(X[:,i], bins=pretty(X[:,i], 40)); ax.set_xlabel(names[i])\n",
    "        else:\n",
    "            ax.scatter(X[:,j], X[:,i]); ax.set_xlabel(names[j]); ax.set_ylabel(names[i])\n",
    "            \n",
    "plt.tight_layout()"
   ]
  },
  {
   "cell_type": "markdown",
   "id": "c443f359",
   "metadata": {
    "slideshow": {
     "slide_type": "subslide"
    }
   },
   "source": [
    "**Exercise:**\n",
    "Come up with at least three variables that are correlated,\n",
    "including at least one *negative* correlation,\n",
    "and check your neighbor agrees."
   ]
  },
  {
   "cell_type": "markdown",
   "id": "9f5850a9",
   "metadata": {
    "slideshow": {
     "slide_type": "slide"
    }
   },
   "source": [
    "# The Multivariate Normal distribution"
   ]
  },
  {
   "cell_type": "markdown",
   "id": "53b7d5a0",
   "metadata": {
    "slideshow": {
     "slide_type": "subslide"
    }
   },
   "source": [
    "However: how can we produce a *particular* covariance matrix? Here's one way..."
   ]
  },
  {
   "cell_type": "markdown",
   "id": "6296b0f6",
   "metadata": {
    "slideshow": {
     "slide_type": "fragment"
    }
   },
   "source": [
    "First, recall some facts about the Normal:\n",
    "if\n",
    "$$\n",
    "    X_i \\sim \\text{Normal}(\\text{mean}=\\mu_i, \\text{sd}=\\sigma_i), \\qquad 0 \\le i \\le k-1,\n",
    "$$\n",
    "are independent, and $a$ and $b$ are nonrandom, then:\n",
    "\n",
    "1. $X_1 + \\cdots + X_k$ is Normal, with mean $\\mu_1 + \\cdots + \\mu_k$\n",
    "    and SD $\\sqrt{\\sigma_1^2 + \\cdots + \\sigma_k^2}$.\n",
    "\n",
    "2. $a X_i + b$ is Normal($a \\mu_i + b$, $a\\sigma_i$)."
   ]
  },
  {
   "cell_type": "markdown",
   "id": "68250e03",
   "metadata": {
    "slideshow": {
     "slide_type": "subslide"
    }
   },
   "source": [
    "So: if $Z_1, \\ldots, Z_k$ are independent Normal(0,1)\n",
    "and $A$ is an $k \\times k$ matrix,\n",
    "then\n",
    "$$ X = AZ $$\n",
    "is a $k$-dimensional random variable and\n",
    "$$ X \\sim \\text{Normal}(0, A A^T) .$$\n",
    "\n",
    "In other words,\n",
    "$$ \\cov[ X_i, X_j ] = \\cov[(AZ)_i, (AZ)_j] = \\left(A A^T \\right)_{ij} = \\sum_\\ell A_{i \\ell} A_{j \\ell} . $$"
   ]
  },
  {
   "cell_type": "markdown",
   "id": "6048f3b0",
   "metadata": {
    "slideshow": {
     "slide_type": "subslide"
    }
   },
   "source": [
    "**So,** here's a recipe to simulate from the **multivariate Normal:**\n",
    "$$ X \\sim \\text{Normal}(\\text{mean}=a, \\text{cov}=C) .$$\n",
    "\n",
    "1. Let $A$ be the Cholesky factor of $C$ (so $C = A A^T$).\n",
    "2. Choose $Z$ to be a vector of independent Normal(0, 1).\n",
    "3. Let $X = a + AZ$."
   ]
  },
  {
   "cell_type": "markdown",
   "id": "3cf4b9b1",
   "metadata": {
    "slideshow": {
     "slide_type": "subslide"
    }
   },
   "source": [
    "## Example:\n",
    "\n",
    "Simulate 1,000 draws from a Normal with mean 0 and covariance matrix\n",
    "$$\n",
    "    C = \\begin{bmatrix}\n",
    "        1 & 0.8 & -0.4 \\\\\n",
    "        0.8 & 1 & -0.8 \\\\\n",
    "        -0.4 & -0.8 & 1\n",
    "    \\end{bmatrix} .\n",
    "$$"
   ]
  },
  {
   "cell_type": "markdown",
   "id": "4698afe3",
   "metadata": {
    "slideshow": {
     "slide_type": "subslide"
    }
   },
   "source": [
    "## Exercise:\n",
    "\n",
    "Simulate 1,000 draws from a Normal with mean $\\mu = (10, 20, 30)$ and covariance matrix\n",
    "$$\n",
    "    C = \\begin{bmatrix}\n",
    "        1 & -1 & -1 \\\\\n",
    "        -1 & 3 & -3 \\\\\n",
    "        -1 & -3 & 10\n",
    "    \\end{bmatrix} .\n",
    "$$\n",
    "What is its correlation matrix?"
   ]
  }
 ],
 "metadata": {
  "celltoolbar": "Slideshow",
  "kernelspec": {
   "display_name": "Python 3 (ipykernel)",
   "language": "python",
   "name": "python3"
  },
  "language_info": {
   "codemirror_mode": {
    "name": "ipython",
    "version": 3
   },
   "file_extension": ".py",
   "mimetype": "text/x-python",
   "name": "python",
   "nbconvert_exporter": "python",
   "pygments_lexer": "ipython3",
   "version": "3.11.2"
  },
  "rise": {
   "scroll": true,
   "transition": "none"
  }
 },
 "nbformat": 4,
 "nbformat_minor": 5
}
