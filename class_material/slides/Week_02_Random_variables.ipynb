{
 "cells": [
  {
   "cell_type": "markdown",
   "id": "202599bf",
   "metadata": {
    "slideshow": {
     "slide_type": "slide"
    }
   },
   "source": [
    "# Simulation, and random variables\n",
    "\n",
    "Fall 2022: Peter Ralph\n",
    "\n",
    "https://uodsci.github.io/dsci345"
   ]
  },
  {
   "cell_type": "code",
   "execution_count": 3,
   "id": "733bfdf0",
   "metadata": {
    "slideshow": {
     "slide_type": "skip"
    }
   },
   "outputs": [],
   "source": [
    "import matplotlib\n",
    "import matplotlib.pyplot as plt\n",
    "matplotlib.rcParams['figure.figsize'] = (15, 8)\n",
    "import numpy as np\n",
    "import pandas as pd\n",
    "\n",
    "rng = np.random.default_rng()"
   ]
  },
  {
   "cell_type": "markdown",
   "id": "b0b9f690",
   "metadata": {
    "slideshow": {
     "slide_type": "skip"
    }
   },
   "source": [
    "$$\\renewcommand{\\P}{\\mathbb{P}} \\newcommand{\\E}{\\mathbb{E}} \\newcommand{\\var}{\\text{var}} \\newcommand{\\sd}{\\text{sd}}$$\n",
    "This is here so we can use `\\P` and `\\E` and `\\var` and `\\sd` in LaTeX below."
   ]
  },
  {
   "cell_type": "markdown",
   "id": "17821a0c",
   "metadata": {
    "slideshow": {
     "slide_type": "slide"
    }
   },
   "source": [
    "# Probability rules\n",
    "\n",
    "(i.e., the *axioms of probability*)"
   ]
  },
  {
   "cell_type": "markdown",
   "id": "8235b231",
   "metadata": {
    "slideshow": {
     "slide_type": "subslide"
    }
   },
   "source": [
    "## Probability rules\n",
    "\n",
    "0. *Probabilities are proportions:* $\\hspace{2em} 0 \\le \\P\\{A\\} \\le 1$\n",
    "\n",
    "1. *Everything:* $\\hspace{2em} \\P\\{ \\Omega \\} = 1$\n",
    "\n",
    "2. *Complements:* $\\hspace{2em} \\P\\{ \\text{not } A\\} = 1 - \\P\\{A\\}$\n",
    "\n",
    "3. *Disjoint events:* If $\\hspace{2em} \\P\\{A \\text{ and } B\\} = 0$\n",
    "    then $\\hspace{2em} \\P\\{A \\text{ or } B\\} = \\P\\{A\\} + \\P\\{B\\}$.\n",
    "\n",
    "4. *Independence:* $A$ and $B$ are independent iff $\\P\\{A \\text{ and } B\\} = \\P\\{A\\} \\P\\{B\\}$.\n",
    "\n",
    "5. *Conditional probability:* \n",
    "    $$\\P\\{A \\;|\\; B\\} = \\frac{\\P\\{A \\text{ and } B\\}}{ \\P\\{B\\} }$$"
   ]
  },
  {
   "cell_type": "markdown",
   "id": "5e961e05",
   "metadata": {
    "slideshow": {
     "slide_type": "subslide"
    }
   },
   "source": [
    "## Consequences:\n",
    "\n",
    "**Probabilities via conditioning:**\n",
    "\n",
    "$$\\P\\{ A \\text{ and } B\\} = \\P\\{A\\} \\P\\{B \\;|\\; A\\} $$\n",
    "\n",
    "**Bayes' rule:**\n",
    "\n",
    "$$\\P\\{B \\;|\\; A\\} = \\frac{\\P\\{B\\} \\P\\{A \\;|\\; B\\}}{ \\P\\{A\\} } .$$"
   ]
  },
  {
   "cell_type": "markdown",
   "id": "86718990",
   "metadata": {
    "slideshow": {
     "slide_type": "slide"
    }
   },
   "source": [
    "# Random variables"
   ]
  },
  {
   "cell_type": "markdown",
   "id": "59b4ba62",
   "metadata": {
    "slideshow": {
     "slide_type": "subslide"
    }
   },
   "source": [
    "The mathematical definition of a \"random variable\" is\n",
    "\"a mapping from the probability space $\\Omega$ into the real numbers\"."
   ]
  },
  {
   "cell_type": "markdown",
   "id": "884cac52",
   "metadata": {
    "slideshow": {
     "slide_type": "fragment"
    }
   },
   "source": [
    "We create random variables in programming all the time:"
   ]
  },
  {
   "cell_type": "code",
   "execution_count": 8,
   "id": "9e8a9e7c",
   "metadata": {
    "slideshow": {
     "slide_type": "-"
    }
   },
   "outputs": [],
   "source": [
    "X = rng.random()"
   ]
  },
  {
   "cell_type": "markdown",
   "id": "2db97681",
   "metadata": {
    "slideshow": {
     "slide_type": "fragment"
    }
   },
   "source": [
    "What's `X`? We don't know! But, we *do* know `X` is a *number*,\n",
    "and so can do algebra with it, e.g., declare that `Y` is twice `X` squared plus one:"
   ]
  },
  {
   "cell_type": "code",
   "execution_count": 9,
   "id": "bf5cacc4",
   "metadata": {
    "slideshow": {
     "slide_type": "-"
    }
   },
   "outputs": [],
   "source": [
    "Y = 2 * X**2 + 1"
   ]
  },
  {
   "cell_type": "markdown",
   "id": "051b0d0f",
   "metadata": {
    "slideshow": {
     "slide_type": "fragment"
    }
   },
   "source": [
    "\n",
    "Do you want to know what `X` is, for reals?\n",
    "I could do `print(X)` but too bad, *I won't*:\n",
    "for the analogy to hold up,\n",
    "`X` should be the *abstract* instantiation of a draw from `rng.random()`."
   ]
  },
  {
   "cell_type": "markdown",
   "id": "ee325b0e",
   "metadata": {
    "slideshow": {
     "slide_type": "subslide"
    }
   },
   "source": [
    "*Example: the martingale*\n",
    "\n",
    "Let $G_i$ be a random variable that takes values either 0 or 2, with probability 1/2 each.\n",
    "Let $W_n = G_1 G_2 \\cdots G_n$, and $X = \\max_n W_n$.\n",
    "\n",
    "1. If $G_i$ is the outcome of a \"double-or-nothing\" bet, give an interpretation of $W_n$ and $X$.\n",
    "2. Write a function to simulate from $X$.\n",
    "3. Find the distribution of $W_n$ and $X$."
   ]
  },
  {
   "cell_type": "markdown",
   "id": "ee597958",
   "metadata": {
    "slideshow": {
     "slide_type": "subslide"
    }
   },
   "source": [
    "## The distribution of a random variable\n",
    "\n",
    "To say how $X$ behaves, we need to specify the *probability*\n",
    "of each possible outcome. For instance:\n",
    "\n",
    "- $X$ is the number rolled on a fair die: $\\P\\{X = k\\} = 1/6$ for $k \\in \\{1, 2, 3, 4, 5, 6\\}$.\n",
    "\n",
    "- $X$ is uniformly chosen in $[0, 1)$: $\\P\\{X < x\\} = x$ for $0 \\le x \\le 1$.\n",
    "\n",
    "- $X$ is the number of times I get \"heads\" when flipping a fair coin before my first \"tails\": $\\P\\{X \\ge k\\} = 2^{-k}$."
   ]
  },
  {
   "cell_type": "markdown",
   "id": "7fec6aea",
   "metadata": {
    "slideshow": {
     "slide_type": "fragment"
    }
   },
   "source": [
    "For some of these, the set of possible values is *discrete*,\n",
    "while for others it is *continuous*.\n",
    "\n",
    "A *continuous distribution* has a *density function*,\n",
    "i.e., a function $f_X(x)$ so that\n",
    "$$  \\P\\{ a \\le X \\le b \\} = \\int_a^b f_X(x) dx . $$"
   ]
  },
  {
   "cell_type": "markdown",
   "id": "b32b745b",
   "metadata": {
    "slideshow": {
     "slide_type": "subslide"
    }
   },
   "source": [
    "*Example:* Let $X \\sim \\text{Binomial}(10, 1/4)$. What is $\\P\\{X > 2\\}$?"
   ]
  },
  {
   "cell_type": "markdown",
   "id": "61953638",
   "metadata": {
    "slideshow": {
     "slide_type": "fragment"
    }
   },
   "source": [
    "*Answer:* By complements, and then additivity of disjoint events,\n",
    "$$\n",
    " \\P\\{ |X| > 2 \\}\n",
    " =\n",
    "  1 - \\P\\{ X \\le 2 \\}\n",
    " =\n",
    "  1 - \\P\\{X = 0\\} - \\P\\{X = 1\\} .\n",
    "$$\n",
    "[By Wikipedia](https://en.wikipedia.org/wiki/Binomial_distribution),\n",
    "if $X \\sim \\text{Binomial}(n, p)$ then\n",
    "$\\P\\{X = k\\} = \\binom{n}{k} p^k (1-p)^{n-k}$, so this is\n",
    "$$\n",
    "    1 - (1/4)^{10} - (3/4) (1/4)^9 .\n",
    "$$"
   ]
  },
  {
   "cell_type": "markdown",
   "id": "0c10c128",
   "metadata": {
    "slideshow": {
     "slide_type": "subslide"
    }
   },
   "source": [
    "*Example:* Let $X \\sim \\text{Normal}(0, 1)$. What is $\\P\\{ |X| > 2 \\}$?"
   ]
  },
  {
   "cell_type": "markdown",
   "id": "39e3d62a",
   "metadata": {
    "slideshow": {
     "slide_type": "fragment"
    }
   },
   "source": [
    "*Answer:*\n",
    "By additivity of disjoint events, and then by complements,\n",
    "$$\n",
    " \\P\\{ |X| > 2 \\}\n",
    " =\n",
    "  \\P\\{ X < - 2 \\}\n",
    "  + \\P\\{ X > 2 \\} \n",
    " =\n",
    " 1 - \\P\\{ -2 \\le X \\le 2 \\} .\n",
    "$$\n",
    "[By Wikipedia](https://en.wikipedia.org/wiki/Normal_distribution),\n",
    "$X$ has density $e^{x^2/2}/\\sqrt{2\\pi}$, so this is\n",
    "$$\n",
    "    1 - \\int_{-2}^2 \\frac{1}{\\sqrt{2\\pi}} e^{-\\frac{x^2}{2}} dx .\n",
    "$$"
   ]
  },
  {
   "cell_type": "markdown",
   "id": "ba933158",
   "metadata": {
    "slideshow": {
     "slide_type": "fragment"
    }
   },
   "source": [
    "For a *numerical* answer, we can go to [scipy](https://docs.scipy.org/doc/scipy/reference/generated/scipy.stats.norm.html#scipy.stats.norm):"
   ]
  },
  {
   "cell_type": "code",
   "execution_count": 49,
   "id": "2f6983e8",
   "metadata": {
    "slideshow": {
     "slide_type": "-"
    }
   },
   "outputs": [
    {
     "data": {
      "text/plain": [
       "0.04550026389635842"
      ]
     },
     "execution_count": 49,
     "metadata": {},
     "output_type": "execute_result"
    }
   ],
   "source": [
    "from scipy.stats import norm\n",
    "1 - (norm.cdf(2) - norm.cdf(-2))"
   ]
  },
  {
   "cell_type": "markdown",
   "id": "379b8de1",
   "metadata": {
    "slideshow": {
     "slide_type": "subslide"
    }
   },
   "source": [
    "## Terminology:\n",
    "\n",
    "- the *cumulative distribution function* (CDF) of $X$ is\n",
    "    $$ F_X(x) = \\P\\{ X < x \\} . $$\n",
    "\n",
    "- the *probability density function* (PDF) of $X$, if it exists, is\n",
    "    $$ f_X(x) = \\frac{d}{dx} \\P\\{ X < x \\} , $$\n",
    "    or\n",
    "    $$ \\text{\"} f_X(x) dx = \\P\\{ X = x \\} dx \\text{\"} . $$\n",
    "\n",
    "For discrete random variables, probabilities are sums.\n",
    "For continuous random variables, they are *integrals* of the PDF...\n",
    "but, integrals are just fancy sums, anyways."
   ]
  },
  {
   "cell_type": "markdown",
   "id": "ba8e9ad7",
   "metadata": {
    "slideshow": {
     "slide_type": "subslide"
    }
   },
   "source": [
    "**Exercise:** The [Exponential(1) distribution](https://en.wikipedia.org/wiki/Exponential_distribution)\n",
    "has cumulative distribution function $\\P\\{ X < x \\} = 1 - e^{-x}$.\n",
    "Plot this (a) empirically, using `rng.exponential(size=1000000)`, and (b) by plotting this function."
   ]
  },
  {
   "cell_type": "markdown",
   "id": "9224d2b4",
   "metadata": {
    "slideshow": {
     "slide_type": "slide"
    }
   },
   "source": [
    "# Means and variances"
   ]
  },
  {
   "cell_type": "markdown",
   "id": "625a4153",
   "metadata": {
    "slideshow": {
     "slide_type": "subslide"
    }
   },
   "source": [
    "## The expected value\n",
    "\n",
    "For a random variable $X$ and a function $f( )$,\n",
    "the *expected value* of $f(X)$ random variable is the weighted average of its possible values:\n",
    "$$ \\E[X] = \\sum_x f(x) \\P\\{X = x\\} . $$\n",
    "\n",
    "The simplest example of this is the *mean* of $X$:\n",
    "$$ \\E[X] = \\sum_x x \\P\\{X = x\\} . $$"
   ]
  },
  {
   "cell_type": "markdown",
   "id": "9aa58e29",
   "metadata": {
    "slideshow": {
     "slide_type": "subslide"
    }
   },
   "source": [
    "*Example:* If $X$ is Binomial($n$, $p$), then $\\P\\{X = x\\} = \\binom{n}{x} p^x (1-p)^{n-x}$,\n",
    "so (by Wikipedia):\n",
    "$$ \\E[X] = \\sum_{x=0}^n x p^x (1-p)^{n-x} = np .$$"
   ]
  },
  {
   "cell_type": "markdown",
   "id": "9e3526e9",
   "metadata": {
    "slideshow": {
     "slide_type": "fragment"
    }
   },
   "source": [
    "*Example:* If $X$ is Exponential($\\lambda$), then $X$ has density $\\lambda e^{-\\lambda x}$ so\n",
    "$$ \\E[X] = \\int_0^\\infty x \\lambda e^{-\\lambda x} dx  = \\frac{1}{\\lambda} .$$"
   ]
  },
  {
   "cell_type": "markdown",
   "id": "8654f353",
   "metadata": {
    "slideshow": {
     "slide_type": "subslide"
    }
   },
   "source": [
    "## Additivity of expectation\n",
    "\n",
    "For *any* random variables $X$ and $Y$,\n",
    "$$ \\E[X + Y] = \\E[X] + \\E[Y] . $$"
   ]
  },
  {
   "cell_type": "markdown",
   "id": "0bea9537",
   "metadata": {
    "slideshow": {
     "slide_type": "fragment"
    }
   },
   "source": [
    "*Example:* Suppose a random student has on average \\\\$12.50 in their pocket.\n",
    "In a class of 30, what is the expected total amount of money in everyone's pockets?"
   ]
  },
  {
   "cell_type": "markdown",
   "id": "ab37c0b6",
   "metadata": {
    "slideshow": {
     "slide_type": "fragment"
    }
   },
   "source": [
    "*Example:* Suppose also that the average amount of federal loans for a UO student is \\\\$7,000/year.\n",
    "What is the average sum of a student's annual loan amount and the amount in their pockets?"
   ]
  },
  {
   "cell_type": "markdown",
   "id": "9b1aee8d",
   "metadata": {
    "slideshow": {
     "slide_type": "subslide"
    }
   },
   "source": [
    "## Multiplication and expectation\n",
    "\n",
    "If $X$ and $Y$ are **independent** then\n",
    "$$ \\E[X Y] = \\E[X] \\E[Y] .$$"
   ]
  },
  {
   "cell_type": "markdown",
   "id": "e062ae05",
   "metadata": {
    "slideshow": {
     "slide_type": "fragment"
    }
   },
   "source": [
    "*Example:* Let $U$ and $V$ be independent and Uniform on $[0, 1]$.\n",
    "What is the expected area of a rectangle with width $U$ and height $U+V$?"
   ]
  },
  {
   "cell_type": "markdown",
   "id": "0c34dea8",
   "metadata": {
    "slideshow": {
     "slide_type": "fragment"
    }
   },
   "source": [
    "*Non-example:* Let $U$ be Uniform on $[0, 1]$.\n",
    "What is the expected area of a square with width $U$?"
   ]
  },
  {
   "cell_type": "markdown",
   "id": "aacee567",
   "metadata": {
    "slideshow": {
     "slide_type": "subslide"
    }
   },
   "source": [
    "**Challenge:**\n",
    "On a game show, a contestant has to try to throw 20 balls through a hoop.\n",
    "Each ball they get through the hoop gets them money:\n",
    "the first one through is \\\\$100, the second one through is \\\\$200, etcetera.\n",
    "(So, if out of 20 balls they get 4 in then they'll get \\\\$100 + \\\\$200 + \\\\$300 = \\\\$600.)\n",
    "Suppose that they get each ball in with probability $1/5$, independently of the others.\n",
    "What is the expected amount of money they win?"
   ]
  },
  {
   "cell_type": "markdown",
   "id": "7e1322c2",
   "metadata": {
    "slideshow": {
     "slide_type": "fragment"
    }
   },
   "source": [
    "*Alternate formulation:* Let $X \\sim \\text{Binomial}(20, 1/5).$ What is $\\E[100 X^2]$?"
   ]
  },
  {
   "cell_type": "markdown",
   "id": "8510ed9e",
   "metadata": {
    "cell_style": "center",
    "slideshow": {
     "slide_type": "subslide"
    }
   },
   "source": [
    "## The variance\n",
    "\n",
    "The *variance* of $X$ is\n",
    "$$ \\var[X] = \\E[X^2] - \\E[X]^2 , $$\n",
    "and the *standard deviation* is\n",
    "$$ \\sd[X] = \\sqrt{\\var[X]} .$$\n",
    "\n",
    "*Equivalent definition:* if $X$ has mean $\\mu$, then\n",
    "$$ \\var[X] = \\E[(X-\\mu)^2] . $$"
   ]
  },
  {
   "cell_type": "markdown",
   "id": "abf27c38",
   "metadata": {
    "slideshow": {
     "slide_type": "fragment"
    }
   },
   "source": [
    "The standard deviation tells us how much $X$ tends to differ from the mean."
   ]
  },
  {
   "cell_type": "markdown",
   "id": "dfa3a568",
   "metadata": {
    "slideshow": {
     "slide_type": "subslide"
    }
   },
   "source": [
    "## Exponential"
   ]
  },
  {
   "cell_type": "code",
   "execution_count": 90,
   "id": "170efc5d",
   "metadata": {
    "slideshow": {
     "slide_type": "-"
    }
   },
   "outputs": [
    {
     "data": {
      "image/png": "[encoded data removed]",
      "text/plain": [
       "<Figure size 1080x576 with 1 Axes>"
      ]
     },
     "metadata": {
      "needs_background": "light"
     },
     "output_type": "display_data"
    }
   ],
   "source": [
    "x = rng.exponential(scale=5, size=100000)\n",
    "mean_x = np.mean(x)\n",
    "sd_x = np.std(x)\n",
    "\n",
    "plt.hist(x, bins=100)\n",
    "plt.title(f\"mean={mean_x:.2f}, sd={sd_x:.2f}\")\n",
    "plt.vlines(mean_x, 0, 10000, 'red')\n",
    "plt.vlines([mean_x - sd_x, mean_x + sd_x], 0, 10000, 'red', ':');"
   ]
  },
  {
   "cell_type": "markdown",
   "id": "2966809e",
   "metadata": {
    "slideshow": {
     "slide_type": "subslide"
    }
   },
   "source": [
    "## Normal"
   ]
  },
  {
   "cell_type": "code",
   "execution_count": 94,
   "id": "58413e54",
   "metadata": {
    "slideshow": {
     "slide_type": "-"
    }
   },
   "outputs": [
    {
     "data": {
      "image/png": "[encoded data removed]",
      "text/plain": [
       "<Figure size 1080x576 with 1 Axes>"
      ]
     },
     "metadata": {
      "needs_background": "light"
     },
     "output_type": "display_data"
    }
   ],
   "source": [
    "x = rng.normal(loc=2, scale=7, size=100000)\n",
    "mean_x = np.mean(x)\n",
    "sd_x = np.std(x)\n",
    "\n",
    "plt.hist(x, bins=100)\n",
    "plt.title(f\"mean={mean_x:.2f}, sd={sd_x:.2f}\")\n",
    "plt.vlines(mean_x, 0, 4000, 'red')\n",
    "plt.vlines([mean_x - sd_x, mean_x + sd_x], 0, 4000, 'red', ':');"
   ]
  },
  {
   "cell_type": "markdown",
   "id": "c0def6d8",
   "metadata": {
    "slideshow": {
     "slide_type": "subslide"
    }
   },
   "source": [
    "## Binomial"
   ]
  },
  {
   "cell_type": "code",
   "execution_count": 97,
   "id": "7999e59b",
   "metadata": {
    "slideshow": {
     "slide_type": "-"
    }
   },
   "outputs": [
    {
     "data": {
      "image/png": "[encoded data removed]",
      "text/plain": [
       "<Figure size 1080x576 with 1 Axes>"
      ]
     },
     "metadata": {
      "needs_background": "light"
     },
     "output_type": "display_data"
    }
   ],
   "source": [
    "x = rng.binomial(n=50, p=0.4, size=100000)\n",
    "mean_x = np.mean(x)\n",
    "sd_x = np.std(x)\n",
    "\n",
    "plt.hist(x, bins=100)\n",
    "plt.title(f\"mean={mean_x:.2f}, sd={sd_x:.2f}\")\n",
    "plt.vlines(mean_x, 0, 12000, 'red')\n",
    "plt.vlines([mean_x - sd_x, mean_x + sd_x], 0, 12000, 'red', ':');"
   ]
  }
 ],
 "metadata": {
  "celltoolbar": "Slideshow",
  "kernelspec": {
   "display_name": "Python 3 (ipykernel)",
   "language": "python",
   "name": "python3"
  },
  "language_info": {
   "codemirror_mode": {
    "name": "ipython",
    "version": 3
   },
   "file_extension": ".py",
   "mimetype": "text/x-python",
   "name": "python",
   "nbconvert_exporter": "python",
   "pygments_lexer": "ipython3",
   "version": "3.9.9"
  },
  "rise": {
   "scroll": true,
   "transition": "none"
  }
 },
 "nbformat": 4,
 "nbformat_minor": 5
}
