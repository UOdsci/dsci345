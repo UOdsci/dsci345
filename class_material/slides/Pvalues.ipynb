{
 "cells": [
  {
   "cell_type": "markdown",
   "id": "202599bf",
   "metadata": {
    "slideshow": {
     "slide_type": "slide"
    },
    "tags": []
   },
   "source": [
    "# Model selection, and p-values\n",
    "\n",
    "Peter Ralph\n",
    "\n",
    "https://uodsci.github.io/dsci345"
   ]
  },
  {
   "cell_type": "code",
   "execution_count": 36,
   "id": "d2cf3fb7",
   "metadata": {
    "slideshow": {
     "slide_type": "skip"
    }
   },
   "outputs": [],
   "source": [
    "import matplotlib\n",
    "import matplotlib.pyplot as plt\n",
    "matplotlib.rcParams['figure.figsize'] = (15, 8)\n",
    "import numpy as np\n",
    "import pandas as pd\n",
    "\n",
    "rng = np.random.default_rng(seed=123)"
   ]
  },
  {
   "cell_type": "markdown",
   "id": "b0b9f690",
   "metadata": {
    "slideshow": {
     "slide_type": "skip"
    }
   },
   "source": [
    "$$\\renewcommand{\\P}{\\mathbb{P}} \\newcommand{\\E}{\\mathbb{E}} \\newcommand{\\var}{\\text{var}} \\newcommand{\\sd}{\\text{sd}}$$\n",
    "This is here so we can use `\\P` and `\\E` and `\\var` and `\\sd` in LaTeX below."
   ]
  },
  {
   "cell_type": "markdown",
   "id": "75ed9a7e",
   "metadata": {
    "slideshow": {
     "slide_type": "skip"
    }
   },
   "source": [
    "Outline:\n",
    "\n",
    "1. We can fit models now (in two ways) but... what about \"false positives\",\n",
    "    i.e., estimates of an effect when there isn't one?\n",
    "2. Just fitting models willy-nilly leads to *bad* things:\n",
    "    for instance, which studies are more likely to get spuriously large effects:\n",
    "    small or large sample sizes?\n",
    "3. One solution: also report the strength of support *against*\n",
    "    a model of \"no effect\" (i.e., a p-value).\n",
    "4. The t-test."
   ]
  },
  {
   "cell_type": "markdown",
   "id": "efdd628e",
   "metadata": {
    "slideshow": {
     "slide_type": "slide"
    }
   },
   "source": [
    "# False positives"
   ]
  },
  {
   "cell_type": "markdown",
   "id": "771434e2",
   "metadata": {
    "slideshow": {
     "slide_type": "subslide"
    }
   },
   "source": [
    "## The danger of statistics\n",
    "\n",
    "We now know how to fit models (in two ways!). Let's do experiments now!\n",
    "\n",
    "Let's say we all go out and test our own favorite method for avoiding COVID:\n",
    "vitamin C, vaccination, lots of coffee, lucky charms, chloroquine...\n",
    "Everyone comes back with an estimate of\n",
    "the relative risk of getting COVID using their treatment.\n",
    "*How useful is this?*"
   ]
  },
  {
   "cell_type": "markdown",
   "id": "1046f94d",
   "metadata": {
    "slideshow": {
     "slide_type": "fragment"
    }
   },
   "source": [
    "Some people have much bigger studies than others:\n",
    "whose methods will have the largest estimates:\n",
    "large studies or small ones?"
   ]
  },
  {
   "cell_type": "markdown",
   "id": "d4c55eb7",
   "metadata": {
    "slideshow": {
     "slide_type": "fragment"
    }
   },
   "source": [
    "We need to also report a **measure of uncertainty**\n",
    "and/or the **strength of statistical support**\n",
    "for our results."
   ]
  },
  {
   "cell_type": "markdown",
   "id": "a7e44e9a",
   "metadata": {
    "slideshow": {
     "slide_type": "subslide"
    }
   },
   "source": [
    "## My skeptical friend\n",
    "\n",
    "*Me:* I have an amazing new treatment!\n",
    "I had ten random people soak their feet in ice water three times a day for a month,\n",
    "and none of them got sick!"
   ]
  },
  {
   "cell_type": "markdown",
   "id": "e8bd8e59",
   "metadata": {
    "slideshow": {
     "slide_type": "fragment"
    }
   },
   "source": [
    "*You:* Okay, sure, but they might not have got sick anyhow?"
   ]
  },
  {
   "cell_type": "markdown",
   "id": "1f6310a6",
   "metadata": {
    "slideshow": {
     "slide_type": "fragment"
    }
   },
   "source": [
    "*Me:* I got that covered, ten other random people who didn't do this,\n",
    "and three of them got sick."
   ]
  },
  {
   "cell_type": "markdown",
   "id": "467e5ac0",
   "metadata": {
    "slideshow": {
     "slide_type": "fragment"
    }
   },
   "source": [
    "*You:* Hm, okay, but isn't it kinda likely that you'd get such a big difference\n",
    "even if the ice water doesn't do anything? Just by random chance?"
   ]
  },
  {
   "cell_type": "markdown",
   "id": "f9d14f9e",
   "metadata": {
    "slideshow": {
     "slide_type": "fragment"
    }
   },
   "source": [
    "*Me:* Gee, I dunno, how do we find out?"
   ]
  },
  {
   "cell_type": "markdown",
   "id": "4e82f98d",
   "metadata": {
    "slideshow": {
     "slide_type": "subslide"
    }
   },
   "source": [
    "*You:* Well, this isn't perfect, but"
   ]
  },
  {
   "cell_type": "code",
   "execution_count": 2,
   "id": "30d4b84a",
   "metadata": {},
   "outputs": [
    {
     "data": {
      "text/plain": [
       "np.float64(0.059)"
      ]
     },
     "execution_count": 2,
     "metadata": {},
     "output_type": "execute_result"
    }
   ],
   "source": [
    "ice = rng.binomial(n=10, p=3/20, size=10000)\n",
    "not_ice = rng.binomial(n=10, p=3/20, size=10000)\n",
    "np.mean(not_ice - ice >= 3)"
   ]
  },
  {
   "cell_type": "markdown",
   "id": "ce303dcf",
   "metadata": {
    "slideshow": {
     "slide_type": "subslide"
    }
   },
   "source": [
    "## Fingers\n",
    "\n",
    "I think that writing affects the ligaments in your fingers,\n",
    "so that the index finger on peoples' writing hands tends to be a different length\n",
    "than the index finger on the other hand.\n",
    "\n",
    "Let's collect some data!"
   ]
  },
  {
   "cell_type": "code",
   "execution_count": 11,
   "id": "d300557e",
   "metadata": {},
   "outputs": [
    {
     "data": {
      "text/plain": [
       "np.str_('h')"
      ]
     },
     "execution_count": 11,
     "metadata": {},
     "output_type": "execute_result"
    }
   ],
   "source": [
    "num_longer = 19\n",
    "num_shorter = 6\n",
    "rng.choice(['h', 't'])"
   ]
  },
  {
   "cell_type": "code",
   "execution_count": 32,
   "id": "a5582b2b",
   "metadata": {},
   "outputs": [
    {
     "data": {
      "text/plain": [
       "np.int64(12)"
      ]
     },
     "execution_count": 32,
     "metadata": {},
     "output_type": "execute_result"
    }
   ],
   "source": [
    "np.sum(rng.choice(['h', 't'], size=25) == 'h')"
   ]
  },
  {
   "cell_type": "markdown",
   "id": "b8884bec",
   "metadata": {
    "slideshow": {
     "slide_type": "fragment"
    }
   },
   "source": [
    "It's maybe more natural to suppose there *isn't* a difference.\n",
    "Okay, let's see how good my evidence is against this idea:\n",
    "what's the probability that we'd see such a big difference\n",
    "between those numbers even if we all just flipped coins to decide instead?"
   ]
  },
  {
   "cell_type": "markdown",
   "id": "4a9d0351",
   "metadata": {
    "slideshow": {
     "slide_type": "subslide"
    }
   },
   "source": [
    "*Exercise:* find the \"probability that we'd see such a big difference between those numbers even if we all just flipped coins\", by simulation."
   ]
  },
  {
   "cell_type": "code",
   "execution_count": 33,
   "id": "246e8e7b",
   "metadata": {},
   "outputs": [
    {
     "data": {
      "text/plain": [
       "np.float64(0.01512)"
      ]
     },
     "execution_count": 33,
     "metadata": {},
     "output_type": "execute_result"
    }
   ],
   "source": [
    "# short way:\n",
    "coins = rng.choice(['h', 't'], size=(100000,25))\n",
    "num_heads = np.sum(coins == 'h', axis=1)\n",
    "np.mean(np.abs(num_heads - (25 - num_heads)) >= 13)"
   ]
  },
  {
   "cell_type": "markdown",
   "id": "73dd2b43",
   "metadata": {
    "slideshow": {
     "slide_type": "slide"
    },
    "tags": []
   },
   "source": [
    "# The p-value"
   ]
  },
  {
   "cell_type": "markdown",
   "id": "92d2362d",
   "metadata": {
    "slideshow": {
     "slide_type": "subslide"
    }
   },
   "source": [
    "The $p$-value is\n",
    "\n",
    "> the probability of seeing a result\n",
    "> at least as surprising as what we observed in the data,\n",
    "> if the null hypothesis is true."
   ]
  },
  {
   "cell_type": "markdown",
   "id": "c2de0cd0",
   "metadata": {
    "slideshow": {
     "slide_type": "fragment"
    }
   },
   "source": [
    "The parts of this are:\n",
    "\n",
    "- *the probability ... if the null hypothesis is true*:\n",
    "    we need a concrete model we can compute probabilities with\n",
    "\n",
    "- *a result*: a statistic summarizing how strongly our data suggest that model is *not* right\n",
    "\n",
    "- *at least as surprising*: usually, the statistic is chosen so that larger values are more surprising"
   ]
  },
  {
   "cell_type": "markdown",
   "id": "88da731b",
   "metadata": {
    "slideshow": {
     "slide_type": "subslide"
    }
   },
   "source": [
    "In the finger exercise, we found the probability that\n",
    "if we all flipped fair coins,\n",
    "the difference\n",
    "between the number of people with Heads and with Tails\n",
    "was at least as big as <FILL ME>,\n",
    "the difference between the number of people with longer writing-hand fingers\n",
    "and those with shorter writing-hand fingers.\n",
    "    \n",
    "*Why's this a $p$-value?*"
   ]
  },
  {
   "cell_type": "markdown",
   "id": "0ad17909-8099-4314-8d3c-5b6a8448a53d",
   "metadata": {
    "slideshow": {
     "slide_type": "subslide"
    },
    "tags": []
   },
   "source": [
    "# Next: a test statistic\n",
    "\n",
    "A common statistical task\n",
    "is to *compare means*:\n",
    "for instance, \"is the outcome after this treatment better?\"\n",
    "or \"is the proportion of responses to X higher than to Y?\"\n",
    "\n",
    "To use a $p$-value to summarize statistical results,\n",
    "we need a good *test statistic*.\n",
    "\n",
    "*Brainstorm:* what do we want this to look like?"
   ]
  },
  {
   "cell_type": "markdown",
   "id": "9937fb08",
   "metadata": {
    "slideshow": {
     "slide_type": "slide"
    }
   },
   "source": [
    "# Aside: the sample SD"
   ]
  },
  {
   "cell_type": "markdown",
   "id": "0a20c7be",
   "metadata": {
    "slideshow": {
     "slide_type": "subslide"
    }
   },
   "source": [
    "Recall that the *variance* of a random variable $X$ with mean $\\mu$\n",
    "is\n",
    "$$ \\text{var}[X] = \\mathbb{E}[ (X - \\mu)^2 ] . $$\n",
    "If we have samples $x_1, \\ldots, x_n$, with sample mean $\\bar x = (x_1 + \\cdots + x_n)/n$,\n",
    "this suggests estimating the variance of the distribution they are drawn from as\n",
    "$$ \\sigma^2(x) =  \\frac{1}{n} \\sum_{i=1}^n (x_i - \\bar x)^2 . $$"
   ]
  },
  {
   "cell_type": "markdown",
   "id": "2410c0ba",
   "metadata": {
    "slideshow": {
     "slide_type": "fragment"
    }
   },
   "source": [
    "**However:** the estimator for $\\var[X]$ you *want* to use\n",
    "has an $n-1$ instead of $n$, and is called the *sample variance:*\n",
    "$$ s^2(x) = \\frac{1}{n-1} \\sum_{i=1}^n (x_i - \\bar x)^2 . $$\n",
    "\n",
    "It is an *unbiased* estimator: if $X_1, \\ldots, X_n$ are independent draws from $X$, then\n",
    "$$ \\E[s^2(X_1, \\ldots, X_n)] = \\var[X], $$\n",
    "while $\\sigma^2(X)$ gives an underestimate:\n",
    "$$ \\E[\\sigma^2(X_1, \\ldots, X_n)] = \\frac{n-1}{n} \\var[X]. $$"
   ]
  },
  {
   "cell_type": "markdown",
   "id": "a2b5552d",
   "metadata": {
    "slideshow": {
     "slide_type": "subslide"
    }
   },
   "source": [
    "*Warning:* `np.std( )` returns $\\sigma^2( )$.\n",
    "\n",
    "To get the *sample SD*, $s(x)$, use `np.std(x, ddof=1)`.\n",
    "\n",
    "Checking this with math is straightforward but tedious;\n",
    "here's a quick simulation check:"
   ]
  },
  {
   "cell_type": "code",
   "execution_count": 38,
   "id": "d457ea0e",
   "metadata": {},
   "outputs": [],
   "source": [
    "x = rng.exponential(size=10)\n",
    "assert np.std(x) == np.sqrt(sigma2(x))"
   ]
  },
  {
   "cell_type": "code",
   "execution_count": 46,
   "id": "acdf63c0",
   "metadata": {},
   "outputs": [
    {
     "data": {
      "text/plain": [
       "np.float64(0.9429174338548572)"
      ]
     },
     "execution_count": 46,
     "metadata": {},
     "output_type": "execute_result"
    },
    {
     "data": {
      "image/png": "[encoded data removed]",
      "text/plain": [
       "<Figure size 1500x800 with 1 Axes>"
      ]
     },
     "metadata": {},
     "output_type": "display_data"
    }
   ],
   "source": [
    "true_variance = np.std(rng.exponential(size=1000000))**2\n",
    "\n",
    "n = 20\n",
    "sig_vals = [sigma2(rng.exponential(size=n)) for _ in range(1000)]\n",
    "\n",
    "fig, ax = plt.subplots()\n",
    "ax.hist(sig_vals)\n",
    "ax.axvline(true_variance, c='red')\n",
    "ax.axvline(np.mean(sig_vals), c='green')\n",
    "\n",
    "np.mean(sig_vals)"
   ]
  },
  {
   "cell_type": "code",
   "execution_count": 34,
   "id": "6253aa88",
   "metadata": {},
   "outputs": [
    {
     "name": "stdout",
     "output_type": "stream",
     "text": [
      "The true variance is 0.982441850170816.\n",
      "The mean sigma^2 is 0.7969272040043704.\n",
      "The mean sample variance is 1.0690682136551606.\n"
     ]
    }
   ],
   "source": [
    "def sigma2(x):\n",
    "    return np.sum((x - np.mean(x))**2)/len(x)\n",
    "\n",
    "def s2(x):\n",
    "    return np.sum((x - np.mean(x))**2)/(len(x) - 1)\n",
    "\n",
    "n = 4\n",
    "sig_vals = [sigma2(rng.exponential(size=n)) for _ in range(1000)]\n",
    "s_vals = [s2(rng.exponential(size=n)) for _ in range(1000)]\n",
    "true_var = np.var(rng.exponential(size=10000))\n",
    "\n",
    "print(f\"The true variance is {true_var}.\")\n",
    "print(f\"The mean sigma^2 is {np.mean(sig_vals)}.\")\n",
    "print(f\"The mean sample variance is {np.mean(s_vals)}.\")"
   ]
  },
  {
   "cell_type": "markdown",
   "id": "8d45cc99",
   "metadata": {
    "slideshow": {
     "slide_type": "slide"
    }
   },
   "source": [
    "# The $t$-things"
   ]
  },
  {
   "cell_type": "markdown",
   "id": "15c9ff63",
   "metadata": {
    "slideshow": {
     "slide_type": "subslide"
    }
   },
   "source": [
    "It turns out that thanks to the Central Limit Theorem,\n",
    "if \n",
    "\n",
    "- $X_1, \\ldots, X_n$ are a bunch of independent samples from some distribution with mean $\\mu$,\n",
    "- $\\bar X$ is the sample mean, and\n",
    "- $S$ is the sample standard deviation,\n",
    "\n",
    "then the difference between the sample mean and $\\mu$, in units of $S/\\sqrt{n}$:\n",
    "$$  T = \\frac{\\bar X - \\mu}{S/\\sqrt{n}}  $$\n",
    "has, approximately$^*$, [Student's t distribution](https://en.wikipedia.org/wiki/Student%27s_t-distribution)\n",
    "with $n-1$ degrees of freedom.\n",
    "\n",
    "$^*$ (the approximation is better the bigger $n$ is and the closer $X_i$ is to Normal)"
   ]
  },
  {
   "cell_type": "markdown",
   "id": "b3edfcac",
   "metadata": {
    "slideshow": {
     "slide_type": "subslide"
    }
   },
   "source": [
    "So: let's suppose we have measurements $x_1, \\ldots, x_n$.\n",
    "\n",
    "1. How do we estimate the mean? With the sample mean, $(x_1 + \\cdots + x_n)/n$.\n",
    "    And, the SD? With the sample SD, $s$.\n",
    "\n",
    "2. How sure are we the mean is not zero?\n",
    "    Well, if it *was* zero, then $t = \\bar x / (s/\\sqrt{n})$ would be Student's $t(n-1)$ distributed,\n",
    "    so if $t$ is bigger than we'd expect then we can be pretty sure:\n",
    "    the $p$-value is\n",
    "    $$ \\P\\{ T > t \\} , $$\n",
    "    where $T$ is Student's t with $n-1$ degrees of freedom."
   ]
  },
  {
   "cell_type": "markdown",
   "id": "449137b5",
   "metadata": {
    "slideshow": {
     "slide_type": "subslide"
    }
   },
   "source": [
    "In other words:\n",
    "\n",
    "- The sample mean, $\\bar X$, is likely close to the true mean, $\\mu$.\n",
    "- How close? Probably only a few multiples of the \"standard error of the mean\", $S/\\sqrt{n}$.\n",
    "- How many multiples? Well, that quantity is $t$-distributed, so you can calculate whatever you like about it."
   ]
  },
  {
   "cell_type": "markdown",
   "id": "ac15104c",
   "metadata": {
    "slideshow": {
     "slide_type": "subslide"
    }
   },
   "source": [
    "## Example\n",
    "\n",
    "Let's say we've measured how typing speed\n",
    "of 100 people changes after drinking coffee:\n",
    "the average change is 3 wpm and the SD is 10 wpm.\n",
    "Is this good evidence that coffee increases typing speed?"
   ]
  },
  {
   "cell_type": "markdown",
   "id": "5b8f209b",
   "metadata": {
    "slideshow": {
     "slide_type": "fragment"
    }
   },
   "source": [
    "Well, this has a $t$ statistic of\n",
    "$$ t = \\frac{3}{10/\\sqrt{100}} = 3, $$\n",
    "and the probability a $t$ distribution with 99 degrees of freedom is at least 3 is"
   ]
  },
  {
   "cell_type": "code",
   "execution_count": 35,
   "id": "be9eeb0c",
   "metadata": {},
   "outputs": [
    {
     "data": {
      "text/plain": [
       "np.float64(0.003415507921578742)"
      ]
     },
     "execution_count": 35,
     "metadata": {},
     "output_type": "execute_result"
    }
   ],
   "source": [
    "from scipy.stats import t\n",
    "2 * (1 - t.cdf(3, df=99))"
   ]
  },
  {
   "cell_type": "markdown",
   "id": "d6855ece",
   "metadata": {
    "slideshow": {
     "slide_type": "fragment"
    }
   },
   "source": [
    "... so, it does seem like good evidence? ($p = 0.003$, $t$-test with $\\text{df}=98$)\n",
    "\n",
    "We found an average of 3 wpm higher after drinking coffee;\n",
    "this is good evidence that coffee increases typing speed\n",
    "($p = 0.003$, by $t$-test with df=98).\n",
    "\n",
    "If there was no mean difference in typing speed,\n",
    "the chance that we would see a difference as big as what we saw\n",
    "is only 0.3%.\n",
    "\n",
    "If I do 1000 different studies and none of the things I'm looking for are real,\n",
    "then I only expect statistical evidence that is this strong\n",
    "in about 3 of them."
   ]
  },
  {
   "cell_type": "markdown",
   "id": "120d5054",
   "metadata": {
    "slideshow": {
     "slide_type": "fragment"
    }
   },
   "source": [
    "**However:** this does *not* answer the questions:\n",
    "\"What is the range of likely increases in typing speed?\"\n",
    "*(see: confidence intervals)*\n",
    "or\n",
    "\"Is this difference in typing speed big enough to care about?\"\n",
    "*(just think about the problem)*"
   ]
  }
 ],
 "metadata": {
  "celltoolbar": "Slideshow",
  "kernelspec": {
   "display_name": "Python 3 (ipykernel)",
   "language": "python",
   "name": "python3"
  },
  "language_info": {
   "codemirror_mode": {
    "name": "ipython",
    "version": 3
   },
   "file_extension": ".py",
   "mimetype": "text/x-python",
   "name": "python",
   "nbconvert_exporter": "python",
   "pygments_lexer": "ipython3",
   "version": "3.12.9"
  },
  "rise": {
   "scroll": true,
   "transition": "none"
  }
 },
 "nbformat": 4,
 "nbformat_minor": 5
}
