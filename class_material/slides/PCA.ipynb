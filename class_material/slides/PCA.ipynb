{
 "cells": [
  {
   "cell_type": "markdown",
   "id": "202599bf",
   "metadata": {
    "slideshow": {
     "slide_type": "slide"
    }
   },
   "source": [
    "# Principal Components Analysis (PCA)\n",
    "\n",
    "Peter Ralph\n",
    "\n",
    "https://uodsci.github.io/dsci345"
   ]
  },
  {
   "cell_type": "code",
   "execution_count": null,
   "id": "733bfdf0",
   "metadata": {
    "slideshow": {
     "slide_type": "skip"
    }
   },
   "outputs": [],
   "source": [
    "import matplotlib\n",
    "import matplotlib.pyplot as plt\n",
    "matplotlib.rcParams['figure.figsize'] = (15, 8)\n",
    "import numpy as np\n",
    "import pandas as pd\n",
    "\n",
    "rng = np.random.default_rng(1234)"
   ]
  },
  {
   "cell_type": "markdown",
   "id": "88ec5c59",
   "metadata": {
    "slideshow": {
     "slide_type": "skip"
    }
   },
   "source": [
    "$$\\renewcommand{\\P}{\\mathbb{P}} \\newcommand{\\E}{\\mathbb{E}} \\newcommand{\\var}{\\text{var}} \\newcommand{\\sd}{\\text{sd}} \\newcommand{\\cov}{\\text{cov}}$$\n",
    "This is here so we can use `\\P` and `\\E` and `\\var` and `\\cov` and `\\sd` in LaTeX below."
   ]
  },
  {
   "cell_type": "markdown",
   "id": "910e955a",
   "metadata": {
    "slideshow": {
     "slide_type": "slide"
    }
   },
   "source": [
    "# When there's lots of variables"
   ]
  },
  {
   "cell_type": "markdown",
   "id": "3f4f3684",
   "metadata": {
    "slideshow": {
     "slide_type": "subslide"
    }
   },
   "source": [
    "Suppose we have a bunch of data, like\n",
    "$$ \n",
    "\\begin{bmatrix}\n",
    "X_{11} & X_{12} & \\cdots & X_{1k} \\\\\n",
    "X_{21} & X_{22} & \\cdots & X_{2k}\\\\\n",
    "\\vdots & \\vdots & \\ddots & \\vdots \\\\\n",
    "X_{n1} & \\cdots & \\cdots &X_{nk}\n",
    "\\end{bmatrix}\n",
    "$$\n",
    "where\n",
    "$$\\begin{aligned}\n",
    "    X_{i \\cdot} &= \\text{(one observation)} \\\\\n",
    "    X_{\\cdot j} &= \\text{(one variable)} .\n",
    "\\end{aligned}$$\n",
    "\n",
    "How do we \"look\" at it?\n",
    "First, we look at all the variables separately and in pairs.\n",
    "... what next?"
   ]
  },
  {
   "cell_type": "markdown",
   "id": "c93f2dcb",
   "metadata": {
    "slideshow": {
     "slide_type": "fragment"
    }
   },
   "source": [
    "One way to look at this is that we have $n$ points in $\\mathbb{R}^k$.\n",
    "\n",
    "Then, PCA answers the question:\n",
    "\"What are the most important axes of variation\n",
    "(of the data in $\\mathbb{R}^k$)?\""
   ]
  },
  {
   "cell_type": "markdown",
   "id": "356b1aad",
   "metadata": {
    "slideshow": {
     "slide_type": "fragment"
    }
   },
   "source": [
    "Let's start with an example."
   ]
  },
  {
   "cell_type": "markdown",
   "id": "149097f1",
   "metadata": {
    "slideshow": {
     "slide_type": "slide"
    }
   },
   "source": [
    "# Manatee Morphometrics"
   ]
  },
  {
   "cell_type": "markdown",
   "id": "14bef775",
   "metadata": {
    "slideshow": {
     "slide_type": "subslide"
    }
   },
   "source": [
    "Manatees come in different shapes and sizes.\n",
    "In our morphometric study of manatees,\n",
    "we will take 20 different measurements from each of 250 manatees:\n",
    "head length, tail width, nostril spacing, belly diamter, etcetera.\n",
    "Here's a rough model of the data:\n",
    "\n",
    "- some manatees are bigger than others; this underlying \"size\" affects all variables roughly equally\n",
    "- there are average shape differences between sexes in some variables\n",
    "\n",
    "So, we'll:\n",
    "\n",
    "1. choose the mean female minus male difference for each variable\n",
    "2. generate the sex and relative size of each manatee\n",
    "3. generate all measurements from independent Normals, adjusted by sex and size"
   ]
  },
  {
   "cell_type": "code",
   "execution_count": null,
   "id": "4eccae15",
   "metadata": {
    "slideshow": {
     "slide_type": "subslide"
    }
   },
   "outputs": [],
   "source": [
    "k = 20\n",
    "n = 250\n",
    "sexes = np.array(['f', 'm'])[1 * (rng.random(size=n) < 0.5)]\n",
    "sizes = rng.normal(loc=1.0, scale=0.2, size=n)\n",
    "\n",
    "mean_measurements = rng.gamma(shape=10, scale=10, size=k)\n",
    "sex_diffs = np.sort(rng.normal(loc=10, scale=25, size=k)) # female minus male\n",
    "sd_measurements = 20\n",
    "\n",
    "X = rng.normal(loc=mean_measurements, scale=sd_measurements, size=(n, k))\n",
    "X[sexes == 'f', :] += sex_diffs\n",
    "X *= sizes[:, np.newaxis]"
   ]
  },
  {
   "cell_type": "markdown",
   "id": "542ac268",
   "metadata": {
    "slideshow": {
     "slide_type": "subslide"
    }
   },
   "source": [
    "What'd we just do?\n",
    "$$\\begin{aligned}\n",
    "    \\mu_j &= \\text{(mean measurement for variable $j$)} \\\\\n",
    "    d_j &= \\text{(mean female minus male difference for variable $j$)} \\\\\n",
    "    S_i &= \\text{(\"size\" of manatee $i$)} \\\\\n",
    "        &\\sim \\text{Normal}(\\text{mean}=1, \\text{sd}=0.1) \\\\\n",
    "    F_i &= \\begin{cases}\n",
    "        1 \\qquad &\\text{if manatee $i$ is female} \\\\\n",
    "        0 \\qquad &\\text{otherwise}\n",
    "    \\end{cases} \\\\\n",
    "    \\epsilon_{ij} &\\sim \\text{Normal}(0, \\sigma) \\\\\n",
    "    X_{ij} &= \\text{(measurement $j$ for manatee $i$)} \\\\\n",
    "        &= S_i \\left( \\mu_j + d_j F_i + \\epsilon_{ij} \\right) .\n",
    "\\end{aligned}$$"
   ]
  },
  {
   "cell_type": "code",
   "execution_count": null,
   "id": "cfe79c76",
   "metadata": {
    "slideshow": {
     "slide_type": "subslide"
    }
   },
   "outputs": [],
   "source": [
    "colors = np.array(['r', 'b'])[1 * (sexes == 'f')]\n",
    "fig, axes = plt.subplots(3, 3, figsize=(12,12))\n",
    "for i in range(3):\n",
    "    for j in range(3):\n",
    "        ax = axes[i][j]\n",
    "        if i == j:\n",
    "            ax.hist(X[:,i])\n",
    "        else:\n",
    "            ax.scatter(X[:,i], X[:,j], c=colors)"
   ]
  },
  {
   "cell_type": "markdown",
   "id": "71ee6e84",
   "metadata": {
    "slideshow": {
     "slide_type": "subslide"
    }
   },
   "source": [
    "First, we do PCA *(explanation later)*:"
   ]
  },
  {
   "cell_type": "code",
   "execution_count": null,
   "id": "a1248039",
   "metadata": {},
   "outputs": [],
   "source": [
    "covmat = np.cov(X.T)\n",
    "evals, evecs = np.linalg.eig(covmat)\n",
    "eord = np.argsort(evals)[::-1]\n",
    "evals = evals[eord]\n",
    "evecs = evecs[:,eord]\n",
    "pcs = X.dot(evecs)"
   ]
  },
  {
   "cell_type": "markdown",
   "id": "c6a6800c",
   "metadata": {
    "slideshow": {
     "slide_type": "subslide"
    }
   },
   "source": [
    "## Scree plot\n",
    "\n",
    "<div style=\"float: right; width: 40%;\">\n",
    "<img src=\"images/scree.png\" alt=\"scree slope in the mountains\">\n",
    "</div>\n",
    "\n",
    "\n",
    "Larger eigenvalues are more important (in a way we'll explain later).\n",
    "It turns out that the eigenvalue, squared, is proportional to\n",
    "\"the percent variation explained\" by the corresponding PC.\n",
    "Plotting these is referred as a \"scree plot\"."
   ]
  },
  {
   "cell_type": "markdown",
   "id": "aabab0b7",
   "metadata": {
    "slideshow": {
     "slide_type": "subslide"
    }
   },
   "source": [
    "**Scree plot:**"
   ]
  },
  {
   "cell_type": "code",
   "execution_count": null,
   "id": "bf1275de",
   "metadata": {},
   "outputs": [],
   "source": [
    "perc_var = 100 * evals**2 / np.sum(evals**2)\n",
    "plt.plot(perc_var)\n",
    "plt.xlabel(\"principal component\")\n",
    "plt.ylabel(\"percent variance explained\")\n",
    "plt.xticks(np.arange(0, 20, 2));"
   ]
  },
  {
   "cell_type": "markdown",
   "id": "78cd5eae",
   "metadata": {
    "slideshow": {
     "slide_type": "subslide"
    }
   },
   "source": [
    "## Manatees in PC space\n",
    "\n",
    "Here is a plot of the (projections of each manatee on to the)\n",
    "first two principal components,\n",
    "colored by sex of the manatee."
   ]
  },
  {
   "cell_type": "code",
   "execution_count": null,
   "id": "02285883",
   "metadata": {},
   "outputs": [],
   "source": [
    "plt.scatter(pcs[:,0], pcs[:,1], c=np.array(['red', 'blue'])[1*(sexes == 'f')])\n",
    "plt.xlabel(f\"PC 1 ({perc_var[0]:.0f}%)\"); plt.ylabel(f\"PC 2 ({perc_var[1]:.0f}%)\");"
   ]
  },
  {
   "cell_type": "markdown",
   "id": "c15d14dc",
   "metadata": {
    "slideshow": {
     "slide_type": "subslide"
    }
   },
   "source": [
    "# \"PC1 is size\""
   ]
  },
  {
   "cell_type": "code",
   "execution_count": null,
   "id": "719ac8d0",
   "metadata": {},
   "outputs": [],
   "source": [
    "plt.scatter(pcs[:,0], np.mean(X, axis=1))\n",
    "plt.xlabel(\"PC1\"); plt.ylabel(\"average measurement\");"
   ]
  },
  {
   "cell_type": "markdown",
   "id": "73029144",
   "metadata": {
    "slideshow": {
     "slide_type": "subslide"
    }
   },
   "source": [
    "## How variables contribute to each PC\n",
    "\n",
    "These are called the \"loadings\":"
   ]
  },
  {
   "cell_type": "code",
   "execution_count": null,
   "id": "d1a514ea",
   "metadata": {},
   "outputs": [],
   "source": [
    "for k in np.arange(2):\n",
    "    plt.plot(evecs[:, k], label=f\"PC{k}\")\n",
    "\n",
    "plt.xlabel(\"variable number\")\n",
    "plt.ylabel(\"coefficient in the PC\")\n",
    "plt.legend();"
   ]
  },
  {
   "cell_type": "markdown",
   "id": "5cbe884c",
   "metadata": {
    "slideshow": {
     "slide_type": "slide"
    }
   },
   "source": [
    "# What's happening: the math"
   ]
  },
  {
   "cell_type": "markdown",
   "id": "4c24fcb8",
   "metadata": {
    "slideshow": {
     "slide_type": "subslide"
    }
   },
   "source": [
    "## The Principal Components\n",
    "\n",
    "Suppose that $X$ is $k$-dimensional with $\\E[X] = 0$ and\n",
    "$$ \\cov[X] = C .$$\n",
    "\n",
    "Say we want to combine a bunch of these variables\n",
    "into a new, composite variable:\n",
    "take coefficients $a = (a_1, \\ldots, a_{k})$\n",
    "and define $Y = a \\cdot X = \\sum_{i=1}^k a_i X_i$.\n",
    "\n",
    "What is $\\var[Y]$?"
   ]
  },
  {
   "cell_type": "markdown",
   "id": "ef68cf0b",
   "metadata": {
    "slideshow": {
     "slide_type": "fragment"
    }
   },
   "source": [
    "Since $\\E[Y] = 0$,\n",
    "$$\\begin{aligned}\n",
    "    \\var[Y] &= \\E[Y^2] \\\\\n",
    "        &= \\E\\left[ \\left(\\sum_{i=1}^k a_i X_i \\right)^2 \\right] \\\\\n",
    "        &= \\E\\left[ \\sum_{i=1}^k \\sum_{j=1}^k a_i a_j X_i X_j \\right] \\\\\n",
    "        &= \\sum_{i=1}^k \\sum_{j=1}^k a_i a_j \\E\\left[ X_i X_j \\right] \\\\\n",
    "        &= \\sum_{i=1}^k \\sum_{j=1}^k a_i a_j C_{ij} \\\\\n",
    "        &= a^T C a .\n",
    "\\end{aligned}$$"
   ]
  },
  {
   "cell_type": "markdown",
   "id": "feabee9d",
   "metadata": {
    "slideshow": {
     "slide_type": "subslide"
    }
   },
   "source": [
    "*Which choice of coefficients, $a$, maximizes the variance of $Y = a \\cdot X$?*"
   ]
  },
  {
   "cell_type": "markdown",
   "id": "9feb44aa",
   "metadata": {
    "slideshow": {
     "slide_type": "fragment"
    }
   },
   "source": [
    "The *top eigenvector* of the covariance matrix, $C$."
   ]
  },
  {
   "cell_type": "markdown",
   "id": "f4b55691",
   "metadata": {
    "slideshow": {
     "slide_type": "fragment"
    }
   },
   "source": [
    "*Which choice of coefficients $b$ maximizes the variance of $Z = b \\cdot X$,\n",
    "for $b$ such that $\\cov[Y, Z] = 0$?*"
   ]
  },
  {
   "cell_type": "markdown",
   "id": "8f5546a1",
   "metadata": {
    "slideshow": {
     "slide_type": "fragment"
    }
   },
   "source": [
    "The second eigenvector of the covariance matrix."
   ]
  },
  {
   "cell_type": "markdown",
   "id": "96a4d7b0",
   "metadata": {
    "slideshow": {
     "slide_type": "subslide"
    }
   },
   "source": [
    "*Linear algebra fact:*\n",
    "If $\\lambda_i$ and $v_i$ are the $i^\\text{th}$ eigenvalue and eigenvector of $C$,\n",
    "with $\\|v_i\\| = 1$,\n",
    "then\n",
    "$$\n",
    "    C = \\sum_{i=1}^k \\lambda_i v_i v_i^T .\n",
    "$$\n",
    "Furthermore, since $C$ is symmetric, $v_i \\cdot v_j = \\delta_{ij}$, and\n",
    "$$\n",
    "    \\sum_{ij} C_{ij}^2 = \\sum_i \\lambda_i^2 .\n",
    "$$"
   ]
  },
  {
   "cell_type": "markdown",
   "id": "89e20fc1",
   "metadata": {
    "slideshow": {
     "slide_type": "fragment"
    }
   },
   "source": [
    "*Said another way:*\n",
    "If we change into the basis given by the eigenvectors,\n",
    "$C$ is diagonal,\n",
    "and this change of basis is *orthogonal* (i.e., it preserves distances)."
   ]
  },
  {
   "cell_type": "markdown",
   "id": "4d8b3012",
   "metadata": {
    "slideshow": {
     "slide_type": "subslide"
    }
   },
   "source": [
    "**Terminology:**\n",
    "\n",
    "- $v_i \\cdot X$: the $i^\\text{th}$ principal component, PC$i$\n",
    "- $v_i$: the *loadings* of PC$i$ on each variable\n",
    "- $\\lambda_i^2$: the amount of *variance explained* by PC$i$"
   ]
  },
  {
   "cell_type": "markdown",
   "id": "9d7e9679",
   "metadata": {
    "slideshow": {
     "slide_type": "subslide"
    }
   },
   "source": [
    "So, what'd we do?\n",
    "\n",
    "Find the covariance matrix:\n",
    "```\n",
    "covmat = np.cov(X.T)\n",
    "```\n",
    "\n",
    "Get the eigenvalues and eigenvectors:\n",
    "```\n",
    "evals, evecs = np.linalg.eig(covmat)\n",
    "```\n",
    "\n",
    "Sort them by size of eigenvalue:\n",
    "```\n",
    "eord = np.argsort(evals)[::-1]\n",
    "evals = evals[eord]\n",
    "evecs = evecs[:,eord]\n",
    "```\n",
    "\n",
    "Change the data matrix into the basis given by the eigenvectors:\n",
    "```\n",
    "pcs = X.dot(evecs)\n",
    "```\n",
    "\n",
    "Find the percent variance explained by each PC:\n",
    "```\n",
    "perc_var = 100 * evals**2 / np.sum(evals**2)\n",
    "```"
   ]
  },
  {
   "cell_type": "markdown",
   "id": "6ff4a8f2",
   "metadata": {
    "slideshow": {
     "slide_type": "slide"
    }
   },
   "source": [
    "# Example: text analysis"
   ]
  },
  {
   "cell_type": "markdown",
   "id": "6605c73d",
   "metadata": {
    "slideshow": {
     "slide_type": "subslide"
    }
   },
   "source": [
    "In [`data/passages.txt`](data/passages.txt)\n",
    "we have a number of short passages from a few different books.\n",
    "\n",
    "Can we identify the authors of each passage?\n",
    "\n",
    "The true sources of the passages are in [data/passage_sources.tsv](data/passage_sources.tsv)."
   ]
  },
  {
   "cell_type": "markdown",
   "id": "be83eabf",
   "metadata": {
    "slideshow": {
     "slide_type": "subslide"
    }
   },
   "source": [
    "## Turn the data into a matrix"
   ]
  },
  {
   "cell_type": "code",
   "execution_count": null,
   "id": "1f49dc60",
   "metadata": {
    "slideshow": {
     "slide_type": "-"
    }
   },
   "outputs": [],
   "source": [
    "from collections import defaultdict\n",
    "\n",
    "pfile = open(\"data/passages.txt\", \"r\")\n",
    "passages = pfile.read().split(\"\\n\")[:-1]\n",
    "sources = pd.read_table(\"data/passage_sources.tsv\")\n",
    "words = np.unique(\" \".join(passages).split(\" \"))[1:]\n",
    "def tabwords(x, words):\n",
    "    d = defaultdict(int)\n",
    "    for w in x.split(\" \"):\n",
    "        d[w] += 1\n",
    "    out = np.array([d[w] for w in words])\n",
    "    return out\n",
    "\n",
    "wordmat = np.array([tabwords(x, words) for x in passages])"
   ]
  },
  {
   "cell_type": "code",
   "execution_count": null,
   "id": "ad2b882f",
   "metadata": {},
   "outputs": [],
   "source": [
    "passages[1]"
   ]
  },
  {
   "cell_type": "code",
   "execution_count": null,
   "id": "fdf9cf8d",
   "metadata": {
    "slideshow": {
     "slide_type": "subslide"
    }
   },
   "outputs": [],
   "source": [
    "for w, x in zip(words[:20], wordmat[:20,:].T):\n",
    "    print(f\"{w}: {x}\")"
   ]
  },
  {
   "cell_type": "markdown",
   "id": "bde00c98",
   "metadata": {
    "slideshow": {
     "slide_type": "subslide"
    }
   },
   "source": [
    "This time we \"do PCA\" by finding the \"singular value decomposition\"\n",
    "(SVD) of the data matrix,\n",
    "because `scipy.sparse.linalg.svds` lets us *only*\n",
    "find the PCs we're interested in:\n",
    "finding *all* would take waaaay too long."
   ]
  },
  {
   "cell_type": "code",
   "execution_count": null,
   "id": "59ebc5b0",
   "metadata": {
    "slideshow": {
     "slide_type": "-"
    }
   },
   "outputs": [],
   "source": [
    "from scipy.sparse.linalg import svds\n",
    "# center and scale the data\n",
    "x = wordmat - np.mean(wordmat, axis=1)[:,np.newaxis]\n",
    "x /= np.std(x, axis=1)[:, np.newaxis]\n",
    "pcs, evals, evecs = svds(x, k=3)\n",
    "eord = np.argsort(evals)[::-1]\n",
    "evals = evals[eord]\n",
    "evecs = evecs[eord,:]\n",
    "pcs = pcs[:,eord]"
   ]
  },
  {
   "cell_type": "markdown",
   "id": "ac36838b",
   "metadata": {
    "slideshow": {
     "slide_type": "subslide"
    }
   },
   "source": [
    "## The loadings"
   ]
  },
  {
   "cell_type": "code",
   "execution_count": null,
   "id": "56beb0a8",
   "metadata": {
    "slideshow": {
     "slide_type": "-"
    }
   },
   "outputs": [],
   "source": [
    "loadings = pd.DataFrame(evecs.T, columns=[f\"PC{k}\" for k in range(1,4)], index=words)\n",
    "loadings"
   ]
  },
  {
   "cell_type": "markdown",
   "id": "0b84e58a",
   "metadata": {
    "slideshow": {
     "slide_type": "subslide"
    }
   },
   "source": [
    "## The PCs"
   ]
  },
  {
   "cell_type": "code",
   "execution_count": null,
   "id": "dd9c00d6",
   "metadata": {
    "slideshow": {
     "slide_type": "-"
    }
   },
   "outputs": [],
   "source": [
    "fig, (ax0, ax1) = plt.subplots(1, 2)\n",
    "for s in np.unique(sources['source']):\n",
    "    ax0.scatter(pcs[sources['source'] == s,0], pcs[sources['source'] == s,1])\n",
    "    ax1.scatter(pcs[sources['source'] == s,1], pcs[sources['source'] == s,2], label=s)\n",
    "\n",
    "ax0.set_xlabel(\"PC 1\"); ax0.set_ylabel(\"PC 2\")\n",
    "ax1.set_xlabel(\"PC 2\"); ax1.set_ylabel(\"PC 3\")\n",
    "ax1.legend();"
   ]
  },
  {
   "cell_type": "markdown",
   "id": "48a31d09",
   "metadata": {
    "slideshow": {
     "slide_type": "subslide"
    }
   },
   "source": [
    "## PC 1 is length"
   ]
  },
  {
   "cell_type": "code",
   "execution_count": null,
   "id": "c3e2619c",
   "metadata": {},
   "outputs": [],
   "source": [
    "lengths = np.sum(wordmat, axis=1)\n",
    "for s in np.unique(sources['source']):\n",
    "    plt.scatter(\n",
    "        pcs[sources['source'] == s, 0],\n",
    "        lengths[sources['source'] == s]\n",
    "    )\n",
    "plt.xlabel(\"PC1\"); plt.ylabel(\"passage length\");"
   ]
  },
  {
   "cell_type": "markdown",
   "id": "4ad92d01",
   "metadata": {
    "slideshow": {
     "slide_type": "subslide"
    }
   },
   "source": [
    "## PC2 is book"
   ]
  },
  {
   "cell_type": "code",
   "execution_count": null,
   "id": "b5b4fec8",
   "metadata": {},
   "outputs": [],
   "source": [
    "loadings.sort_values(\"PC2\").head(20)"
   ]
  },
  {
   "cell_type": "code",
   "execution_count": null,
   "id": "ce1ec60b",
   "metadata": {
    "slideshow": {
     "slide_type": "subslide"
    }
   },
   "outputs": [],
   "source": [
    "loadings.sort_values(\"PC2\").tail(20)"
   ]
  },
  {
   "cell_type": "markdown",
   "id": "d9bac198",
   "metadata": {
    "slideshow": {
     "slide_type": "subslide"
    }
   },
   "source": [
    "## PC3?"
   ]
  },
  {
   "cell_type": "code",
   "execution_count": null,
   "id": "68d51b0c",
   "metadata": {},
   "outputs": [],
   "source": [
    "loadings.sort_values(\"PC3\").head(20)"
   ]
  },
  {
   "cell_type": "code",
   "execution_count": null,
   "id": "59836f03",
   "metadata": {
    "slideshow": {
     "slide_type": "subslide"
    }
   },
   "outputs": [],
   "source": [
    "loadings.sort_values(\"PC3\").tail(20)"
   ]
  }
 ],
 "metadata": {
  "celltoolbar": "Slideshow",
  "kernelspec": {
   "display_name": "Python 3 (ipykernel)",
   "language": "python",
   "name": "python3"
  },
  "language_info": {
   "codemirror_mode": {
    "name": "ipython",
    "version": 3
   },
   "file_extension": ".py",
   "mimetype": "text/x-python",
   "name": "python",
   "nbconvert_exporter": "python",
   "pygments_lexer": "ipython3",
   "version": "3.11.8"
  },
  "rise": {
   "scroll": true,
   "transition": "none"
  }
 },
 "nbformat": 4,
 "nbformat_minor": 5
}
