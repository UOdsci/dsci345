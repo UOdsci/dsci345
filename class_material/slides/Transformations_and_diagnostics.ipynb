{
 "cells": [
  {
   "cell_type": "markdown",
   "id": "202599bf",
   "metadata": {
    "slideshow": {
     "slide_type": "slide"
    }
   },
   "source": [
    "# Transformations and diagnostics\n",
    "\n",
    "Peter Ralph\n",
    "\n",
    "https://uodsci.github.io/dsci345"
   ]
  },
  {
   "cell_type": "code",
   "execution_count": 1,
   "id": "733bfdf0",
   "metadata": {
    "slideshow": {
     "slide_type": "skip"
    }
   },
   "outputs": [],
   "source": [
    "import matplotlib\n",
    "import matplotlib.pyplot as plt\n",
    "matplotlib.rcParams['figure.figsize'] = (15, 8)\n",
    "import numpy as np\n",
    "import pandas as pd\n",
    "from dsci345 import pretty\n",
    "\n",
    "rng = np.random.default_rng()"
   ]
  },
  {
   "cell_type": "markdown",
   "id": "88ec5c59",
   "metadata": {
    "slideshow": {
     "slide_type": "skip"
    }
   },
   "source": [
    "$$\\renewcommand{\\P}{\\mathbb{P}} \\newcommand{\\E}{\\mathbb{E}} \\newcommand{\\var}{\\text{var}} \\newcommand{\\sd}{\\text{sd}} \\newcommand{\\cov}{\\text{cov}} \\newcommand{\\cor}{\\text{cor}}$$\n",
    "This is here so we can use `\\P` and `\\E` and `\\var` and `\\cov` and `\\cor` and `\\sd` in LaTeX below."
   ]
  },
  {
   "cell_type": "markdown",
   "id": "79439dd2",
   "metadata": {
    "slideshow": {
     "slide_type": "slide"
    }
   },
   "source": [
    "# An example"
   ]
  },
  {
   "cell_type": "markdown",
   "id": "b6e3b2b4",
   "metadata": {
    "slideshow": {
     "slide_type": "subslide"
    }
   },
   "source": [
    "Let's look at how newborn (i.e., \"neonate\") body mass\n",
    "is related to adult body mass,\n",
    "across a bunch of mammal species\n",
    "(in the order Carnivora, including dogs, cats, bears, weasels, and seals). [(data link)](https://github.com/UOdsci/dsci345/blob/main/class_material/slides/data/carnivora_sizes.csv)"
   ]
  },
  {
   "cell_type": "code",
   "execution_count": null,
   "id": "97f0423c",
   "metadata": {},
   "outputs": [],
   "source": [
    "carnivores = pd.read_csv(\"data/carnivora_sizes.csv\").set_index(\"Binomial\")\n",
    "carnivores"
   ]
  },
  {
   "cell_type": "code",
   "execution_count": null,
   "id": "13291911",
   "metadata": {
    "slideshow": {
     "slide_type": "subslide"
    }
   },
   "outputs": [],
   "source": [
    "plt.scatter(carnivores.AdultBodyMass_g, carnivores.NeonateBodyMass_g, s=100);\n",
    "plt.xlabel(\"adult body mass\"); plt.ylabel(\"neonate body mass\");"
   ]
  },
  {
   "cell_type": "markdown",
   "id": "3f8b47b9",
   "metadata": {
    "slideshow": {
     "slide_type": "subslide"
    }
   },
   "source": [
    "But - there's some \"substructure\"!"
   ]
  },
  {
   "cell_type": "code",
   "execution_count": null,
   "id": "b0208ab9",
   "metadata": {},
   "outputs": [],
   "source": [
    "colors = {f: c for f, c in zip(carnivores.Family.unique(), plt.cm.tab20.colors)}\n",
    "for f in colors:\n",
    "    sub = carnivores[carnivores.Family == f]\n",
    "    plt.scatter(sub.AdultBodyMass_g, sub.NeonateBodyMass_g, color=colors[f], s=100, label=f)\n",
    "plt.xlabel(\"adult body mass\"); plt.ylabel(\"neonate body mass\");\n",
    "plt.legend();"
   ]
  },
  {
   "cell_type": "markdown",
   "id": "2e6d1c80",
   "metadata": {
    "slideshow": {
     "slide_type": "slide"
    }
   },
   "source": [
    "# First pass: a normal linear model"
   ]
  },
  {
   "cell_type": "markdown",
   "id": "a4c66d60",
   "metadata": {
    "slideshow": {
     "slide_type": "subslide"
    }
   },
   "source": [
    "Let's fit a linear model and see what it's predictions are like:"
   ]
  },
  {
   "cell_type": "code",
   "execution_count": null,
   "id": "a303d75f",
   "metadata": {
    "slideshow": {
     "slide_type": "subslide"
    }
   },
   "outputs": [],
   "source": [
    "from sklearn.linear_model import LinearRegression as lm\n",
    "fit1 = lm().fit(carnivores[['AdultBodyMass_g']], carnivores.NeonateBodyMass_g)"
   ]
  },
  {
   "cell_type": "code",
   "execution_count": null,
   "id": "54ec56f4",
   "metadata": {
    "slideshow": {
     "slide_type": "subslide"
    }
   },
   "outputs": [],
   "source": [
    "for f in colors:\n",
    "    sub = carnivores[carnivores.Family == f]\n",
    "    plt.scatter(sub.AdultBodyMass_g, sub.NeonateBodyMass_g, color=colors[f], s=100, label=f)\n",
    "pred = pd.DataFrame({ \"AdultBodyMass_g\": np.linspace(np.min(carnivores.AdultBodyMass_g), 1.6e6, 201) })\n",
    "pred['NeonateBodyMass_g'] = fit1.predict(pred)\n",
    "plt.plot(pred.AdultBodyMass_g, pred.NeonateBodyMass_g)\n",
    "plt.xlabel(\"adult mass\"); plt.ylabel(\"neonate mass\"); plt.legend();"
   ]
  },
  {
   "cell_type": "markdown",
   "id": "6736cf96",
   "metadata": {
    "slideshow": {
     "slide_type": "slide"
    }
   },
   "source": [
    "# Heteroskedasticity?"
   ]
  },
  {
   "cell_type": "markdown",
   "id": "fdd8f6ea",
   "metadata": {
    "slideshow": {
     "slide_type": "slide"
    }
   },
   "source": [
    "# Diagnostics"
   ]
  },
  {
   "cell_type": "markdown",
   "id": "33ac7b9b",
   "metadata": {
    "slideshow": {
     "slide_type": "subslide"
    }
   },
   "source": [
    "Two good generic diagnostic plots are:\n",
    "\n",
    "1. residuals versus fitted\n",
    "2. distribution of residuals (histogram or QQ plot)\n",
    "\n",
    "*What's the idea?*\n",
    "\n",
    "1. If the residuals show predictable patterns, we could improve our model,\n",
    "2. and if the residual SD differs systematically,\n",
    "    we have *heteroskedasticity*\n",
    "    (and so our model isn't using all the data very well)."
   ]
  },
  {
   "cell_type": "markdown",
   "id": "e0c13886",
   "metadata": {
    "slideshow": {
     "slide_type": "slide"
    }
   },
   "source": [
    "## Patterns in the residuals"
   ]
  },
  {
   "cell_type": "markdown",
   "id": "fac34b57",
   "metadata": {
    "slideshow": {
     "slide_type": "subslide"
    }
   },
   "source": [
    "Here's data that are nonlinear but we don't know it:"
   ]
  },
  {
   "cell_type": "code",
   "execution_count": null,
   "id": "68d5b987",
   "metadata": {},
   "outputs": [],
   "source": [
    "X = np.array([np.linspace(-4, 4, 101)]).T\n",
    "y = rng.normal(loc=3*X+X**2, scale=1)\n",
    "xy_lm = lm().fit(X, y)\n",
    "yhat = xy_lm.predict(X)\n",
    "plt.scatter(X[:,0], y)\n",
    "plt.plot(X[:,0], yhat);"
   ]
  },
  {
   "cell_type": "markdown",
   "id": "6cb077cf",
   "metadata": {
    "slideshow": {
     "slide_type": "subslide"
    }
   },
   "source": [
    "And, this shows up in the fit-versus-residuals plot:"
   ]
  },
  {
   "cell_type": "code",
   "execution_count": null,
   "id": "b152feb8",
   "metadata": {},
   "outputs": [],
   "source": [
    "resids = y - yhat\n",
    "plt.scatter(yhat, resids);\n",
    "plt.axhline(0, color='red')\n",
    "plt.xlabel(\"fitted values\"); plt.ylabel(\"residuals\");"
   ]
  },
  {
   "cell_type": "markdown",
   "id": "203d8ecb",
   "metadata": {
    "slideshow": {
     "slide_type": "subslide"
    }
   },
   "source": [
    "Solution: add a quadratic term!"
   ]
  },
  {
   "cell_type": "code",
   "execution_count": null,
   "id": "51bf7993",
   "metadata": {},
   "outputs": [],
   "source": [
    "XX2 = np.hstack([X, X**2])\n",
    "xy_lm = lm().fit(XX2, y)\n",
    "yhat = xy_lm.predict(XX2)\n",
    "plt.scatter(X[:,0], y); plt.plot(X[:,0], yhat); plt.xlabel(\"x\"); plt.ylabel('y');"
   ]
  },
  {
   "cell_type": "code",
   "execution_count": null,
   "id": "b16e3cca",
   "metadata": {
    "slideshow": {
     "slide_type": "subslide"
    }
   },
   "outputs": [],
   "source": [
    "resids = y - yhat\n",
    "plt.scatter(yhat, resids);\n",
    "plt.axhline(0, color='red')\n",
    "plt.xlabel(\"fitted values\"); plt.ylabel(\"residuals\");"
   ]
  },
  {
   "cell_type": "markdown",
   "id": "8dda65fd",
   "metadata": {
    "slideshow": {
     "slide_type": "slide"
    }
   },
   "source": [
    "# Back to our data"
   ]
  },
  {
   "cell_type": "markdown",
   "id": "634ec6df",
   "metadata": {
    "slideshow": {
     "slide_type": "subslide"
    }
   },
   "source": [
    "Let's look at this in our data:"
   ]
  },
  {
   "cell_type": "code",
   "execution_count": null,
   "id": "b7b14e2a",
   "metadata": {},
   "outputs": [],
   "source": [
    "carnivores['PredictedNeonateMass'] = fit1.predict(\n",
    "    carnivores[['AdultBodyMass_g']]\n",
    ")\n",
    "carnivores['residual'] = carnivores['NeonateBodyMass_g'] - carnivores['PredictedNeonateMass']"
   ]
  },
  {
   "cell_type": "code",
   "execution_count": null,
   "id": "e14f46f1",
   "metadata": {},
   "outputs": [],
   "source": [
    "carnivores"
   ]
  },
  {
   "cell_type": "markdown",
   "id": "9b8e3eb3",
   "metadata": {
    "slideshow": {
     "slide_type": "subslide"
    }
   },
   "source": [
    "No particular pattern (?), but certainly: heteroskedasticity!"
   ]
  },
  {
   "cell_type": "code",
   "execution_count": null,
   "id": "e603b173",
   "metadata": {},
   "outputs": [],
   "source": [
    "plt.scatter(carnivores.PredictedNeonateMass, carnivores.residual)\n",
    "plt.axhline(0, color='red');\n",
    "plt.xlabel(\"predicted neonate body mass\"); plt.ylabel(\"residual of neonate body mass\");"
   ]
  },
  {
   "cell_type": "markdown",
   "id": "aea15bb8",
   "metadata": {
    "slideshow": {
     "slide_type": "subslide"
    }
   },
   "source": [
    "Why is heteroskedasticity a problem?\n",
    "Above, we see that small body masses are all very close to the predicted line.\n",
    "Indeed they have to be! A 5g weasel can't have a 100kg baby.\n",
    "So: these small animals are not affecting the fit of that line very much at all.\n",
    "Maybe that's okay - if we're interested in a relationship that holds\n",
    "only for big animals, for instance -\n",
    "but we should dig more."
   ]
  },
  {
   "cell_type": "markdown",
   "id": "b23e7d0a",
   "metadata": {
    "slideshow": {
     "slide_type": "slide"
    }
   },
   "source": [
    "# A transformation"
   ]
  },
  {
   "cell_type": "markdown",
   "id": "78cd75f3",
   "metadata": {
    "slideshow": {
     "slide_type": "subslide"
    }
   },
   "source": [
    "One reason for having bad model fit\n",
    "is that you aren't looking at the data through the right lens.\n",
    "\n",
    "Most commonly:\n",
    "if the data vary by *percent changes*,\n",
    "then using standard methods (that assume *additive changes*)\n",
    "won't do so great.\n",
    "But, the **logarithm** turns percent changes\n",
    "into additive changes!\n",
    "\n",
    "Let's try it out."
   ]
  },
  {
   "cell_type": "code",
   "execution_count": null,
   "id": "01858e31",
   "metadata": {
    "slideshow": {
     "slide_type": "subslide"
    }
   },
   "outputs": [],
   "source": [
    "for f in colors:\n",
    "    sub = carnivores[carnivores.Family == f]\n",
    "    plt.scatter(sub.AdultBodyMass_g, sub.NeonateBodyMass_g, color=colors[f], s=100, label=f)\n",
    "plt.xscale(\"log\"); plt.yscale(\"log\")  # log-log axes\n",
    "plt.xlabel(\"adult mass\"); plt.ylabel(\"neonate mass\"); plt.legend();"
   ]
  },
  {
   "cell_type": "markdown",
   "id": "4a24849b",
   "metadata": {
    "slideshow": {
     "slide_type": "subslide"
    }
   },
   "source": [
    "Okay, let's now fit a model\n",
    "to log(adult) and log(neonate) mass:"
   ]
  },
  {
   "cell_type": "code",
   "execution_count": null,
   "id": "f1506291",
   "metadata": {},
   "outputs": [],
   "source": [
    "carnivores['logAdultBodyMass_g'] = np.log(carnivores['AdultBodyMass_g'])\n",
    "carnivores['logNeonateBodyMass_g'] = np.log(carnivores['NeonateBodyMass_g'])\n",
    "fit2 = lm().fit(carnivores[['logAdultBodyMass_g']], carnivores.logNeonateBodyMass_g)\n",
    "carnivores"
   ]
  },
  {
   "cell_type": "code",
   "execution_count": null,
   "id": "8ae9ec7c",
   "metadata": {
    "slideshow": {
     "slide_type": "subslide"
    }
   },
   "outputs": [],
   "source": [
    "for f in colors:\n",
    "    sub = carnivores[carnivores.Family == f]\n",
    "    plt.scatter(sub.logAdultBodyMass_g, sub.logNeonateBodyMass_g, color=colors[f], s=100, label=f)\n",
    "pred2 = pd.DataFrame({\n",
    "    \"logAdultBodyMass_g\": np.linspace(np.min(carnivores.logAdultBodyMass_g),\n",
    "                                      np.max(carnivores.logAdultBodyMass_g), 201)\n",
    "})\n",
    "pred2['logNeonateBodyMass_g'] = fit2.predict(pred2)\n",
    "plt.plot(np.log(pred.AdultBodyMass_g), np.log(pred.NeonateBodyMass_g), label='orig fit')\n",
    "plt.plot(pred2.logAdultBodyMass_g, pred2.logNeonateBodyMass_g, label='log fit')\n",
    "plt.xlabel(\"log adult mass\"); plt.ylabel(\"log neonate mass\"); plt.legend();"
   ]
  },
  {
   "cell_type": "markdown",
   "id": "5b2aac6c",
   "metadata": {
    "slideshow": {
     "slide_type": "subslide"
    }
   },
   "source": [
    "## Conclusions?\n",
    "\n",
    "1. taking logs is definitely the way to fit these data\n",
    "2. each family looks to have a different relationship\n",
    "3. so a better model would allow different lines for each family"
   ]
  },
  {
   "cell_type": "code",
   "execution_count": null,
   "id": "e0ce08fe",
   "metadata": {
    "slideshow": {
     "slide_type": "subslide"
    }
   },
   "outputs": [],
   "source": [
    "for f in colors:\n",
    "    sub = carnivores[carnivores.Family == f]\n",
    "    fit_sub = lm().fit(sub[['logAdultBodyMass_g']], sub.logNeonateBodyMass_g)\n",
    "    plt.scatter(sub.logAdultBodyMass_g, sub.logNeonateBodyMass_g, color=colors[f], s=100, label=f)\n",
    "    pred_sub = pd.DataFrame({\n",
    "        \"logAdultBodyMass_g\": np.linspace(np.min(sub.logAdultBodyMass_g),\n",
    "                                          np.max(sub.logAdultBodyMass_g), 201)\n",
    "    })\n",
    "    pred_sub['logNeonateBodyMass_g'] = fit_sub.predict(pred_sub)\n",
    "    plt.plot(pred_sub.logAdultBodyMass_g, pred_sub.logNeonateBodyMass_g, color=colors[f])\n",
    "plt.legend();"
   ]
  },
  {
   "cell_type": "markdown",
   "id": "4aef20d9",
   "metadata": {
    "slideshow": {
     "slide_type": "slide"
    }
   },
   "source": [
    "Next steps: Fit the model with the additional variables\n",
    "to see if maybe we don't need separate models by family any more?\n",
    "Perhaps `AgeatEyeOpening_d` and `WeaningAge_d`?"
   ]
  }
 ],
 "metadata": {
  "celltoolbar": "Slideshow",
  "kernelspec": {
   "display_name": "Python 3 (ipykernel)",
   "language": "python",
   "name": "python3"
  },
  "language_info": {
   "codemirror_mode": {
    "name": "ipython",
    "version": 3
   },
   "file_extension": ".py",
   "mimetype": "text/x-python",
   "name": "python",
   "nbconvert_exporter": "python",
   "pygments_lexer": "ipython3",
   "version": "3.11.2"
  },
  "rise": {
   "scroll": true,
   "transition": "none"
  }
 },
 "nbformat": 4,
 "nbformat_minor": 5
}
