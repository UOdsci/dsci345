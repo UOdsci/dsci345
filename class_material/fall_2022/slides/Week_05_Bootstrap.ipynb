{
 "cells": [
  {
   "cell_type": "markdown",
   "id": "a9ee39cc",
   "metadata": {},
   "source": [
    "# Exercise: confidence intervals"
   ]
  },
  {
   "cell_type": "markdown",
   "id": "b4f1c945",
   "metadata": {},
   "source": [
    "Suppose I survey $n$ people, chosen randomly in Eugene,\n",
    "asking how many miles they commute to work.\n",
    "\n",
    "*Claim:* there is a 95% probability that the mean distance commuted\n",
    "by people in Eugene\n",
    "is between $\\bar x - 1.96 s / \\sqrt{n}$\n",
    "and  $\\bar x - 1.96 s / \\sqrt{n}$,\n",
    "where $\\bar x$ is my sample mean, $s$ is my sample SD,\n",
    "and $n$ is my sample size."
   ]
  },
  {
   "cell_type": "markdown",
   "id": "8afba2ab",
   "metadata": {},
   "source": [
    "*Exercise:*\n",
    "come up with a distribution for the number of miles commuted by someone in Eugene."
   ]
  },
  {
   "cell_type": "code",
   "execution_count": null,
   "id": "b8470786",
   "metadata": {},
   "outputs": [],
   "source": []
  },
  {
   "cell_type": "markdown",
   "id": "ffcc1d71",
   "metadata": {},
   "source": [
    "# Exercise: the bootstrap"
   ]
  },
  {
   "cell_type": "code",
   "execution_count": 71,
   "id": "d1fe7225",
   "metadata": {},
   "outputs": [
    {
     "data": {
      "text/plain": [
       "(0.22955876651637733, array([0.20442436, 0.25229289]))"
      ]
     },
     "execution_count": 71,
     "metadata": {},
     "output_type": "execute_result"
    }
   ],
   "source": [
    "N = 1000\n",
    "def boot(x, n, f):\n",
    "    bm = np.repeat(np.nan, n)\n",
    "    for k in range(n):\n",
    "        sx = rng.choice(x, size=len(x), replace=True)\n",
    "        bm[k] = f(sx)\n",
    "    se = np.std(bm)\n",
    "    # return np.quantile(bm, q=[0.05, 0.95])\n",
    "    return np.mean(bm) + np.array([-2, 2]) * se\n",
    "\n",
    "x = rng.gamma(0.5, size=N)\n",
    "np.median(x), boot(x, 100, np.median)"
   ]
  },
  {
   "cell_type": "code",
   "execution_count": 92,
   "id": "b23717b7",
   "metadata": {},
   "outputs": [
    {
     "data": {
      "text/plain": [
       "0.05"
      ]
     },
     "execution_count": 92,
     "metadata": {},
     "output_type": "execute_result"
    }
   ],
   "source": [
    "from scipy.stats import gamma\n",
    "true_med = gamma.ppf(0.5, 0.5)\n",
    "xmed = np.repeat(np.nan, 100)\n",
    "xli = np.repeat(np.nan, 100)\n",
    "xui = np.repeat(np.nan, 100)\n",
    "for k in range(len(xmed)):\n",
    "    x = rng.gamma(0.5, size=2000)\n",
    "    xmed[k] = np.median(x)\n",
    "    xli[k], xui[k] = boot(x, 1000, np.median)\n",
    "    \n",
    "np.mean(np.logical_or(true_med <= xli, true_med >= xui))"
   ]
  },
  {
   "cell_type": "code",
   "execution_count": 69,
   "id": "66c747c9",
   "metadata": {},
   "outputs": [
    {
     "data": {
      "text/plain": [
       "<matplotlib.collections.PathCollection at 0x7f5754e68610>"
      ]
     },
     "execution_count": 69,
     "metadata": {},
     "output_type": "execute_result"
    },
    {
     "data": {
      "image/png": "[encoded data removed]",
      "text/plain": [
       "<Figure size 640x480 with 1 Axes>"
      ]
     },
     "metadata": {},
     "output_type": "display_data"
    }
   ],
   "source": [
    "plt.scatter(xmed - xli, xui - xmed)"
   ]
  },
  {
   "cell_type": "code",
   "execution_count": 87,
   "id": "72f4f5f7",
   "metadata": {},
   "outputs": [
    {
     "data": {
      "text/plain": [
       "0.056"
      ]
     },
     "execution_count": 87,
     "metadata": {},
     "output_type": "execute_result"
    }
   ],
   "source": [
    "true_mu = 0\n",
    "xmed = np.repeat(np.nan, 1000)\n",
    "xse = np.repeat(np.nan, len(xmed))\n",
    "for k in range(len(xmed)):\n",
    "    x = rng.normal(true_mu, size=200)\n",
    "    xmed[k] = np.mean(x)\n",
    "    xse[k] = np.std(x) / np.sqrt(len(x))\n",
    "\n",
    "xli = xmed - 2 * xse\n",
    "xui = xmed + 2 * xse\n",
    "    \n",
    "np.mean(np.logical_or(true_mu <= xli, true_mu >= xui))"
   ]
  }
 ],
 "metadata": {
  "kernelspec": {
   "display_name": "Python 3 (ipykernel)",
   "language": "python",
   "name": "python3"
  },
  "language_info": {
   "codemirror_mode": {
    "name": "ipython",
    "version": 3
   },
   "file_extension": ".py",
   "mimetype": "text/x-python",
   "name": "python",
   "nbconvert_exporter": "python",
   "pygments_lexer": "ipython3",
   "version": "3.9.9"
  }
 },
 "nbformat": 4,
 "nbformat_minor": 5
}
