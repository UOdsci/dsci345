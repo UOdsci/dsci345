{
 "cells": [
  {
   "cell_type": "markdown",
   "id": "59742dcb",
   "metadata": {},
   "source": [
    "# Homework 4: Make up some data.\n",
    "\n",
    "*Instructions:*\n",
    "Please answer the following questions and submit your work\n",
    "by editing this jupyter notebook and submitting it on Canvas.\n",
    "Questions may involve math, programming, or neither,\n",
    "but you should make sure to *explain your work*:\n",
    "i.e., you should usually have a cell with at least a few sentences\n",
    "explaining what you are doing.\n",
    "\n",
    "Also, please be sure to always specify units of any quantities that have units,\n",
    "and label axes of plots (again, with units when appropriate)."
   ]
  },
  {
   "cell_type": "code",
   "execution_count": 1,
   "id": "03fe74bf",
   "metadata": {},
   "outputs": [],
   "source": [
    "import numpy as np\n",
    "import matplotlib.pyplot as plt\n",
    "rng = np.random.default_rng()"
   ]
  },
  {
   "cell_type": "markdown",
   "id": "86f880fd",
   "metadata": {},
   "source": [
    "# 1. Imaginary data\n",
    "\n",
    "Make up a situation in which we'd have measured at least 3 quantitative variables\n",
    "in at least 500 observations.\n",
    "You should have some positively correlated pairs of variables and some negatively correlated pairs.\n",
    "It does not have to be realistic or serious.\n",
    "\n",
    "*(a)* Describe it in words.\n",
    "\n",
    "*(b)* Simulate some data that looks at least roughly like what you'd expect\n",
    "    real data to look like.\n",
    "    \n",
    "*(c)* Make plots of the data: histograms of each variable,\n",
    "    and scatter plots of each pair of variables.\n",
    "\n",
    "*(d)* Compute the correlation matrix for your simulated dataset\n",
    "    and explain why correlations are positive or negative.\n",
    "\n",
    "*Note*: By \"looks at least roughly like you'd expect\",\n",
    "I mean that variables should be in *real units* and not totally unreasonable values.\n",
    "So, counts should be actually integers,\n",
    "weights should not be negative numbers,\n",
    "etcetera.\n",
    "For instance, if one of your variable is \"number of pieces of candy obtained by a trick-or-treater\",\n",
    "then these should be nonnegative integers,\n",
    "and should not be in the millions.\n",
    "(If it's in the thousands, that's probably not realistic, but close enough.)"
   ]
  }
 ],
 "metadata": {
  "celltoolbar": "Tags",
  "kernelspec": {
   "display_name": "Python 3 (ipykernel)",
   "language": "python",
   "name": "python3"
  },
  "language_info": {
   "codemirror_mode": {
    "name": "ipython",
    "version": 3
   },
   "file_extension": ".py",
   "mimetype": "text/x-python",
   "name": "python",
   "nbconvert_exporter": "python",
   "pygments_lexer": "ipython3",
   "version": "3.9.9"
  }
 },
 "nbformat": 4,
 "nbformat_minor": 5
}
