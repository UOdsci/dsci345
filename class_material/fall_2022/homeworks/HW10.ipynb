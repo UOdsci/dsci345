{
 "cells": [
  {
   "cell_type": "markdown",
   "id": "59742dcb",
   "metadata": {},
   "source": [
    "# Final: Probability and Statistics for Data Science\n",
    "\n",
    "*Instructions:*\n",
    "Please answer the following questions and submit your work\n",
    "by editing this jupyter notebook and submitting it on Canvas.\n",
    "Questions may involve math, programming, or neither,\n",
    "but you should make sure to *explain your work*:\n",
    "i.e., you should usually have a cell with at least a few sentences\n",
    "explaining what you are doing.\n",
    "\n",
    "Also, please be sure to always specify units of any quantities that have units,\n",
    "and label axes of plots (again, with units when appropriate)."
   ]
  },
  {
   "cell_type": "code",
   "execution_count": 1,
   "id": "03fe74bf",
   "metadata": {},
   "outputs": [],
   "source": [
    "import numpy as np\n",
    "import matplotlib.pyplot as plt\n",
    "rng = np.random.default_rng(123)"
   ]
  },
  {
   "cell_type": "markdown",
   "id": "834cfac4",
   "metadata": {},
   "source": [
    "# 1. Stories\n",
    "\n",
    "Make up stories in which we might reasonably obtain multiple random numbers\n",
    "from each of the following distributions.\n",
    "Be concrete: say exactly what quantity in your story is given by the distribution,\n",
    "specify what the numerical values of any parameters are,\n",
    "and give units when appropriate.\n",
    "Stories should match the distribution\n",
    "(e.g., if the distribution produces only integers,\n",
    "then the quantity in your story should always be an integer).\n",
    "\n",
    "*(a)* Normal(mean=$\\mu$, sd=$\\sigma$).\n",
    "\n",
    "*(b)* Poisson(mean=$\\mu$)\n",
    "\n",
    "*(c)* Binomial(trials=$n$, probability=$p$)\n",
    "\n",
    "*(d)* Exponential(mean=$\\mu$)"
   ]
  },
  {
   "cell_type": "markdown",
   "id": "0db0ef9c",
   "metadata": {
    "slideshow": {
     "slide_type": "subslide"
    }
   },
   "source": [
    "# 2. Random areas\n",
    "\n",
    "The automated saw at the plywood factory has gone haywire:\n",
    "it's cutting random widths and heights.\n",
    "$X$ is the width of a piece and $Y$ is the height,\n",
    "with\n",
    "$$\\begin{aligned}\n",
    "    X &\\sim \\text{Uniform}(\\text{min}=0, \\text{max}=6 \\text{ft}) \\\\\n",
    "    Y &\\sim \\text{Exponential}(\\text{mean}=2 \\text{ft}).\n",
    "\\end{aligned}$$\n",
    "Let $Z = XY$ be the area of a randomly chosen piece of plywood.\n",
    "\n",
    "*(a)* Write a function to simulate from $Z$\n",
    "    and use it to make a histogram of the distribution of $Z$.\n",
    "    \n",
    "*(b)* Use simulation to estimate $\\mathbb{E}[Z]$.\n",
    "\n",
    "*(c)* Find $\\mathbb{E}[Z]$ using math (i.e., using the probability rules from class)."
   ]
  },
  {
   "cell_type": "markdown",
   "id": "b2e7d60a",
   "metadata": {},
   "source": [
    "# 3. An anenometer estimate\n",
    "\n",
    "We are trying to understand what determines local wind speeds,\n",
    "to develop guidelines for siting small wind turbines.\n",
    "We've measured average wind speeds over a week\n",
    "on poles at various heights off the ground.\n",
    "Here are the heights (in meters) and measured speeds (in m/s):"
   ]
  },
  {
   "cell_type": "code",
   "execution_count": 4,
   "id": "b4772e8b",
   "metadata": {},
   "outputs": [],
   "source": [
    "height = np.array([0.29, 0.57, 0.24, 2.01, 0.09, 1.26, 0.23, 0.11, 0.14, 0.52, 0.49,\n",
    "                   0.  , 0.19, 0.46, 0.56, 1.47, 0.52, 0.33, 1.88, 2.28])\n",
    "speed = np.array([12.1, 10.6,  9.5,  7.4,  9.8, 13.3, 11.1, 11.3, 10.3,  9.2,  9.7,\n",
    "                   9.5,  9.5, 10.8,  7.7,  7.5,  8.6, 11.5,  8.9, 14.1])"
   ]
  },
  {
   "cell_type": "markdown",
   "id": "a960b6ed",
   "metadata": {},
   "source": [
    "Previous work has shown that the following simplified model can be good in circumstances like these:\n",
    "if the speed is $S$ and height is $H$,\n",
    "$$ S \\sim \\text{Normal}(\\text{mean}=a, \\text{sd}=\\exp(b H) ). $$\n",
    "(In words: although mean wind speed does not change with height,\n",
    "the standard deviation does.)"
   ]
  },
  {
   "cell_type": "markdown",
   "id": "7c55f1b5",
   "metadata": {},
   "source": [
    "*(a)* Write the log-likelihood function for this model.\n",
    "    The function should have three arguments: the tuple of parameters, $(a, b)$;\n",
    "    the array of heights; and the array of speeds.\n",
    "\n",
    "*(b)* Estimate the values of $a$ and $b$ from the data\n",
    "    by minimizing the negative log-likelihood.\n",
    "    \n",
    "*(c)* Use simulation (i.e., the \"parametric bootstrap\")\n",
    "    to obtain 95% confidence intervals for your two estimates.\n",
    "    Do this by: keeping height fixed;\n",
    "    simulating speed from this model using the estimated values of $a$ and $b$,\n",
    "    re-applying the estimation procedure,\n",
    "    and reporting a 95% interval of the resulting estimates. \n",
    "    \n",
    "\n",
    "*Note:* for part (b), if you want to make a surface plot to make sure\n",
    "your estimated values make sense, I recommend using `plt.contourf`\n",
    "instead of `imshow` as in previous code. (However, such a plot is strictly optional.)"
   ]
  },
  {
   "cell_type": "markdown",
   "id": "afc1c32d",
   "metadata": {},
   "source": [
    "# 4. Boots\n",
    "\n",
    "Here are a list of 101 measurements of the lengths of 101 right boots\n",
    "of adults walking a popular outdoor trail on Mt. Hood."
   ]
  },
  {
   "cell_type": "code",
   "execution_count": 12,
   "id": "94e9c90f",
   "metadata": {},
   "outputs": [],
   "source": [
    "boots = np.array([27.7, 23.2, 26. , 25.9, 25.3, 28.2, 23.7, 24.7, 22.6, 26.1, 26.5,\n",
    "       24.3, 27.1, 25.1, 25.6, 27.3, 26.5, 24.5, 27. , 26.3, 25.2, 22.8,\n",
    "       25.9, 24.3, 24.3, 23.7, 24.3, 25.5, 25.1, 28.2, 28.3, 26.4, 27.1,\n",
    "       25.6, 24.8, 28.3, 28. , 23.1, 23.5, 25.8, 26.7, 24.6, 25.2, 25.1,\n",
    "       27.7, 24.3, 25.8, 22.5, 26.6, 26.4, 25.9, 23.3, 23. , 25. , 26.5,\n",
    "       27.8, 23.7, 24.2, 27.2, 24.1, 27.1, 25.2, 26.1, 25.3, 25.8, 24.2,\n",
    "       25.1, 26.4, 26. , 27.9, 24.4, 27. , 25.7, 23.6, 26.2, 27. , 23.8,\n",
    "       25.6, 26.8, 23.9, 24.3, 24.8, 24.4, 25. , 21.9, 27.8, 26.4, 26.3, 20.1,\n",
    "       26.6, 26.2, 24.1, 26.8, 23.2, 23.7, 24.2, 23.6, 25.4, 27.1, 24.1, 26.2])"
   ]
  },
  {
   "cell_type": "markdown",
   "id": "6fd6e3c1",
   "metadata": {},
   "source": [
    "We are trying to design a precision boot cleaner\n",
    "and would like to know what the 10% and 90% quantiles of boot sizes are.\n",
    "For these data, those numbers are"
   ]
  },
  {
   "cell_type": "code",
   "execution_count": 13,
   "id": "3ab28c9a",
   "metadata": {},
   "outputs": [
    {
     "data": {
      "text/plain": [
       "array([23.5, 27.3])"
      ]
     },
     "execution_count": 13,
     "metadata": {},
     "output_type": "execute_result"
    }
   ],
   "source": [
    "np.quantile(boots, [0.1, 0.9])"
   ]
  },
  {
   "cell_type": "markdown",
   "id": "c535ef7a",
   "metadata": {},
   "source": [
    "In other words, 10% of the boots are below 23.5cm, 80% are between 23.5cm and 27.3cm,\n",
    "and 10% are above 27.3cm.\n",
    "\n",
    "*However*, we'd like to know how good these estimates are.\n",
    "Use the bootstrap (i.e., the usual, resampling-based bootstrap)\n",
    "to find 95% confidence intervals for both."
   ]
  }
 ],
 "metadata": {
  "celltoolbar": "Tags",
  "kernelspec": {
   "display_name": "Python 3 (ipykernel)",
   "language": "python",
   "name": "python3"
  },
  "language_info": {
   "codemirror_mode": {
    "name": "ipython",
    "version": 3
   },
   "file_extension": ".py",
   "mimetype": "text/x-python",
   "name": "python",
   "nbconvert_exporter": "python",
   "pygments_lexer": "ipython3",
   "version": "3.9.9"
  }
 },
 "nbformat": 4,
 "nbformat_minor": 5
}
