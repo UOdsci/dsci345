{
 "cells": [
  {
   "cell_type": "markdown",
   "id": "59742dcb",
   "metadata": {},
   "source": [
    "# Homework 6: Correlations.\n",
    "\n",
    "*Instructions:*\n",
    "Please answer the following questions and submit your work\n",
    "by editing this jupyter notebook and submitting it on Canvas.\n",
    "Questions may involve math, programming, or neither,\n",
    "but you should make sure to *explain your work*:\n",
    "i.e., you should usually have a cell with at least a few sentences\n",
    "explaining what you are doing.\n",
    "\n",
    "Also, please be sure to always specify units of any quantities that have units,\n",
    "and label axes of plots (again, with units when appropriate)."
   ]
  },
  {
   "cell_type": "code",
   "execution_count": 1,
   "id": "03fe74bf",
   "metadata": {},
   "outputs": [],
   "source": [
    "import numpy as np\n",
    "import matplotlib.pyplot as plt\n",
    "rng = np.random.default_rng()"
   ]
  },
  {
   "cell_type": "markdown",
   "id": "9497dfc8",
   "metadata": {},
   "source": [
    "# 1. Random walk\n",
    "\n",
    "Consider the matrix\n",
    "$$\n",
    "    A = \\begin{bmatrix}\n",
    "        1 & 0 & 0 & 0 & 0 \\\\\n",
    "        1 & 1 & 0 & 0 & 0 \\\\\n",
    "        1 & 1 & 1 & 0 & 0 \\\\\n",
    "        1 & 1 & 1 & 1 & 0 \\\\\n",
    "        1 & 1 & 1 & 1 & 1\n",
    "    \\end{bmatrix} .\n",
    "$$\n",
    "Let $Z$ be a vector of five independent draws from the Normal(0, 1) distribution.\n",
    "What is the covariance matrix of\n",
    "$$ X = A Z ? $$\n",
    "Explain, and check by simulation."
   ]
  },
  {
   "cell_type": "markdown",
   "id": "86f880fd",
   "metadata": {},
   "source": [
    "# 2. Two clouds\n",
    "\n",
    "Consider the following model: \n",
    "$$\\begin{aligned}\n",
    "    U &= \\begin{cases}\n",
    "        0 \\qquad &\\text{with probability 1/2} \\\\\n",
    "        1 \\qquad &\\text{with probability 1/2}\n",
    "    \\end{cases} \\\\\n",
    "    X_j &= \\text{Normal}\\left( \\text{mean}= U_i, \\text{sd}=7/5 \\right)\n",
    "        \\qquad \\text{for}\\quad 1 \\le j \\le 50 .\n",
    "\\end{aligned}$$\n",
    "(In words: $X$ is a 50-dimensional vector of independent draws from a Normal distribution;\n",
    "these all have the same mean, $U$; and this mean is either 0 or 1, with probability 1/2 each.)\n",
    "\n",
    "*(a)* Simulate 1,000 independent samples from this model;\n",
    "    the result should be an array of shape `(1000, 50)`.\n",
    "    *(Note: each row should have it's own, independent, simulated value for $U$.)*\n",
    "    Treat this is a matrix of data with 1000 observations of 50 variables.\n",
    "\n",
    "*(b)* Plot some of these \"variables\" against each other,\n",
    "    colored by the value of $U$.\n",
    "    \n",
    "*(c)* Carry out principal components analysis for these data,\n",
    "    and show the scree plot, the positions of the 1,000 data points on the first two PCs,\n",
    "    and the loadings of the 50 variables on these two PCs."
   ]
  },
  {
   "cell_type": "markdown",
   "id": "4c69b7c9",
   "metadata": {},
   "source": [
    "# 3. Word counts\n",
    "\n",
    "In class, we did PCA on word count data from passages from three books.\n",
    "The passages are in the file [data/passages.txt](data/passages.txt)\n",
    "and the sources of each passage are in [data/passage_sources.tsv](data/passage_sources.tsv).\n",
    "You may use the same code from class to read in the data\n",
    "and produce the matrix of word counts (you'll want `wordmat`, `words`, and `sources`).\n",
    "\n",
    "*(a)* Divide each row of the word count matrix by its standard deviation,\n",
    "    so that each row has standard deviation equal to 1.\n",
    "\n",
    "*(b)* Find the first three PCs of this matrix, as we did in class,\n",
    "    except using [scikit-learn](https://scikit-learn.org/stable/modules/generated/sklearn.decomposition.PCA.html).\n",
    "    Plot these. Your plots should look similar but not the same as those\n",
    "    [from class](https://uodsci.github.io/dsci345/class_material/slides/Week_06_PCA.slides.html#/4/6),\n",
    "    since scikit-learn's implementation differs somewhat, and omits PC1.\n",
    "\n",
    "*(c)* Show the lists of fifty words having the largest positive and largest negative loadings\n",
    "    on PC3. Speculate about what makes a passage have a large or a small score on PC3.\n",
    "    \n",
    "*Note:* part of this question is to figure out\n",
    "how what another method gives you\n",
    "maps on to what we discussed in class.\n",
    "Big clues are provided by the *sizes* of various outputs."
   ]
  }
 ],
 "metadata": {
  "celltoolbar": "Tags",
  "kernelspec": {
   "display_name": "Python 3 (ipykernel)",
   "language": "python",
   "name": "python3"
  },
  "language_info": {
   "codemirror_mode": {
    "name": "ipython",
    "version": 3
   },
   "file_extension": ".py",
   "mimetype": "text/x-python",
   "name": "python",
   "nbconvert_exporter": "python",
   "pygments_lexer": "ipython3",
   "version": "3.9.9"
  }
 },
 "nbformat": 4,
 "nbformat_minor": 5
}
