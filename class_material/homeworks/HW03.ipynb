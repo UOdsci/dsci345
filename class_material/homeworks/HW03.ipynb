{
 "cells": [
  {
   "cell_type": "markdown",
   "id": "59742dcb",
   "metadata": {},
   "source": [
    "# Homework 3: Fitting and modeling\n",
    "\n",
    "*Instructions:*\n",
    "Please answer the following questions and submit your work\n",
    "by editing this jupyter notebook and submitting it on Canvas.\n",
    "Questions may involve math, programming, or neither,\n",
    "but you should make sure to *explain your work*:\n",
    "i.e., you should usually have a cell with at least a few sentences\n",
    "explaining what you are doing.\n",
    "\n",
    "Also, please be sure to always specify units of any quantities that have units,\n",
    "and label axes of plots (again, with units when appropriate)."
   ]
  },
  {
   "cell_type": "code",
   "execution_count": 3,
   "id": "03fe74bf",
   "metadata": {},
   "outputs": [],
   "source": [
    "import numpy as np\n",
    "import matplotlib.pyplot as plt\n",
    "rng = np.random.default_rng()"
   ]
  },
  {
   "cell_type": "markdown",
   "id": "4f3f938b",
   "metadata": {},
   "source": [
    "# 1. Poisson, no limits\n",
    "\n",
    "Suppose that $X_1, X_2, \\ldots$ are independent draws from the Poisson(1) distribution.\n",
    "Let $p_n$ be the probability that the sum of $n$ of these is more than $n + \\sqrt{n}/2$:\n",
    "$$p_n = \\mathbb{P}\\{ X_1 + \\cdot + X_n > n + \\sqrt{n}/2 \\}.$$\n",
    "In class we learned that for large $n$, that $p_n$ would be close to some value\n",
    "(and, closer the larger $n$ is).\n",
    "What is that value?\n",
    "Justify your answer and check by simulation."
   ]
  },
  {
   "cell_type": "markdown",
   "id": "1c2ed3d1",
   "metadata": {},
   "source": [
    "# 2. Fly-by flies\n",
    "\n",
    "At harvest time, orchards can have a lot of fruit flies.\n",
    "Suppose that I sit down to eat lunch in an orchard\n",
    "while flies go zipping by at an average rate of 5 per second.\n",
    "Most of them manage to avoid my sandwich, but a small proportion hit the sandwich\n",
    "(and get stuck): about 0.5%.\n",
    "(Below when I ask you to \"justify\",\n",
    "you can refer to material from class for the justification,\n",
    "I don't mean you need to provide a mathematical proof.)\n",
    "\n",
    "*(a)* About how often does a fly hit my sandwich?\n",
    "Propose, and justify a distribution for $T$,\n",
    "the amount of time that passes between subsequent flies\n",
    "who hit my sandwich.\n",
    "(Assume I don't do anything to avoid the flies or change the proportion who hit it.)\n",
    "\n",
    "*(b)* Suppose it takes me 5 minutes to eat the sandwich.\n",
    "How many flies have hit the sandwich during that time\n",
    "(again assuming the proportion who hit it does not change as I eat).\n",
    "Propose, and justify, a distribution for this number (let's call it $X$).\n",
    "What's the probability that $X=0$?\n",
    "\n",
    "*(c)* My friend prefers to eat their sandwich with a few flies in it.\n",
    "How long will it be before their sandwich has been hit by at least five flies?\n",
    "(Assume their sandwich is otherwise just like mine.)\n",
    "Using simulation,\n",
    "find the mean and describe the\n",
    "distribution using a histogram or other summary.\n",
    "*(hint: use your answer to (a) to simulate)*"
   ]
  },
  {
   "cell_type": "markdown",
   "id": "f83fcfa0",
   "metadata": {},
   "source": [
    "# 3. Orogeny\n",
    "\n",
    "Converging tectonic plates are pushing a mountain range upwards.\n",
    "Suppose that each year, a given mountain peak grows by a random amount whose average is 2cm and whose SD is 2cm.\n",
    "\n",
    "*(a)* If the amount grown each year is independent of every other year,\n",
    "what's the distribution, approximately, of the amount grown over 100 years (relative to the starting height)?\n",
    "What about over 10,000 years?\n",
    "\n",
    "*(b)* Suppose many mountains in this mountain range grow like this (independently).\n",
    "What proportion of them grow more than 220cm over 100 years?\n",
    "And, what proportion grow more than 220m over 10,000 years?\n",
    "\n",
    "*(c)* In fact, the orogeny is accellerating.\n",
    "Suppose that in fact over the next 100 years, the mean amount grown is in year $y$ is $y/40$cm, with a SD of $y/50$cm.\n",
    "What is the mean height change after those 100 years? Explain your answer.\n",
    "Also compute the standard deviation assuming that the amount grown each year is independent."
   ]
  },
  {
   "cell_type": "code",
   "execution_count": 63,
   "id": "8021b6f2-c436-400b-828f-2c46ebf13abe",
   "metadata": {},
   "outputs": [
    {
     "data": {
      "text/plain": [
       "(np.float64(126.25), np.float64(135.34))"
      ]
     },
     "execution_count": 63,
     "metadata": {},
     "output_type": "execute_result"
    }
   ],
   "source": [
    "np.sum(np.arange(101)) / 40, np.sum(np.arange(101)**2) / 50**2\n"
   ]
  },
  {
   "cell_type": "code",
   "execution_count": 64,
   "id": "39b22a68-07c9-4117-8c4b-2858538a59d6",
   "metadata": {},
   "outputs": [
    {
     "data": {
      "text/plain": [
       "np.float64(11.633572108342305)"
      ]
     },
     "execution_count": 64,
     "metadata": {},
     "output_type": "execute_result"
    }
   ],
   "source": [
    "np.sqrt(np.sum(np.arange(101)**2) / 50**2)"
   ]
  }
 ],
 "metadata": {
  "celltoolbar": "Tags",
  "kernelspec": {
   "display_name": "Python 3 (ipykernel)",
   "language": "python",
   "name": "python3"
  },
  "language_info": {
   "codemirror_mode": {
    "name": "ipython",
    "version": 3
   },
   "file_extension": ".py",
   "mimetype": "text/x-python",
   "name": "python",
   "nbconvert_exporter": "python",
   "pygments_lexer": "ipython3",
   "version": "3.12.9"
  }
 },
 "nbformat": 4,
 "nbformat_minor": 5
}
