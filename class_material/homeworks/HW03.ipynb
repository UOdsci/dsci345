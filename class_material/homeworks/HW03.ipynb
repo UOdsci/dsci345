{
 "cells": [
  {
   "cell_type": "markdown",
   "id": "59742dcb",
   "metadata": {},
   "source": [
    "# Homework 3: Fitting and modeling\n",
    "\n",
    "*Instructions:*\n",
    "Please answer the following questions and submit your work\n",
    "by editing this jupyter notebook and submitting it on Canvas.\n",
    "Questions may involve math, programming, or neither,\n",
    "but you should make sure to *explain your work*:\n",
    "i.e., you should usually have a cell with at least a few sentences\n",
    "explaining what you are doing.\n",
    "\n",
    "Also, please be sure to always specify units of any quantities that have units,\n",
    "and label axes of plots (again, with units when appropriate)."
   ]
  },
  {
   "cell_type": "code",
   "execution_count": 1,
   "id": "03fe74bf",
   "metadata": {},
   "outputs": [],
   "source": [
    "import numpy as np\n",
    "import matplotlib.pyplot as plt\n",
    "rng = np.random.default_rng()"
   ]
  },
  {
   "cell_type": "markdown",
   "id": "4f3f938b",
   "metadata": {},
   "source": [
    "# 1. Story time\n",
    "\n",
    "*(a)* Make up a situation different from those given in class\n",
    "where one might expect to obtain a Poisson distribution,\n",
    "and explain why.\n",
    "Make sure to specify the mean of the Poisson, and give the units.\n",
    "\n",
    "*(b)*  Make up a situation different from those given in class\n",
    "where one might expect to obtain a Normal distribution,\n",
    "and explain why.\n",
    "Make sure to specify the mean and standard deviation, and give the units."
   ]
  },
  {
   "cell_type": "markdown",
   "id": "1c2ed3d1",
   "metadata": {},
   "source": [
    "# 2. Squirrels\n",
    "\n",
    "A squirrel is dropping acorns on my picnic table\n",
    "at an average rate of 1 per second.\n",
    "My glass covers only a small portion of the table - about 0.3%.\n",
    "The acorns fall randomly (uniformly) on the table,\n",
    "so only 0.3% of the acorns fall in my glass.\n",
    "(Below when I ask you to \"justify\",\n",
    "you can refer to material from class for the justification,\n",
    "I don't mean you need to provide a mathematical proof.)\n",
    "\n",
    "*(a)* About how often does the squirrel get an acorn into my glass?\n",
    "Propose, and justify a distribution for $T$,\n",
    "the amount of time that passes between subsequent acorns\n",
    "falling into my glass.\n",
    "\n",
    "\n",
    "*(b)* If I leave for 20 minutes, how many acorns do I expect to find\n",
    "in my glass when I return? Propose, and justify, a distribution for this number (let's call it $X$).\n",
    "\n",
    "*(c)* If my glass starts empty, how long is it, more or less,\n",
    "before I have 5 acorns in my glass? Using simulation,\n",
    "find the mean and make a histogram describing this\n",
    "distribution from simulation.\n",
    "*(hint: use your answer to (a) to simulate)*"
   ]
  },
  {
   "cell_type": "markdown",
   "id": "f83fcfa0",
   "metadata": {},
   "source": [
    "# 3. The forest\n",
    "\n",
    "Suppose a tree grows, each year, a random amount whose average is 49cm and whose SD is 30cm.\n",
    "\n",
    "*(a)* If the amount grown each year is independent of every other year,\n",
    "what's the distribution, approximately, of the height after 100 years (starting from height 0cm)?\n",
    "\n",
    "*(b)* Suppose we have a forest full of 100-year-old trees that all grow like this (independently).\n",
    "What proportion of them are taller than 55m?\n",
    "\n",
    "*(c)* Healthy forests have a mixed age distribution.\n",
    "Simulate and plot a histogram of tree heights, if\n",
    "the distribution of tree ages in years is Geometric with mean 100 years.\n",
    "Make sure to label your axes, with units.\n",
    "(You can use the distribution from part (a).)\n",
    "\n",
    "*(d)* In early life, tree growth can differ more strongly with age.\n",
    "Suppose that for the first 10 years, the mean amount grown in year $y$ is $5y$cm, with a SD of $3y$cm.\n",
    "What is the mean height after 10 years? Explain your answer.\n",
    "Also compute the standard deviation assuming that the amount grown each year is independent,\n",
    "but say why the assumption of independence is unlikely to be true."
   ]
  }
 ],
 "metadata": {
  "celltoolbar": "Tags",
  "kernelspec": {
   "display_name": "Python 3 (ipykernel)",
   "language": "python",
   "name": "python3"
  },
  "language_info": {
   "codemirror_mode": {
    "name": "ipython",
    "version": 3
   },
   "file_extension": ".py",
   "mimetype": "text/x-python",
   "name": "python",
   "nbconvert_exporter": "python",
   "pygments_lexer": "ipython3",
   "version": "3.11.2"
  }
 },
 "nbformat": 4,
 "nbformat_minor": 5
}
