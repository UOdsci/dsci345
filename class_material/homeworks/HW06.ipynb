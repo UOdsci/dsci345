{
 "cells": [
  {
   "cell_type": "markdown",
   "id": "59742dcb",
   "metadata": {
    "editable": true,
    "slideshow": {
     "slide_type": ""
    },
    "tags": []
   },
   "source": [
    "# Homework 6: Correlations.\n",
    "\n",
    "*Instructions:*\n",
    "Please answer the following questions and submit your work\n",
    "by editing this jupyter notebook and submitting it on Canvas.\n",
    "Questions may involve math, programming, or neither,\n",
    "but you should make sure to *explain your work*:\n",
    "i.e., you should usually have a cell with at least a few sentences\n",
    "explaining what you are doing.\n",
    "\n",
    "Also, please be sure to always specify units of any quantities that have units,\n",
    "and label axes of plots (again, with units when appropriate)."
   ]
  },
  {
   "cell_type": "code",
   "execution_count": 1,
   "id": "03fe74bf",
   "metadata": {
    "editable": true,
    "slideshow": {
     "slide_type": ""
    },
    "tags": []
   },
   "outputs": [],
   "source": [
    "import numpy as np\n",
    "import matplotlib.pyplot as plt\n",
    "rng = np.random.default_rng()"
   ]
  },
  {
   "cell_type": "markdown",
   "id": "9497dfc8",
   "metadata": {
    "editable": true,
    "slideshow": {
     "slide_type": ""
    },
    "tags": []
   },
   "source": [
    "# 1. Ever Upwards\n",
    "\n",
    "You are part of a team aiming to predict future costs for a coffee shop,\n",
    "and are given the following model.\n",
    "Let $X_0 = \\$1.50$ be the price (to the shop) of a cup of coffee today,\n",
    "and model the price $n$ weeks from now as $X_n = X_{n-1} + Z_n$,\n",
    "where each $Z_n$ has a Normal distribution with mean \\\\$0.10 and standard deviation \\\\$0.10,\n",
    "and is independent of other $Z$.\n",
    "We want to see how well we can predict prices for the next 10 weeks under this model.\n",
    "\n",
    "*(a)* If we define $Z = (Z_1, Z_2, \\ldots, Z_{10})$,\n",
    "    and $X = (X_1, X_2, \\ldots, X_{10})$,\n",
    "    then (taking $X$ and $Z$ to be column vectors)\n",
    "    we can write $X = X_0 + AZ$ for some matrix $A$.\n",
    "    What is that matrix?\n",
    "\n",
    "*(b)* What is the mean and covariance matrix of $X$?\n",
    "    Explain, and check by simulation."
   ]
  },
  {
   "cell_type": "markdown",
   "id": "edc53423-09b9-431b-a8e2-b2dfa9ce5ab6",
   "metadata": {
    "editable": true,
    "slideshow": {
     "slide_type": ""
    },
    "tags": []
   },
   "source": [
    "# 2. Books by a different name\n",
    "\n",
    "In class, we did PCA on word count data from passages from three books. The passages are in the file [data/passages.txt](https://uodsci.github.io/dsci345/class_material/fall_2022/homeworks/data/passages.txt) and the sources of each passage are in [data/passage_sources.tsv](https://uodsci.github.io/dsci345/class_material/fall_2022/homeworks/data/passage_sources.tsv). Repeat the analysis. You may use the same code from class to read in and process the data,\n",
    "but you should *use [scikit-learn](https://scikit-learn.org/stable/modules/generated/sklearn.decomposition.PCA.html)* to do the PCA.  Your results should be similar but not the same as those from class, since scikit-learn's implementation differs somewhat. Also, you don't need to show everything that we did in class\n",
    "(use your judgement) but we encourage you to explore.\n",
    "\n",
    "*Note:* part of this question is to figure out how what another method gives you maps on to what we discussed in class. Big clues are provided by the sizes of various outputs."
   ]
  },
  {
   "cell_type": "markdown",
   "id": "7cc84d22-9abc-466a-8498-980d93f32251",
   "metadata": {
    "editable": true,
    "slideshow": {
     "slide_type": ""
    },
    "tags": []
   },
   "source": [
    "# 3. The Matrix\n",
    "\n",
    "The secret vault can only be unlocked by a stream of numbers satisfying certain statistical properties.\n",
    "You can pass in 5 floating-point numbers at a time,\n",
    "and each set of 5 must be related to eachother in the following way:\n",
    "they should be Normally distributed with mean zero and the ($5 \\times 5$) covariance matrix:\n",
    "$$\\begin{aligned}\n",
    "    M_{ij} = (1+i+j) 2^{-|i-j|} \\qquad \\text{for } 1 \\le j \\le 5, \\quad 1 \\le i \\le 5 .\n",
    "\\end{aligned}$$\n",
    "Write a function to produce a random set of 5 numbers of this form,\n",
    "and test the result by verifying that (a) $\\text{var}[X_2] = 3$ and\n",
    "(b) $\\text{cov}[X_3,X_5] = 1.75$."
   ]
  }
 ],
 "metadata": {
  "celltoolbar": "Tags",
  "kernelspec": {
   "display_name": "Python 3 (ipykernel)",
   "language": "python",
   "name": "python3"
  },
  "language_info": {
   "codemirror_mode": {
    "name": "ipython",
    "version": 3
   },
   "file_extension": ".py",
   "mimetype": "text/x-python",
   "name": "python",
   "nbconvert_exporter": "python",
   "pygments_lexer": "ipython3",
   "version": "3.12.9"
  }
 },
 "nbformat": 4,
 "nbformat_minor": 5
}
