{
 "cells": [
  {
   "cell_type": "markdown",
   "id": "59742dcb",
   "metadata": {},
   "source": [
    "# Homework 6: Correlations.\n",
    "\n",
    "*Instructions:*\n",
    "Please answer the following questions and submit your work\n",
    "by editing this jupyter notebook and submitting it on Canvas.\n",
    "Questions may involve math, programming, or neither,\n",
    "but you should make sure to *explain your work*:\n",
    "i.e., you should usually have a cell with at least a few sentences\n",
    "explaining what you are doing.\n",
    "\n",
    "Also, please be sure to always specify units of any quantities that have units,\n",
    "and label axes of plots (again, with units when appropriate)."
   ]
  },
  {
   "cell_type": "code",
   "execution_count": 7,
   "id": "03fe74bf",
   "metadata": {
    "editable": true,
    "slideshow": {
     "slide_type": ""
    },
    "tags": []
   },
   "outputs": [],
   "source": [
    "import numpy as np\n",
    "import matplotlib.pyplot as plt\n",
    "rng = np.random.default_rng()"
   ]
  },
  {
   "cell_type": "markdown",
   "id": "03754e1d-342c-498b-9eea-d83909c81a9e",
   "metadata": {
    "editable": true,
    "slideshow": {
     "slide_type": ""
    },
    "tags": []
   },
   "source": [
    "# 1. Y given X\n",
    "\n",
    "Let $X \\sim \\text{Normal}(\\text{mean}=0, \\text{sd}=1)$,\n",
    "and given $X$, let\n",
    "$$Y = a X + \\epsilon,$$\n",
    "where $\\epsilon \\sim \\text{Normal}(\\text{mean}=0, \\text{sd}=\\sigma)$\n",
    "is independent of $X$.\n",
    "\n",
    "**(a)** Find $\\text{cov}[X,Y]$ and $\\text{cor}[X,Y]$ by doing math.\n",
    "\n",
    "**(b)** Find $\\text{cov}[X,Y]$ and $\\text{cor}[X,Y]$ by simulation\n",
    "    with $a=2$ and $\\sigma=0.5$,\n",
    "    and include a scatter plot of their joint distribution.\n",
    "\n",
    "**(c)** Since $Y - aX = \\epsilon$, clearly $\\text{cov}[X, Y - aX] = 0$.\n",
    "    Show that for *any* two random variables $X$ and $Y$ with nonzero variance,\n",
    "    if $a = \\text{cov}[X,Y] / \\text{var}[X]$ then $X$ and $Z = Y - aX$ \n",
    "    are uncorrelated (i.e., $\\text{cov}[X,Z] = 0$)."
   ]
  },
  {
   "cell_type": "markdown",
   "id": "9497dfc8",
   "metadata": {
    "editable": true,
    "slideshow": {
     "slide_type": ""
    },
    "tags": []
   },
   "source": [
    "# 2. Random walk\n",
    "\n",
    "Consider the matrix\n",
    "$$\n",
    "    A = \\begin{bmatrix}\n",
    "        1 & 0 & 0 & 0 & 0 \\\\\n",
    "        1 & 1 & 0 & 0 & 0 \\\\\n",
    "        1 & 1 & 1 & 0 & 0 \\\\\n",
    "        1 & 1 & 1 & 1 & 0 \\\\\n",
    "        1 & 1 & 1 & 1 & 1\n",
    "    \\end{bmatrix} .\n",
    "$$\n",
    "Let $Z$ be a vector of five independent draws from the Normal(0, 1) distribution.\n",
    "What is the covariance matrix of\n",
    "$$ X = A Z ? $$\n",
    "Explain, and check by simulation."
   ]
  },
  {
   "cell_type": "markdown",
   "id": "86f880fd",
   "metadata": {
    "editable": true,
    "slideshow": {
     "slide_type": ""
    },
    "tags": []
   },
   "source": [
    "# 3. Two clouds\n",
    "\n",
    "Consider the following model: \n",
    "$$\\begin{aligned}\n",
    "    U &= \\begin{cases}\n",
    "        0 \\qquad &\\text{with probability 1/2} \\\\\n",
    "        1 \\qquad &\\text{with probability 1/2}\n",
    "    \\end{cases} \\\\\n",
    "    X_j &= \\text{Normal}\\left( \\text{mean}= U, \\text{sd}=7/5 \\right)\n",
    "        \\qquad \\text{for}\\quad 1 \\le j \\le 50 .\n",
    "\\end{aligned}$$\n",
    "(In words: $X$ is a 50-dimensional vector of independent draws from a Normal distribution;\n",
    "these all have the same mean, $U$; and this mean is either 0 or 1, with probability 1/2 each.)\n",
    "\n",
    "*(a)* Simulate 1,000 independent samples from this model;\n",
    "    the result should be an array of shape `(1000, 50)`.\n",
    "    *(Note: each row should have it's own, independent, simulated value for $U$.)*\n",
    "    Treat this is a matrix of data with 1000 observations of 50 variables.\n",
    "\n",
    "*(b)* Plot some of these \"variables\" against each other,\n",
    "    colored by the value of $U$.\n",
    "    \n",
    "*(c)* Carry out principal components analysis for these data,\n",
    "    and show the scree plot, the positions of the 1,000 data points on the first two PCs,\n",
    "    and the loadings of the 50 variables on these two PCs."
   ]
  }
 ],
 "metadata": {
  "celltoolbar": "Tags",
  "kernelspec": {
   "display_name": "Python 3 (ipykernel)",
   "language": "python",
   "name": "python3"
  },
  "language_info": {
   "codemirror_mode": {
    "name": "ipython",
    "version": 3
   },
   "file_extension": ".py",
   "mimetype": "text/x-python",
   "name": "python",
   "nbconvert_exporter": "python",
   "pygments_lexer": "ipython3",
   "version": "3.11.8"
  }
 },
 "nbformat": 4,
 "nbformat_minor": 5
}
