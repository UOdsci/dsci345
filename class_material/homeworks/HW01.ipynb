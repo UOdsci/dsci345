{
 "cells": [
  {
   "cell_type": "markdown",
   "metadata": {},
   "source": [
    "# Homework 1: simulation, and probability\n",
    "\n",
    "*Instructions:*\n",
    "Please answer the following questions and submit your work\n",
    "by editing this jupyter notebook and submitting it on Canvas.\n",
    "Questions may involve math, programming, or neither,\n",
    "but you should make sure to *explain your work*:\n",
    "i.e., you should usually have a cell with at least a few sentences\n",
    "explaining what you are doing.\n",
    "\n",
    "**Note: Thes writing is at least as important as anything else in the assignment** - please be clear and explain yourself in your own words - do this part on your own, even if you've collaborated with others on the code, etc. \n",
    "\n",
    "\n",
    "Pay especially close attention to how long it takes, and how much work, to do this assignment! You need enough fluency in the python language that it's a tool for you, not an obstacle.  \n",
    "\n",
    "In particular: this homework has a problem 0.  To be blunt, Problem 0 it is not supposed to be difficult; it is there to let you decide, for yourself, whether you have the programming skills to continue in the class.  If you have any trouble with it, then please come and speak to me as soon as possible; Math 345 may not be the best way for you to learn statistics this term."
   ]
  },
  {
   "cell_type": "markdown",
   "metadata": {},
   "source": [
    "## 0. Goat, please\n",
    "\n",
    "I have two chickens and one goat, and am going to give one to you,\n",
    "but you have to pick *randomly*.\n",
    "We have three barn stalls that you can't see in, and I put one animal in each stall,\n",
    "in a randomly chosen order.\n",
    "Let us suppose that you would like to get a chicken (the goat won't fit in your apartment).\n",
    "You then pick a stall.\n",
    "Then, I open one of the *other* stalls that has a chicken in it (I can always do this),\n",
    "and remove that chicken.\n",
    "Now, you have the choice of either taking what's in the stall you originally picked,\n",
    "or taking what's in the *other* (as yet unopened) stall.\n",
    "\n",
    "**(a)** First, decide whether you'd like to switch stalls in the last step or not.\n",
    "    Then, write python code to simulate from this procedure.\n",
    "    The code should explicitly represent what happens (e.g., which animal is in which stall),\n",
    "    and produce either `\"chicken\"` or `\"goat\"`, corresponding to which animal you get in the end.\n",
    "    \n",
    "**(b)** Use your code to simulate at least 10,000 times.\n",
    "    Report how often you get a chicken."
   ]
  },
  {
   "cell_type": "markdown",
   "metadata": {},
   "source": [
    "Here's one way to choose random numbers:"
   ]
  },
  {
   "cell_type": "code",
   "execution_count": 5,
   "metadata": {},
   "outputs": [
    {
     "name": "stdout",
     "output_type": "stream",
     "text": [
      "Here is a random number between 0 and 1: [0.56675405] and a random integer in (0, 1, 2): 2\n"
     ]
    }
   ],
   "source": [
    "import numpy as np\n",
    "rng = np.random  #or, you may need to say: rng = np.random.default_rng()\n",
    "u = rng.uniform(size=1)\n",
    "k = rng.choice([0, 1, 2])\n",
    "print(f\"Here is a random number between 0 and 1: {u} and a random integer in (0, 1, 2): {k}\")"
   ]
  },
  {
   "cell_type": "markdown",
   "metadata": {
    "slideshow": {
     "slide_type": ""
    },
    "tags": []
   },
   "source": [
    "## 1. The geometric distribution\n",
    "\n",
    "Wikipedia tells us that the [Geometric distribution](https://en.wikipedia.org/wiki/Geometric_distribution)\n",
    "is \"the number $X$ of [Bernoulli trials](https://en.wikipedia.org/wiki/Bernoulli_trial)\n",
    "needed to get one success\",\n",
    "and so if $X$ has the Geometric distribution with parameter $p$,\n",
    "then\n",
    "$$ \\mathbb{P}\\{ X = k \\} = (1 - p)^{k-1} p, $$\n",
    "for $k \\in \\{1, 2, 3, \\ldots\\}$.\n",
    "(There's another nearly-the-same definition,\n",
    "but this is the version numpy.random provides.)\n",
    "A \"Bernoulli trial\" with probability $p$ is just something that is 1 with probability $p$\n",
    "and 0 with probability $1-p$.\n",
    "\n",
    "Check this:\n",
    "\n",
    "*(a)* write a function that takes $p$ as an argument, simulates Bernoulli trials\n",
    "    until the first success, and returns the number of trials;\n",
    "\n",
    "*(b)* use this function to simulate many (at least 1,000) draws from the Geometric(1/3); and\n",
    "\n",
    "*(c)* compare the result to the same number of draws from the numpy.random implementation\n",
    "    by making a table of the number draws that take the value $k$ for $0 \\le k \\le 20$.\n",
    "    (If they are not similar, go back and fix your function.\n",
    "    To get an idea of what is \"similar\", re-run the code and see how much they change.)"
   ]
  },
  {
   "cell_type": "markdown",
   "metadata": {
    "slideshow": {
     "slide_type": ""
    },
    "tags": []
   },
   "source": [
    "You may want to use these methods:"
   ]
  },
  {
   "cell_type": "code",
   "execution_count": 1,
   "metadata": {
    "slideshow": {
     "slide_type": ""
    },
    "tags": []
   },
   "outputs": [],
   "source": [
    "import numpy as np\n",
    "rng = np.random.default_rng()\n",
    "# rng.uniform() < p   # this is True with probability p\n",
    "# x = rng.geometric( ... )  # numpy.random's implementation"
   ]
  },
  {
   "cell_type": "markdown",
   "metadata": {
    "slideshow": {
     "slide_type": ""
    },
    "tags": []
   },
   "source": [
    "## 2. Ascending sums\n",
    "\n",
    "For each $i \\ge 1$, Let $D_i$ be a random number drawn\n",
    "independently and uniformly from $\\{1, 2, 3, 4, 5, 6\\}$.\n",
    "Let $$ K = \\min\\{ k \\ge 1 \\;:\\; D_{k+1} < D_k \\} , $$\n",
    "i.e., $K$ is defined by the fact that\n",
    "$D_{K+1}$ is the first number that is smaller than the one before it.\n",
    "Finally, let\n",
    "$$ X = \\sum_{i=1}^K D_i . $$\n",
    "\n",
    "**a.** Describe in words what the above sum means, and explain how to simulate $X$ using fair dice.\n",
    "\n",
    "**b.** Write a function to simulate $X$ (in python).\n",
    "    The function should have one argument, `size`,\n",
    "    that determines the number of independent samples of $X$ that are returned.\n",
    "\n",
    "**c.** Make a plot describing the distribution of $X$, and estimate its mean (by simulating at least $10^5$ values)."
   ]
  },
  {
   "cell_type": "code",
   "execution_count": null,
   "metadata": {},
   "outputs": [],
   "source": []
  }
 ],
 "metadata": {
  "celltoolbar": "Tags",
  "kernelspec": {
   "display_name": "Python 3",
   "language": "python",
   "name": "python3"
  },
  "language_info": {
   "codemirror_mode": {
    "name": "ipython",
    "version": 3
   },
   "file_extension": ".py",
   "mimetype": "text/x-python",
   "name": "python",
   "nbconvert_exporter": "python",
   "pygments_lexer": "ipython3",
   "version": "3.7.1"
  }
 },
 "nbformat": 4,
 "nbformat_minor": 5
}
