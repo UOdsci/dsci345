{
 "cells": [
  {
   "cell_type": "markdown",
   "id": "59742dcb",
   "metadata": {},
   "source": [
    "# Homework 1: simulation, and probability\n",
    "\n",
    "*Instructions:*\n",
    "Please answer the following questions and submit your work\n",
    "by editing this jupyter notebook and submitting it on Canvas.\n",
    "Questions may involve math, programming, or neither,\n",
    "but you should make sure to *explain your work*:\n",
    "i.e., you should usually have a cell with at least a few sentences\n",
    "explaining what you are doing."
   ]
  },
  {
   "cell_type": "markdown",
   "id": "ab3dcfd7",
   "metadata": {
    "editable": true,
    "slideshow": {
     "slide_type": ""
    },
    "tags": []
   },
   "source": [
    "## 1. The geometric distribution\n",
    "\n",
    "Wikipedia tells us that the [Geometric distribution](https://en.wikipedia.org/wiki/Geometric_distribution)\n",
    "is \"the number $X$ of [Bernoulli trials](https://en.wikipedia.org/wiki/Bernoulli_trial)\n",
    "needed to get one success\",\n",
    "and so if $X$ has the Geometric distribution with parameter $p$,\n",
    "then\n",
    "$$ \\mathbb{P}\\{ X = k \\} = (1 - p)^{k-1} p, $$\n",
    "for $k \\in \\{1, 2, 3, \\ldots\\}$.\n",
    "(There's another nearly-the-same definition,\n",
    "but this is the version numpy.random provides.)\n",
    "A \"Bernoulli trial\" with probability $p$ is just something that is 1 with probability $p$\n",
    "and 0 with probability $1-p$.\n",
    "\n",
    "Check this:\n",
    "\n",
    "*(a)* write a function that takes $p$ as an argument, simulates Bernoulli trials\n",
    "    until the first success, and returns the number of trials;\n",
    "\n",
    "*(b)* use this function to simulate many (at least 1,000) draws from the Geometric(1/3); and\n",
    "\n",
    "*(c)* compare the result to the same number of draws from the numpy.random implementation\n",
    "    by making a table of the number draws that take the value $k$ for $0 \\le k \\le 20$.\n",
    "    (If they are not similar, go back and fix your function.\n",
    "    To get an idea of what is \"similar\", re-run the code and see how much they change.)"
   ]
  },
  {
   "cell_type": "markdown",
   "id": "691a4470-74a8-4099-94c6-0e4c4cba2225",
   "metadata": {
    "editable": true,
    "slideshow": {
     "slide_type": ""
    },
    "tags": []
   },
   "source": [
    "You may want to use these methods:"
   ]
  },
  {
   "cell_type": "code",
   "execution_count": 1,
   "id": "192c7122",
   "metadata": {
    "editable": true,
    "slideshow": {
     "slide_type": ""
    },
    "tags": []
   },
   "outputs": [],
   "source": [
    "import numpy as np\n",
    "rng = np.random.default_rng()\n",
    "# rng.uniform() < p   # this is True with probability p\n",
    "# x = rng.geometric( ... )  # numpy.random's implementation"
   ]
  },
  {
   "cell_type": "markdown",
   "id": "871bc836",
   "metadata": {
    "editable": true,
    "slideshow": {
     "slide_type": ""
    },
    "tags": []
   },
   "source": [
    "## 2. Ascending sums\n",
    "\n",
    "For each $i \\ge 1$, Let $D_i$ be a random number drawn\n",
    "independently and uniformly from $\\{1, 2, 3, 4, 5, 6\\}$.\n",
    "Let $$ K = \\min\\{ k \\ge 1 \\;:\\; D_{k+1} < D_k \\} , $$\n",
    "i.e., $K$ is defined by the fact that\n",
    "$D_{K+1}$ is the first number that is smaller than the one before it.\n",
    "Finally, let\n",
    "$$ X = \\sum_{i=1}^K D_i . $$\n",
    "\n",
    "**a.** Describe in words how to simulate $X$ using fair dice.\n",
    "\n",
    "**b.** Write a function to simulate $X$ (in python).\n",
    "    The function should have one argument, `size`,\n",
    "    that determines the number of independent samples of $X$ that are returned.\n",
    "\n",
    "**c.** Make a plot describing the distribution of $X$, and estimate its mean (by simulating at least $10^5$ values)."
   ]
  }
 ],
 "metadata": {
  "celltoolbar": "Tags",
  "kernelspec": {
   "display_name": "Python 3 (ipykernel)",
   "language": "python",
   "name": "python3"
  },
  "language_info": {
   "codemirror_mode": {
    "name": "ipython",
    "version": 3
   },
   "file_extension": ".py",
   "mimetype": "text/x-python",
   "name": "python",
   "nbconvert_exporter": "python",
   "pygments_lexer": "ipython3",
   "version": "3.11.8"
  }
 },
 "nbformat": 4,
 "nbformat_minor": 5
}
