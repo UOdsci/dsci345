{
 "cells": [
  {
   "cell_type": "markdown",
   "id": "59742dcb",
   "metadata": {},
   "source": [
    "# Homework 1: simulation, and probability\n",
    "\n",
    "*Instructions:*\n",
    "Please answer the following questions and submit your work\n",
    "by editing this jupyter notebook and submitting it on Canvas.\n",
    "Questions may involve math, programming, or neither,\n",
    "but you should make sure to *explain your work*:\n",
    "i.e., you should usually have a cell with at least a few sentences\n",
    "explaining what you are doing."
   ]
  },
  {
   "cell_type": "code",
   "execution_count": 3,
   "id": "27d38377-e1e8-4122-af96-237ea205d3b9",
   "metadata": {},
   "outputs": [],
   "source": [
    "import numpy as np\n",
    "rng = np.random.default_rng()"
   ]
  },
  {
   "cell_type": "markdown",
   "id": "c5010ae3-10b9-48fb-9a72-3bc232e6970c",
   "metadata": {
    "editable": true,
    "slideshow": {
     "slide_type": ""
    },
    "tags": []
   },
   "source": [
    "# 1. Probabilities and expectations\n",
    "\n",
    "Find the following quantities, both by (i) *math* and by (ii) *simulation*,\n",
    "for the independent random variables\n",
    "$$\\begin{aligned}\n",
    "N &\\sim \\text{Poisson}(\\text{mean}=2) \\\\\n",
    "T &\\sim \\text{Exponential}(\\text{mean}=5) \\\\\n",
    "X &\\sim \\text{Normal}(\\text{mean}=10, \\text{sd}=3) .\n",
    "\\end{aligned}$$\n",
    "\n",
    "For instance, if asked to find the probability that $N=0$\n",
    "then you might [consult Wikipedia](https://en.wikipedia.org/wiki/Poisson_distribution),\n",
    "and so report that (i) this is\n",
    "$$\\mathbb{P}\\{N = 0\\} = e^{-\\lambda} = e^{-2}$$\n",
    "and to verify this (ii)"
   ]
  },
  {
   "cell_type": "code",
   "execution_count": 14,
   "id": "cc8cdd6f-9754-4da6-9892-f077f05fc6b8",
   "metadata": {
    "editable": true,
    "slideshow": {
     "slide_type": ""
    },
    "tags": []
   },
   "outputs": [
    {
     "name": "stdout",
     "output_type": "stream",
     "text": [
      "Simulation: 0.135645, theory: 0.1353352832366127\n"
     ]
    }
   ],
   "source": [
    "N = rng.poisson(lam=2, size=1000000)\n",
    "print(f\"Simulation: {np.mean(N == 0)}, theory: {np.exp(-2)}\")"
   ]
  },
  {
   "cell_type": "markdown",
   "id": "42962269-499c-498c-be12-476cd0427133",
   "metadata": {
    "editable": true,
    "slideshow": {
     "slide_type": ""
    },
    "tags": []
   },
   "source": [
    "Note you should include a comparison of the numerical value produced by your mathematical expression,\n",
    "and reference to any properties of random variables used in the calculations.\n",
    "\n",
    "**a.** The probability that $T < 4$.\n",
    "\n",
    "**b.** The standard deviation of $T + X$.\n",
    "\n",
    "**c.** The expected value of $2X + 1$.\n",
    "\n",
    "**d.** The expected value of $NT$ (i.e., the product of $N$ and $T$)."
   ]
  },
  {
   "cell_type": "markdown",
   "id": "871bc836",
   "metadata": {
    "editable": true,
    "slideshow": {
     "slide_type": ""
    },
    "tags": []
   },
   "source": [
    "## 2. Ascending sums\n",
    "\n",
    "For each $i \\ge 1$, Let $D_i$ be a random number drawn\n",
    "independently and uniformly from $\\{1, 2, 3, 4, 5, 6\\}$.\n",
    "Let $$ K = \\min\\{ k \\ge 1 \\;:\\; D_k + D_{k+1} = 7 \\} , $$\n",
    "i.e., $K$ is defined by the fact that\n",
    "$D_{K}$ and $D_{K+1}$ are the first pair of adjacent rolled numbers\n",
    "that add up to 7.\n",
    "Finally, let\n",
    "$$ X = \\sum_{i=1}^K D_i . $$\n",
    "\n",
    "**a.** Describe in words how to simulate $X$ using fair dice.\n",
    "\n",
    "**b.** Write a function to simulate $X$ (in python).\n",
    "    The function should have one argument, `size`,\n",
    "    that determines the number of independent samples of $X$ that are returned.\n",
    "\n",
    "**c.** Make a plot describing the distribution of $X$, and estimate its mean (by simulating at least $10^5$ values)."
   ]
  }
 ],
 "metadata": {
  "celltoolbar": "Tags",
  "kernelspec": {
   "display_name": "Python 3 (ipykernel)",
   "language": "python",
   "name": "python3"
  },
  "language_info": {
   "codemirror_mode": {
    "name": "ipython",
    "version": 3
   },
   "file_extension": ".py",
   "mimetype": "text/x-python",
   "name": "python",
   "nbconvert_exporter": "python",
   "pygments_lexer": "ipython3",
   "version": "3.12.9"
  }
 },
 "nbformat": 4,
 "nbformat_minor": 5
}
