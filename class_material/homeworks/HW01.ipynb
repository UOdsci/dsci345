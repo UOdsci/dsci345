{
 "cells": [
  {
   "cell_type": "markdown",
   "id": "59742dcb",
   "metadata": {},
   "source": [
    "# Homework 1: simulation, and probability\n",
    "\n",
    "*Instructions:*\n",
    "Please answer the following questions and submit your work\n",
    "by editing this jupyter notebook and submitting it on Canvas.\n",
    "Questions may involve math, programming, or neither,\n",
    "but you should make sure to *explain your work*:\n",
    "i.e., you should usually have a cell with at least a few sentences\n",
    "explaining what you are doing."
   ]
  },
  {
   "cell_type": "markdown",
   "id": "ab3dcfd7",
   "metadata": {},
   "source": [
    "## 1. The geometric distribution\n",
    "\n",
    "Wikipedia tells us that there are two ways to define the [Geometric distribution](https://en.wikipedia.org/wiki/Geometric_distribution), so that if $X$ has the Geometric distribution with parameter $p$,\n",
    "then either\n",
    "$$ \\mathbb{P}\\{ X = k \\} = (1 - p)^{k-1} p, $$\n",
    "or\n",
    "$$ \\mathbb{P}\\{ X = k \\} = (1 - p)^{k} p. $$\n",
    "Find out, empirically, which of the two distributions is used by numpy,\n",
    "by simulating a large number of draws as follows:"
   ]
  },
  {
   "cell_type": "code",
   "execution_count": null,
   "id": "192c7122",
   "metadata": {},
   "outputs": [],
   "source": [
    "import numpy as np\n",
    "rng = np.random.default_rng()\n",
    "# x = rng.geometric( ... )"
   ]
  },
  {
   "cell_type": "markdown",
   "id": "58349c9c",
   "metadata": {},
   "source": [
    "and counting the proportion of those draws that take the value $k$.\n",
    "Do this for two different values of $p$ and $0 \\le k \\le 10$,\n",
    "and compare the proportions two the two formula above.\n",
    "Which is it?"
   ]
  },
  {
   "cell_type": "markdown",
   "id": "871bc836",
   "metadata": {},
   "source": [
    "## 2. Ascending sums\n",
    "\n",
    "For each $i \\ge 1$, Let $D_i$ be a random number drawn\n",
    "independently and uniformly from $\\{1, 2, 3, 4, 5, 6\\}$.\n",
    "Let $$ K = \\min\\{ k \\ge 1 \\;:\\; D_{k+1} < D_k \\} , $$\n",
    "i.e., $D_{k+1}$ is the first number that is smaller than the one before it.\n",
    "Define\n",
    "$$ X = \\sum_{i=1}^K D_i . $$\n",
    "\n",
    "**a.** Describe in words how to simulate $X$ using fair dice.\n",
    "\n",
    "**b.** Write a function to simulate $X$ (in python).\n",
    "    The function should have one argument, `size`,\n",
    "    that determines the number of independent samples of $X$ that are returned.\n",
    "\n",
    "**c.** Make a plot describing the distribution of $X$, and estimate its mean (by simulating at least $10^5$ values)."
   ]
  }
 ],
 "metadata": {
  "kernelspec": {
   "display_name": "Python 3 (ipykernel)",
   "language": "python",
   "name": "python3"
  },
  "language_info": {
   "codemirror_mode": {
    "name": "ipython",
    "version": 3
   },
   "file_extension": ".py",
   "mimetype": "text/x-python",
   "name": "python",
   "nbconvert_exporter": "python",
   "pygments_lexer": "ipython3",
   "version": "3.9.9"
  }
 },
 "nbformat": 4,
 "nbformat_minor": 5
}
