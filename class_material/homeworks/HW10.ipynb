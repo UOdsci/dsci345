{
 "cells": [
  {
   "cell_type": "markdown",
   "id": "59742dcb",
   "metadata": {},
   "source": [
    "# Final: Probability and Statistics for Data Science\n",
    "\n",
    "*Instructions:*\n",
    "Please answer the following questions and submit your work\n",
    "by editing this jupyter notebook and submitting it on Canvas.\n",
    "Questions may involve math, programming, or neither,\n",
    "but you should make sure to *explain your work*:\n",
    "i.e., you should usually have a cell with at least a few sentences\n",
    "explaining what you are doing.\n",
    "\n",
    "Also, please be sure to always specify units of any quantities that have units,\n",
    "and label axes of plots (again, with units when appropriate)."
   ]
  },
  {
   "cell_type": "code",
   "execution_count": 2,
   "id": "03fe74bf",
   "metadata": {},
   "outputs": [],
   "source": [
    "import numpy as np\n",
    "import matplotlib.pyplot as plt\n",
    "rng = np.random.default_rng(123)"
   ]
  },
  {
   "cell_type": "markdown",
   "id": "834cfac4",
   "metadata": {},
   "source": [
    "# 1. Stories\n",
    "\n",
    "Make up stories in which we might reasonably obtain multiple random numbers\n",
    "from each of the following distributions.\n",
    "Be concrete: say exactly what quantity in your story is given by the distribution,\n",
    "specify what the numerical values of any parameters are,\n",
    "and give units when appropriate.\n",
    "Stories should match the distribution\n",
    "(e.g., if the distribution produces only integers,\n",
    "then the quantity in your story should always be an integer).\n",
    "\n",
    "*(a)* Normal(mean=$\\mu$, sd=$\\sigma$).\n",
    "\n",
    "*(b)* Poisson(mean=$\\mu$)\n",
    "\n",
    "*(c)* Binomial(trials=$n$, probability=$p$)\n",
    "\n",
    "*(d)* Exponential(mean=$\\mu$)"
   ]
  },
  {
   "cell_type": "markdown",
   "id": "0db0ef9c",
   "metadata": {
    "slideshow": {
     "slide_type": "subslide"
    }
   },
   "source": [
    "# 2. The three surveyors\n",
    "\n",
    "Moe, Larry, and Curly are measuring the heights of the trees in a field.\n",
    "To do this, Moe climbs the tree and holds a tape measure at the top of the tree,\n",
    "Larry looks at the position on the tape measure and yells it to Curly,\n",
    "and Curly writes it down.\n",
    "However, each make mistakes:\n",
    "if the true height of the tree is $h$ (in feet),\n",
    "then the number written down is\n",
    "$$\n",
    "    X = h + M + L + C ,\n",
    "$$\n",
    "where $M$, $L$, and $C$ are the errors introduced by each;\n",
    "these are independent and\n",
    "$$\\begin{aligned}\n",
    "  M &\\sim \\text{Exponential}(\\text{mean}=1.0) \\\\\n",
    "  L &\\sim \\text{Normal}(\\text{mean}=0, \\text{sd}=1.5) \\\\\n",
    "  C &\\sim \\text{Normal}(\\text{mean}=2.0, \\text{sd}=0.5) .\n",
    "\\end{aligned}$$\n",
    "\n",
    "In the following, suppose they have measured a tree with true height $h=20$.\n",
    "The expected value of $X$ is, by linearity of expectation,\n",
    "$$ \\mathbb{E}[X] = \\mathbb{E}[h + M + L + C] = h + \\mathbb{E}[M] + \\mathbb{E}[L] + \\mathbb{E}[C] = 20 + 1 + 0 + 2 = 23 \\text{ feet}. $$\n",
    "\n",
    "*(a)* Write a function to simulate from $X$,\n",
    "    and use it to make a histogram of the distribution of $X$.\n",
    "    (*Note: as a check, the mean should be close to 23.*)\n",
    "    \n",
    "*(b)* Use simulation to estimate $\\text{sd}[X]$.\n",
    "\n",
    "*(c)* Find $\\text{sd}[X]$ using math (i.e., using the probability rules from class\n",
    " and properties of the probability distributions above, which you may look up on Wikipedia).\n",
    " Make sure to state any facts that you use."
   ]
  },
  {
   "cell_type": "markdown",
   "id": "b2e7d60a",
   "metadata": {},
   "source": [
    "# 3. Jitter bugs\n",
    "\n",
    "We are studying how activity levels of springtails (a type of very small arthropod)\n",
    "depend on ambient temperature.\n",
    "To do this, we have measured how far twenty *[Sminthurus viridis](https://www.chaosofdelight.org/collembola-springtails)*\n",
    "traveled along a small tube over the course of 10 minutes, each measured at a different temperature.\n",
    "Here are the data (temperatures in degrees C, distances in mm):"
   ]
  },
  {
   "cell_type": "code",
   "execution_count": 39,
   "id": "b4772e8b",
   "metadata": {},
   "outputs": [],
   "source": [
    "temperature = np.array([1.4, 2.8, 1.2, 10., 0.4, 6.3, 1.2, 0.6, 0.7, 2.6, 2.4,\n",
    "                   0.4 , 1. , 2.3, 2.8, 7.4, 2.6, 1.6, 9.4, 11.4])\n",
    "distance = np.array([12.1, 10.6,  9.5,  7.4,  9.8, 13.3, 11.1, 11.3, 10.3,  9.2,  9.7,\n",
    "                   9.5,  9.5, 10.8,  7.7,  7.5,  8.6, 11.5,  8.9, 14.1])"
   ]
  },
  {
   "cell_type": "markdown",
   "id": "a960b6ed",
   "metadata": {},
   "source": [
    "Our observation is that although the *average* distance is fairly consistent across\n",
    "temperatures, the *variability* between springtails differs substantially at different temperatures.\n",
    "So, we'd like to fit the following model: if $D$ is the distance and $T$ is the temperature,\n",
    "$$ D \\sim \\text{Normal}(\\text{mean}=a, \\text{sd}=\\exp(b T) ). $$\n",
    "(In words: although mean distance does not change with temperature,\n",
    "the standard deviation does.)"
   ]
  },
  {
   "cell_type": "markdown",
   "id": "7c55f1b5",
   "metadata": {},
   "source": [
    "*(a)* Write the log-likelihood function for this model.\n",
    "    The function should have three arguments: the tuple of parameters, $(a, b)$;\n",
    "    the array of temperatures; and the array of distances.\n",
    "\n",
    "*(b)* Estimate the values of $a$ and $b$ from the data\n",
    "    by minimizing the negative log-likelihood.\n",
    "    \n",
    "*(c)* Use simulation (i.e., the \"parametric bootstrap\")\n",
    "    to obtain 95% confidence intervals for your two estimates.\n",
    "    Do this by: keeping temperatures fixed;\n",
    "    simulating distance from this model using the estimated values of $a$ and $b$,\n",
    "    re-applying the estimation procedure,\n",
    "    and reporting a 95% interval of the resulting estimates. "
   ]
  },
  {
   "cell_type": "markdown",
   "id": "afc1c32d",
   "metadata": {},
   "source": [
    "# 4. One hundred and one hats\n",
    "\n",
    "Here are a list of 101 measurements of the diameters of the heads of 101 adults\n",
    "(measured around where the typical hat sits)."
   ]
  },
  {
   "cell_type": "code",
   "execution_count": 52,
   "id": "94e9c90f",
   "metadata": {},
   "outputs": [],
   "source": [
    "hats = np.array([50.8, 57.8, 50.4, 53.8, 61.6, 64.6, 62.4, 65.3, 54.3, 60.1, 57.5,\n",
    "       64. , 58. , 47.7, 49.2, 59.1, 43.1, 51.9, 50.3, 59.6, 59.6, 45.3,\n",
    "       59. , 54. , 61.2, 57.7, 64.2, 63.4, 55.1, 55.4, 50.8, 55.9, 54.5,\n",
    "       51.1, 54.3, 53.8, 50.5, 54.5, 57.1, 59.5, 43.5, 48. , 57.7, 55.7,\n",
    "       43.9, 56.5, 57. , 57.7, 52.5, 48.4, 57.4, 60.2, 59. , 54.8, 51.2,\n",
    "       58. , 51.7, 63.3, 63.1, 51.6, 58. , 49.6, 54.9, 56.6, 52. , 58.7,\n",
    "       55.7, 54.1, 58.9, 59.6, 59.7, 54.7, 57. , 55.3, 48.3, 57.1, 46.2,\n",
    "       51.5, 57.2, 52.9, 55.5, 61.3, 56.2, 54.3, 53.7, 60.3, 63.3, 56.5,\n",
    "       48.2, 55.8, 54.3, 44.1, 56. , 57. , 57.3, 53.7, 58.7, 52.4, 53.8,\n",
    "       50.1, 50.1])"
   ]
  },
  {
   "cell_type": "markdown",
   "id": "6fd6e3c1",
   "metadata": {},
   "source": [
    "We are working on developing a flexibly new type of hat that fits a wide range of people\n",
    "and would like to know what the 10% and 90% quantiles of head diameters sizes are.\n",
    "For these data, those numbers are"
   ]
  },
  {
   "cell_type": "code",
   "execution_count": 53,
   "id": "3ab28c9a",
   "metadata": {},
   "outputs": [
    {
     "data": {
      "text/plain": [
       "array([48.4, 61.3])"
      ]
     },
     "execution_count": 53,
     "metadata": {},
     "output_type": "execute_result"
    }
   ],
   "source": [
    "np.quantile(hats, [0.1, 0.9])"
   ]
  },
  {
   "cell_type": "markdown",
   "id": "c535ef7a",
   "metadata": {},
   "source": [
    "In other words, 10% of the head diamters are below 48.4cm, 80% are between 48.8cm and 61.3cm,\n",
    "and 10% are above 61.3cm.\n",
    "\n",
    "*However*, we'd like to know how good these estimates are.\n",
    "Use the bootstrap (i.e., the usual, resampling-based bootstrap)\n",
    "to find 95% confidence intervals for both."
   ]
  }
 ],
 "metadata": {
  "celltoolbar": "Tags",
  "kernelspec": {
   "display_name": "Python 3 (ipykernel)",
   "language": "python",
   "name": "python3"
  },
  "language_info": {
   "codemirror_mode": {
    "name": "ipython",
    "version": 3
   },
   "file_extension": ".py",
   "mimetype": "text/x-python",
   "name": "python",
   "nbconvert_exporter": "python",
   "pygments_lexer": "ipython3",
   "version": "3.11.2"
  }
 },
 "nbformat": 4,
 "nbformat_minor": 5
}
