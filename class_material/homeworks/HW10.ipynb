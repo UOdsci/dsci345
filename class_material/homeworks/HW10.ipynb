{
 "cells": [
  {
   "cell_type": "markdown",
   "id": "59742dcb",
   "metadata": {
    "editable": true,
    "slideshow": {
     "slide_type": ""
    },
    "tags": []
   },
   "source": [
    "# Homework 10: A bootstrap.\n",
    "\n",
    "*Instructions:*\n",
    "Please answer the following questions and submit your work\n",
    "by editing this jupyter notebook and submitting it on Canvas.\n",
    "Questions may involve math, programming, or neither,\n",
    "but you should make sure to *explain your work*:\n",
    "i.e., you should usually have a cell with at least a few sentences\n",
    "explaining what you are doing.\n",
    "\n",
    "Also, please be sure to always specify units of any quantities that have units,\n",
    "and label axes of plots (again, with units when appropriate)."
   ]
  },
  {
   "cell_type": "code",
   "execution_count": 2,
   "id": "03fe74bf",
   "metadata": {
    "editable": true,
    "slideshow": {
     "slide_type": ""
    },
    "tags": []
   },
   "outputs": [],
   "source": [
    "import numpy as np\n",
    "import matplotlib.pyplot as plt\n",
    "rng = np.random.default_rng(123)"
   ]
  },
  {
   "cell_type": "markdown",
   "id": "d69b0eb3-1875-4d7a-9591-50bdcb74bb63",
   "metadata": {
    "editable": true,
    "slideshow": {
     "slide_type": ""
    },
    "tags": []
   },
   "source": [
    "# 1. Mosquitos, now uncertain\n",
    "\n",
    "Recall the per-kid mosquito bite and odor (in ppm) data from homeworks #7 and #8.\n",
    "Here are the data:"
   ]
  },
  {
   "cell_type": "code",
   "execution_count": 3,
   "id": "6eee6132-8960-411c-aa40-1aea9413390b",
   "metadata": {
    "editable": true,
    "slideshow": {
     "slide_type": ""
    },
    "tags": []
   },
   "outputs": [],
   "source": [
    "bites = np.array([4, 5, 4, 2, 4, 8, 4, 6, 7, 5, 4, 0, 5, 7, 5, 3, 2, 0, 3, 4, 5, 3, 6, 1, 2, 3, 5,\n",
    "                  20, 31])  # <-- new\n",
    "odor = np.array([ 2.8,  4.4,  6.9,  2.3,  5.9, 10.2,  3.2,  7.6,  6.3,  4.5,  4.3,\n",
    "                0. ,  8.2,  5.4,  7.6,  3.3,  3.9,  0.1,  2.7,  4.7,  2.1,  4.3,\n",
    "               11.3,  1.7,  2.8,  2.9,  8.5,\n",
    "                5.2, 9.8])  # <-- new"
   ]
  },
  {
   "cell_type": "markdown",
   "id": "97f50af8-7d6c-46e6-aa7c-e8b5899c69a2",
   "metadata": {
    "editable": true,
    "slideshow": {
     "slide_type": ""
    },
    "tags": []
   },
   "source": [
    "In homework #8 you fit a *Negative Binomial* model:\n",
    "if $Y_i$ is the number of bites the $i^\\text{th}$ kid got,\n",
    "and $X_i$ is their \"odor\" value, then\n",
    "$$\\begin{aligned}\n",
    "    Y_i \\sim \\text{NegBinom}(\\text{mean}= \\exp(a X_i + b), \\text{n}=n) ,\n",
    "\\end{aligned}$$\n",
    "and you might have fit the values of $a$ and $b$ and $n$ with the following code:"
   ]
  },
  {
   "cell_type": "code",
   "execution_count": 65,
   "id": "e5c40a50-aedf-49cd-8337-0ea5d590cee9",
   "metadata": {
    "editable": true,
    "slideshow": {
     "slide_type": ""
    },
    "tags": []
   },
   "outputs": [
    {
     "data": {
      "text/plain": [
       "array([0.20504255, 0.52464076, 3.89894044])"
      ]
     },
     "execution_count": 65,
     "metadata": {},
     "output_type": "execute_result"
    }
   ],
   "source": [
    "import scipy.stats\n",
    "\n",
    "def L(abn, bites):\n",
    "    a, b, n = abn\n",
    "    mu = np.exp(a * odor + b)\n",
    "    p = 1 / (1 + mu/n)\n",
    "    return -1 * np.sum(scipy.stats.nbinom.logpmf(bites, n=n, p=p))\n",
    "\n",
    "initial_guess = [1.2, 0.7, 1]\n",
    "mle = scipy.optimize.minimize(L, x0=initial_guess,\n",
    "                              args=(bites,),\n",
    "                              bounds=((None, None), (None, None), (0, None)))\n",
    "mle.x"
   ]
  },
  {
   "cell_type": "markdown",
   "id": "0416fe6c-5a84-44b9-9a0e-e465aca06f41",
   "metadata": {
    "editable": true,
    "slideshow": {
     "slide_type": ""
    },
    "tags": []
   },
   "source": [
    "Now, your job is to use the parametric bootstrap to describe the uncertainty of these estimates. To do this:\n",
    "\n",
    "*(a)* Write a function that simulates new `bites` data\n",
    "form from this model at the estimated parameter values.\n",
    "\n",
    "*(b)* Apply the same method of parameter estimation to at least 1,000 simulated\n",
    "datasets, and describe the resulting distribution of estimates.\n",
    "\n",
    "*(c)* Communicate the results,\n",
    "in particular addressing how strongly odor affects number of mosquito bites\n",
    "and whether the Poisson model is a good fit\n",
    "(make sure to communicate uncertainty in these results)."
   ]
  }
 ],
 "metadata": {
  "celltoolbar": "Tags",
  "kernelspec": {
   "display_name": "Python 3 (ipykernel)",
   "language": "python",
   "name": "python3"
  },
  "language_info": {
   "codemirror_mode": {
    "name": "ipython",
    "version": 3
   },
   "file_extension": ".py",
   "mimetype": "text/x-python",
   "name": "python",
   "nbconvert_exporter": "python",
   "pygments_lexer": "ipython3",
   "version": "3.12.9"
  }
 },
 "nbformat": 4,
 "nbformat_minor": 5
}
