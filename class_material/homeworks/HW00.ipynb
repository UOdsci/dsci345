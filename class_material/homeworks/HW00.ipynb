{
 "cells": [
  {
   "cell_type": "markdown",
   "id": "59742dcb",
   "metadata": {},
   "source": [
    "# Homework 0: getting up to speed\n",
    "\n",
    "*Instructions:*\n",
    "Please answer the following questions and submit your work\n",
    "by editing this jupyter notebook and submitting it on Canvas.\n",
    "Questions may involve math, programming, or neither,\n",
    "but for any you should make sure to *explain your work*:\n",
    "i.e., you should always have a cell with at least a few sentences\n",
    "explaining what you are doing."
   ]
  },
  {
   "cell_type": "markdown",
   "id": "ab3dcfd7",
   "metadata": {},
   "source": [
    "## 1. Goat, please\n",
    "\n",
    "I have two chickens and one goat, and am going to give one to you,\n",
    "but you have to pick *randomly*.\n",
    "We have three barn stalls that you can't see in, and I put one animal in each stall,\n",
    "in a randomly chosen order.\n",
    "Let us suppose that you would like to get a chicken (the goat won't fit in your apartment).\n",
    "You then pick a stall.\n",
    "Then, I open one of the *other* stalls that has a chicken in it (I can always do this),\n",
    "and remove that chicken.\n",
    "Now, you have the choice of either taking what's in the stall you originally picked,\n",
    "or taking what's in the *other* (as yet unopened) stall.\n",
    "\n",
    "**(a)** First, decide whether you'd like to switch stalls in the last step or not.\n",
    "    Then, write python code to simulate from this procedure.\n",
    "    The code should explicitly represent what happens (e.g., which animal is in which stall),\n",
    "    and produce either `\"chicken\"` or `\"goat\"`, corresponding to which animal you get in the end.\n",
    "    \n",
    "**(b)** Use your code to simulate at least 10,000 times.\n",
    "    Report how often you get a chicken."
   ]
  },
  {
   "cell_type": "markdown",
   "id": "edc12b4f",
   "metadata": {},
   "source": [
    "*Reminder:* To get random values you probably want to use these methods:"
   ]
  },
  {
   "cell_type": "code",
   "execution_count": 7,
   "id": "192c7122",
   "metadata": {},
   "outputs": [
    {
     "name": "stdout",
     "output_type": "stream",
     "text": [
      "Here is a random number between 0 and 1: [0.60572638] and a random integer in (0, 1, 2): 1\n"
     ]
    }
   ],
   "source": [
    "import numpy as np\n",
    "rng = np.random.default_rng()\n",
    "u = rng.uniform(size=1)\n",
    "k = rng.choice([0, 1, 2])\n",
    "print(f\"Here is a random number between 0 and 1: {u} and a random integer in (0, 1, 2): {k}\")"
   ]
  }
 ],
 "metadata": {
  "kernelspec": {
   "display_name": "Python 3 (ipykernel)",
   "language": "python",
   "name": "python3"
  },
  "language_info": {
   "codemirror_mode": {
    "name": "ipython",
    "version": 3
   },
   "file_extension": ".py",
   "mimetype": "text/x-python",
   "name": "python",
   "nbconvert_exporter": "python",
   "pygments_lexer": "ipython3",
   "version": "3.11.8"
  }
 },
 "nbformat": 4,
 "nbformat_minor": 5
}
