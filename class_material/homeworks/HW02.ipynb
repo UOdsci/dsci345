{
 "cells": [
  {
   "cell_type": "markdown",
   "id": "59742dcb",
   "metadata": {},
   "source": [
    "# Homework 2: Random variables\n",
    "\n",
    "*Instructions:*\n",
    "Please answer the following questions and submit your work\n",
    "by editing this jupyter notebook and submitting it on Canvas.\n",
    "Questions may involve math, programming, or neither,\n",
    "but you should make sure to *explain your work*:\n",
    "i.e., you should usually have a cell with at least a few sentences\n",
    "explaining what you are doing."
   ]
  },
  {
   "cell_type": "markdown",
   "id": "4001dbb1",
   "metadata": {
    "editable": true,
    "slideshow": {
     "slide_type": ""
    },
    "tags": []
   },
   "source": [
    "## 1. Modeling some counts\n",
    "\n",
    "Consider the following model:\n",
    "$$\\begin{aligned}\n",
    "N &\\sim \\text{Poisson}(\\lambda) \\\\\n",
    "K &\\sim \\text{Binomial}(N, p) ,\n",
    "\\end{aligned}$$\n",
    "with $\\lambda=20$ and $p=0.1$.\n",
    "In words, $N$ has a Poisson distribution with mean $\\lambda=20$,\n",
    "and given the value of $N$,\n",
    "$K$ has a Binomial distribution with parameters $N$ and $p=0.1$\n",
    "(i.e., $N$ trials and with probability $p$).\n",
    "\n",
    "*(a)* What values can $N$ take? What values can $K$ take? What is the expected value of $K$?\n",
    "\n",
    "*(b)* Make up a story for a situation in which a random quantity might be modeled\n",
    "using the distribution of $K$. Make explicit in your story what $N$ is,\n",
    "and how to get the (random) number which is the value of $K$.\n",
    "\n",
    "*(c)* Simulate at least 1,000 draws from the distribution of $K$,\n",
    "and describe the result using a table or a histogram."
   ]
  },
  {
   "cell_type": "markdown",
   "id": "4c73008d",
   "metadata": {
    "editable": true,
    "slideshow": {
     "slide_type": ""
    },
    "tags": []
   },
   "source": [
    "## 2. Tulips\n",
    "\n",
    "You are working with a tulip farmer to improve the color of a new variety of blue tulip.\n",
    "After many measurements, in which you've summarized the color of each tulip flower by a single wavelength,\n",
    "you've determined that\n",
    "- color values range from about 450-500nm (possibly with occasional tulips outside this range)\n",
    "- the average tulip color is fairly blue: about 475nm\n",
    "- the standard deviation of color across flowers from a single plant tends to be around 5nm\n",
    "- however, some tulip plants produce more variable colors than others: most plants have standard deviations below 10nm,\n",
    "  but some (roughly 10%) have larger standard deviations.\n",
    "\n",
    "**(a)** Develop a model for $C$, the color value (measured as wavelengths, in nm) of a randomly chosen tulip in the field,\n",
    "using at least two different distributions, formulated as in the last question.\n",
    "Make sure all parameters are specified, and explain your choice of distributions.\n",
    "\n",
    "**(b)** Simulate 100 tulip colors, and verify that the resulting values agree with the verbal description above.\n",
    "You do not have to explicitly simulate the separate plants (i.e., you may assume that each flower comes from a separate plant)."
   ]
  },
  {
   "cell_type": "markdown",
   "id": "431784b5-33b3-48da-a920-bd57464dcab5",
   "metadata": {
    "editable": true,
    "jp-MarkdownHeadingCollapsed": true,
    "slideshow": {
     "slide_type": ""
    },
    "tags": []
   },
   "source": [
    "## 3. Your stochastic day\n",
    "\n",
    "Give examples from your day of quantities that might be reasonably modeled as random draws from the following distributions:\n",
    "\n",
    "**(a)** Binomial\n",
    "**(b)** Normal\n",
    "**(c)** Poisson\n",
    "**(d)** Exponential\n",
    "\n",
    "In each case, give example parameter values (i.e., for (a), say what $n$ and $p$ are in your example).\n",
    "\n",
    "*Example:* Every day I tie my shoes twice. Each time, there is a probability of about 5% that I'll need to untie them to adjust.\n",
    "The number of times I don't tie a shoe correctly on the first time in a day is Binomial($n=4$, $p=0.05$). (It is $n=4$ for two shoes, two times.)\n",
    "\n",
    "*Example:* My eight-year-old-kid sometimes takes a loooong time to put on *her* shoes (indeed, seemingly unboundedly long), but is more often quick.\n",
    "The time she takes to put on her shoes in the morning is perhaps Exponential with a mean of 2 minutes."
   ]
  },
  {
   "cell_type": "markdown",
   "id": "2f479a98-5fee-4dae-aab1-d984c06380b9",
   "metadata": {
    "editable": true,
    "slideshow": {
     "slide_type": ""
    },
    "tags": []
   },
   "source": [
    "## 4. Integrals\n",
    "\n",
    "Suppose that the amount of time it takes me to write a page of text is $R$ minutes,\n",
    "and I will make $X$ errors during that time.\n",
    "Suppose that $R$ is [Gamma distributed](https://en.wikipedia.org/wiki/Gamma_distribution) with shape $\\alpha=5$ and scale $\\theta=4$.\n",
    "Also, I make more errors the longer I type: the number of errors is Poisson, with mean $R/5$.\n",
    "In symbols:\n",
    "$$\\begin{aligned}\n",
    "\\text{total time: } R &\\sim \\text{Gamma}(\\text{scale}=4, \\text{shape}=5) \\\\\n",
    "\\text{number of errors: } X &\\sim \\text{Poisson}(\\text{mean}=R/5) .\n",
    "\\end{aligned}$$\n",
    "\n",
    "**(a)** Suppose that for a given page I took $r$ minutes (i.e., I had $R=r$).\n",
    "What is the probability that I made no errors? Write down the expression, and evaluate it for $r=20$.\n",
    "\n",
    "**(b)** Now, what is the probability I made no errors on a randomly chosen page?\n",
    "To do this, write down the integral which averages your expression for (a) over possible values of $R$.\n",
    "\n",
    "**(c)** Now use software (for instance, [`np.trapezoid()`](https://numpy.org/devdocs/reference/generated/numpy.trapezoid.html), or some symbolic algebra software that can \"do\" integrals) to find a value for the integral. *Note: you could use [`scipy.stats.gamma.pdf`](https://docs.scipy.org/doc/scipy/reference/generated/scipy.stats.gamma.html) for the probability density function of the Gamma distribution.*\n",
    "\n",
    "**(d)** Check your answer to (b) by simulating at least 10000 draws from the distribution."
   ]
  }
 ],
 "metadata": {
  "celltoolbar": "Tags",
  "kernelspec": {
   "display_name": "Python 3 (ipykernel)",
   "language": "python",
   "name": "python3"
  },
  "language_info": {
   "codemirror_mode": {
    "name": "ipython",
    "version": 3
   },
   "file_extension": ".py",
   "mimetype": "text/x-python",
   "name": "python",
   "nbconvert_exporter": "python",
   "pygments_lexer": "ipython3",
   "version": "3.12.9"
  }
 },
 "nbformat": 4,
 "nbformat_minor": 5
}
