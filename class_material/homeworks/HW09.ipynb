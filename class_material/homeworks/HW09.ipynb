{
 "cells": [
  {
   "cell_type": "markdown",
   "id": "59742dcb",
   "metadata": {},
   "source": [
    "# Homework 9: Moar linear models.\n",
    "\n",
    "*Instructions:*\n",
    "Please answer the following questions and submit your work\n",
    "by editing this jupyter notebook and submitting it on Canvas.\n",
    "Questions may involve math, programming, or neither,\n",
    "but you should make sure to *explain your work*:\n",
    "i.e., you should usually have a cell with at least a few sentences\n",
    "explaining what you are doing.\n",
    "\n",
    "Also, please be sure to always specify units of any quantities that have units,\n",
    "and label axes of plots (again, with units when appropriate)."
   ]
  },
  {
   "cell_type": "code",
   "execution_count": 1,
   "id": "03fe74bf",
   "metadata": {},
   "outputs": [],
   "source": [
    "import numpy as np\n",
    "import matplotlib.pyplot as plt\n",
    "rng = np.random.default_rng(123)"
   ]
  },
  {
   "cell_type": "markdown",
   "id": "ec7dc23b",
   "metadata": {},
   "source": [
    "# 1. Logistic hypotheticals\n",
    "\n",
    "Make up a situation in which you might have data like:\n",
    "$$ Y_i \\sim \\text{Binomial}\\left(1, \\frac{1}{1 + e^{-a + b X_i}} \\right) . $$\n",
    "(In other words, $Y_i = 0$ or 1 with logistic probabilities.)\n",
    "\n",
    "*(a)* Describe the situation in words, including choosing values for $a$ and $b$.\n",
    "    Make a plot of $ \\frac{1}{1 + e^{-a + b x}}$ against $x$.\n",
    "    \n",
    "*(b)* Simulate 1000 observations from this model (with values for $X$ drawn from some reasonable distribution).\n",
    "\n",
    "*(c)* Fit a logistic linear model to your simulated data.\n",
    "    Identify the estimates of $a$ and $b$ (they should be close to the real values!)."
   ]
  },
  {
   "cell_type": "markdown",
   "id": "2af9c508",
   "metadata": {},
   "source": [
    "# 2. A new whale\n",
    "\n",
    "In the file [data/whales.csv](data/whales.csv)\n",
    "(direct link: [github](https://github.com/UOdsci/dsci345/raw/main/class_material/homeworks/data/whales.csv))\n",
    "are the (average) body mass (in kg) and length (in m) of 43 modern cetacean species, from [this dataset](http://esapubs.org/archive/ecol/E090/184/metadata.htm).\n",
    "Suppose that someone has found fossils of a new species of whale\n",
    "that is about 8m long,\n",
    "and they'd like to estimate how much it weighed,\n",
    "based on the length-weight relationship of modern species.\n",
    "\n",
    "*(a)* Read in the data and make a plot of mass against length.\n",
    "    Also make a plot of log(mass) against log(length).\n",
    "\n",
    "*(b)* Fit a linear model to predict log(mass) with log(length),\n",
    "    i.e., find $a$ and $b$ so that\n",
    "    $$ \\log(\\text{mass}) \\approx a + b \\log(\\text{length}) , $$\n",
    "    and add the resulting best-fit line to the plot of log(mass) against log(length).\n",
    "\n",
    "*(c)* The predicted mass of a whale of length $\\ell$ is $e^{a + b \\log(\\ell)}$.\n",
    "    Add *this* line to the original plot of mass against length.\n",
    "\n",
    "*(d)* What is the predicted weight of the 8m long whale?\n",
    "    How far off do you estimate this prediction to be?\n",
    "    (You can get the margin of error either by looking at the plot\n",
    "    or computing the standard deviations of the residuals on a log scale, and transforming.)"
   ]
  }
 ],
 "metadata": {
  "celltoolbar": "Tags",
  "kernelspec": {
   "display_name": "Python 3 (ipykernel)",
   "language": "python",
   "name": "python3"
  },
  "language_info": {
   "codemirror_mode": {
    "name": "ipython",
    "version": 3
   },
   "file_extension": ".py",
   "mimetype": "text/x-python",
   "name": "python",
   "nbconvert_exporter": "python",
   "pygments_lexer": "ipython3",
   "version": "3.11.2"
  }
 },
 "nbformat": 4,
 "nbformat_minor": 5
}
