{
 "cells": [
  {
   "cell_type": "markdown",
   "id": "59742dcb",
   "metadata": {},
   "source": [
    "# Homework 5: Hypotheses, and hypotheticals.\n",
    "\n",
    "*Instructions:*\n",
    "Please answer the following questions and submit your work\n",
    "by editing this jupyter notebook and submitting it on Canvas.\n",
    "Questions may involve math, programming, or neither,\n",
    "but you should make sure to *explain your work*:\n",
    "i.e., you should usually have a cell with at least a few sentences\n",
    "explaining what you are doing.\n",
    "\n",
    "Also, please be sure to always specify units of any quantities that have units,\n",
    "and label axes of plots (again, with units when appropriate)."
   ]
  },
  {
   "cell_type": "code",
   "execution_count": 1,
   "id": "03fe74bf",
   "metadata": {},
   "outputs": [],
   "source": [
    "import numpy as np\n",
    "import matplotlib.pyplot as plt\n",
    "rng = np.random.default_rng()"
   ]
  },
  {
   "cell_type": "markdown",
   "id": "94532650-44a1-4ad0-a16b-d1437de52c91",
   "metadata": {
    "editable": true,
    "slideshow": {
     "slide_type": ""
    },
    "tags": []
   },
   "source": [
    "# 1. Rain\n",
    "\n",
    "Is it rainier in Eugene or Springfield?\n",
    "In `data/eug_spr_rain.csv` you'll find data on daily rainfall, in inches,\n",
    "at NOAA weather stations in Eugene on Queens East Street\n",
    "and on Dixie Drive in Springfield.\n",
    "You can read in the data as follows:"
   ]
  },
  {
   "cell_type": "code",
   "execution_count": 2,
   "id": "4feab159-2764-4f51-831b-71ead85be9eb",
   "metadata": {},
   "outputs": [],
   "source": [
    "import pandas as pd\n",
    "rain = pd.read_csv(\"data/eug_spr_rain.csv\").set_index(\"date\")"
   ]
  },
  {
   "cell_type": "markdown",
   "id": "5f9b15e0-2baf-40bd-a613-b3806695b2f3",
   "metadata": {
    "editable": true,
    "slideshow": {
     "slide_type": ""
    },
    "tags": []
   },
   "source": [
    "**(a)** Look at the data: make histograms of the daily totals in each location,\n",
    "and a scatter plot of the two locations against each other.\n",
    "\n",
    "**(b)** Compute the daily difference (Eugene minus Springfield) in rainfall,\n",
    "    and make a histogram of that.\n",
    "\n",
    "**(c)** On what proportion of the days did it rain more in Eugene than Springfield?\n",
    "How about more in Springfield than in Eugene?\n",
    "\n",
    "**(d)** Compute the $t$ statistic for the Eugene minus Springfield difference,\n",
    "    and get a $p$-value for the two-sided test\n",
    "    (i.e., the probability that the $t$ distribution is larger\n",
    "    in absolute value than the number you calculated).\n",
    "\n",
    "**(e)** What is your conclusion? Write a few sentences reporting the results,\n",
    "including the statistical tests and real-world interpretations.\n",
    "Be sure to include takeaways and context (e.g., what was the average rainfall?)."
   ]
  },
  {
   "cell_type": "markdown",
   "id": "86f880fd",
   "metadata": {
    "editable": true,
    "slideshow": {
     "slide_type": ""
    },
    "tags": []
   },
   "source": [
    "# 2. Imaginary data\n",
    "\n",
    "Make up a situation in which we'd have measured at least 3 quantitative variables\n",
    "in at least 500 observations.\n",
    "You should have some positively correlated pairs of variables and some negatively correlated pairs.\n",
    "It does not have to be realistic or serious.\n",
    "\n",
    "*(a)* Describe it in words.\n",
    "\n",
    "*(b)* Simulate some data that looks at least roughly like what you'd expect\n",
    "    real data to look like.\n",
    "    \n",
    "*(c)* Make plots of the data: histograms of each variable,\n",
    "    and scatter plots of each pair of variables.\n",
    "\n",
    "*(d)* Compute the correlations between each of your simulated variables\n",
    "    (with `np.corrcoef( )`)\n",
    "    and explain why correlations are positive or negative.\n",
    "\n",
    "*Note*: By \"looks at least roughly like you'd expect\",\n",
    "I mean that variables should be in *real units* and not totally unreasonable values.\n",
    "So, counts should be actually integers,\n",
    "weights should not be negative numbers,\n",
    "etcetera.\n",
    "For instance, if one of your variable is \"number of pieces of candy obtained by a trick-or-treater\",\n",
    "then these should be nonnegative integers,\n",
    "and should not be in the millions.\n",
    "(If it's in the thousands, that's probably not realistic, but close enough.)"
   ]
  }
 ],
 "metadata": {
  "celltoolbar": "Tags",
  "kernelspec": {
   "display_name": "Python 3 (ipykernel)",
   "language": "python",
   "name": "python3"
  },
  "language_info": {
   "codemirror_mode": {
    "name": "ipython",
    "version": 3
   },
   "file_extension": ".py",
   "mimetype": "text/x-python",
   "name": "python",
   "nbconvert_exporter": "python",
   "pygments_lexer": "ipython3",
   "version": "3.11.8"
  }
 },
 "nbformat": 4,
 "nbformat_minor": 5
}
