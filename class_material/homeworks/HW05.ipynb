{
 "cells": [
  {
   "cell_type": "markdown",
   "id": "59742dcb",
   "metadata": {},
   "source": [
    "# Homework 4: Statistics!\n",
    "\n",
    "*Instructions:*\n",
    "Please answer the following questions and submit your work\n",
    "by editing this jupyter notebook and submitting it on Canvas.\n",
    "Questions may involve math, programming, or neither,\n",
    "but you should make sure to *explain your work*:\n",
    "i.e., you should usually have a cell with at least a few sentences\n",
    "explaining what you are doing.\n",
    "\n",
    "Also, please be sure to always specify units of any quantities that have units,\n",
    "and label axes of plots (again, with units when appropriate)."
   ]
  },
  {
   "cell_type": "code",
   "execution_count": 1,
   "id": "03fe74bf",
   "metadata": {},
   "outputs": [],
   "source": [
    "import numpy as np\n",
    "import matplotlib.pyplot as plt\n",
    "rng = np.random.default_rng()"
   ]
  },
  {
   "cell_type": "markdown",
   "id": "be7cfa7e",
   "metadata": {},
   "source": [
    "# 1. Statistics statistics\n",
    "\n",
    "We have given 25 statistics students\n",
    "a standardized test on statistics concepts\n",
    "both before and after taking a statistics class.\n",
    "Across the class, the mean improvement was 32 points (out of 100),\n",
    "with an SD of 30 points.\n",
    "Assuming that the $t$ test is appropriate,\n",
    "what can we conclude from this study?\n",
    "Please interpret the results, including degree of uncertainty.\n",
    "*(Your results should include a $p$-value and a confidence interval, appropriately interpreted in words.)*"
   ]
  },
  {
   "cell_type": "markdown",
   "id": "b4c11bdb",
   "metadata": {},
   "source": [
    "# 2. Student's tea distribution\n",
    "\n",
    "We are intending to do a study of how baked goods affect liquid intake:\n",
    "we plan to give 100 students a cup of tea along with either crumpets or fruit,\n",
    "and measure how many ounces of tea each student drinks in 5 minutes.\n",
    "Based on trial runs, we expect the amount of tea drunk per student\n",
    "has a SD of 3 oz.\n",
    "50 students each are assigned randomly to the \"crumpet\" and \"fruit\" groups.\n",
    "You'll do a *power analysis*,\n",
    "finding out the probability that a study correctly identifies a difference of a certain size\n",
    "in mean amounts of tea drunk between the two groups.\n",
    "\n",
    "*(a)* Write a function that produces a simulation of the study.\n",
    "    The function should have two arguments: `mean_crumpet` and `mean_fruit`,\n",
    "    which are the mean amount of tea drunk per student in the two groups, respectively.\n",
    "    Assume that the number of ounces of tea drunk by a student is\n",
    "    $$ \\min(8, \\max(0, X)), $$\n",
    "    where $X \\sim \\text{Normal}(\\text{mean}=\\mu, \\text{sd}=3)$.\n",
    "    (In other words, draw the number of ounces from a Normal distribution,\n",
    "    but truncate it to fall between 0 and 8 ounces.)\n",
    "    The function should return something of the form `((mc, sdc), (mf, sdf))`,\n",
    "    where `mc` and `sdc` are sample mean and sample SD of the \"crumpet\" group, respectively,\n",
    "    and `mf` and `sdf` are sample mean and sample SD of the \"fruit\" group.\n",
    "\n",
    "*(b)* The *two-sample $t$ statistic* for a pair of samples $x$ and $y$, each of size $n$, is\n",
    "    $$ t = \\frac{ \\bar x - \\bar y }{ \\sqrt{s_x^2 + s_y^2} / \\sqrt{n} }, $$\n",
    "    where $\\bar x$ and $s_x$ are the sample mean and sample SD of the first sample,\n",
    "    and $\\bar y$ and $s_y$ are the same for the second sample.\n",
    "    Plot a histogram of the distribution of $t$ statistics from at least 1,000 simulated studies\n",
    "    in which both groups have mean 4 oz.\n",
    "\n",
    "*(c)* Find the *critical value* of the distribution from (b),\n",
    "    i.e., the value $t^*$ such that $\\mathbb{P}\\{ |t| < t^* \\} = 0.95$\n",
    "    under the assumptions from part (b).\n",
    "    (Do this by calculating the value from a $t$ distribution with $2n-2$ degrees of freedom, not by simulation.)\n",
    "    What proportion of the $t$ statistics from (b) are larger (in absolute value) than $t^*$?\n",
    "\n",
    "*(d)* Suppose in reality the 'crumpet' group drinks an average of 5oz of tea,\n",
    "    while the 'fruit' group drinks an average of 3oz.\n",
    "    Now, plot a histogram of the distribution of $t$ statistics in this case,\n",
    "    overlaid on the histogram from (b).\n",
    " \n",
    "*(e)* Find the probability that a dataset produced from the model of part (d)\n",
    "    finds a $t$ statistic larger in absolute value than $t^*$,\n",
    "    either by calculation or by simulation."
   ]
  },
  {
   "cell_type": "markdown",
   "id": "dc2a9ddd",
   "metadata": {},
   "source": [
    "# 3. Imaginary data\n",
    "\n",
    "Make up a situation in which we'd have measured at least 3 quantitative variables in at least 500 observations. The variables should be related to each other in some way. It does not have to be realistic or serious.\n",
    "\n",
    "(a) Describe it in words.\n",
    "\n",
    "(b) Simulate some data that looks at least roughly like what you'd expect real data to look like.\n",
    "\n",
    "(c) Make plots of the data: histograms of each variable, and scatter plots of each pair of variables.\n",
    "\n",
    "Note: By \"looks at least roughly like you'd expect\", I mean that variables should be in real units and not totally unreasonable values. So, counts should be actually integers, weights should not be negative numbers, etcetera. For instance, if one of your variable is \"number of dishes in my sink\", then these numbers should be nonnegative integers, and should not be in the thousands."
   ]
  }
 ],
 "metadata": {
  "celltoolbar": "Tags",
  "kernelspec": {
   "display_name": "Python 3 (ipykernel)",
   "language": "python",
   "name": "python3"
  },
  "language_info": {
   "codemirror_mode": {
    "name": "ipython",
    "version": 3
   },
   "file_extension": ".py",
   "mimetype": "text/x-python",
   "name": "python",
   "nbconvert_exporter": "python",
   "pygments_lexer": "ipython3",
   "version": "3.11.2"
  }
 },
 "nbformat": 4,
 "nbformat_minor": 5
}
