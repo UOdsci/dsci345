{
 "cells": [
  {
   "cell_type": "markdown",
   "id": "59742dcb",
   "metadata": {},
   "source": [
    "# Homework 8: Generalizations of linear models.\n",
    "\n",
    "*Instructions:*\n",
    "Please answer the following questions and submit your work\n",
    "by editing this jupyter notebook and submitting it on Canvas.\n",
    "Questions may involve math, programming, or neither,\n",
    "but you should make sure to *explain your work*:\n",
    "i.e., you should usually have a cell with at least a few sentences\n",
    "explaining what you are doing.\n",
    "\n",
    "Also, please be sure to always specify units of any quantities that have units,\n",
    "and label axes of plots (again, with units when appropriate)."
   ]
  },
  {
   "cell_type": "code",
   "execution_count": 1,
   "id": "03fe74bf",
   "metadata": {},
   "outputs": [],
   "source": [
    "import numpy as np\n",
    "import matplotlib.pyplot as plt\n",
    "rng = np.random.default_rng(123)"
   ]
  },
  {
   "cell_type": "markdown",
   "id": "ba60ba0f",
   "metadata": {},
   "source": [
    "# 1. Logistic exposure\n",
    "\n",
    "Suppose that the probability that someone comes down with the flu\n",
    "depends on two things:\n",
    "- the amount of exposure to others with an active case of the flu\n",
    "    (measured in units of person-minutes), and\n",
    "- how well their antibodies attach to the flu circulating that year\n",
    "    (measured in units of \"binding antibody units\" (BAU) per mL).\n",
    "\n",
    "**(a)** Suppose that the probability that someone with total exposure $E$ person-minutes\n",
    "    and antibody binding $B$ BAU/mL is\n",
    "    $$  p(E, B) = \\frac{1}{1 + e^{-(a E + b B + c)}}, $$\n",
    "    with $a=1/100$, $b=-1/300$, and $c=-3$.\n",
    "    Write a function that, given arrays of the same length of $E$ and $B$ values,\n",
    "    returns (i.e., simulates) an array of 0's and 1's, one for each $E, B$ pair,\n",
    "    so that the $i^\\text{th}$ entry is 1 with probability $p(E_i, B_i)$.\n",
    "    (A \"1\" in the $i^\\text{th}$ entry will indicate that the $i^\\text{th}$ person caught the flu.)\n",
    "    \n",
    "**(b)** Create one simulated dataset using your function with the following values of $E$ and $B$:"
   ]
  },
  {
   "cell_type": "code",
   "execution_count": 2,
   "id": "80186594",
   "metadata": {},
   "outputs": [],
   "source": [
    "E = np.array([136, 537, 447, 176, 218, 283, 513, 466, 603, 219,  44, 606, 410,\n",
    "        536, 336, 212, 521, 211, 433, 464, 404, 575, 171, 257, 843, 272,\n",
    "        271, 196, 149, 304, 187, 218,  94, 345, 318, 234, 455, 653, 193,\n",
    "        288, 178, 635, 174, 135, 342, 523, 353, 544, 220, 426, 191, 221,\n",
    "        223, 230, 432, 563, 210, 174, 223, 176, 417, 227, 310, 321, 310,\n",
    "        220, 571, 658, 279, 518, 235, 328, 175, 464, 612, 242, 185, 352,\n",
    "        212, 335, 276, 234, 249, 421, 358, 300, 167, 209, 492, 584, 765,\n",
    "        277, 162, 156, 217, 599, 399, 144, 292, 125])\n",
    "B = np.array([ 330,  581, 1381, 2013, 1144, 1571, 1151, 1293,  983, 1101,  279,\n",
    "         714, 1880,  676,  464, 1514,  117,  584, 1015,  420,  202, 1605,\n",
    "        1540,  989,  962, 1407, 1333,  675,  300,  379,  711,  925, 1219,\n",
    "         490,  702, 1086,  950, 1126,  263,  713, 1343,  309,  630, 1074,\n",
    "        1305, 1468,  970, 1422,  754,  508,  872, 1137, 1648, 1217, 1731,\n",
    "        1077, 1353,  742,  331, 1263,  962, 1116,  248,  971, 1929,  261,\n",
    "        1367,  779, 1814,  295,  594,  421,  671, 1408, 1076, 1613, 2142,\n",
    "        1127,  596,  813,  497, 1219, 2021, 1546,  558,  884,  307,  778,\n",
    "         378, 1473,  386, 1162,  365,  387, 2805, 1058, 1367, 1822, 1194,\n",
    "        1307])"
   ]
  },
  {
   "cell_type": "markdown",
   "id": "81be1c0d",
   "metadata": {},
   "source": [
    "**(c)** Fit a logistic model to the data,\n",
    "    inferring the values of $a$, $b$ and $c$.\n",
    "    Make a plot showing the predicted chance of getting the flu\n",
    "    using these estimated paramters\n",
    "    as a function of exposure, both at $B=200$ and $B=2000$.\n",
    "    Compare these curves to the true curves obtained with the parameters used to simulate the data.\n",
    "    *(You can fit the model with `scikit-learn.linear_model.LogisticRegression`, as we did in class,\n",
    "    or by implementing the likelihood.)*"
   ]
  }
 ],
 "metadata": {
  "celltoolbar": "Tags",
  "kernelspec": {
   "display_name": "Python 3 (ipykernel)",
   "language": "python",
   "name": "python3"
  },
  "language_info": {
   "codemirror_mode": {
    "name": "ipython",
    "version": 3
   },
   "file_extension": ".py",
   "mimetype": "text/x-python",
   "name": "python",
   "nbconvert_exporter": "python",
   "pygments_lexer": "ipython3",
   "version": "3.11.8"
  }
 },
 "nbformat": 4,
 "nbformat_minor": 5
}
