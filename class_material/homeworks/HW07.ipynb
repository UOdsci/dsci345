{
 "cells": [
  {
   "cell_type": "markdown",
   "id": "59742dcb",
   "metadata": {
    "editable": true,
    "slideshow": {
     "slide_type": ""
    },
    "tags": []
   },
   "source": [
    "# Homework 7: Linear models.\n",
    "\n",
    "*Instructions:*\n",
    "Please answer the following questions and submit your work\n",
    "by editing this jupyter notebook and submitting it on Canvas.\n",
    "Questions may involve math, programming, or neither,\n",
    "but you should make sure to *explain your work*:\n",
    "i.e., you should usually have a cell with at least a few sentences\n",
    "explaining what you are doing.\n",
    "\n",
    "Also, please be sure to always specify units of any quantities that have units,\n",
    "and label axes of plots (again, with units when appropriate)."
   ]
  },
  {
   "cell_type": "code",
   "execution_count": 2,
   "id": "03fe74bf",
   "metadata": {
    "editable": true,
    "slideshow": {
     "slide_type": ""
    },
    "tags": []
   },
   "outputs": [],
   "source": [
    "import numpy as np\n",
    "import matplotlib.pyplot as plt\n",
    "rng = np.random.default_rng(123)"
   ]
  },
  {
   "cell_type": "markdown",
   "id": "d9aaa1a3-3b5d-4568-b7f0-dbc62a17966f",
   "metadata": {
    "editable": true,
    "slideshow": {
     "slide_type": ""
    },
    "tags": []
   },
   "source": [
    "# 1. All models are wrong\n",
    "\n",
    "Suppose that you have data that has *heteroskedasticity*:\n",
    "the standard deviation is not constant:\n",
    "$$\\begin{aligned}\n",
    "    X_I &\\sim \\text{Poisson}(\\text{mean}=2) \\\\\n",
    "    Y_i &\\sim \\text{Normal}(\\text{mean}= a X_i + b, \\text{sd}=a X_i / 4) .\n",
    "\\end{aligned}$$\n",
    "Because of the heteroskedasticity, this does not satisfy the usual assumptions of a linear model.\n",
    "However, you'd like to use the standard (least squares) linear model to analyze the data;\n",
    "how well does this work in practice? To answer this question\n",
    "\n",
    "*(a)* Write a function that simulates a dataset from the model above.\n",
    "The sample size, $n$, should be an argument to the function,\n",
    "as well as $a$ and $b$.\n",
    "\n",
    "*(b)* Simulate one data set with $n=100$, $a=5$, and $b=1$,\n",
    "and fit a (standard, least squares) linear model to the data.\n",
    "You can use either the formula from class or scikit-learn.\n",
    "Plot or otherwise depict the data and predicted values from the model\n",
    "(e.g., the line on top of the scatter).\n",
    "\n",
    "*(c)* Do the same thing as in (b) for at least 100 additional simulated datasets,\n",
    "then report across these datasets how well the values of $a$ and $b$ were estimated\n",
    "(i.e., how close the estimates were to the true values of $a=5$ and $b=1$).\n",
    "Summarize the results."
   ]
  },
  {
   "cell_type": "markdown",
   "id": "958de09b",
   "metadata": {
    "editable": true,
    "slideshow": {
     "slide_type": ""
    },
    "tags": []
   },
   "source": [
    "# 2. Eyecatchers\n",
    "\n",
    "Colleagues in web design have proposed adding dynamic eyecatchers to your web page:\n",
    "specifically, animated ducks that dance across the screen.\n",
    "You're skeptical that this is a good idea, but run a small study:\n",
    "sixty-five randomly chosen visitors get shown a random number of ducks,\n",
    "and you record how many seconds the visitors stay on the page.\n",
    "Here are the data:"
   ]
  },
  {
   "cell_type": "code",
   "execution_count": 33,
   "id": "675b75ec",
   "metadata": {
    "editable": true,
    "slideshow": {
     "slide_type": ""
    },
    "tags": []
   },
   "outputs": [],
   "source": [
    "num_ducks = np.array([0, 0, 0, 0, 0, 0, 0, 0, 0, 0, 0, 0, 0, 0, 0, 1, 1, 1, 1, 1, 1, 1,\n",
    "       1, 1, 1, 1, 1, 1, 1, 2, 2, 2, 2, 2, 2, 2, 2, 2, 2, 2, 2, 2, 3, 3,\n",
    "       3, 3, 3, 3, 3, 3, 3, 3, 3, 3, 4, 4, 4, 4, 4, 4, 4, 4, 4, 4, 4])\n",
    "num_seconds = np.array([22.5, 10.1, 31.2, 29.4, 26.9, 39.2, 17.1, 17.1, 34. , 11.4,  0.3,\n",
    "        9.2, 17.9, 16.6, 11.6, 34.6, 14.3, 29.2, 11.2, 26. , 25. , 12.6,\n",
    "       19.6,  6.8, 14.7, 12.2,  2.1, 14. , 12.3, 15.8, 16.9, 10.3,  6.3,\n",
    "        9.8,  0. , 11.3,  7.4,  7.2,  5.7,  4.9,  3.4,  7.4,  2.9,  4.3,\n",
    "        6.3,  5.5,  7.2, 10.7,  6.5,  9. ,  1. ,  1. ,  1. ,  1. ,  1. ,\n",
    "        1. ,  1. ,  1. ,  1. ,  1. ,  1. ,  1. ,  1. ,  1. ,  1. ])"
   ]
  },
  {
   "cell_type": "markdown",
   "id": "42000a28",
   "metadata": {
    "editable": true,
    "slideshow": {
     "slide_type": ""
    },
    "tags": []
   },
   "source": [
    "*(a)* Fit a linear model to these data\n",
    "    to predict how the average amount of time spent on the site\n",
    "    depends on the number of seconds.\n",
    "    You may use either of the methods shown in class:\n",
    "    scikit-learn or direct use of the formula.\n",
    " \n",
    "*(b)* Plot or otherwise display the data and the relationship predicted by the model.\n",
    "\n",
    "*(c)* What are your recommendations, based on this result?\n",
    "    Be sure to give the basis for your recommendation,\n",
    "    including the type of model and the result."
   ]
  },
  {
   "cell_type": "markdown",
   "id": "79581cfb",
   "metadata": {
    "editable": true,
    "slideshow": {
     "slide_type": ""
    },
    "tags": []
   },
   "source": [
    "# 3. More mosquitos\n",
    "\n",
    "My kid's class all went camping,\n",
    "and came home with mosquito bites.\n",
    "Thanks to a post-trip poll,\n",
    "we know how many mosquito bites\n",
    "each of the 27 kids had.\n",
    "Here are the numbers:"
   ]
  },
  {
   "cell_type": "code",
   "execution_count": 6,
   "id": "808bc536",
   "metadata": {},
   "outputs": [],
   "source": [
    "bites = np.array([4, 5, 4, 2, 4, 8, 4, 6, 7, 5, 4, 0, 5, 7, 5, 3, 2, 0, 3, 4, 5, 3, 6, 1, 2, 3, 5])"
   ]
  },
  {
   "cell_type": "markdown",
   "id": "b671ef62",
   "metadata": {
    "editable": true,
    "slideshow": {
     "slide_type": ""
    },
    "tags": []
   },
   "source": [
    "Furthermore, a parent has measured the concentration\n",
    "of some volatile organics in each kids' breath.\n",
    "Here are the concentrations for the 27 kids (in the same order as `bites`, above),\n",
    "in units of parts per million (ppm):"
   ]
  },
  {
   "cell_type": "code",
   "execution_count": 7,
   "id": "e2380b77",
   "metadata": {},
   "outputs": [],
   "source": [
    "odor = np.array([ 2.8,  4.4,  6.9,  2.3,  5.9, 10.2,  3.2,  7.6,  6.3,  4.5,  4.3,\n",
    "                0. ,  8.2,  5.4,  7.6,  3.3,  3.9,  0.1,  2.7,  4.7,  2.1,  4.3,\n",
    "               11.3,  1.7,  2.8,  2.9,  8.5])"
   ]
  },
  {
   "cell_type": "markdown",
   "id": "52edf3f3",
   "metadata": {
    "editable": true,
    "slideshow": {
     "slide_type": ""
    },
    "tags": []
   },
   "source": [
    "Our goal is to determine how odor affects the number of bites.\n",
    "To do this, we'll fit a *Poisson* model:\n",
    "if $Y_i$ is the number of bites the $i^\\text{th}$ kid got,\n",
    "and $X_i$ is their \"odor\" value, then we want to fit:\n",
    "$$\\begin{aligned}\n",
    "    Y_i \\sim \\text{Poisson}(\\text{mean}= \\exp(a X_i + b)) ,\n",
    "\\end{aligned}$$\n",
    "i.e., find the values of $a$ and $b$ at which this model\n",
    "best fits the data.\n",
    "To do this:\n",
    "\n",
    "*(a)* Write down (in math) the negative log-likelihood function:\n",
    "    this should take $a$ and $b$ as arguments,\n",
    "    and return the negative log likelihood of the data (i.e., of `bites` and `odor`)\n",
    "    under the model above.\n",
    "\n",
    "*(b)* Use your function from (a) and `scipy.optimize.minimize` to find\n",
    "    the maximum likelihood estimates of $a$ and $b$.\n",
    "\n",
    "*(c)* Showing how expected number of bites (using the MLE values of $a$ and $b$ from (b))\n",
    "    increases with odor and how this compares to the observed number of bites\n",
    "    (for instance, by plot of the data with a line for the expected number).\n",
    "\n",
    "*Note:* we will cover this sort of model more next week,\n",
    "but *you already know how to do this* - it's just doing maximum likelihood\n",
    "to fit a model with two parameters."
   ]
  }
 ],
 "metadata": {
  "celltoolbar": "Tags",
  "kernelspec": {
   "display_name": "Python 3 (ipykernel)",
   "language": "python",
   "name": "python3"
  },
  "language_info": {
   "codemirror_mode": {
    "name": "ipython",
    "version": 3
   },
   "file_extension": ".py",
   "mimetype": "text/x-python",
   "name": "python",
   "nbconvert_exporter": "python",
   "pygments_lexer": "ipython3",
   "version": "3.12.9"
  }
 },
 "nbformat": 4,
 "nbformat_minor": 5
}
