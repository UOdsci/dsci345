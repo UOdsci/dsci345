{
 "cells": [
  {
   "cell_type": "markdown",
   "id": "59742dcb",
   "metadata": {},
   "source": [
    "# Homework 7: Linear models.\n",
    "\n",
    "*Instructions:*\n",
    "Please answer the following questions and submit your work\n",
    "by editing this jupyter notebook and submitting it on Canvas.\n",
    "Questions may involve math, programming, or neither,\n",
    "but you should make sure to *explain your work*:\n",
    "i.e., you should usually have a cell with at least a few sentences\n",
    "explaining what you are doing.\n",
    "\n",
    "Also, please be sure to always specify units of any quantities that have units,\n",
    "and label axes of plots (again, with units when appropriate)."
   ]
  },
  {
   "cell_type": "code",
   "execution_count": 1,
   "id": "03fe74bf",
   "metadata": {},
   "outputs": [],
   "source": [
    "import numpy as np\n",
    "import matplotlib.pyplot as plt\n",
    "rng = np.random.default_rng(123)"
   ]
  },
  {
   "cell_type": "markdown",
   "id": "5080711f",
   "metadata": {},
   "source": [
    "# 1. Correlation correlation\n",
    "\n",
    "If $X$ and $Z$ are independent, random Normal with mean 0 and standard deviation 1, \n",
    "and\n",
    "$$\\begin{aligned}\n",
    "    Y = rX + \\sqrt{1 - r^2} Z\n",
    "\\end{aligned}$$\n",
    "then\n",
    "$$ \\text{cor}[X, Y] = r . $$\n",
    "\n",
    "*(a)* Show that this is true, using math.\n",
    "\n",
    "*(b)* For each of 16 values of $r$ evenly spaced between -1 and 1,\n",
    "simulate 100 draws from a bivariate distribution with correlation $r$.\n",
    "(You should get, for each $r$, 100 pairs $(x_i, y_i)$.)\n",
    "Use these to make a plot like the following (but with four rows and columns),\n",
    "with one scatter plot for each simulation, having the minimum-MSE line superimposed,\n",
    "and both the theoretical and observed correlation in the title.\n",
    "<img src=\"images/ex_scatter.png\" alt=\"image of example plots\" style=\"width: 400px;\"/>\n"
   ]
  },
  {
   "cell_type": "markdown",
   "id": "958de09b",
   "metadata": {},
   "source": [
    "# 2. I want candy!\n",
    "\n",
    "Researchers are planning a study on the effect of children on consumer behavior.\n",
    "In the study, they plan to will record the purchases made by each participants\n",
    "in a month of shopping,\n",
    "and are interested in how the amount spent on candy and other sweets\n",
    "is correlated with the number of children who come along on shopping trips. \n",
    "They have enrolled 65 parents in the study,\n",
    "with the following numbers of accompanying children:"
   ]
  },
  {
   "cell_type": "code",
   "execution_count": 3,
   "id": "675b75ec",
   "metadata": {},
   "outputs": [],
   "source": [
    "num_children = np.array([0, 0, 0, 0, 0, 0, 0, 0, 0, 0, 0, 0, 0, 0, 0, 1, 1, 1, 1, 1, 1, 1,\n",
    "       1, 1, 1, 1, 1, 1, 1, 2, 2, 2, 2, 2, 2, 2, 2, 2, 2, 2, 2, 2, 3, 3,\n",
    "       3, 3, 3, 3, 3, 3, 3, 3, 3, 3, 4, 4, 4, 4, 4, 4, 4, 4, 4, 4, 4])"
   ]
  },
  {
   "cell_type": "markdown",
   "id": "42000a28",
   "metadata": {},
   "source": [
    "(Some are zero, for instance, if they *have* children\n",
    "but none come along when shopping.)\n",
    "\n",
    "However, they are worried that this small sample size will\n",
    "not allow them to reliably estimate the effect of interest.\n",
    "Your task is to assess this question, by simulation:\n",
    "\n",
    "*(a)* Write a function that simulates the amount of sweets purchased\n",
    "    from the following model, where $D_i$ is the amount of sweets (in dollars)\n",
    "    and $C_i$ is the number of children of the $i^\\text{th}$ parent:\n",
    "    $$\\begin{aligned}\n",
    "        X_i &\\sim \\text{Normal}(\\text{mean}= 1 + 5 C_i, \\text{sd}=3 C_i) \\\\\n",
    "        D_i &= \\max(0, X_i) .\n",
    "    \\end{aligned}$$\n",
    "\n",
    "*(b)* Simulate one data set, and fit a linear model to these data\n",
    "    to predict how the average amount spent on sweets\n",
    "    depends on the number of children.\n",
    "    You should fit a standard (\"least squares\") linear model,\n",
    "    using either of the methods shown in class:\n",
    "    scikit-learn or direct use of the formula.\n",
    "    Plot the data with the estimated line on top.\n",
    "    *(Note: since the SD of $X$ depends on $C$, the standard linear model\n",
    "    is not the optimal method; our job here is to see how well it does in practice.)*\n",
    " \n",
    "*(c)* Your result in (b) should have given you estimates of the average amount\n",
    "    spent with no children (the intercept), and \n",
    "    that the amount increases by, per additional child (the slope).\n",
    "    Do the same thing for at least 100 simulated datasets,\n",
    "    and make histograms of the resulting estimated slopes and intercepts.\n",
    "    How well are these estimated?"
   ]
  },
  {
   "cell_type": "markdown",
   "id": "79581cfb",
   "metadata": {},
   "source": [
    "# 3. More mosquitos\n",
    "\n",
    "Recall the mosquito bite data from HW4:\n",
    "here are the numbers of mosquito bites that 27 kids\n",
    "got on a camping trip:"
   ]
  },
  {
   "cell_type": "code",
   "execution_count": 7,
   "id": "808bc536",
   "metadata": {},
   "outputs": [],
   "source": [
    "bites = np.array([4, 5, 4, 2, 4, 8, 4, 6, 7, 5, 4, 0, 5, 7, 5, 3, 2, 0, 3, 4, 5, 3, 6, 1, 2, 3, 5])"
   ]
  },
  {
   "cell_type": "markdown",
   "id": "b671ef62",
   "metadata": {},
   "source": [
    "Now, we have more data: a parent has measured the concentration\n",
    "of some volatile organics in each kids' breath.\n",
    "Here are the concentrations for the 27 kids (in the same order as `bites`, above),\n",
    "in units of parts per million (ppm):"
   ]
  },
  {
   "cell_type": "code",
   "execution_count": 8,
   "id": "e2380b77",
   "metadata": {},
   "outputs": [],
   "source": [
    "odor = np.array([ 2.8,  4.4,  6.9,  2.3,  5.9, 10.2,  3.2,  7.6,  6.3,  4.5,  4.3,\n",
    "                0. ,  8.2,  5.4,  7.6,  3.3,  3.9,  0.1,  2.7,  4.7,  2.1,  4.3,\n",
    "               11.3,  1.7,  2.8,  2.9,  8.5])"
   ]
  },
  {
   "cell_type": "markdown",
   "id": "52edf3f3",
   "metadata": {},
   "source": [
    "Our goal is to determine how odor affects the number of bites.\n",
    "To do this, we'll fit a *Poisson* model:\n",
    "if $Y_i$ is the number of bites the $i^\\text{th}$ kid got,\n",
    "and $X_i$ is their \"odor\" value, then we want to fit:\n",
    "$$\\begin{aligned}\n",
    "    Y_i \\sim \\text{Poisson}(\\text{mean}= \\exp(a X_i + b)) ,\n",
    "\\end{aligned}$$\n",
    "i.e., find the values of $a$ and $b$ at which this model\n",
    "best fits the data.\n",
    "To do this:\n",
    "\n",
    "*(a)* Write a likelihood function: this should take $a$ and $b$ as arguments,\n",
    "and return the negative log likelihood of the data (i.e., of `odor` and `bites`)\n",
    "under the model above.\n",
    "\n",
    "*(b)* Use your function from (a) and `scipy.optimize.minimize` to find\n",
    "    the maximum likelihood estimates of $a$ and $b$.\n",
    "\n",
    "*(c)* Plot the data, with number of bites against odor,\n",
    "    and add the line showing how expected number of bites increases with odor."
   ]
  }
 ],
 "metadata": {
  "celltoolbar": "Tags",
  "kernelspec": {
   "display_name": "Python 3 (ipykernel)",
   "language": "python",
   "name": "python3"
  },
  "language_info": {
   "codemirror_mode": {
    "name": "ipython",
    "version": 3
   },
   "file_extension": ".py",
   "mimetype": "text/x-python",
   "name": "python",
   "nbconvert_exporter": "python",
   "pygments_lexer": "ipython3",
   "version": "3.11.8"
  }
 },
 "nbformat": 4,
 "nbformat_minor": 5
}
