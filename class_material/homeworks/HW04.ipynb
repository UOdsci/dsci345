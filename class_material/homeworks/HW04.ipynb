{
 "cells": [
  {
   "cell_type": "markdown",
   "id": "59742dcb",
   "metadata": {
    "editable": true,
    "slideshow": {
     "slide_type": ""
    },
    "tags": []
   },
   "source": [
    "# Homework 4: Statistics!\n",
    "\n",
    "*Instructions:*\n",
    "Please answer the following questions and submit your work\n",
    "by editing this jupyter notebook and submitting it on Canvas.\n",
    "Questions may involve math, programming, or neither,\n",
    "but you should make sure to *explain your work*:\n",
    "i.e., you should usually have a cell with at least a few sentences\n",
    "explaining what you are doing.\n",
    "\n",
    "Also, please be sure to always specify units of any quantities that have units,\n",
    "and label axes of plots (again, with units when appropriate)."
   ]
  },
  {
   "cell_type": "code",
   "execution_count": 12,
   "id": "03fe74bf",
   "metadata": {
    "editable": true,
    "slideshow": {
     "slide_type": ""
    },
    "tags": []
   },
   "outputs": [],
   "source": [
    "import numpy as np\n",
    "import matplotlib.pyplot as plt\n",
    "import scipy.stats\n",
    "rng = np.random.default_rng()"
   ]
  },
  {
   "cell_type": "markdown",
   "id": "859c6392-e41f-4bd6-b570-ac52dd1e0065",
   "metadata": {
    "editable": true,
    "slideshow": {
     "slide_type": ""
    },
    "tags": []
   },
   "source": [
    "# 1. A lot or a little\n",
    "\n",
    "You've recorded the amount of time 20 people spent looking at a particular piece of art in a museum, in seconds.\n",
    "Here are the values:"
   ]
  },
  {
   "cell_type": "code",
   "execution_count": 10,
   "id": "e9773397-2835-428d-8f2f-509268e104ee",
   "metadata": {
    "editable": true,
    "slideshow": {
     "slide_type": ""
    },
    "tags": []
   },
   "outputs": [],
   "source": [
    "art = np.array([  5.,  19., 313.,  45.,   1.,   1.,   3., 377., 597.,  52.,  90.,\n",
    "         0., 779., 107., 471., 131.,  81.,   4.,  57.,   0.])  # seconds"
   ]
  },
  {
   "cell_type": "markdown",
   "id": "f9de7eb5-a682-4ab9-aa0a-2a33cb4dca69",
   "metadata": {
    "editable": true,
    "slideshow": {
     "slide_type": ""
    },
    "tags": []
   },
   "source": [
    "*(a)* Use the method of moments to fit a Gamma distribution to these data.\n",
    "Be sure to simulate from the model you've fit to check you get qualitatively similar data.\n",
    "\n",
    "*(b)* The museum would like to know what proportion of people spend more than 5 minutes looking at this piece of art.\n",
    "Use your model fit in part (a) to provide an estimated answer to this question.\n",
    "Use math, and check the answer by simulation."
   ]
  },
  {
   "cell_type": "markdown",
   "id": "d90cefcb",
   "metadata": {
    "editable": true,
    "slideshow": {
     "slide_type": ""
    },
    "tags": []
   },
   "source": [
    "# 2. Looking at the logs\n",
    "\n",
    "You've been given data on login attempts to a certain server from Russian IP addresses\n",
    "were observed each hour across a day. Here are the numbers:"
   ]
  },
  {
   "cell_type": "code",
   "execution_count": 39,
   "id": "4e2fe221",
   "metadata": {
    "editable": true,
    "slideshow": {
     "slide_type": ""
    },
    "tags": []
   },
   "outputs": [],
   "source": [
    "logins = np.array([7,  5,  5,  7,  5,  3,  4,  5,  6,  8, 7,  8,  4,  4,  7,  7,  4,\n",
    "        4,  4,  6,  8,  4,  4,  6])"
   ]
  },
  {
   "cell_type": "markdown",
   "id": "1e12b1a7",
   "metadata": {
    "editable": true,
    "slideshow": {
     "slide_type": ""
    },
    "tags": []
   },
   "source": [
    "Use maximum likelihood to fit a Poisson distribution to these data.\n",
    "To do this, you should\n",
    "\n",
    "*(a)* evaluate the Poisson likelihood as a function of $\\lambda$, the mean of the Poisson,\n",
    "    across a grid of values between 0 and 10. Make a plot of these values or otherwise display them.\n",
    "\n",
    "*(b)* use an optimization function (like `scipy.optimize.minimize()`)\n",
    "to find the value of $\\lambda$ that maximizes the log-likelihood.\n",
    "    *(note: the `minimize` function works better if you use the log likelihood instead of the likelihood!)*\n",
    "\n",
    "*(c)* compare the data to simulations from the model you've fit.\n",
    "  and comment on how well the model fits\n",
    "  (for instance: are the data over- or under-dispersed relative to Poisson?).\n",
    "\n",
    "*(d)* Under this model, how often do we expect an hour with more than 8 logins?\n",
    "    Answer this question with math, and check it with simulation."
   ]
  },
  {
   "cell_type": "markdown",
   "id": "97cd1565",
   "metadata": {
    "editable": true,
    "slideshow": {
     "slide_type": ""
    },
    "tags": []
   },
   "source": [
    "# 3. Modeling proportions\n",
    "\n",
    "The [Beta distribution](https://en.wikipedia.org/wiki/Beta_distribution)\n",
    "can be used to model *proportions:*\n",
    "it gives random numbers between 0 and 1,\n",
    "and has two parameters: $\\alpha$ and $\\beta$.\n",
    "If $X \\sim \\text{Beta}(\\alpha, \\beta)$ then\n",
    "$$ \\begin{aligned}\n",
    "    \\mathbb{E}[X] &= \\frac{\\alpha}{\\alpha + \\beta} \\\\\n",
    "    \\mathbb{E}[X^2] &= \\frac{\\alpha (\\alpha-1)}{(\\alpha + \\beta)(\\alpha + \\beta - 1)} ,\n",
    "\\end{aligned}$$\n",
    "and\n",
    "$X$ has probability density\n",
    "$$ f_X(u) =\n",
    "\\frac{ u^{\\alpha - 1}(1 - u)^{\\beta - 1} }{ B(\\alpha, \\beta) }.\n",
    "$$\n",
    "This density can be computed (as usual) with `scipy.stats.beta.pdf`,\n",
    "or by hand; in the latter case, $B(\\alpha, \\beta)$ can be computed with `scipy.special.beta`.\n",
    "\n",
    "Suppose we have data from many different tracts of forest\n",
    "of what proportion of the trees have burned,\n",
    "and we'd like to fit a Beta distribution to the data.\n",
    "These proportions are:"
   ]
  },
  {
   "cell_type": "code",
   "execution_count": 8,
   "id": "a577b792",
   "metadata": {
    "editable": true,
    "slideshow": {
     "slide_type": ""
    },
    "tags": []
   },
   "outputs": [],
   "source": [
    "burned = np.array([\n",
    "    0.04, 0.55, 0.91, 0.64, 0.83, 0.62, 0.98, 0.7, 0.36, 0.73, 0.74, 0.28, 0.35, 0.65, 0.85, 0.9, 0.94,\n",
    "    0.11, 0.74, 0.48, 0.62, 0.66, 0.51, 0.79, 0.61, 0.66, 0.75, 0.86, 0.52, 0.84, 0.43, 0.61, 0.99, 0.85, \n",
    "    0.97, 0.46, 0.75, 0.61, 0.95, 0.76, 0.78, 0.89, 0.79, 0.92, 0.83, 0.84, 0.61, 0.52, 0.82, 0.87, 0.9, \n",
    "    0.58, 0.67, 0.42, 0.9, 0.4, 0.95, 0.98, 0.56, 0.94, 0.5, 0.84, 0.58, 0.91, 0.21, 0.54, 0.9, 0.64, 0.48,\n",
    "    0.82, 0.77, 0.63, 0.84, 0.97, 0.77, 0.96, 0.83, 0.9, 0.96, 0.52, 0.24, 0.92, 0.11, 0.96, 0.85, 0.62, \n",
    "    0.96, 0.67, 0.87, 0.78, 0.85, 0.88, 0.88, 0.68, 0.13, 0.9, 0.94, 0.49, 0.74, 0.99\n",
    "])"
   ]
  },
  {
   "cell_type": "markdown",
   "id": "c422d01a",
   "metadata": {
    "editable": true,
    "slideshow": {
     "slide_type": ""
    },
    "tags": []
   },
   "source": [
    "*(a)* Evaluate the likelihood surface for this data on a grid of values\n",
    "    across the range $0.5 \\le \\alpha, \\beta \\le 4$,\n",
    "    and make a plot or otherwise show the resulting likelihoods.\n",
    "\n",
    "*(b)* Estimate the values of $\\alpha$ and $\\beta$ that best fit the data\n",
    "    by maximum likelihood.\n",
    "    (*Note:* `scipy.optimize.minimize()` may have difficulty converging;\n",
    "    if so, try different starting locations.)\n",
    "    \n",
    "*(c)* Using this model, in what proportion of forest tracts\n",
    "    do you estimate less than 20% of the trees have burned?"
   ]
  }
 ],
 "metadata": {
  "celltoolbar": "Tags",
  "kernelspec": {
   "display_name": "Python 3 (ipykernel)",
   "language": "python",
   "name": "python3"
  },
  "language_info": {
   "codemirror_mode": {
    "name": "ipython",
    "version": 3
   },
   "file_extension": ".py",
   "mimetype": "text/x-python",
   "name": "python",
   "nbconvert_exporter": "python",
   "pygments_lexer": "ipython3",
   "version": "3.12.9"
  }
 },
 "nbformat": 4,
 "nbformat_minor": 5
}
