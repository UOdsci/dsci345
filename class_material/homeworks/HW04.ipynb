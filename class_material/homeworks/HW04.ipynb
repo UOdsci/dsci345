{
 "cells": [
  {
   "cell_type": "markdown",
   "id": "59742dcb",
   "metadata": {},
   "source": [
    "# Homework 4: Statistics!\n",
    "\n",
    "*Instructions:*\n",
    "Please answer the following questions and submit your work\n",
    "by editing this jupyter notebook and submitting it on Canvas.\n",
    "Questions may involve math, programming, or neither,\n",
    "but you should make sure to *explain your work*:\n",
    "i.e., you should usually have a cell with at least a few sentences\n",
    "explaining what you are doing.\n",
    "\n",
    "Also, please be sure to always specify units of any quantities that have units,\n",
    "and label axes of plots (again, with units when appropriate)."
   ]
  },
  {
   "cell_type": "code",
   "execution_count": 1,
   "id": "03fe74bf",
   "metadata": {},
   "outputs": [],
   "source": [
    "import numpy as np\n",
    "import matplotlib.pyplot as plt\n",
    "rng = np.random.default_rng()"
   ]
  },
  {
   "cell_type": "markdown",
   "id": "d90cefcb",
   "metadata": {},
   "source": [
    "# 1. Mosquito bites\n",
    "\n",
    "My kid's class all went camping,\n",
    "and came home with mosquito bites.\n",
    "Thanks to a post-trip poll,\n",
    "we know how many mosquito bites\n",
    "each of the 27 kids had.\n",
    "Here are the numbers:"
   ]
  },
  {
   "cell_type": "code",
   "execution_count": 2,
   "id": "4e2fe221",
   "metadata": {},
   "outputs": [],
   "source": [
    "bites = np.array([4, 5, 4, 2, 4, 8, 4, 6, 7, 5, 4, 0, 5, 7, 5, 3, 2, 0, 3, 4, 5, 3, 6, 1, 2, 3, 5])"
   ]
  },
  {
   "cell_type": "markdown",
   "id": "1e12b1a7",
   "metadata": {},
   "source": [
    "Use maximum likelihood to fit a Poisson distribution to these data.\n",
    "To do this, you should\n",
    "\n",
    "*(a)* make a plot of the Poisson likelihood as a function of $\\lambda$, the mean of the Poisson, and\n",
    "\n",
    "*(b)* use an optimization function (like `scipy.optimize.minimize()`)\n",
    "to find the value of $\\lambda$ that maximizes the log-likelihood.\n",
    "    *(note: the `minimize` function works better if you use the log likelihood instead of the likelihood!)*\n",
    "\n",
    "*(c)* check your answer is sensible by comparing the distribution of the data to that expected under\n",
    "    the model you've fit.\n",
    "\n",
    "*(d)* Under this model, what proportion of kids do we expect to have zero mosquito bites?\n",
    "    Answer this question with math, and check it with simulation."
   ]
  },
  {
   "cell_type": "markdown",
   "id": "97cd1565",
   "metadata": {},
   "source": [
    "# 2. Modeling proportions\n",
    "\n",
    "The [Beta distribution](https://en.wikipedia.org/wiki/Beta_distribution)\n",
    "can be used to model *proportions:*\n",
    "it gives random numbers between 0 and 1,\n",
    "and has two parameters: $\\alpha$ and $\\beta$.\n",
    "If $X \\sim \\text{Beta}(\\alpha, \\beta)$ then\n",
    "$$ \\begin{aligned}\n",
    "    \\mathbb{E}[X] &= \\frac{\\alpha}{\\alpha + \\beta} \\\\\n",
    "    \\mathbb{E}[X^2] &= \\frac{\\alpha (\\alpha-1)}{(\\alpha + \\beta)(\\alpha + \\beta - 1)} ,\n",
    "\\end{aligned}$$\n",
    "and\n",
    "$X$ has probability density\n",
    "$$ f_X(u) =\n",
    "\\frac{ u^{\\alpha - 1}(1 - u)^{\\beta - 1} }{ B(\\alpha, \\beta) }.\n",
    "$$\n",
    "This density can be computed (as usual) with `scipy.stats.beta.pdf`,\n",
    "or by hand; in the latter case, $B(\\alpha, \\beta)$ can be computed with `scipy.special.beta`.\n",
    "\n",
    "Suppose we have data from many different tracts of forest\n",
    "of what proportion of the trees have burned,\n",
    "and we'd like to fit a Beta distribution to the data.\n",
    "These proportions are:"
   ]
  },
  {
   "cell_type": "code",
   "execution_count": 8,
   "id": "a577b792",
   "metadata": {},
   "outputs": [],
   "source": [
    "burned = np.array([\n",
    "    0.04, 0.55, 0.91, 0.64, 0.83, 0.62, 0.98, 0.7, 0.36, 0.73, 0.74, 0.28, 0.35, 0.65, 0.85, 0.9, 0.94,\n",
    "    0.11, 0.74, 0.48, 0.62, 0.66, 0.51, 0.79, 0.61, 0.66, 0.75, 0.86, 0.52, 0.84, 0.43, 0.61, 0.99, 0.85, \n",
    "    0.97, 0.46, 0.75, 0.61, 0.95, 0.76, 0.78, 0.89, 0.79, 0.92, 0.83, 0.84, 0.61, 0.52, 0.82, 0.87, 0.9, \n",
    "    0.58, 0.67, 0.42, 0.9, 0.4, 0.95, 0.98, 0.56, 0.94, 0.5, 0.84, 0.58, 0.91, 0.21, 0.54, 0.9, 0.64, 0.48,\n",
    "    0.82, 0.77, 0.63, 0.84, 0.97, 0.77, 0.96, 0.83, 0.9, 0.96, 0.52, 0.24, 0.92, 0.11, 0.96, 0.85, 0.62, \n",
    "    0.96, 0.67, 0.87, 0.78, 0.85, 0.88, 0.88, 0.68, 0.13, 0.9, 0.94, 0.49, 0.74, 0.99\n",
    "])"
   ]
  },
  {
   "cell_type": "markdown",
   "id": "c422d01a",
   "metadata": {},
   "source": [
    "*(a)* Make a plot of the likelihood surface for this data\n",
    "    over the range $0.5 \\le \\alpha, \\beta \\le 4$.\n",
    "\n",
    "*(b)* Estimate the values of $\\alpha$ and $\\beta$ that best fit the data\n",
    "    by maximum likelihood.\n",
    "    \n",
    "*(c)* Using this model, in what proportion of forest tracts\n",
    "    do you estimate less than 20% of the trees have burned?"
   ]
  },
  {
   "cell_type": "markdown",
   "id": "995bf451",
   "metadata": {},
   "source": [
    "# 3. Statistics statistics\n",
    "\n",
    "We have given 25 statistics students\n",
    "a standardized test on statistics concepts\n",
    "both before and after taking a statistics class.\n",
    "Across the class, the mean improvement was 32 points (out of 100),\n",
    "with an SD of 30 points.\n",
    "Assuming that the $t$ test is appropriate,\n",
    "what can we conclude from this study?\n",
    "Please interpret the results, including degree of uncertainty."
   ]
  }
 ],
 "metadata": {
  "celltoolbar": "Tags",
  "kernelspec": {
   "display_name": "Python 3 (ipykernel)",
   "language": "python",
   "name": "python3"
  },
  "language_info": {
   "codemirror_mode": {
    "name": "ipython",
    "version": 3
   },
   "file_extension": ".py",
   "mimetype": "text/x-python",
   "name": "python",
   "nbconvert_exporter": "python",
   "pygments_lexer": "ipython3",
   "version": "3.11.8"
  }
 },
 "nbformat": 4,
 "nbformat_minor": 5
}
