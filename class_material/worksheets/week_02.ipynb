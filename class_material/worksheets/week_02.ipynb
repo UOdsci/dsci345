{
 "cells": [
  {
   "cell_type": "code",
   "execution_count": 2,
   "id": "55ebefee-926f-49f2-8d34-5800dcdc28ee",
   "metadata": {},
   "outputs": [],
   "source": [
    "import numpy as np\n",
    "import scipy.stats\n",
    "rng = np.random.default_rng()"
   ]
  },
  {
   "cell_type": "markdown",
   "id": "a8b0da94-6c46-4a80-9d9d-30cd9ea6143f",
   "metadata": {},
   "source": [
    "# 1. Binomial binomial\n",
    "\n",
    "Suppose that\n",
    "$$  T \\sim \\text{Binomial}(n, p) , $$\n",
    "and then given $T$, that\n",
    "$$  N \\sim \\text{Binomial}(T, q) . $$\n",
    "\n",
    "(a) Make up a story in which we might get the random variable $N$.\n",
    "Be concrete about $n$, $p$, and $q$."
   ]
  },
  {
   "cell_type": "markdown",
   "id": "d4e2057f-2807-4301-802e-c77d3e3907f4",
   "metadata": {},
   "source": [
    "(b) Simulate from $N$, and find its mean and standard deviation."
   ]
  },
  {
   "cell_type": "markdown",
   "id": "4b9d691f-e8a3-4a3b-aba9-a509909af9da",
   "metadata": {},
   "source": [
    "(c) It turns out $N$ has a simpler description: can you figure out what it is?"
   ]
  },
  {
   "cell_type": "markdown",
   "id": "53bca970-00dc-40d0-882a-4254c66dea82",
   "metadata": {},
   "source": [
    "# 2. Overdispersion\n",
    "\n",
    "Some solar panels are more error-prone than others:\n",
    "the \"quality\" of a panel, $R$, is drawn from an Exponential distribution,\n",
    "and given this quality, the number of defects is Poisson with mean $R$:\n",
    "$$\\begin{aligned}\n",
    "\\text{error rate: } R &\\sim \\text{Exponential}(1) \\\\\n",
    "\\text{number of defects: } X &\\sim \\text{Poisson}(R) .\n",
    "\\end{aligned}$$\n",
    "\n",
    "Estimate the proportion of broken panels by simulation."
   ]
  }
 ],
 "metadata": {
  "kernelspec": {
   "display_name": "Python 3 (ipykernel)",
   "language": "python",
   "name": "python3"
  },
  "language_info": {
   "codemirror_mode": {
    "name": "ipython",
    "version": 3
   },
   "file_extension": ".py",
   "mimetype": "text/x-python",
   "name": "python",
   "nbconvert_exporter": "python",
   "pygments_lexer": "ipython3",
   "version": "3.11.8"
  }
 },
 "nbformat": 4,
 "nbformat_minor": 5
}
