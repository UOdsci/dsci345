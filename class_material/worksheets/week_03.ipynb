{
 "cells": [
  {
   "cell_type": "code",
   "execution_count": 1,
   "id": "7a7df9b6-5dd2-4e51-bd37-4e50b5b2deb8",
   "metadata": {},
   "outputs": [],
   "source": [
    "import numpy as np\n",
    "import scipy.stats\n",
    "rng = np.random.default_rng()"
   ]
  },
  {
   "cell_type": "markdown",
   "id": "0e5c6b17-d20b-4d1c-bca6-080a78368b75",
   "metadata": {},
   "source": [
    "# 1. Cheeeeese\n",
    "\n",
    "Due to an ordering mishap, I now have 50 pounds of cheddar cheese.\n",
    "Every day, I slice off a few slices: each slice is 1oz; half the time I take 1 slice,\n",
    "a quarter of the time I take 2 slices, and a quarter of the time I take 4 slices."
   ]
  },
  {
   "cell_type": "markdown",
   "id": "983087e8-0b10-45cf-9562-c567df48fa53",
   "metadata": {},
   "source": [
    "**(a)** About how much cheese will I have left after 3 months (90 days)?"
   ]
  },
  {
   "cell_type": "markdown",
   "id": "2a359b0b-159d-4a31-8941-0458c8457564",
   "metadata": {},
   "source": [
    "**(b)** What is the standard deviation of the amount of cheese left after the 90 days?"
   ]
  },
  {
   "cell_type": "markdown",
   "id": "6669623e-438c-46f9-88e5-bbde816c003c",
   "metadata": {},
   "source": [
    "**(c)** Use the Normal approximation to estimate the probability that I have eaten more than 13 pounds of cheese."
   ]
  },
  {
   "cell_type": "markdown",
   "id": "5b44e3e5-21eb-46de-be1c-cc9cd22ddcfd",
   "metadata": {},
   "source": [
    "**(d)** Check your answer with simulation."
   ]
  },
  {
   "cell_type": "markdown",
   "id": "d2ed1aa9-b9bc-4b1e-9b5b-54b25b0af355",
   "metadata": {},
   "source": [
    "# 2. 123 University\n",
    "\n",
    "123 University has rolled out a new email system,\n",
    "and everyone has a new password, which is a 5-digit number\n",
    "Soon, the email servers start getting a large number of login attempts:\n",
    "someone appears to be trying random passwords on the president's email account,\n",
    "about once per second."
   ]
  },
  {
   "cell_type": "markdown",
   "id": "334ea9b3-baac-47ff-9e0c-e849a6a1b8a2",
   "metadata": {},
   "source": [
    "**(a)** About long until the attackers find the password?"
   ]
  },
  {
   "cell_type": "markdown",
   "id": "1486059c-bd47-4bac-87d3-ec633f570a0b",
   "metadata": {},
   "source": [
    "**(b)** Write a simulation (assuming the attempts happen exactly once per second), and use it to check your answer to *(a)*."
   ]
  },
  {
   "cell_type": "markdown",
   "id": "642db4a8-667c-4f6f-b952-52940cbd7c12",
   "metadata": {},
   "source": [
    "**(c)** Suppose now that someone is doing this in parallel to 1000 different accounts.\n",
    "Call $X$ the number of accounts they've compromised after 5 minutes.\n",
    "What is $\\mathbb{E}[X]$?"
   ]
  },
  {
   "cell_type": "markdown",
   "id": "788b461f-c9ae-4d1d-879c-e1bd46e5d724",
   "metadata": {},
   "source": [
    "**(d)** Propose, and justify, a distribution for $X$."
   ]
  },
  {
   "cell_type": "markdown",
   "id": "39d00082-a78b-4735-a82a-409d26cd33d7",
   "metadata": {},
   "source": [
    "**(e)** Use your proposal in *(d)* to find the probability that $X=0$."
   ]
  }
 ],
 "metadata": {
  "kernelspec": {
   "display_name": "Python 3 (ipykernel)",
   "language": "python",
   "name": "python3"
  },
  "language_info": {
   "codemirror_mode": {
    "name": "ipython",
    "version": 3
   },
   "file_extension": ".py",
   "mimetype": "text/x-python",
   "name": "python",
   "nbconvert_exporter": "python",
   "pygments_lexer": "ipython3",
   "version": "3.11.8"
  }
 },
 "nbformat": 4,
 "nbformat_minor": 5
}
