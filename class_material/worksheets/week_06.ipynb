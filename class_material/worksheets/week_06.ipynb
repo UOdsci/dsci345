{
 "cells": [
  {
   "cell_type": "markdown",
   "id": "36f5c27b",
   "metadata": {},
   "source": [
    "# Word counts\n",
    "\n",
    "In class, we did PCA on word count data from passages from three books.\n",
    "The passages are in the file [data/passages.txt](data/passages.txt)\n",
    "and the sources of each passage are in [data/passage_sources.tsv](data/passage_sources.tsv).\n",
    "You may use the same code from class to read in the data\n",
    "and produce the matrix of word counts (you'll want `wordmat`, `words`, and `sources`).\n",
    "\n",
    "*(a)* Divide each row of the word count matrix by its standard deviation,\n",
    "    so that each row has standard deviation equal to 1.\n",
    "\n",
    "*(b)* Find the first three PCs of this matrix, as we did in class,\n",
    "    except using [scikit-learn](https://scikit-learn.org/stable/modules/generated/sklearn.decomposition.PCA.html).\n",
    "    Plot these. Your plots should look similar but not the same as those\n",
    "    [from class](https://uodsci.github.io/dsci345/class_material/slides/Week_06_PCA.slides.html#/4/6),\n",
    "    since scikit-learn's implementation differs somewhat, and omits PC1.\n",
    "\n",
    "*(c)* Show the lists of fifty words having the largest positive and largest negative loadings\n",
    "    on PC3. Speculate about what makes a passage have a large or a small score on PC3.\n",
    "    \n",
    "*Note:* part of this question is to figure out\n",
    "how what another method gives you\n",
    "maps on to what we discussed in class.\n",
    "Big clues are provided by the *sizes* of various outputs."
   ]
  }
 ],
 "metadata": {
  "kernelspec": {
   "display_name": "Python 3 (ipykernel)",
   "language": "python",
   "name": "python3"
  },
  "language_info": {
   "codemirror_mode": {
    "name": "ipython",
    "version": 3
   },
   "file_extension": ".py",
   "mimetype": "text/x-python",
   "name": "python",
   "nbconvert_exporter": "python",
   "pygments_lexer": "ipython3",
   "version": "3.11.8"
  }
 },
 "nbformat": 4,
 "nbformat_minor": 5
}
