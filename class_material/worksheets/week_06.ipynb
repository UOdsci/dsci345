{
 "cells": [
  {
   "cell_type": "code",
   "execution_count": null,
   "id": "f1ded8f2",
   "metadata": {},
   "outputs": [],
   "source": [
    "import matplotlib\n",
    "import matplotlib.pyplot as plt\n",
    "matplotlib.rcParams['figure.figsize'] = (15, 8)\n",
    "import numpy as np\n",
    "import pandas as pd\n",
    "\n",
    "rng = np.random.default_rng()"
   ]
  },
  {
   "cell_type": "markdown",
   "id": "38097c1a",
   "metadata": {},
   "source": [
    "# Fun with Words (text analysis with PCA)"
   ]
  },
  {
   "cell_type": "markdown",
   "id": "3041fa2c",
   "metadata": {},
   "source": [
    "Download:\n",
    "- [passages.txt](https://github.com/UOdsci/dsci345/raw/main/class_material/slides/data/passages.txt)\n",
    "- [passage_sources.tsv](https://github.com/UOdsci/dsci345/raw/main/class_material/slides/data/passage_sources.tsv)\n",
    "\n",
    "and put them in the subdirectory `data/` of wherever this notebook is.\n",
    "\n",
    "In `passages.txt` short passages from a few different books.\n",
    "\n",
    "Can we identify the authors of each passage?\n",
    "\n",
    "The true sources of the passages are in `passage_sources.tsv`."
   ]
  },
  {
   "cell_type": "markdown",
   "id": "7450f921",
   "metadata": {},
   "source": [
    "## Turn the data into a matrix"
   ]
  },
  {
   "cell_type": "code",
   "execution_count": null,
   "id": "d3580efc",
   "metadata": {},
   "outputs": [],
   "source": [
    "from collections import defaultdict\n",
    "\n",
    "pfile = open(\"data/passages.txt\", \"r\")\n",
    "passages = pfile.read().split(\"\\n\")[:-1]\n",
    "sources = pd.read_table(\"data/passage_sources.tsv\")\n",
    "words = np.unique(\" \".join(passages).split(\" \"))[1:]\n",
    "def tabwords(x, words):\n",
    "    d = defaultdict(int)\n",
    "    for w in x.split(\" \"):\n",
    "        d[w] += 1\n",
    "    out = np.array([d[w] for w in words])\n",
    "    return out\n",
    "\n",
    "wordmat = np.array([tabwords(x, words) for x in passages])"
   ]
  },
  {
   "cell_type": "markdown",
   "id": "310c77ee",
   "metadata": {},
   "source": [
    "**(1)** Look at the data: what is `passages`? How about `wordmat`?"
   ]
  },
  {
   "cell_type": "markdown",
   "id": "9cd071f4",
   "metadata": {},
   "source": [
    "## Do PCA\n",
    "\n",
    "This time we \"do PCA\" by finding the \"singular value decomposition\"\n",
    "(SVD) of the data matrix,\n",
    "because `scipy.sparse.linalg.svds` lets us *only*\n",
    "find the PCs we're interested in:\n",
    "finding *all* would take waaaay too long."
   ]
  },
  {
   "cell_type": "code",
   "execution_count": null,
   "id": "0123ef4c",
   "metadata": {},
   "outputs": [],
   "source": [
    "from scipy.sparse.linalg import svds\n",
    "# center and scale the data\n",
    "x = wordmat - np.mean(wordmat, axis=1)[:,np.newaxis]\n",
    "x /= np.std(x, axis=1)[:, np.newaxis]\n",
    "pcs, evals, evecs = svds(x, k=4)\n",
    "eord = np.argsort(evals)[::-1]\n",
    "evals = evals[eord]\n",
    "evecs = evecs[eord,:]\n",
    "pcs = pcs[:,eord]"
   ]
  },
  {
   "cell_type": "markdown",
   "id": "e4815cdc",
   "metadata": {},
   "source": [
    "**(2)** Describe in words what each of the lines in the code above does."
   ]
  },
  {
   "cell_type": "markdown",
   "id": "d79bf8a9",
   "metadata": {},
   "source": [
    "## The loadings"
   ]
  },
  {
   "cell_type": "markdown",
   "id": "de7665b0",
   "metadata": {},
   "source": [
    "Here are the \"loadings\" of the PCs:"
   ]
  },
  {
   "cell_type": "code",
   "execution_count": null,
   "id": "e48884f8",
   "metadata": {},
   "outputs": [],
   "source": [
    "loadings = pd.DataFrame(evecs.T, columns=[f\"PC{k}\" for k in range(1,5)], index=words)\n",
    "loadings"
   ]
  },
  {
   "cell_type": "markdown",
   "id": "81769b8b",
   "metadata": {},
   "source": [
    "## The PCs\n",
    "\n",
    "The principal components are the columns of `pcs` (e.g., the first PC is `pcs[:,0]`).\n",
    "\n",
    "**(3)** Make scatterplots of the position of each passage on PCs 1, 2, and 3 against each other,\n",
    "colored by the `source` of the passage."
   ]
  },
  {
   "cell_type": "code",
   "execution_count": null,
   "id": "9c1678e0",
   "metadata": {},
   "outputs": [],
   "source": []
  },
  {
   "cell_type": "markdown",
   "id": "ddaa3ddd",
   "metadata": {},
   "source": [
    "## What do the PCs \"mean\"?\n",
    "\n",
    "For instance, here are the 20 words that most strongly move a passage in the positive direction on PC1:\n",
    "```\n",
    "loadings.sort_values(\"PC1\").tail(20)\n",
    "```\n",
    "and the 20 that most strongly move in the negative direction:\n",
    "```\n",
    "loadings.sort_values(\"PC1\").head(20)\n",
    "```\n",
    "\n",
    "**(4)** Come up with interpretations of PC1, PC2, PC3, and PC4."
   ]
  },
  {
   "cell_type": "code",
   "execution_count": null,
   "id": "08be053c",
   "metadata": {},
   "outputs": [],
   "source": []
  }
 ],
 "metadata": {
  "kernelspec": {
   "display_name": "Python 3 (ipykernel)",
   "language": "python",
   "name": "python3"
  },
  "language_info": {
   "codemirror_mode": {
    "name": "ipython",
    "version": 3
   },
   "file_extension": ".py",
   "mimetype": "text/x-python",
   "name": "python",
   "nbconvert_exporter": "python",
   "pygments_lexer": "ipython3",
   "version": "3.12.9"
  }
 },
 "nbformat": 4,
 "nbformat_minor": 5
}
