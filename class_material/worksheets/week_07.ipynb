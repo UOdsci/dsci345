{
 "cells": [
  {
   "cell_type": "markdown",
   "id": "8dbdb0b7",
   "metadata": {},
   "source": [
    "# Exercise: Estimating Elephants"
   ]
  },
  {
   "cell_type": "markdown",
   "id": "33c27ddf",
   "metadata": {},
   "source": [
    "Elephants, at birth, are about 1m long measured along their backs,\n",
    "and grow about 10cm/year for the first 20 years,\n",
    "although elephants of the same age differ by 10-20% or so\n",
    "(see [Trimble et al](https://journals.plos.org/plosone/article?id=10.1371/journal.pone.0026614)).\n",
    "Their rate of growth is also affected\n",
    "by health (e.g., food availability and parasite load).\n",
    "How well can we estimate the age of juvenile elephants (between 10-20 years old)\n",
    "based on their lengths in aerial photographs?\n",
    "Does it help much to take into account food availability?\n",
    "\n",
    "To see how well we expect this to work, let's simulate some data."
   ]
  },
  {
   "cell_type": "code",
   "execution_count": null,
   "id": "e6228336",
   "metadata": {},
   "outputs": [],
   "source": [
    "import numpy as np\n",
    "import matplotlib.pyplot as plt\n",
    "rng = np.random.default_rng()"
   ]
  },
  {
   "cell_type": "markdown",
   "id": "ff700dd5",
   "metadata": {},
   "source": [
    "First, let's draw some ages: maybe... uniform?"
   ]
  },
  {
   "cell_type": "code",
   "execution_count": null,
   "id": "fd711aa9",
   "metadata": {},
   "outputs": [],
   "source": [
    "n = 100\n",
    "age = rng.uniform(low=10, high=20, size=n) # in years"
   ]
  },
  {
   "cell_type": "markdown",
   "id": "3accfea3",
   "metadata": {},
   "source": [
    "Next: food availability.\n",
    "We're supposing (somewhat unrealistically) that each of these elephants lives in a different location,\n",
    "and each location has a general average food availability.\n",
    "Let's measure food availability as a percentage relative to som e reference,\n",
    "and sample this from a Gamma:"
   ]
  },
  {
   "cell_type": "code",
   "execution_count": null,
   "id": "ab5494c5",
   "metadata": {},
   "outputs": [],
   "source": [
    "food = rng.gamma(shape=10, scale=8, size=n) # in percent; should have a mean of 80"
   ]
  },
  {
   "cell_type": "markdown",
   "id": "e4217783",
   "metadata": {},
   "source": [
    "Now **your turn:** simulate lengths, given age and food availability.\n",
    "(\"TODO\" to be decided on in class.)\n",
    "To do this, use \n",
    "1. a mean length of 2m for 10-year-old elephants;\n",
    "2. the growth curve cited above (\"10cm/year\")\n",
    "3. the SD cited above (around 10-20%); so an SD of **TODO**m\n",
    "4. a slope so that for each **TODO**% differing from 100%, mean length changes by **TODO**m."
   ]
  },
  {
   "cell_type": "code",
   "execution_count": null,
   "id": "c11421c9",
   "metadata": {},
   "outputs": [],
   "source": [
    "mean_length = TODO # should be a function of age and food\n",
    "length = rng.normal(TODO)"
   ]
  },
  {
   "cell_type": "markdown",
   "id": "adb32b24",
   "metadata": {},
   "source": [
    "**Add to this scatterplot** the line giving mean length as a function of age\n",
    "for an elephant at 100% food (use `plt.axline( )`):"
   ]
  },
  {
   "cell_type": "code",
   "execution_count": null,
   "id": "0b199476",
   "metadata": {
    "scrolled": false
   },
   "outputs": [],
   "source": [
    "plt.scatter(age, mean_length)\n",
    "plt.scatter(age, length, c=food)\n",
    "plt.xlabel(\"age (years)\"); plt.ylabel(\"length (m)\")\n",
    "plt.colorbar();"
   ]
  },
  {
   "cell_type": "markdown",
   "id": "e0f792cb",
   "metadata": {},
   "source": [
    "## The inference problem\n",
    "\n",
    "We'd like to infer age based on length.\n",
    "The line that minimizes mean squared error\n",
    "has slope $\\sd(Y)/\\sd(X) \\times \\cor[X, Y]$,\n",
    "and has the right mean.\n",
    "\n",
    "**Add this to the plot.**"
   ]
  },
  {
   "cell_type": "code",
   "execution_count": null,
   "id": "67e34000",
   "metadata": {},
   "outputs": [],
   "source": []
  },
  {
   "cell_type": "markdown",
   "id": "4840a072",
   "metadata": {},
   "source": [
    "How can we answer the question \"how *well* can we estimate age, based on length\"?\n",
    "One answer to this is the *root mean squared error*.\n",
    "**Compute this.**"
   ]
  },
  {
   "cell_type": "code",
   "execution_count": null,
   "id": "af1ce375",
   "metadata": {},
   "outputs": [],
   "source": []
  },
  {
   "cell_type": "markdown",
   "id": "bc444bf4",
   "metadata": {
    "slideshow": {
     "slide_type": "subslide"
    }
   },
   "source": [
    "## Multivariate inference\n",
    "\n",
    "Now let's use food availability also!\n",
    "\n",
    "Recall that $b$ solves\n",
    "$$ (x^T x) b = x^T y .$$\n",
    "(and don't forget the intercept!)"
   ]
  },
  {
   "cell_type": "code",
   "execution_count": null,
   "id": "eba63865",
   "metadata": {},
   "outputs": [],
   "source": []
  },
  {
   "cell_type": "markdown",
   "id": "323aaf67",
   "metadata": {},
   "source": [
    "**(1)** Construct the matrix `x`: this should be an array with three columns: `age`, `food`, and a column that's all `1` (for the intercept)."
   ]
  },
  {
   "cell_type": "code",
   "execution_count": null,
   "id": "b9c0231a",
   "metadata": {},
   "outputs": [],
   "source": []
  },
  {
   "cell_type": "markdown",
   "id": "2eabefb9",
   "metadata": {},
   "source": [
    "**(2)** Construct the matrix $x^T x$ (use `x.T` and `np.matmul( )` or the `.dot( )` method of an array):"
   ]
  },
  {
   "cell_type": "code",
   "execution_count": null,
   "id": "64424719",
   "metadata": {},
   "outputs": [],
   "source": []
  },
  {
   "cell_type": "markdown",
   "id": "a1067d50",
   "metadata": {},
   "source": [
    "**(3)** Construct the vector $x^T y$ (what is $y$?):"
   ]
  },
  {
   "cell_type": "code",
   "execution_count": null,
   "id": "31d287f2",
   "metadata": {},
   "outputs": [],
   "source": []
  },
  {
   "cell_type": "markdown",
   "id": "036a249d",
   "metadata": {},
   "source": [
    "**(4)** Solve the equation $(x^T x) b = x^T y$ (use `np.linalg.solve( )`):"
   ]
  },
  {
   "cell_type": "code",
   "execution_count": null,
   "id": "28840c54",
   "metadata": {},
   "outputs": [],
   "source": []
  }
 ],
 "metadata": {
  "kernelspec": {
   "display_name": "Python 3 (ipykernel)",
   "language": "python",
   "name": "python3"
  },
  "language_info": {
   "codemirror_mode": {
    "name": "ipython",
    "version": 3
   },
   "file_extension": ".py",
   "mimetype": "text/x-python",
   "name": "python",
   "nbconvert_exporter": "python",
   "pygments_lexer": "ipython3",
   "version": "3.11.8"
  }
 },
 "nbformat": 4,
 "nbformat_minor": 5
}
