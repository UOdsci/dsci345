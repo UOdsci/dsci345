{
 "cells": [
  {
   "cell_type": "code",
   "execution_count": 2,
   "id": "6cc3e951",
   "metadata": {},
   "outputs": [],
   "source": [
    "import numpy as np\n",
    "import scipy.stats\n",
    "rng = np.random.default_rng()"
   ]
  },
  {
   "cell_type": "markdown",
   "id": "394d68b0",
   "metadata": {
    "slideshow": {
     "slide_type": "subslide"
    }
   },
   "source": [
    "# 1. The martingale\n",
    "\n",
    "Let $G_i$ be a random variable that takes values either 0 or 2, with probability 1/2 each.\n",
    "Let $W_n = G_1 G_2 \\cdots G_n$, and $X = \\max_n W_n$.\n",
    "\n",
    "Here is one interpretation of this:\n",
    "suppose that we each bet \\\\$1 on a fair coin flip.\n",
    "If you win, then I propose a double-or-nothing bet\n",
    "(i.e., we then bet \\\\$2 on another fair coin flip).\n",
    "If you win again then we bet \\\\$4, and so forth.\n",
    "This continues until you lose, at which point we stop.\n",
    "So, $G_k=2$ if you win the $k$th game, and $G_k=0$ if you lose,\n",
    "$W_n$ is your total winnings after the $n$th game,\n",
    "and $X$ is the largest amount you won at any point\n",
    "(i.e., how much you had right before you lost).\n",
    "\n",
    "The distribution of $W_n$ is:\n",
    "$$\\begin{aligned}\n",
    "\\mathbb{P}\\{W_n = 2^n\\} &= 2^{-n} \\\\\n",
    "\\mathbb{P}\\{W_n = 0\\} &= 1 - 2^{-n} .\n",
    "\\end{aligned}$$"
   ]
  },
  {
   "cell_type": "markdown",
   "id": "17cc3284",
   "metadata": {},
   "source": [
    "*Exercise:* Write a function to simulate the value of $X$."
   ]
  },
  {
   "cell_type": "code",
   "execution_count": null,
   "id": "63e26aca",
   "metadata": {},
   "outputs": [],
   "source": []
  },
  {
   "cell_type": "markdown",
   "id": "e35dfdf9",
   "metadata": {},
   "source": [
    "# 2. Binomial\n",
    "\n",
    "Suppose that a  dougnut factory makes boxes of doughhnuts with 13 doughnuts each;\n",
    "and each doughnut is either pink or blue with probability 1/2 each (and the colors of each are independent).\n",
    "\n",
    "What proportion of boxes have more than 8 pink doughnuts? Answer this\n",
    "\n",
    "1. by simulation (use `rng.binomial`)\n",
    "2. using `scipy.stats.cdf`\n",
    "3. using a mathematical expression"
   ]
  },
  {
   "cell_type": "code",
   "execution_count": null,
   "id": "c2f9f485",
   "metadata": {},
   "outputs": [],
   "source": []
  },
  {
   "cell_type": "markdown",
   "id": "ea4678ea",
   "metadata": {},
   "source": [
    "# 3. An exponential scale mixture\n",
    "\n",
    "Let $S$ be an Exponential random variable with mean 4,\n",
    "and $X$ a Normal random variable with mean 10 and standard deviation $S$.\n",
    "\n",
    "Find the mean and standard deviation of $X$, by simulation."
   ]
  }
 ],
 "metadata": {
  "kernelspec": {
   "display_name": "Python 3 (ipykernel)",
   "language": "python",
   "name": "python3"
  },
  "language_info": {
   "codemirror_mode": {
    "name": "ipython",
    "version": 3
   },
   "file_extension": ".py",
   "mimetype": "text/x-python",
   "name": "python",
   "nbconvert_exporter": "python",
   "pygments_lexer": "ipython3",
   "version": "3.11.8"
  }
 },
 "nbformat": 4,
 "nbformat_minor": 5
}
