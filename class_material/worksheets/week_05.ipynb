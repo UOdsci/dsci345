{
 "cells": [
  {
   "cell_type": "code",
   "execution_count": 2,
   "id": "a47ede8a",
   "metadata": {},
   "outputs": [],
   "source": [
    "import numpy as np\n",
    "import matplotlib.pyplot as plt\n",
    "rng = np.random.default_rng()"
   ]
  },
  {
   "cell_type": "markdown",
   "id": "ce5f0613",
   "metadata": {},
   "source": [
    "Here are the data from class on number of puppy boops per Eugene puppy owner in a 24-hour period:"
   ]
  },
  {
   "cell_type": "code",
   "execution_count": 3,
   "id": "496debe0",
   "metadata": {},
   "outputs": [],
   "source": [
    "boops = np.array([ 0,  0,  0,  0,  0,  0,  1,  1,  1,  1,  2,  2,  2,  2,  2,  2,  3,\n",
    "        3,  3,  3,  4,  4,  5,  5,  5,  5,  5,  5,  5,  6,  6,  6,  8,  8,\n",
    "        8,  8,  8,  9,  9, 10, 10, 10, 10, 10, 11, 11, 11, 12, 13, 13, 14,\n",
    "       15, 15, 15, 16, 17, 17, 17, 18, 18, 19, 19, 20, 20, 20, 21, 21, 22,\n",
    "       23, 23, 23, 25, 25, 26, 26, 27, 28, 28, 29, 30, 31, 31, 32, 33, 33,\n",
    "       33, 37, 37, 38, 41, 42, 42, 43, 44, 46, 48, 53, 53, 68, 89])"
   ]
  },
  {
   "cell_type": "code",
   "execution_count": 7,
   "id": "9282ead1",
   "metadata": {},
   "outputs": [
    {
     "name": "stdout",
     "output_type": "stream",
     "text": [
      "The mean number of boops/day is 17.79 boops and the SD is 16.42 boops.\n"
     ]
    }
   ],
   "source": [
    "mean_boops = np.mean(boops)\n",
    "sd_boops = np.std(boops, ddof=1)\n",
    "print(f\"The mean number of boops/day is {mean_boops} boops and the SD is {sd_boops:.2f} boops.\")"
   ]
  },
  {
   "cell_type": "code",
   "execution_count": 11,
   "id": "74aac53d",
   "metadata": {},
   "outputs": [
    {
     "name": "stdout",
     "output_type": "stream",
     "text": [
      "A 95% confidence interval for the mean number of boops/day is from 14.53 to 21.05 boops.\n"
     ]
    }
   ],
   "source": [
    "from scipy.stats import t\n",
    "n =  len(boops)\n",
    "t_star = t.ppf(.975, df=n-1)\n",
    "ci = mean_boops - t_star * sd_boops / np.sqrt(n), mean_boops + t_star * sd_boops / np.sqrt(n)\n",
    "print(f\"A 95% confidence interval for the mean number of boops/day is from {ci[0]:.2f} to {ci[1]:.2f} boops.\")"
   ]
  },
  {
   "cell_type": "markdown",
   "id": "0c671cc1",
   "metadata": {},
   "source": [
    "# 1. A $p$-value\n",
    "\n",
    "A much larger study of puppy behavior reports a mean number of daily boops of only 12 boops/day.\n",
    "However, the study was done in a different part of the country.\n",
    "Do we have good evidence that Eugenians tend to get more boops?\n",
    "Do a $t$-test for the comparison to $\\mu=12$, report the $p$-value, and report your conclusion."
   ]
  },
  {
   "cell_type": "code",
   "execution_count": null,
   "id": "dd30ac8d",
   "metadata": {},
   "outputs": [],
   "source": []
  },
  {
   "cell_type": "markdown",
   "id": "f959b394",
   "metadata": {},
   "source": [
    "# 2. A confidence interval\n",
    "\n",
    "In class, we found a 95\\% confidence interval for the mean number of boops per day\n",
    "for puppy owners in Eugene.\n",
    "However, we'd like to be more certain: modify the code above to get a 99.9\\% confidence interval.\n",
    "*(Suggestion: don't copy-paste the code: type it again!*)"
   ]
  },
  {
   "cell_type": "code",
   "execution_count": null,
   "id": "7a4a2b70",
   "metadata": {},
   "outputs": [],
   "source": []
  },
  {
   "cell_type": "markdown",
   "id": "c616c087",
   "metadata": {},
   "source": [
    "# 3. A simulation study: coverage\n",
    "\n",
    "We learned that in 95\\% of the situations in which you construct a 95\\% confidence interval,\n",
    "the true mean will fall within the confidence interval,\n",
    "but our procedure is approximate, since it depends on the Student's $t$ approximation.\n",
    "Let's assess whether our confidence intervals are *well-calibrated*, empirically:\n",
    "\n",
    "1. Pick a distribution to simulate data from.\n",
    "2. Simulate at least 10,000 datasets.\n",
    "3. Apply the same code we used above to get a 95\\% confidence interval for each.\n",
    "4. See how often the true mean we simulated from is within the CI."
   ]
  },
  {
   "cell_type": "code",
   "execution_count": null,
   "id": "f9c411c7",
   "metadata": {},
   "outputs": [],
   "source": []
  }
 ],
 "metadata": {
  "kernelspec": {
   "display_name": "Python 3 (ipykernel)",
   "language": "python",
   "name": "python3"
  },
  "language_info": {
   "codemirror_mode": {
    "name": "ipython",
    "version": 3
   },
   "file_extension": ".py",
   "mimetype": "text/x-python",
   "name": "python",
   "nbconvert_exporter": "python",
   "pygments_lexer": "ipython3",
   "version": "3.11.8"
  }
 },
 "nbformat": 4,
 "nbformat_minor": 5
}
